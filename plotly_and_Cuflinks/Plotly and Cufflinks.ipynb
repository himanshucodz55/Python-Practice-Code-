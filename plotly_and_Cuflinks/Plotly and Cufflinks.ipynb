{
 "cells": [
  {
   "cell_type": "markdown",
   "metadata": {},
   "source": [
    "___\n",
    "\n",
    "<a href='http://www.pieriandata.com'> <img src='../Pierian_Data_Logo.png' /></a>\n",
    "___\n",
    "# Plotly and Cufflinks"
   ]
  },
  {
   "cell_type": "markdown",
   "metadata": {},
   "source": [
    "Plotly is a library that allows you to create interactive plots that you can use in dashboards or websites (you can save them as html files or static images).\n",
    "\n",
    "## Installation\n",
    "\n",
    "In order for this all to work, you'll need to install plotly and cufflinks to call plots directly off of a pandas dataframe. These libraries are not currently available through **conda** but are available through **pip**. Install the libraries at your command line/terminal using:\n",
    "\n",
    "    pip install plotly\n",
    "    pip install cufflinks\n",
    "\n",
    "** NOTE: Make sure you only have one installation of Python on your computer when you do this, otherwise the installation may not work. **\n",
    "\n",
    "## Imports and Set-up"
   ]
  },
  {
   "cell_type": "code",
   "execution_count": 1,
   "metadata": {},
   "outputs": [],
   "source": [
    "import pandas as pd\n",
    "import numpy as np\n",
    "\n",
    "%matplotlib inline"
   ]
  },
  {
   "cell_type": "code",
   "execution_count": 2,
   "metadata": {
    "jupyter": {
     "outputs_hidden": false
    }
   },
   "outputs": [
    {
     "name": "stdout",
     "output_type": "stream",
     "text": [
      "4.6.0\n"
     ]
    }
   ],
   "source": [
    "from plotly import __version__\n",
    "from plotly.offline import download_plotlyjs, init_notebook_mode, plot, iplot\n",
    "\n",
    "print(__version__) # requires version >= 1.9.0"
   ]
  },
  {
   "cell_type": "code",
   "execution_count": 3,
   "metadata": {},
   "outputs": [],
   "source": [
    "import cufflinks as cf"
   ]
  },
  {
   "cell_type": "code",
   "execution_count": 4,
   "metadata": {
    "jupyter": {
     "outputs_hidden": false
    }
   },
   "outputs": [
    {
     "data": {
      "text/html": [
       "        <script type=\"text/javascript\">\n",
       "        window.PlotlyConfig = {MathJaxConfig: 'local'};\n",
       "        if (window.MathJax) {MathJax.Hub.Config({SVG: {font: \"STIX-Web\"}});}\n",
       "        if (typeof require !== 'undefined') {\n",
       "        require.undef(\"plotly\");\n",
       "        requirejs.config({\n",
       "            paths: {\n",
       "                'plotly': ['https://cdn.plot.ly/plotly-latest.min']\n",
       "            }\n",
       "        });\n",
       "        require(['plotly'], function(Plotly) {\n",
       "            window._Plotly = Plotly;\n",
       "        });\n",
       "        }\n",
       "        </script>\n",
       "        "
      ]
     },
     "metadata": {},
     "output_type": "display_data"
    }
   ],
   "source": [
    "# For Notebooks\n",
    "init_notebook_mode(connected=True)"
   ]
  },
  {
   "cell_type": "code",
   "execution_count": 5,
   "metadata": {
    "jupyter": {
     "outputs_hidden": false
    }
   },
   "outputs": [
    {
     "data": {
      "text/html": [
       "        <script type=\"text/javascript\">\n",
       "        window.PlotlyConfig = {MathJaxConfig: 'local'};\n",
       "        if (window.MathJax) {MathJax.Hub.Config({SVG: {font: \"STIX-Web\"}});}\n",
       "        if (typeof require !== 'undefined') {\n",
       "        require.undef(\"plotly\");\n",
       "        requirejs.config({\n",
       "            paths: {\n",
       "                'plotly': ['https://cdn.plot.ly/plotly-latest.min']\n",
       "            }\n",
       "        });\n",
       "        require(['plotly'], function(Plotly) {\n",
       "            window._Plotly = Plotly;\n",
       "        });\n",
       "        }\n",
       "        </script>\n",
       "        "
      ]
     },
     "metadata": {},
     "output_type": "display_data"
    }
   ],
   "source": [
    "# For offline use\n",
    "cf.go_offline()"
   ]
  },
  {
   "cell_type": "markdown",
   "metadata": {},
   "source": [
    "### Fake Data"
   ]
  },
  {
   "cell_type": "code",
   "execution_count": 6,
   "metadata": {
    "jupyter": {
     "outputs_hidden": false
    }
   },
   "outputs": [],
   "source": [
    "df = pd.DataFrame(np.random.randn(100,4),columns='A B C D'.split())"
   ]
  },
  {
   "cell_type": "code",
   "execution_count": 7,
   "metadata": {
    "jupyter": {
     "outputs_hidden": false
    }
   },
   "outputs": [
    {
     "data": {
      "text/html": [
       "<div>\n",
       "<style scoped>\n",
       "    .dataframe tbody tr th:only-of-type {\n",
       "        vertical-align: middle;\n",
       "    }\n",
       "\n",
       "    .dataframe tbody tr th {\n",
       "        vertical-align: top;\n",
       "    }\n",
       "\n",
       "    .dataframe thead th {\n",
       "        text-align: right;\n",
       "    }\n",
       "</style>\n",
       "<table border=\"1\" class=\"dataframe\">\n",
       "  <thead>\n",
       "    <tr style=\"text-align: right;\">\n",
       "      <th></th>\n",
       "      <th>A</th>\n",
       "      <th>B</th>\n",
       "      <th>C</th>\n",
       "      <th>D</th>\n",
       "    </tr>\n",
       "  </thead>\n",
       "  <tbody>\n",
       "    <tr>\n",
       "      <th>0</th>\n",
       "      <td>1.940292</td>\n",
       "      <td>-0.427907</td>\n",
       "      <td>0.401369</td>\n",
       "      <td>-0.720376</td>\n",
       "    </tr>\n",
       "    <tr>\n",
       "      <th>1</th>\n",
       "      <td>-0.436020</td>\n",
       "      <td>1.102321</td>\n",
       "      <td>0.479184</td>\n",
       "      <td>-1.605009</td>\n",
       "    </tr>\n",
       "    <tr>\n",
       "      <th>2</th>\n",
       "      <td>-0.484602</td>\n",
       "      <td>1.188790</td>\n",
       "      <td>-0.420169</td>\n",
       "      <td>3.007763</td>\n",
       "    </tr>\n",
       "    <tr>\n",
       "      <th>3</th>\n",
       "      <td>-1.024047</td>\n",
       "      <td>1.073211</td>\n",
       "      <td>1.533719</td>\n",
       "      <td>0.173400</td>\n",
       "    </tr>\n",
       "    <tr>\n",
       "      <th>4</th>\n",
       "      <td>0.078348</td>\n",
       "      <td>-0.366574</td>\n",
       "      <td>1.369230</td>\n",
       "      <td>0.250465</td>\n",
       "    </tr>\n",
       "  </tbody>\n",
       "</table>\n",
       "</div>"
      ],
      "text/plain": [
       "          A         B         C         D\n",
       "0  1.940292 -0.427907  0.401369 -0.720376\n",
       "1 -0.436020  1.102321  0.479184 -1.605009\n",
       "2 -0.484602  1.188790 -0.420169  3.007763\n",
       "3 -1.024047  1.073211  1.533719  0.173400\n",
       "4  0.078348 -0.366574  1.369230  0.250465"
      ]
     },
     "execution_count": 7,
     "metadata": {},
     "output_type": "execute_result"
    }
   ],
   "source": [
    "df.head()"
   ]
  },
  {
   "cell_type": "code",
   "execution_count": 8,
   "metadata": {
    "jupyter": {
     "outputs_hidden": true
    }
   },
   "outputs": [],
   "source": [
    "df2 = pd.DataFrame({'Category':['A','B','C'],'Values':[32,43,50]})"
   ]
  },
  {
   "cell_type": "code",
   "execution_count": 9,
   "metadata": {
    "jupyter": {
     "outputs_hidden": false
    }
   },
   "outputs": [
    {
     "data": {
      "text/html": [
       "<div>\n",
       "<style scoped>\n",
       "    .dataframe tbody tr th:only-of-type {\n",
       "        vertical-align: middle;\n",
       "    }\n",
       "\n",
       "    .dataframe tbody tr th {\n",
       "        vertical-align: top;\n",
       "    }\n",
       "\n",
       "    .dataframe thead th {\n",
       "        text-align: right;\n",
       "    }\n",
       "</style>\n",
       "<table border=\"1\" class=\"dataframe\">\n",
       "  <thead>\n",
       "    <tr style=\"text-align: right;\">\n",
       "      <th></th>\n",
       "      <th>Category</th>\n",
       "      <th>Values</th>\n",
       "    </tr>\n",
       "  </thead>\n",
       "  <tbody>\n",
       "    <tr>\n",
       "      <th>0</th>\n",
       "      <td>A</td>\n",
       "      <td>32</td>\n",
       "    </tr>\n",
       "    <tr>\n",
       "      <th>1</th>\n",
       "      <td>B</td>\n",
       "      <td>43</td>\n",
       "    </tr>\n",
       "    <tr>\n",
       "      <th>2</th>\n",
       "      <td>C</td>\n",
       "      <td>50</td>\n",
       "    </tr>\n",
       "  </tbody>\n",
       "</table>\n",
       "</div>"
      ],
      "text/plain": [
       "  Category  Values\n",
       "0        A      32\n",
       "1        B      43\n",
       "2        C      50"
      ]
     },
     "execution_count": 9,
     "metadata": {},
     "output_type": "execute_result"
    }
   ],
   "source": [
    "df2.head()"
   ]
  },
  {
   "cell_type": "markdown",
   "metadata": {},
   "source": [
    "## Using Cufflinks and iplot()\n",
    "\n",
    "* scatter\n",
    "* bar\n",
    "* box\n",
    "* spread\n",
    "* ratio\n",
    "* heatmap\n",
    "* surface\n",
    "* histogram\n",
    "* bubble"
   ]
  },
  {
   "cell_type": "markdown",
   "metadata": {},
   "source": [
    "## Scatter"
   ]
  },
  {
   "cell_type": "code",
   "execution_count": 10,
   "metadata": {
    "jupyter": {
     "outputs_hidden": false
    }
   },
   "outputs": [
    {
     "data": {
      "application/vnd.plotly.v1+json": {
       "config": {
        "linkText": "Export to plot.ly",
        "plotlyServerURL": "https://plot.ly",
        "showLink": true
       },
       "data": [
        {
         "line": {
          "color": "rgba(255, 153, 51, 1.0)",
          "dash": "solid",
          "shape": "linear",
          "width": 1.3
         },
         "marker": {
          "size": 10,
          "symbol": "circle"
         },
         "mode": "markers",
         "name": "B",
         "text": "",
         "type": "scatter",
         "x": [
          1.940291908011102,
          -0.43602033128621526,
          -0.48460214045660277,
          -1.0240471641424937,
          0.07834813558886017,
          -0.03664652387595461,
          -0.3129739035091516,
          -2.334547594397871,
          1.8228858929130831,
          1.5711886392255132,
          -2.364881578802697,
          1.4616947574353703,
          -0.4987309829110831,
          1.5617852729463797,
          0.27096936324438226,
          -0.6303478616043724,
          -1.5081522475000202,
          1.7029399159062886,
          -0.5595680928927093,
          -1.2503555447771197,
          0.8046047778907405,
          -0.8662211973605952,
          0.5836035330903515,
          -1.6882300309849554,
          0.5249023960622097,
          0.8738634367385915,
          -0.7011217630000545,
          -0.11281811880033381,
          1.9132226852451233,
          0.21515592223039476,
          -1.5250854327856227,
          -0.1590202944556442,
          -0.4527591510178096,
          -1.1110076710922145,
          -0.9041890618466469,
          -1.05375893360304,
          0.45947755704608234,
          0.4151947410799361,
          -1.4538365237286752,
          -0.5787259904446689,
          1.0876123636309982,
          -0.256605975290541,
          0.13329166285795085,
          -0.9077772592137843,
          0.03249663834892144,
          1.0142902752121234,
          -0.3344369309963581,
          -0.09121153691247674,
          -0.40669721394299546,
          0.02744157623740808,
          -1.5452805971626824,
          -1.3511169562269885,
          0.01158109319398306,
          -0.9149503343075752,
          -1.1025417006876994,
          -0.5048494637049264,
          -0.2567919047639987,
          0.01093619218693575,
          -0.1356930776970061,
          0.10026165369166105,
          1.1717276766409668,
          -0.6434971360362067,
          0.34067344818628176,
          0.8863816354805312,
          -0.10132359942293251,
          0.07605559055080867,
          -0.6913446582930974,
          -1.2920514173129505,
          -1.3009741161906287,
          1.2876633447677763,
          -1.4445628899407343,
          0.259865688457576,
          1.8478838525077084,
          -0.41108510928550895,
          0.2893624467427053,
          0.748614342294359,
          0.9263547679541281,
          0.635161754847521,
          0.28256247565135617,
          1.5126383882427301,
          -0.7632724161850403,
          -0.2983928325770369,
          0.37300270064839636,
          1.0871880926061648,
          2.6572202224944146,
          -1.9722183777917304,
          0.18564568416487742,
          -0.9814354534461059,
          -0.5474587763161223,
          0.03598568118577001,
          -0.23166847854919972,
          -1.1346148101716846,
          -0.9036756738680616,
          -0.0404909774929333,
          -0.7164950094764136,
          -0.06435143860746836,
          -0.07591268221618847,
          -0.5296157564584758,
          0.2931309732891985,
          -0.1006868486366963
         ],
         "y": [
          -0.42790688434940893,
          1.1023212831129967,
          1.1887901480514325,
          1.0732111845425714,
          -0.36657365759249483,
          -0.5656473349592283,
          -0.052425381012257515,
          1.1967973487129693,
          -1.9204162179742734,
          0.49499173286988396,
          0.03177713886948559,
          2.0395208180242643,
          -0.43859191833447764,
          1.4803364226090499,
          0.12666444902249152,
          -1.649742282114302,
          0.5870377856553117,
          2.2710802059818387,
          -0.30189613702080215,
          -0.7473224975631962,
          -1.900915231301534,
          -0.3708915752256786,
          -0.6999856013421171,
          -2.0196320119393696,
          0.21564852508540636,
          -0.33120503933020584,
          -0.41383604470641094,
          -0.47804860178887726,
          -0.7092972940284749,
          0.5778318584490235,
          -0.4101017143331438,
          -0.5352139410516578,
          -0.7862257663300574,
          0.6939896876836772,
          0.5326883503544092,
          1.5131372743263152,
          0.4166429553616738,
          0.2528413795800169,
          -0.855163816308513,
          -0.14730575159544035,
          0.28800779576442737,
          -1.4143330241262138,
          -0.1499239941006353,
          1.007051705598499,
          0.7490749925322414,
          -1.426002197503157,
          -1.279040263458639,
          -2.154585408397387,
          0.9533137961235957,
          -1.175672610090137,
          1.4978861553591707,
          1.4435405003817126,
          0.16563658417772678,
          -0.6623006604152534,
          -0.49891553469198524,
          1.9747739497342782,
          0.10501534948661304,
          0.14056313980420468,
          -2.002254240703674,
          0.7190327472356344,
          -0.881783930208081,
          0.25366385499380195,
          -0.5874379416344943,
          -1.6289419914202181,
          0.8301884314766689,
          0.7747392373953594,
          -0.6875231198482459,
          0.12024538466383536,
          1.3670594450102325,
          0.5827452306838281,
          -0.530278447900754,
          0.05614891806237901,
          0.7790080419810892,
          1.446161850152793,
          0.1404383743784033,
          -1.276468775850176,
          -1.2232777640277335,
          -1.0818283123154933,
          1.2036621750038603,
          0.10999185836379068,
          -1.1292034967068854,
          -1.4838806863523342,
          0.7118756638641246,
          -0.5259681147027214,
          0.3274831050418921,
          -0.8385036986314343,
          -0.1876452907738252,
          -0.48443317356575794,
          -0.06461280053411844,
          -1.1236064929290808,
          0.8555082423265195,
          1.3065424209543985,
          0.07851453225301613,
          0.4895930528339927,
          0.28602019675591833,
          -0.9257653387478679,
          0.02203108690296603,
          -0.5784050702216772,
          0.5342364290101148,
          0.07580009014358847
         ]
        }
       ],
       "layout": {
        "legend": {
         "bgcolor": "#F5F6F9",
         "font": {
          "color": "#4D5663"
         }
        },
        "paper_bgcolor": "#F5F6F9",
        "plot_bgcolor": "#F5F6F9",
        "template": {
         "data": {
          "bar": [
           {
            "error_x": {
             "color": "#2a3f5f"
            },
            "error_y": {
             "color": "#2a3f5f"
            },
            "marker": {
             "line": {
              "color": "#E5ECF6",
              "width": 0.5
             }
            },
            "type": "bar"
           }
          ],
          "barpolar": [
           {
            "marker": {
             "line": {
              "color": "#E5ECF6",
              "width": 0.5
             }
            },
            "type": "barpolar"
           }
          ],
          "carpet": [
           {
            "aaxis": {
             "endlinecolor": "#2a3f5f",
             "gridcolor": "white",
             "linecolor": "white",
             "minorgridcolor": "white",
             "startlinecolor": "#2a3f5f"
            },
            "baxis": {
             "endlinecolor": "#2a3f5f",
             "gridcolor": "white",
             "linecolor": "white",
             "minorgridcolor": "white",
             "startlinecolor": "#2a3f5f"
            },
            "type": "carpet"
           }
          ],
          "choropleth": [
           {
            "colorbar": {
             "outlinewidth": 0,
             "ticks": ""
            },
            "type": "choropleth"
           }
          ],
          "contour": [
           {
            "colorbar": {
             "outlinewidth": 0,
             "ticks": ""
            },
            "colorscale": [
             [
              0,
              "#0d0887"
             ],
             [
              0.1111111111111111,
              "#46039f"
             ],
             [
              0.2222222222222222,
              "#7201a8"
             ],
             [
              0.3333333333333333,
              "#9c179e"
             ],
             [
              0.4444444444444444,
              "#bd3786"
             ],
             [
              0.5555555555555556,
              "#d8576b"
             ],
             [
              0.6666666666666666,
              "#ed7953"
             ],
             [
              0.7777777777777778,
              "#fb9f3a"
             ],
             [
              0.8888888888888888,
              "#fdca26"
             ],
             [
              1,
              "#f0f921"
             ]
            ],
            "type": "contour"
           }
          ],
          "contourcarpet": [
           {
            "colorbar": {
             "outlinewidth": 0,
             "ticks": ""
            },
            "type": "contourcarpet"
           }
          ],
          "heatmap": [
           {
            "colorbar": {
             "outlinewidth": 0,
             "ticks": ""
            },
            "colorscale": [
             [
              0,
              "#0d0887"
             ],
             [
              0.1111111111111111,
              "#46039f"
             ],
             [
              0.2222222222222222,
              "#7201a8"
             ],
             [
              0.3333333333333333,
              "#9c179e"
             ],
             [
              0.4444444444444444,
              "#bd3786"
             ],
             [
              0.5555555555555556,
              "#d8576b"
             ],
             [
              0.6666666666666666,
              "#ed7953"
             ],
             [
              0.7777777777777778,
              "#fb9f3a"
             ],
             [
              0.8888888888888888,
              "#fdca26"
             ],
             [
              1,
              "#f0f921"
             ]
            ],
            "type": "heatmap"
           }
          ],
          "heatmapgl": [
           {
            "colorbar": {
             "outlinewidth": 0,
             "ticks": ""
            },
            "colorscale": [
             [
              0,
              "#0d0887"
             ],
             [
              0.1111111111111111,
              "#46039f"
             ],
             [
              0.2222222222222222,
              "#7201a8"
             ],
             [
              0.3333333333333333,
              "#9c179e"
             ],
             [
              0.4444444444444444,
              "#bd3786"
             ],
             [
              0.5555555555555556,
              "#d8576b"
             ],
             [
              0.6666666666666666,
              "#ed7953"
             ],
             [
              0.7777777777777778,
              "#fb9f3a"
             ],
             [
              0.8888888888888888,
              "#fdca26"
             ],
             [
              1,
              "#f0f921"
             ]
            ],
            "type": "heatmapgl"
           }
          ],
          "histogram": [
           {
            "marker": {
             "colorbar": {
              "outlinewidth": 0,
              "ticks": ""
             }
            },
            "type": "histogram"
           }
          ],
          "histogram2d": [
           {
            "colorbar": {
             "outlinewidth": 0,
             "ticks": ""
            },
            "colorscale": [
             [
              0,
              "#0d0887"
             ],
             [
              0.1111111111111111,
              "#46039f"
             ],
             [
              0.2222222222222222,
              "#7201a8"
             ],
             [
              0.3333333333333333,
              "#9c179e"
             ],
             [
              0.4444444444444444,
              "#bd3786"
             ],
             [
              0.5555555555555556,
              "#d8576b"
             ],
             [
              0.6666666666666666,
              "#ed7953"
             ],
             [
              0.7777777777777778,
              "#fb9f3a"
             ],
             [
              0.8888888888888888,
              "#fdca26"
             ],
             [
              1,
              "#f0f921"
             ]
            ],
            "type": "histogram2d"
           }
          ],
          "histogram2dcontour": [
           {
            "colorbar": {
             "outlinewidth": 0,
             "ticks": ""
            },
            "colorscale": [
             [
              0,
              "#0d0887"
             ],
             [
              0.1111111111111111,
              "#46039f"
             ],
             [
              0.2222222222222222,
              "#7201a8"
             ],
             [
              0.3333333333333333,
              "#9c179e"
             ],
             [
              0.4444444444444444,
              "#bd3786"
             ],
             [
              0.5555555555555556,
              "#d8576b"
             ],
             [
              0.6666666666666666,
              "#ed7953"
             ],
             [
              0.7777777777777778,
              "#fb9f3a"
             ],
             [
              0.8888888888888888,
              "#fdca26"
             ],
             [
              1,
              "#f0f921"
             ]
            ],
            "type": "histogram2dcontour"
           }
          ],
          "mesh3d": [
           {
            "colorbar": {
             "outlinewidth": 0,
             "ticks": ""
            },
            "type": "mesh3d"
           }
          ],
          "parcoords": [
           {
            "line": {
             "colorbar": {
              "outlinewidth": 0,
              "ticks": ""
             }
            },
            "type": "parcoords"
           }
          ],
          "pie": [
           {
            "automargin": true,
            "type": "pie"
           }
          ],
          "scatter": [
           {
            "marker": {
             "colorbar": {
              "outlinewidth": 0,
              "ticks": ""
             }
            },
            "type": "scatter"
           }
          ],
          "scatter3d": [
           {
            "line": {
             "colorbar": {
              "outlinewidth": 0,
              "ticks": ""
             }
            },
            "marker": {
             "colorbar": {
              "outlinewidth": 0,
              "ticks": ""
             }
            },
            "type": "scatter3d"
           }
          ],
          "scattercarpet": [
           {
            "marker": {
             "colorbar": {
              "outlinewidth": 0,
              "ticks": ""
             }
            },
            "type": "scattercarpet"
           }
          ],
          "scattergeo": [
           {
            "marker": {
             "colorbar": {
              "outlinewidth": 0,
              "ticks": ""
             }
            },
            "type": "scattergeo"
           }
          ],
          "scattergl": [
           {
            "marker": {
             "colorbar": {
              "outlinewidth": 0,
              "ticks": ""
             }
            },
            "type": "scattergl"
           }
          ],
          "scattermapbox": [
           {
            "marker": {
             "colorbar": {
              "outlinewidth": 0,
              "ticks": ""
             }
            },
            "type": "scattermapbox"
           }
          ],
          "scatterpolar": [
           {
            "marker": {
             "colorbar": {
              "outlinewidth": 0,
              "ticks": ""
             }
            },
            "type": "scatterpolar"
           }
          ],
          "scatterpolargl": [
           {
            "marker": {
             "colorbar": {
              "outlinewidth": 0,
              "ticks": ""
             }
            },
            "type": "scatterpolargl"
           }
          ],
          "scatterternary": [
           {
            "marker": {
             "colorbar": {
              "outlinewidth": 0,
              "ticks": ""
             }
            },
            "type": "scatterternary"
           }
          ],
          "surface": [
           {
            "colorbar": {
             "outlinewidth": 0,
             "ticks": ""
            },
            "colorscale": [
             [
              0,
              "#0d0887"
             ],
             [
              0.1111111111111111,
              "#46039f"
             ],
             [
              0.2222222222222222,
              "#7201a8"
             ],
             [
              0.3333333333333333,
              "#9c179e"
             ],
             [
              0.4444444444444444,
              "#bd3786"
             ],
             [
              0.5555555555555556,
              "#d8576b"
             ],
             [
              0.6666666666666666,
              "#ed7953"
             ],
             [
              0.7777777777777778,
              "#fb9f3a"
             ],
             [
              0.8888888888888888,
              "#fdca26"
             ],
             [
              1,
              "#f0f921"
             ]
            ],
            "type": "surface"
           }
          ],
          "table": [
           {
            "cells": {
             "fill": {
              "color": "#EBF0F8"
             },
             "line": {
              "color": "white"
             }
            },
            "header": {
             "fill": {
              "color": "#C8D4E3"
             },
             "line": {
              "color": "white"
             }
            },
            "type": "table"
           }
          ]
         },
         "layout": {
          "annotationdefaults": {
           "arrowcolor": "#2a3f5f",
           "arrowhead": 0,
           "arrowwidth": 1
          },
          "coloraxis": {
           "colorbar": {
            "outlinewidth": 0,
            "ticks": ""
           }
          },
          "colorscale": {
           "diverging": [
            [
             0,
             "#8e0152"
            ],
            [
             0.1,
             "#c51b7d"
            ],
            [
             0.2,
             "#de77ae"
            ],
            [
             0.3,
             "#f1b6da"
            ],
            [
             0.4,
             "#fde0ef"
            ],
            [
             0.5,
             "#f7f7f7"
            ],
            [
             0.6,
             "#e6f5d0"
            ],
            [
             0.7,
             "#b8e186"
            ],
            [
             0.8,
             "#7fbc41"
            ],
            [
             0.9,
             "#4d9221"
            ],
            [
             1,
             "#276419"
            ]
           ],
           "sequential": [
            [
             0,
             "#0d0887"
            ],
            [
             0.1111111111111111,
             "#46039f"
            ],
            [
             0.2222222222222222,
             "#7201a8"
            ],
            [
             0.3333333333333333,
             "#9c179e"
            ],
            [
             0.4444444444444444,
             "#bd3786"
            ],
            [
             0.5555555555555556,
             "#d8576b"
            ],
            [
             0.6666666666666666,
             "#ed7953"
            ],
            [
             0.7777777777777778,
             "#fb9f3a"
            ],
            [
             0.8888888888888888,
             "#fdca26"
            ],
            [
             1,
             "#f0f921"
            ]
           ],
           "sequentialminus": [
            [
             0,
             "#0d0887"
            ],
            [
             0.1111111111111111,
             "#46039f"
            ],
            [
             0.2222222222222222,
             "#7201a8"
            ],
            [
             0.3333333333333333,
             "#9c179e"
            ],
            [
             0.4444444444444444,
             "#bd3786"
            ],
            [
             0.5555555555555556,
             "#d8576b"
            ],
            [
             0.6666666666666666,
             "#ed7953"
            ],
            [
             0.7777777777777778,
             "#fb9f3a"
            ],
            [
             0.8888888888888888,
             "#fdca26"
            ],
            [
             1,
             "#f0f921"
            ]
           ]
          },
          "colorway": [
           "#636efa",
           "#EF553B",
           "#00cc96",
           "#ab63fa",
           "#FFA15A",
           "#19d3f3",
           "#FF6692",
           "#B6E880",
           "#FF97FF",
           "#FECB52"
          ],
          "font": {
           "color": "#2a3f5f"
          },
          "geo": {
           "bgcolor": "white",
           "lakecolor": "white",
           "landcolor": "#E5ECF6",
           "showlakes": true,
           "showland": true,
           "subunitcolor": "white"
          },
          "hoverlabel": {
           "align": "left"
          },
          "hovermode": "closest",
          "mapbox": {
           "style": "light"
          },
          "paper_bgcolor": "white",
          "plot_bgcolor": "#E5ECF6",
          "polar": {
           "angularaxis": {
            "gridcolor": "white",
            "linecolor": "white",
            "ticks": ""
           },
           "bgcolor": "#E5ECF6",
           "radialaxis": {
            "gridcolor": "white",
            "linecolor": "white",
            "ticks": ""
           }
          },
          "scene": {
           "xaxis": {
            "backgroundcolor": "#E5ECF6",
            "gridcolor": "white",
            "gridwidth": 2,
            "linecolor": "white",
            "showbackground": true,
            "ticks": "",
            "zerolinecolor": "white"
           },
           "yaxis": {
            "backgroundcolor": "#E5ECF6",
            "gridcolor": "white",
            "gridwidth": 2,
            "linecolor": "white",
            "showbackground": true,
            "ticks": "",
            "zerolinecolor": "white"
           },
           "zaxis": {
            "backgroundcolor": "#E5ECF6",
            "gridcolor": "white",
            "gridwidth": 2,
            "linecolor": "white",
            "showbackground": true,
            "ticks": "",
            "zerolinecolor": "white"
           }
          },
          "shapedefaults": {
           "line": {
            "color": "#2a3f5f"
           }
          },
          "ternary": {
           "aaxis": {
            "gridcolor": "white",
            "linecolor": "white",
            "ticks": ""
           },
           "baxis": {
            "gridcolor": "white",
            "linecolor": "white",
            "ticks": ""
           },
           "bgcolor": "#E5ECF6",
           "caxis": {
            "gridcolor": "white",
            "linecolor": "white",
            "ticks": ""
           }
          },
          "title": {
           "x": 0.05
          },
          "xaxis": {
           "automargin": true,
           "gridcolor": "white",
           "linecolor": "white",
           "ticks": "",
           "title": {
            "standoff": 15
           },
           "zerolinecolor": "white",
           "zerolinewidth": 2
          },
          "yaxis": {
           "automargin": true,
           "gridcolor": "white",
           "linecolor": "white",
           "ticks": "",
           "title": {
            "standoff": 15
           },
           "zerolinecolor": "white",
           "zerolinewidth": 2
          }
         }
        },
        "title": {
         "font": {
          "color": "#4D5663"
         }
        },
        "xaxis": {
         "gridcolor": "#E1E5ED",
         "showgrid": true,
         "tickfont": {
          "color": "#4D5663"
         },
         "title": {
          "font": {
           "color": "#4D5663"
          },
          "text": ""
         },
         "zerolinecolor": "#E1E5ED"
        },
        "yaxis": {
         "gridcolor": "#E1E5ED",
         "showgrid": true,
         "tickfont": {
          "color": "#4D5663"
         },
         "title": {
          "font": {
           "color": "#4D5663"
          },
          "text": ""
         },
         "zerolinecolor": "#E1E5ED"
        }
       }
      },
      "text/html": [
       "<div>\n",
       "        \n",
       "        \n",
       "            <div id=\"83ce1d10-e9c6-4016-befa-64fde0b7f31d\" class=\"plotly-graph-div\" style=\"height:525px; width:100%;\"></div>\n",
       "            <script type=\"text/javascript\">\n",
       "                require([\"plotly\"], function(Plotly) {\n",
       "                    window.PLOTLYENV=window.PLOTLYENV || {};\n",
       "                    window.PLOTLYENV.BASE_URL='https://plot.ly';\n",
       "                    \n",
       "                if (document.getElementById(\"83ce1d10-e9c6-4016-befa-64fde0b7f31d\")) {\n",
       "                    Plotly.newPlot(\n",
       "                        '83ce1d10-e9c6-4016-befa-64fde0b7f31d',\n",
       "                        [{\"line\": {\"color\": \"rgba(255, 153, 51, 1.0)\", \"dash\": \"solid\", \"shape\": \"linear\", \"width\": 1.3}, \"marker\": {\"size\": 10, \"symbol\": \"circle\"}, \"mode\": \"markers\", \"name\": \"B\", \"text\": \"\", \"type\": \"scatter\", \"x\": [1.940291908011102, -0.43602033128621526, -0.48460214045660277, -1.0240471641424937, 0.07834813558886017, -0.03664652387595461, -0.3129739035091516, -2.334547594397871, 1.8228858929130831, 1.5711886392255132, -2.364881578802697, 1.4616947574353703, -0.4987309829110831, 1.5617852729463797, 0.27096936324438226, -0.6303478616043724, -1.5081522475000202, 1.7029399159062886, -0.5595680928927093, -1.2503555447771197, 0.8046047778907405, -0.8662211973605952, 0.5836035330903515, -1.6882300309849554, 0.5249023960622097, 0.8738634367385915, -0.7011217630000545, -0.11281811880033381, 1.9132226852451233, 0.21515592223039476, -1.5250854327856227, -0.1590202944556442, -0.4527591510178096, -1.1110076710922145, -0.9041890618466469, -1.05375893360304, 0.45947755704608234, 0.4151947410799361, -1.4538365237286752, -0.5787259904446689, 1.0876123636309982, -0.256605975290541, 0.13329166285795085, -0.9077772592137843, 0.03249663834892144, 1.0142902752121234, -0.3344369309963581, -0.09121153691247674, -0.40669721394299546, 0.02744157623740808, -1.5452805971626824, -1.3511169562269885, 0.01158109319398306, -0.9149503343075752, -1.1025417006876994, -0.5048494637049264, -0.2567919047639987, 0.01093619218693575, -0.1356930776970061, 0.10026165369166105, 1.1717276766409668, -0.6434971360362067, 0.34067344818628176, 0.8863816354805312, -0.10132359942293251, 0.07605559055080867, -0.6913446582930974, -1.2920514173129505, -1.3009741161906287, 1.2876633447677763, -1.4445628899407343, 0.259865688457576, 1.8478838525077084, -0.41108510928550895, 0.2893624467427053, 0.748614342294359, 0.9263547679541281, 0.635161754847521, 0.28256247565135617, 1.5126383882427301, -0.7632724161850403, -0.2983928325770369, 0.37300270064839636, 1.0871880926061648, 2.6572202224944146, -1.9722183777917304, 0.18564568416487742, -0.9814354534461059, -0.5474587763161223, 0.03598568118577001, -0.23166847854919972, -1.1346148101716846, -0.9036756738680616, -0.0404909774929333, -0.7164950094764136, -0.06435143860746836, -0.07591268221618847, -0.5296157564584758, 0.2931309732891985, -0.1006868486366963], \"y\": [-0.42790688434940893, 1.1023212831129967, 1.1887901480514325, 1.0732111845425714, -0.36657365759249483, -0.5656473349592283, -0.052425381012257515, 1.1967973487129693, -1.9204162179742734, 0.49499173286988396, 0.03177713886948559, 2.0395208180242643, -0.43859191833447764, 1.4803364226090499, 0.12666444902249152, -1.649742282114302, 0.5870377856553117, 2.2710802059818387, -0.30189613702080215, -0.7473224975631962, -1.900915231301534, -0.3708915752256786, -0.6999856013421171, -2.0196320119393696, 0.21564852508540636, -0.33120503933020584, -0.41383604470641094, -0.47804860178887726, -0.7092972940284749, 0.5778318584490235, -0.4101017143331438, -0.5352139410516578, -0.7862257663300574, 0.6939896876836772, 0.5326883503544092, 1.5131372743263152, 0.4166429553616738, 0.2528413795800169, -0.855163816308513, -0.14730575159544035, 0.28800779576442737, -1.4143330241262138, -0.1499239941006353, 1.007051705598499, 0.7490749925322414, -1.426002197503157, -1.279040263458639, -2.154585408397387, 0.9533137961235957, -1.175672610090137, 1.4978861553591707, 1.4435405003817126, 0.16563658417772678, -0.6623006604152534, -0.49891553469198524, 1.9747739497342782, 0.10501534948661304, 0.14056313980420468, -2.002254240703674, 0.7190327472356344, -0.881783930208081, 0.25366385499380195, -0.5874379416344943, -1.6289419914202181, 0.8301884314766689, 0.7747392373953594, -0.6875231198482459, 0.12024538466383536, 1.3670594450102325, 0.5827452306838281, -0.530278447900754, 0.05614891806237901, 0.7790080419810892, 1.446161850152793, 0.1404383743784033, -1.276468775850176, -1.2232777640277335, -1.0818283123154933, 1.2036621750038603, 0.10999185836379068, -1.1292034967068854, -1.4838806863523342, 0.7118756638641246, -0.5259681147027214, 0.3274831050418921, -0.8385036986314343, -0.1876452907738252, -0.48443317356575794, -0.06461280053411844, -1.1236064929290808, 0.8555082423265195, 1.3065424209543985, 0.07851453225301613, 0.4895930528339927, 0.28602019675591833, -0.9257653387478679, 0.02203108690296603, -0.5784050702216772, 0.5342364290101148, 0.07580009014358847]}],\n",
       "                        {\"legend\": {\"bgcolor\": \"#F5F6F9\", \"font\": {\"color\": \"#4D5663\"}}, \"paper_bgcolor\": \"#F5F6F9\", \"plot_bgcolor\": \"#F5F6F9\", \"template\": {\"data\": {\"bar\": [{\"error_x\": {\"color\": \"#2a3f5f\"}, \"error_y\": {\"color\": \"#2a3f5f\"}, \"marker\": {\"line\": {\"color\": \"#E5ECF6\", \"width\": 0.5}}, \"type\": \"bar\"}], \"barpolar\": [{\"marker\": {\"line\": {\"color\": \"#E5ECF6\", \"width\": 0.5}}, \"type\": \"barpolar\"}], \"carpet\": [{\"aaxis\": {\"endlinecolor\": \"#2a3f5f\", \"gridcolor\": \"white\", \"linecolor\": \"white\", \"minorgridcolor\": \"white\", \"startlinecolor\": \"#2a3f5f\"}, \"baxis\": {\"endlinecolor\": \"#2a3f5f\", \"gridcolor\": \"white\", \"linecolor\": \"white\", \"minorgridcolor\": \"white\", \"startlinecolor\": \"#2a3f5f\"}, \"type\": \"carpet\"}], \"choropleth\": [{\"colorbar\": {\"outlinewidth\": 0, \"ticks\": \"\"}, \"type\": \"choropleth\"}], \"contour\": [{\"colorbar\": {\"outlinewidth\": 0, \"ticks\": \"\"}, \"colorscale\": [[0.0, \"#0d0887\"], [0.1111111111111111, \"#46039f\"], [0.2222222222222222, \"#7201a8\"], [0.3333333333333333, \"#9c179e\"], [0.4444444444444444, \"#bd3786\"], [0.5555555555555556, \"#d8576b\"], [0.6666666666666666, \"#ed7953\"], [0.7777777777777778, \"#fb9f3a\"], [0.8888888888888888, \"#fdca26\"], [1.0, \"#f0f921\"]], \"type\": \"contour\"}], \"contourcarpet\": [{\"colorbar\": {\"outlinewidth\": 0, \"ticks\": \"\"}, \"type\": \"contourcarpet\"}], \"heatmap\": [{\"colorbar\": {\"outlinewidth\": 0, \"ticks\": \"\"}, \"colorscale\": [[0.0, \"#0d0887\"], [0.1111111111111111, \"#46039f\"], [0.2222222222222222, \"#7201a8\"], [0.3333333333333333, \"#9c179e\"], [0.4444444444444444, \"#bd3786\"], [0.5555555555555556, \"#d8576b\"], [0.6666666666666666, \"#ed7953\"], [0.7777777777777778, \"#fb9f3a\"], [0.8888888888888888, \"#fdca26\"], [1.0, \"#f0f921\"]], \"type\": \"heatmap\"}], \"heatmapgl\": [{\"colorbar\": {\"outlinewidth\": 0, \"ticks\": \"\"}, \"colorscale\": [[0.0, \"#0d0887\"], [0.1111111111111111, \"#46039f\"], [0.2222222222222222, \"#7201a8\"], [0.3333333333333333, \"#9c179e\"], [0.4444444444444444, \"#bd3786\"], [0.5555555555555556, \"#d8576b\"], [0.6666666666666666, \"#ed7953\"], [0.7777777777777778, \"#fb9f3a\"], [0.8888888888888888, \"#fdca26\"], [1.0, \"#f0f921\"]], \"type\": \"heatmapgl\"}], \"histogram\": [{\"marker\": {\"colorbar\": {\"outlinewidth\": 0, \"ticks\": \"\"}}, \"type\": \"histogram\"}], \"histogram2d\": [{\"colorbar\": {\"outlinewidth\": 0, \"ticks\": \"\"}, \"colorscale\": [[0.0, \"#0d0887\"], [0.1111111111111111, \"#46039f\"], [0.2222222222222222, \"#7201a8\"], [0.3333333333333333, \"#9c179e\"], [0.4444444444444444, \"#bd3786\"], [0.5555555555555556, \"#d8576b\"], [0.6666666666666666, \"#ed7953\"], [0.7777777777777778, \"#fb9f3a\"], [0.8888888888888888, \"#fdca26\"], [1.0, \"#f0f921\"]], \"type\": \"histogram2d\"}], \"histogram2dcontour\": [{\"colorbar\": {\"outlinewidth\": 0, \"ticks\": \"\"}, \"colorscale\": [[0.0, \"#0d0887\"], [0.1111111111111111, \"#46039f\"], [0.2222222222222222, \"#7201a8\"], [0.3333333333333333, \"#9c179e\"], [0.4444444444444444, \"#bd3786\"], [0.5555555555555556, \"#d8576b\"], [0.6666666666666666, \"#ed7953\"], [0.7777777777777778, \"#fb9f3a\"], [0.8888888888888888, \"#fdca26\"], [1.0, \"#f0f921\"]], \"type\": \"histogram2dcontour\"}], \"mesh3d\": [{\"colorbar\": {\"outlinewidth\": 0, \"ticks\": \"\"}, \"type\": \"mesh3d\"}], \"parcoords\": [{\"line\": {\"colorbar\": {\"outlinewidth\": 0, \"ticks\": \"\"}}, \"type\": \"parcoords\"}], \"pie\": [{\"automargin\": true, \"type\": \"pie\"}], \"scatter\": [{\"marker\": {\"colorbar\": {\"outlinewidth\": 0, \"ticks\": \"\"}}, \"type\": \"scatter\"}], \"scatter3d\": [{\"line\": {\"colorbar\": {\"outlinewidth\": 0, \"ticks\": \"\"}}, \"marker\": {\"colorbar\": {\"outlinewidth\": 0, \"ticks\": \"\"}}, \"type\": \"scatter3d\"}], \"scattercarpet\": [{\"marker\": {\"colorbar\": {\"outlinewidth\": 0, \"ticks\": \"\"}}, \"type\": \"scattercarpet\"}], \"scattergeo\": [{\"marker\": {\"colorbar\": {\"outlinewidth\": 0, \"ticks\": \"\"}}, \"type\": \"scattergeo\"}], \"scattergl\": [{\"marker\": {\"colorbar\": {\"outlinewidth\": 0, \"ticks\": \"\"}}, \"type\": \"scattergl\"}], \"scattermapbox\": [{\"marker\": {\"colorbar\": {\"outlinewidth\": 0, \"ticks\": \"\"}}, \"type\": \"scattermapbox\"}], \"scatterpolar\": [{\"marker\": {\"colorbar\": {\"outlinewidth\": 0, \"ticks\": \"\"}}, \"type\": \"scatterpolar\"}], \"scatterpolargl\": [{\"marker\": {\"colorbar\": {\"outlinewidth\": 0, \"ticks\": \"\"}}, \"type\": \"scatterpolargl\"}], \"scatterternary\": [{\"marker\": {\"colorbar\": {\"outlinewidth\": 0, \"ticks\": \"\"}}, \"type\": \"scatterternary\"}], \"surface\": [{\"colorbar\": {\"outlinewidth\": 0, \"ticks\": \"\"}, \"colorscale\": [[0.0, \"#0d0887\"], [0.1111111111111111, \"#46039f\"], [0.2222222222222222, \"#7201a8\"], [0.3333333333333333, \"#9c179e\"], [0.4444444444444444, \"#bd3786\"], [0.5555555555555556, \"#d8576b\"], [0.6666666666666666, \"#ed7953\"], [0.7777777777777778, \"#fb9f3a\"], [0.8888888888888888, \"#fdca26\"], [1.0, \"#f0f921\"]], \"type\": \"surface\"}], \"table\": [{\"cells\": {\"fill\": {\"color\": \"#EBF0F8\"}, \"line\": {\"color\": \"white\"}}, \"header\": {\"fill\": {\"color\": \"#C8D4E3\"}, \"line\": {\"color\": \"white\"}}, \"type\": \"table\"}]}, \"layout\": {\"annotationdefaults\": {\"arrowcolor\": \"#2a3f5f\", \"arrowhead\": 0, \"arrowwidth\": 1}, \"coloraxis\": {\"colorbar\": {\"outlinewidth\": 0, \"ticks\": \"\"}}, \"colorscale\": {\"diverging\": [[0, \"#8e0152\"], [0.1, \"#c51b7d\"], [0.2, \"#de77ae\"], [0.3, \"#f1b6da\"], [0.4, \"#fde0ef\"], [0.5, \"#f7f7f7\"], [0.6, \"#e6f5d0\"], [0.7, \"#b8e186\"], [0.8, \"#7fbc41\"], [0.9, \"#4d9221\"], [1, \"#276419\"]], \"sequential\": [[0.0, \"#0d0887\"], [0.1111111111111111, \"#46039f\"], [0.2222222222222222, \"#7201a8\"], [0.3333333333333333, \"#9c179e\"], [0.4444444444444444, \"#bd3786\"], [0.5555555555555556, \"#d8576b\"], [0.6666666666666666, \"#ed7953\"], [0.7777777777777778, \"#fb9f3a\"], [0.8888888888888888, \"#fdca26\"], [1.0, \"#f0f921\"]], \"sequentialminus\": [[0.0, \"#0d0887\"], [0.1111111111111111, \"#46039f\"], [0.2222222222222222, \"#7201a8\"], [0.3333333333333333, \"#9c179e\"], [0.4444444444444444, \"#bd3786\"], [0.5555555555555556, \"#d8576b\"], [0.6666666666666666, \"#ed7953\"], [0.7777777777777778, \"#fb9f3a\"], [0.8888888888888888, \"#fdca26\"], [1.0, \"#f0f921\"]]}, \"colorway\": [\"#636efa\", \"#EF553B\", \"#00cc96\", \"#ab63fa\", \"#FFA15A\", \"#19d3f3\", \"#FF6692\", \"#B6E880\", \"#FF97FF\", \"#FECB52\"], \"font\": {\"color\": \"#2a3f5f\"}, \"geo\": {\"bgcolor\": \"white\", \"lakecolor\": \"white\", \"landcolor\": \"#E5ECF6\", \"showlakes\": true, \"showland\": true, \"subunitcolor\": \"white\"}, \"hoverlabel\": {\"align\": \"left\"}, \"hovermode\": \"closest\", \"mapbox\": {\"style\": \"light\"}, \"paper_bgcolor\": \"white\", \"plot_bgcolor\": \"#E5ECF6\", \"polar\": {\"angularaxis\": {\"gridcolor\": \"white\", \"linecolor\": \"white\", \"ticks\": \"\"}, \"bgcolor\": \"#E5ECF6\", \"radialaxis\": {\"gridcolor\": \"white\", \"linecolor\": \"white\", \"ticks\": \"\"}}, \"scene\": {\"xaxis\": {\"backgroundcolor\": \"#E5ECF6\", \"gridcolor\": \"white\", \"gridwidth\": 2, \"linecolor\": \"white\", \"showbackground\": true, \"ticks\": \"\", \"zerolinecolor\": \"white\"}, \"yaxis\": {\"backgroundcolor\": \"#E5ECF6\", \"gridcolor\": \"white\", \"gridwidth\": 2, \"linecolor\": \"white\", \"showbackground\": true, \"ticks\": \"\", \"zerolinecolor\": \"white\"}, \"zaxis\": {\"backgroundcolor\": \"#E5ECF6\", \"gridcolor\": \"white\", \"gridwidth\": 2, \"linecolor\": \"white\", \"showbackground\": true, \"ticks\": \"\", \"zerolinecolor\": \"white\"}}, \"shapedefaults\": {\"line\": {\"color\": \"#2a3f5f\"}}, \"ternary\": {\"aaxis\": {\"gridcolor\": \"white\", \"linecolor\": \"white\", \"ticks\": \"\"}, \"baxis\": {\"gridcolor\": \"white\", \"linecolor\": \"white\", \"ticks\": \"\"}, \"bgcolor\": \"#E5ECF6\", \"caxis\": {\"gridcolor\": \"white\", \"linecolor\": \"white\", \"ticks\": \"\"}}, \"title\": {\"x\": 0.05}, \"xaxis\": {\"automargin\": true, \"gridcolor\": \"white\", \"linecolor\": \"white\", \"ticks\": \"\", \"title\": {\"standoff\": 15}, \"zerolinecolor\": \"white\", \"zerolinewidth\": 2}, \"yaxis\": {\"automargin\": true, \"gridcolor\": \"white\", \"linecolor\": \"white\", \"ticks\": \"\", \"title\": {\"standoff\": 15}, \"zerolinecolor\": \"white\", \"zerolinewidth\": 2}}}, \"title\": {\"font\": {\"color\": \"#4D5663\"}}, \"xaxis\": {\"gridcolor\": \"#E1E5ED\", \"showgrid\": true, \"tickfont\": {\"color\": \"#4D5663\"}, \"title\": {\"font\": {\"color\": \"#4D5663\"}, \"text\": \"\"}, \"zerolinecolor\": \"#E1E5ED\"}, \"yaxis\": {\"gridcolor\": \"#E1E5ED\", \"showgrid\": true, \"tickfont\": {\"color\": \"#4D5663\"}, \"title\": {\"font\": {\"color\": \"#4D5663\"}, \"text\": \"\"}, \"zerolinecolor\": \"#E1E5ED\"}},\n",
       "                        {\"showLink\": true, \"linkText\": \"Export to plot.ly\", \"plotlyServerURL\": \"https://plot.ly\", \"responsive\": true}\n",
       "                    ).then(function(){\n",
       "                            \n",
       "var gd = document.getElementById('83ce1d10-e9c6-4016-befa-64fde0b7f31d');\n",
       "var x = new MutationObserver(function (mutations, observer) {{\n",
       "        var display = window.getComputedStyle(gd).display;\n",
       "        if (!display || display === 'none') {{\n",
       "            console.log([gd, 'removed!']);\n",
       "            Plotly.purge(gd);\n",
       "            observer.disconnect();\n",
       "        }}\n",
       "}});\n",
       "\n",
       "// Listen for the removal of the full notebook cells\n",
       "var notebookContainer = gd.closest('#notebook-container');\n",
       "if (notebookContainer) {{\n",
       "    x.observe(notebookContainer, {childList: true});\n",
       "}}\n",
       "\n",
       "// Listen for the clearing of the current output cell\n",
       "var outputEl = gd.closest('.output');\n",
       "if (outputEl) {{\n",
       "    x.observe(outputEl, {childList: true});\n",
       "}}\n",
       "\n",
       "                        })\n",
       "                };\n",
       "                });\n",
       "            </script>\n",
       "        </div>"
      ]
     },
     "metadata": {},
     "output_type": "display_data"
    }
   ],
   "source": [
    "df.iplot(kind='scatter',x='A',y='B',mode='markers',size=10)"
   ]
  },
  {
   "cell_type": "markdown",
   "metadata": {},
   "source": [
    "## Bar Plots"
   ]
  },
  {
   "cell_type": "code",
   "execution_count": 11,
   "metadata": {
    "jupyter": {
     "outputs_hidden": false
    }
   },
   "outputs": [
    {
     "data": {
      "application/vnd.plotly.v1+json": {
       "config": {
        "linkText": "Export to plot.ly",
        "plotlyServerURL": "https://plot.ly",
        "showLink": true
       },
       "data": [
        {
         "marker": {
          "color": "rgba(255, 153, 51, 0.6)",
          "line": {
           "color": "rgba(255, 153, 51, 1.0)",
           "width": 1
          }
         },
         "name": "Values",
         "orientation": "v",
         "text": "",
         "type": "bar",
         "x": [
          "A",
          "B",
          "C"
         ],
         "y": [
          32,
          43,
          50
         ]
        }
       ],
       "layout": {
        "legend": {
         "bgcolor": "#F5F6F9",
         "font": {
          "color": "#4D5663"
         }
        },
        "paper_bgcolor": "#F5F6F9",
        "plot_bgcolor": "#F5F6F9",
        "template": {
         "data": {
          "bar": [
           {
            "error_x": {
             "color": "#2a3f5f"
            },
            "error_y": {
             "color": "#2a3f5f"
            },
            "marker": {
             "line": {
              "color": "#E5ECF6",
              "width": 0.5
             }
            },
            "type": "bar"
           }
          ],
          "barpolar": [
           {
            "marker": {
             "line": {
              "color": "#E5ECF6",
              "width": 0.5
             }
            },
            "type": "barpolar"
           }
          ],
          "carpet": [
           {
            "aaxis": {
             "endlinecolor": "#2a3f5f",
             "gridcolor": "white",
             "linecolor": "white",
             "minorgridcolor": "white",
             "startlinecolor": "#2a3f5f"
            },
            "baxis": {
             "endlinecolor": "#2a3f5f",
             "gridcolor": "white",
             "linecolor": "white",
             "minorgridcolor": "white",
             "startlinecolor": "#2a3f5f"
            },
            "type": "carpet"
           }
          ],
          "choropleth": [
           {
            "colorbar": {
             "outlinewidth": 0,
             "ticks": ""
            },
            "type": "choropleth"
           }
          ],
          "contour": [
           {
            "colorbar": {
             "outlinewidth": 0,
             "ticks": ""
            },
            "colorscale": [
             [
              0,
              "#0d0887"
             ],
             [
              0.1111111111111111,
              "#46039f"
             ],
             [
              0.2222222222222222,
              "#7201a8"
             ],
             [
              0.3333333333333333,
              "#9c179e"
             ],
             [
              0.4444444444444444,
              "#bd3786"
             ],
             [
              0.5555555555555556,
              "#d8576b"
             ],
             [
              0.6666666666666666,
              "#ed7953"
             ],
             [
              0.7777777777777778,
              "#fb9f3a"
             ],
             [
              0.8888888888888888,
              "#fdca26"
             ],
             [
              1,
              "#f0f921"
             ]
            ],
            "type": "contour"
           }
          ],
          "contourcarpet": [
           {
            "colorbar": {
             "outlinewidth": 0,
             "ticks": ""
            },
            "type": "contourcarpet"
           }
          ],
          "heatmap": [
           {
            "colorbar": {
             "outlinewidth": 0,
             "ticks": ""
            },
            "colorscale": [
             [
              0,
              "#0d0887"
             ],
             [
              0.1111111111111111,
              "#46039f"
             ],
             [
              0.2222222222222222,
              "#7201a8"
             ],
             [
              0.3333333333333333,
              "#9c179e"
             ],
             [
              0.4444444444444444,
              "#bd3786"
             ],
             [
              0.5555555555555556,
              "#d8576b"
             ],
             [
              0.6666666666666666,
              "#ed7953"
             ],
             [
              0.7777777777777778,
              "#fb9f3a"
             ],
             [
              0.8888888888888888,
              "#fdca26"
             ],
             [
              1,
              "#f0f921"
             ]
            ],
            "type": "heatmap"
           }
          ],
          "heatmapgl": [
           {
            "colorbar": {
             "outlinewidth": 0,
             "ticks": ""
            },
            "colorscale": [
             [
              0,
              "#0d0887"
             ],
             [
              0.1111111111111111,
              "#46039f"
             ],
             [
              0.2222222222222222,
              "#7201a8"
             ],
             [
              0.3333333333333333,
              "#9c179e"
             ],
             [
              0.4444444444444444,
              "#bd3786"
             ],
             [
              0.5555555555555556,
              "#d8576b"
             ],
             [
              0.6666666666666666,
              "#ed7953"
             ],
             [
              0.7777777777777778,
              "#fb9f3a"
             ],
             [
              0.8888888888888888,
              "#fdca26"
             ],
             [
              1,
              "#f0f921"
             ]
            ],
            "type": "heatmapgl"
           }
          ],
          "histogram": [
           {
            "marker": {
             "colorbar": {
              "outlinewidth": 0,
              "ticks": ""
             }
            },
            "type": "histogram"
           }
          ],
          "histogram2d": [
           {
            "colorbar": {
             "outlinewidth": 0,
             "ticks": ""
            },
            "colorscale": [
             [
              0,
              "#0d0887"
             ],
             [
              0.1111111111111111,
              "#46039f"
             ],
             [
              0.2222222222222222,
              "#7201a8"
             ],
             [
              0.3333333333333333,
              "#9c179e"
             ],
             [
              0.4444444444444444,
              "#bd3786"
             ],
             [
              0.5555555555555556,
              "#d8576b"
             ],
             [
              0.6666666666666666,
              "#ed7953"
             ],
             [
              0.7777777777777778,
              "#fb9f3a"
             ],
             [
              0.8888888888888888,
              "#fdca26"
             ],
             [
              1,
              "#f0f921"
             ]
            ],
            "type": "histogram2d"
           }
          ],
          "histogram2dcontour": [
           {
            "colorbar": {
             "outlinewidth": 0,
             "ticks": ""
            },
            "colorscale": [
             [
              0,
              "#0d0887"
             ],
             [
              0.1111111111111111,
              "#46039f"
             ],
             [
              0.2222222222222222,
              "#7201a8"
             ],
             [
              0.3333333333333333,
              "#9c179e"
             ],
             [
              0.4444444444444444,
              "#bd3786"
             ],
             [
              0.5555555555555556,
              "#d8576b"
             ],
             [
              0.6666666666666666,
              "#ed7953"
             ],
             [
              0.7777777777777778,
              "#fb9f3a"
             ],
             [
              0.8888888888888888,
              "#fdca26"
             ],
             [
              1,
              "#f0f921"
             ]
            ],
            "type": "histogram2dcontour"
           }
          ],
          "mesh3d": [
           {
            "colorbar": {
             "outlinewidth": 0,
             "ticks": ""
            },
            "type": "mesh3d"
           }
          ],
          "parcoords": [
           {
            "line": {
             "colorbar": {
              "outlinewidth": 0,
              "ticks": ""
             }
            },
            "type": "parcoords"
           }
          ],
          "pie": [
           {
            "automargin": true,
            "type": "pie"
           }
          ],
          "scatter": [
           {
            "marker": {
             "colorbar": {
              "outlinewidth": 0,
              "ticks": ""
             }
            },
            "type": "scatter"
           }
          ],
          "scatter3d": [
           {
            "line": {
             "colorbar": {
              "outlinewidth": 0,
              "ticks": ""
             }
            },
            "marker": {
             "colorbar": {
              "outlinewidth": 0,
              "ticks": ""
             }
            },
            "type": "scatter3d"
           }
          ],
          "scattercarpet": [
           {
            "marker": {
             "colorbar": {
              "outlinewidth": 0,
              "ticks": ""
             }
            },
            "type": "scattercarpet"
           }
          ],
          "scattergeo": [
           {
            "marker": {
             "colorbar": {
              "outlinewidth": 0,
              "ticks": ""
             }
            },
            "type": "scattergeo"
           }
          ],
          "scattergl": [
           {
            "marker": {
             "colorbar": {
              "outlinewidth": 0,
              "ticks": ""
             }
            },
            "type": "scattergl"
           }
          ],
          "scattermapbox": [
           {
            "marker": {
             "colorbar": {
              "outlinewidth": 0,
              "ticks": ""
             }
            },
            "type": "scattermapbox"
           }
          ],
          "scatterpolar": [
           {
            "marker": {
             "colorbar": {
              "outlinewidth": 0,
              "ticks": ""
             }
            },
            "type": "scatterpolar"
           }
          ],
          "scatterpolargl": [
           {
            "marker": {
             "colorbar": {
              "outlinewidth": 0,
              "ticks": ""
             }
            },
            "type": "scatterpolargl"
           }
          ],
          "scatterternary": [
           {
            "marker": {
             "colorbar": {
              "outlinewidth": 0,
              "ticks": ""
             }
            },
            "type": "scatterternary"
           }
          ],
          "surface": [
           {
            "colorbar": {
             "outlinewidth": 0,
             "ticks": ""
            },
            "colorscale": [
             [
              0,
              "#0d0887"
             ],
             [
              0.1111111111111111,
              "#46039f"
             ],
             [
              0.2222222222222222,
              "#7201a8"
             ],
             [
              0.3333333333333333,
              "#9c179e"
             ],
             [
              0.4444444444444444,
              "#bd3786"
             ],
             [
              0.5555555555555556,
              "#d8576b"
             ],
             [
              0.6666666666666666,
              "#ed7953"
             ],
             [
              0.7777777777777778,
              "#fb9f3a"
             ],
             [
              0.8888888888888888,
              "#fdca26"
             ],
             [
              1,
              "#f0f921"
             ]
            ],
            "type": "surface"
           }
          ],
          "table": [
           {
            "cells": {
             "fill": {
              "color": "#EBF0F8"
             },
             "line": {
              "color": "white"
             }
            },
            "header": {
             "fill": {
              "color": "#C8D4E3"
             },
             "line": {
              "color": "white"
             }
            },
            "type": "table"
           }
          ]
         },
         "layout": {
          "annotationdefaults": {
           "arrowcolor": "#2a3f5f",
           "arrowhead": 0,
           "arrowwidth": 1
          },
          "coloraxis": {
           "colorbar": {
            "outlinewidth": 0,
            "ticks": ""
           }
          },
          "colorscale": {
           "diverging": [
            [
             0,
             "#8e0152"
            ],
            [
             0.1,
             "#c51b7d"
            ],
            [
             0.2,
             "#de77ae"
            ],
            [
             0.3,
             "#f1b6da"
            ],
            [
             0.4,
             "#fde0ef"
            ],
            [
             0.5,
             "#f7f7f7"
            ],
            [
             0.6,
             "#e6f5d0"
            ],
            [
             0.7,
             "#b8e186"
            ],
            [
             0.8,
             "#7fbc41"
            ],
            [
             0.9,
             "#4d9221"
            ],
            [
             1,
             "#276419"
            ]
           ],
           "sequential": [
            [
             0,
             "#0d0887"
            ],
            [
             0.1111111111111111,
             "#46039f"
            ],
            [
             0.2222222222222222,
             "#7201a8"
            ],
            [
             0.3333333333333333,
             "#9c179e"
            ],
            [
             0.4444444444444444,
             "#bd3786"
            ],
            [
             0.5555555555555556,
             "#d8576b"
            ],
            [
             0.6666666666666666,
             "#ed7953"
            ],
            [
             0.7777777777777778,
             "#fb9f3a"
            ],
            [
             0.8888888888888888,
             "#fdca26"
            ],
            [
             1,
             "#f0f921"
            ]
           ],
           "sequentialminus": [
            [
             0,
             "#0d0887"
            ],
            [
             0.1111111111111111,
             "#46039f"
            ],
            [
             0.2222222222222222,
             "#7201a8"
            ],
            [
             0.3333333333333333,
             "#9c179e"
            ],
            [
             0.4444444444444444,
             "#bd3786"
            ],
            [
             0.5555555555555556,
             "#d8576b"
            ],
            [
             0.6666666666666666,
             "#ed7953"
            ],
            [
             0.7777777777777778,
             "#fb9f3a"
            ],
            [
             0.8888888888888888,
             "#fdca26"
            ],
            [
             1,
             "#f0f921"
            ]
           ]
          },
          "colorway": [
           "#636efa",
           "#EF553B",
           "#00cc96",
           "#ab63fa",
           "#FFA15A",
           "#19d3f3",
           "#FF6692",
           "#B6E880",
           "#FF97FF",
           "#FECB52"
          ],
          "font": {
           "color": "#2a3f5f"
          },
          "geo": {
           "bgcolor": "white",
           "lakecolor": "white",
           "landcolor": "#E5ECF6",
           "showlakes": true,
           "showland": true,
           "subunitcolor": "white"
          },
          "hoverlabel": {
           "align": "left"
          },
          "hovermode": "closest",
          "mapbox": {
           "style": "light"
          },
          "paper_bgcolor": "white",
          "plot_bgcolor": "#E5ECF6",
          "polar": {
           "angularaxis": {
            "gridcolor": "white",
            "linecolor": "white",
            "ticks": ""
           },
           "bgcolor": "#E5ECF6",
           "radialaxis": {
            "gridcolor": "white",
            "linecolor": "white",
            "ticks": ""
           }
          },
          "scene": {
           "xaxis": {
            "backgroundcolor": "#E5ECF6",
            "gridcolor": "white",
            "gridwidth": 2,
            "linecolor": "white",
            "showbackground": true,
            "ticks": "",
            "zerolinecolor": "white"
           },
           "yaxis": {
            "backgroundcolor": "#E5ECF6",
            "gridcolor": "white",
            "gridwidth": 2,
            "linecolor": "white",
            "showbackground": true,
            "ticks": "",
            "zerolinecolor": "white"
           },
           "zaxis": {
            "backgroundcolor": "#E5ECF6",
            "gridcolor": "white",
            "gridwidth": 2,
            "linecolor": "white",
            "showbackground": true,
            "ticks": "",
            "zerolinecolor": "white"
           }
          },
          "shapedefaults": {
           "line": {
            "color": "#2a3f5f"
           }
          },
          "ternary": {
           "aaxis": {
            "gridcolor": "white",
            "linecolor": "white",
            "ticks": ""
           },
           "baxis": {
            "gridcolor": "white",
            "linecolor": "white",
            "ticks": ""
           },
           "bgcolor": "#E5ECF6",
           "caxis": {
            "gridcolor": "white",
            "linecolor": "white",
            "ticks": ""
           }
          },
          "title": {
           "x": 0.05
          },
          "xaxis": {
           "automargin": true,
           "gridcolor": "white",
           "linecolor": "white",
           "ticks": "",
           "title": {
            "standoff": 15
           },
           "zerolinecolor": "white",
           "zerolinewidth": 2
          },
          "yaxis": {
           "automargin": true,
           "gridcolor": "white",
           "linecolor": "white",
           "ticks": "",
           "title": {
            "standoff": 15
           },
           "zerolinecolor": "white",
           "zerolinewidth": 2
          }
         }
        },
        "title": {
         "font": {
          "color": "#4D5663"
         }
        },
        "xaxis": {
         "gridcolor": "#E1E5ED",
         "showgrid": true,
         "tickfont": {
          "color": "#4D5663"
         },
         "title": {
          "font": {
           "color": "#4D5663"
          },
          "text": ""
         },
         "zerolinecolor": "#E1E5ED"
        },
        "yaxis": {
         "gridcolor": "#E1E5ED",
         "showgrid": true,
         "tickfont": {
          "color": "#4D5663"
         },
         "title": {
          "font": {
           "color": "#4D5663"
          },
          "text": ""
         },
         "zerolinecolor": "#E1E5ED"
        }
       }
      },
      "text/html": [
       "<div>\n",
       "        \n",
       "        \n",
       "            <div id=\"83f7232b-c5bf-4e84-82da-73d640045735\" class=\"plotly-graph-div\" style=\"height:525px; width:100%;\"></div>\n",
       "            <script type=\"text/javascript\">\n",
       "                require([\"plotly\"], function(Plotly) {\n",
       "                    window.PLOTLYENV=window.PLOTLYENV || {};\n",
       "                    window.PLOTLYENV.BASE_URL='https://plot.ly';\n",
       "                    \n",
       "                if (document.getElementById(\"83f7232b-c5bf-4e84-82da-73d640045735\")) {\n",
       "                    Plotly.newPlot(\n",
       "                        '83f7232b-c5bf-4e84-82da-73d640045735',\n",
       "                        [{\"marker\": {\"color\": \"rgba(255, 153, 51, 0.6)\", \"line\": {\"color\": \"rgba(255, 153, 51, 1.0)\", \"width\": 1}}, \"name\": \"Values\", \"orientation\": \"v\", \"text\": \"\", \"type\": \"bar\", \"x\": [\"A\", \"B\", \"C\"], \"y\": [32, 43, 50]}],\n",
       "                        {\"legend\": {\"bgcolor\": \"#F5F6F9\", \"font\": {\"color\": \"#4D5663\"}}, \"paper_bgcolor\": \"#F5F6F9\", \"plot_bgcolor\": \"#F5F6F9\", \"template\": {\"data\": {\"bar\": [{\"error_x\": {\"color\": \"#2a3f5f\"}, \"error_y\": {\"color\": \"#2a3f5f\"}, \"marker\": {\"line\": {\"color\": \"#E5ECF6\", \"width\": 0.5}}, \"type\": \"bar\"}], \"barpolar\": [{\"marker\": {\"line\": {\"color\": \"#E5ECF6\", \"width\": 0.5}}, \"type\": \"barpolar\"}], \"carpet\": [{\"aaxis\": {\"endlinecolor\": \"#2a3f5f\", \"gridcolor\": \"white\", \"linecolor\": \"white\", \"minorgridcolor\": \"white\", \"startlinecolor\": \"#2a3f5f\"}, \"baxis\": {\"endlinecolor\": \"#2a3f5f\", \"gridcolor\": \"white\", \"linecolor\": \"white\", \"minorgridcolor\": \"white\", \"startlinecolor\": \"#2a3f5f\"}, \"type\": \"carpet\"}], \"choropleth\": [{\"colorbar\": {\"outlinewidth\": 0, \"ticks\": \"\"}, \"type\": \"choropleth\"}], \"contour\": [{\"colorbar\": {\"outlinewidth\": 0, \"ticks\": \"\"}, \"colorscale\": [[0.0, \"#0d0887\"], [0.1111111111111111, \"#46039f\"], [0.2222222222222222, \"#7201a8\"], [0.3333333333333333, \"#9c179e\"], [0.4444444444444444, \"#bd3786\"], [0.5555555555555556, \"#d8576b\"], [0.6666666666666666, \"#ed7953\"], [0.7777777777777778, \"#fb9f3a\"], [0.8888888888888888, \"#fdca26\"], [1.0, \"#f0f921\"]], \"type\": \"contour\"}], \"contourcarpet\": [{\"colorbar\": {\"outlinewidth\": 0, \"ticks\": \"\"}, \"type\": \"contourcarpet\"}], \"heatmap\": [{\"colorbar\": {\"outlinewidth\": 0, \"ticks\": \"\"}, \"colorscale\": [[0.0, \"#0d0887\"], [0.1111111111111111, \"#46039f\"], [0.2222222222222222, \"#7201a8\"], [0.3333333333333333, \"#9c179e\"], [0.4444444444444444, \"#bd3786\"], [0.5555555555555556, \"#d8576b\"], [0.6666666666666666, \"#ed7953\"], [0.7777777777777778, \"#fb9f3a\"], [0.8888888888888888, \"#fdca26\"], [1.0, \"#f0f921\"]], \"type\": \"heatmap\"}], \"heatmapgl\": [{\"colorbar\": {\"outlinewidth\": 0, \"ticks\": \"\"}, \"colorscale\": [[0.0, \"#0d0887\"], [0.1111111111111111, \"#46039f\"], [0.2222222222222222, \"#7201a8\"], [0.3333333333333333, \"#9c179e\"], [0.4444444444444444, \"#bd3786\"], [0.5555555555555556, \"#d8576b\"], [0.6666666666666666, \"#ed7953\"], [0.7777777777777778, \"#fb9f3a\"], [0.8888888888888888, \"#fdca26\"], [1.0, \"#f0f921\"]], \"type\": \"heatmapgl\"}], \"histogram\": [{\"marker\": {\"colorbar\": {\"outlinewidth\": 0, \"ticks\": \"\"}}, \"type\": \"histogram\"}], \"histogram2d\": [{\"colorbar\": {\"outlinewidth\": 0, \"ticks\": \"\"}, \"colorscale\": [[0.0, \"#0d0887\"], [0.1111111111111111, \"#46039f\"], [0.2222222222222222, \"#7201a8\"], [0.3333333333333333, \"#9c179e\"], [0.4444444444444444, \"#bd3786\"], [0.5555555555555556, \"#d8576b\"], [0.6666666666666666, \"#ed7953\"], [0.7777777777777778, \"#fb9f3a\"], [0.8888888888888888, \"#fdca26\"], [1.0, \"#f0f921\"]], \"type\": \"histogram2d\"}], \"histogram2dcontour\": [{\"colorbar\": {\"outlinewidth\": 0, \"ticks\": \"\"}, \"colorscale\": [[0.0, \"#0d0887\"], [0.1111111111111111, \"#46039f\"], [0.2222222222222222, \"#7201a8\"], [0.3333333333333333, \"#9c179e\"], [0.4444444444444444, \"#bd3786\"], [0.5555555555555556, \"#d8576b\"], [0.6666666666666666, \"#ed7953\"], [0.7777777777777778, \"#fb9f3a\"], [0.8888888888888888, \"#fdca26\"], [1.0, \"#f0f921\"]], \"type\": \"histogram2dcontour\"}], \"mesh3d\": [{\"colorbar\": {\"outlinewidth\": 0, \"ticks\": \"\"}, \"type\": \"mesh3d\"}], \"parcoords\": [{\"line\": {\"colorbar\": {\"outlinewidth\": 0, \"ticks\": \"\"}}, \"type\": \"parcoords\"}], \"pie\": [{\"automargin\": true, \"type\": \"pie\"}], \"scatter\": [{\"marker\": {\"colorbar\": {\"outlinewidth\": 0, \"ticks\": \"\"}}, \"type\": \"scatter\"}], \"scatter3d\": [{\"line\": {\"colorbar\": {\"outlinewidth\": 0, \"ticks\": \"\"}}, \"marker\": {\"colorbar\": {\"outlinewidth\": 0, \"ticks\": \"\"}}, \"type\": \"scatter3d\"}], \"scattercarpet\": [{\"marker\": {\"colorbar\": {\"outlinewidth\": 0, \"ticks\": \"\"}}, \"type\": \"scattercarpet\"}], \"scattergeo\": [{\"marker\": {\"colorbar\": {\"outlinewidth\": 0, \"ticks\": \"\"}}, \"type\": \"scattergeo\"}], \"scattergl\": [{\"marker\": {\"colorbar\": {\"outlinewidth\": 0, \"ticks\": \"\"}}, \"type\": \"scattergl\"}], \"scattermapbox\": [{\"marker\": {\"colorbar\": {\"outlinewidth\": 0, \"ticks\": \"\"}}, \"type\": \"scattermapbox\"}], \"scatterpolar\": [{\"marker\": {\"colorbar\": {\"outlinewidth\": 0, \"ticks\": \"\"}}, \"type\": \"scatterpolar\"}], \"scatterpolargl\": [{\"marker\": {\"colorbar\": {\"outlinewidth\": 0, \"ticks\": \"\"}}, \"type\": \"scatterpolargl\"}], \"scatterternary\": [{\"marker\": {\"colorbar\": {\"outlinewidth\": 0, \"ticks\": \"\"}}, \"type\": \"scatterternary\"}], \"surface\": [{\"colorbar\": {\"outlinewidth\": 0, \"ticks\": \"\"}, \"colorscale\": [[0.0, \"#0d0887\"], [0.1111111111111111, \"#46039f\"], [0.2222222222222222, \"#7201a8\"], [0.3333333333333333, \"#9c179e\"], [0.4444444444444444, \"#bd3786\"], [0.5555555555555556, \"#d8576b\"], [0.6666666666666666, \"#ed7953\"], [0.7777777777777778, \"#fb9f3a\"], [0.8888888888888888, \"#fdca26\"], [1.0, \"#f0f921\"]], \"type\": \"surface\"}], \"table\": [{\"cells\": {\"fill\": {\"color\": \"#EBF0F8\"}, \"line\": {\"color\": \"white\"}}, \"header\": {\"fill\": {\"color\": \"#C8D4E3\"}, \"line\": {\"color\": \"white\"}}, \"type\": \"table\"}]}, \"layout\": {\"annotationdefaults\": {\"arrowcolor\": \"#2a3f5f\", \"arrowhead\": 0, \"arrowwidth\": 1}, \"coloraxis\": {\"colorbar\": {\"outlinewidth\": 0, \"ticks\": \"\"}}, \"colorscale\": {\"diverging\": [[0, \"#8e0152\"], [0.1, \"#c51b7d\"], [0.2, \"#de77ae\"], [0.3, \"#f1b6da\"], [0.4, \"#fde0ef\"], [0.5, \"#f7f7f7\"], [0.6, \"#e6f5d0\"], [0.7, \"#b8e186\"], [0.8, \"#7fbc41\"], [0.9, \"#4d9221\"], [1, \"#276419\"]], \"sequential\": [[0.0, \"#0d0887\"], [0.1111111111111111, \"#46039f\"], [0.2222222222222222, \"#7201a8\"], [0.3333333333333333, \"#9c179e\"], [0.4444444444444444, \"#bd3786\"], [0.5555555555555556, \"#d8576b\"], [0.6666666666666666, \"#ed7953\"], [0.7777777777777778, \"#fb9f3a\"], [0.8888888888888888, \"#fdca26\"], [1.0, \"#f0f921\"]], \"sequentialminus\": [[0.0, \"#0d0887\"], [0.1111111111111111, \"#46039f\"], [0.2222222222222222, \"#7201a8\"], [0.3333333333333333, \"#9c179e\"], [0.4444444444444444, \"#bd3786\"], [0.5555555555555556, \"#d8576b\"], [0.6666666666666666, \"#ed7953\"], [0.7777777777777778, \"#fb9f3a\"], [0.8888888888888888, \"#fdca26\"], [1.0, \"#f0f921\"]]}, \"colorway\": [\"#636efa\", \"#EF553B\", \"#00cc96\", \"#ab63fa\", \"#FFA15A\", \"#19d3f3\", \"#FF6692\", \"#B6E880\", \"#FF97FF\", \"#FECB52\"], \"font\": {\"color\": \"#2a3f5f\"}, \"geo\": {\"bgcolor\": \"white\", \"lakecolor\": \"white\", \"landcolor\": \"#E5ECF6\", \"showlakes\": true, \"showland\": true, \"subunitcolor\": \"white\"}, \"hoverlabel\": {\"align\": \"left\"}, \"hovermode\": \"closest\", \"mapbox\": {\"style\": \"light\"}, \"paper_bgcolor\": \"white\", \"plot_bgcolor\": \"#E5ECF6\", \"polar\": {\"angularaxis\": {\"gridcolor\": \"white\", \"linecolor\": \"white\", \"ticks\": \"\"}, \"bgcolor\": \"#E5ECF6\", \"radialaxis\": {\"gridcolor\": \"white\", \"linecolor\": \"white\", \"ticks\": \"\"}}, \"scene\": {\"xaxis\": {\"backgroundcolor\": \"#E5ECF6\", \"gridcolor\": \"white\", \"gridwidth\": 2, \"linecolor\": \"white\", \"showbackground\": true, \"ticks\": \"\", \"zerolinecolor\": \"white\"}, \"yaxis\": {\"backgroundcolor\": \"#E5ECF6\", \"gridcolor\": \"white\", \"gridwidth\": 2, \"linecolor\": \"white\", \"showbackground\": true, \"ticks\": \"\", \"zerolinecolor\": \"white\"}, \"zaxis\": {\"backgroundcolor\": \"#E5ECF6\", \"gridcolor\": \"white\", \"gridwidth\": 2, \"linecolor\": \"white\", \"showbackground\": true, \"ticks\": \"\", \"zerolinecolor\": \"white\"}}, \"shapedefaults\": {\"line\": {\"color\": \"#2a3f5f\"}}, \"ternary\": {\"aaxis\": {\"gridcolor\": \"white\", \"linecolor\": \"white\", \"ticks\": \"\"}, \"baxis\": {\"gridcolor\": \"white\", \"linecolor\": \"white\", \"ticks\": \"\"}, \"bgcolor\": \"#E5ECF6\", \"caxis\": {\"gridcolor\": \"white\", \"linecolor\": \"white\", \"ticks\": \"\"}}, \"title\": {\"x\": 0.05}, \"xaxis\": {\"automargin\": true, \"gridcolor\": \"white\", \"linecolor\": \"white\", \"ticks\": \"\", \"title\": {\"standoff\": 15}, \"zerolinecolor\": \"white\", \"zerolinewidth\": 2}, \"yaxis\": {\"automargin\": true, \"gridcolor\": \"white\", \"linecolor\": \"white\", \"ticks\": \"\", \"title\": {\"standoff\": 15}, \"zerolinecolor\": \"white\", \"zerolinewidth\": 2}}}, \"title\": {\"font\": {\"color\": \"#4D5663\"}}, \"xaxis\": {\"gridcolor\": \"#E1E5ED\", \"showgrid\": true, \"tickfont\": {\"color\": \"#4D5663\"}, \"title\": {\"font\": {\"color\": \"#4D5663\"}, \"text\": \"\"}, \"zerolinecolor\": \"#E1E5ED\"}, \"yaxis\": {\"gridcolor\": \"#E1E5ED\", \"showgrid\": true, \"tickfont\": {\"color\": \"#4D5663\"}, \"title\": {\"font\": {\"color\": \"#4D5663\"}, \"text\": \"\"}, \"zerolinecolor\": \"#E1E5ED\"}},\n",
       "                        {\"showLink\": true, \"linkText\": \"Export to plot.ly\", \"plotlyServerURL\": \"https://plot.ly\", \"responsive\": true}\n",
       "                    ).then(function(){\n",
       "                            \n",
       "var gd = document.getElementById('83f7232b-c5bf-4e84-82da-73d640045735');\n",
       "var x = new MutationObserver(function (mutations, observer) {{\n",
       "        var display = window.getComputedStyle(gd).display;\n",
       "        if (!display || display === 'none') {{\n",
       "            console.log([gd, 'removed!']);\n",
       "            Plotly.purge(gd);\n",
       "            observer.disconnect();\n",
       "        }}\n",
       "}});\n",
       "\n",
       "// Listen for the removal of the full notebook cells\n",
       "var notebookContainer = gd.closest('#notebook-container');\n",
       "if (notebookContainer) {{\n",
       "    x.observe(notebookContainer, {childList: true});\n",
       "}}\n",
       "\n",
       "// Listen for the clearing of the current output cell\n",
       "var outputEl = gd.closest('.output');\n",
       "if (outputEl) {{\n",
       "    x.observe(outputEl, {childList: true});\n",
       "}}\n",
       "\n",
       "                        })\n",
       "                };\n",
       "                });\n",
       "            </script>\n",
       "        </div>"
      ]
     },
     "metadata": {},
     "output_type": "display_data"
    }
   ],
   "source": [
    "df2.iplot(kind='bar',x='Category',y='Values')"
   ]
  },
  {
   "cell_type": "code",
   "execution_count": 12,
   "metadata": {
    "jupyter": {
     "outputs_hidden": false
    }
   },
   "outputs": [
    {
     "data": {
      "application/vnd.plotly.v1+json": {
       "config": {
        "linkText": "Export to plot.ly",
        "plotlyServerURL": "https://plot.ly",
        "showLink": true
       },
       "data": [
        {
         "marker": {
          "color": "rgba(255, 153, 51, 0.6)",
          "line": {
           "color": "rgba(255, 153, 51, 1.0)",
           "width": 1
          }
         },
         "name": "None",
         "orientation": "v",
         "text": "",
         "type": "bar",
         "x": [
          "A",
          "B",
          "C",
          "D"
         ],
         "y": [
          100,
          100,
          100,
          100
         ]
        }
       ],
       "layout": {
        "legend": {
         "bgcolor": "#F5F6F9",
         "font": {
          "color": "#4D5663"
         }
        },
        "paper_bgcolor": "#F5F6F9",
        "plot_bgcolor": "#F5F6F9",
        "template": {
         "data": {
          "bar": [
           {
            "error_x": {
             "color": "#2a3f5f"
            },
            "error_y": {
             "color": "#2a3f5f"
            },
            "marker": {
             "line": {
              "color": "#E5ECF6",
              "width": 0.5
             }
            },
            "type": "bar"
           }
          ],
          "barpolar": [
           {
            "marker": {
             "line": {
              "color": "#E5ECF6",
              "width": 0.5
             }
            },
            "type": "barpolar"
           }
          ],
          "carpet": [
           {
            "aaxis": {
             "endlinecolor": "#2a3f5f",
             "gridcolor": "white",
             "linecolor": "white",
             "minorgridcolor": "white",
             "startlinecolor": "#2a3f5f"
            },
            "baxis": {
             "endlinecolor": "#2a3f5f",
             "gridcolor": "white",
             "linecolor": "white",
             "minorgridcolor": "white",
             "startlinecolor": "#2a3f5f"
            },
            "type": "carpet"
           }
          ],
          "choropleth": [
           {
            "colorbar": {
             "outlinewidth": 0,
             "ticks": ""
            },
            "type": "choropleth"
           }
          ],
          "contour": [
           {
            "colorbar": {
             "outlinewidth": 0,
             "ticks": ""
            },
            "colorscale": [
             [
              0,
              "#0d0887"
             ],
             [
              0.1111111111111111,
              "#46039f"
             ],
             [
              0.2222222222222222,
              "#7201a8"
             ],
             [
              0.3333333333333333,
              "#9c179e"
             ],
             [
              0.4444444444444444,
              "#bd3786"
             ],
             [
              0.5555555555555556,
              "#d8576b"
             ],
             [
              0.6666666666666666,
              "#ed7953"
             ],
             [
              0.7777777777777778,
              "#fb9f3a"
             ],
             [
              0.8888888888888888,
              "#fdca26"
             ],
             [
              1,
              "#f0f921"
             ]
            ],
            "type": "contour"
           }
          ],
          "contourcarpet": [
           {
            "colorbar": {
             "outlinewidth": 0,
             "ticks": ""
            },
            "type": "contourcarpet"
           }
          ],
          "heatmap": [
           {
            "colorbar": {
             "outlinewidth": 0,
             "ticks": ""
            },
            "colorscale": [
             [
              0,
              "#0d0887"
             ],
             [
              0.1111111111111111,
              "#46039f"
             ],
             [
              0.2222222222222222,
              "#7201a8"
             ],
             [
              0.3333333333333333,
              "#9c179e"
             ],
             [
              0.4444444444444444,
              "#bd3786"
             ],
             [
              0.5555555555555556,
              "#d8576b"
             ],
             [
              0.6666666666666666,
              "#ed7953"
             ],
             [
              0.7777777777777778,
              "#fb9f3a"
             ],
             [
              0.8888888888888888,
              "#fdca26"
             ],
             [
              1,
              "#f0f921"
             ]
            ],
            "type": "heatmap"
           }
          ],
          "heatmapgl": [
           {
            "colorbar": {
             "outlinewidth": 0,
             "ticks": ""
            },
            "colorscale": [
             [
              0,
              "#0d0887"
             ],
             [
              0.1111111111111111,
              "#46039f"
             ],
             [
              0.2222222222222222,
              "#7201a8"
             ],
             [
              0.3333333333333333,
              "#9c179e"
             ],
             [
              0.4444444444444444,
              "#bd3786"
             ],
             [
              0.5555555555555556,
              "#d8576b"
             ],
             [
              0.6666666666666666,
              "#ed7953"
             ],
             [
              0.7777777777777778,
              "#fb9f3a"
             ],
             [
              0.8888888888888888,
              "#fdca26"
             ],
             [
              1,
              "#f0f921"
             ]
            ],
            "type": "heatmapgl"
           }
          ],
          "histogram": [
           {
            "marker": {
             "colorbar": {
              "outlinewidth": 0,
              "ticks": ""
             }
            },
            "type": "histogram"
           }
          ],
          "histogram2d": [
           {
            "colorbar": {
             "outlinewidth": 0,
             "ticks": ""
            },
            "colorscale": [
             [
              0,
              "#0d0887"
             ],
             [
              0.1111111111111111,
              "#46039f"
             ],
             [
              0.2222222222222222,
              "#7201a8"
             ],
             [
              0.3333333333333333,
              "#9c179e"
             ],
             [
              0.4444444444444444,
              "#bd3786"
             ],
             [
              0.5555555555555556,
              "#d8576b"
             ],
             [
              0.6666666666666666,
              "#ed7953"
             ],
             [
              0.7777777777777778,
              "#fb9f3a"
             ],
             [
              0.8888888888888888,
              "#fdca26"
             ],
             [
              1,
              "#f0f921"
             ]
            ],
            "type": "histogram2d"
           }
          ],
          "histogram2dcontour": [
           {
            "colorbar": {
             "outlinewidth": 0,
             "ticks": ""
            },
            "colorscale": [
             [
              0,
              "#0d0887"
             ],
             [
              0.1111111111111111,
              "#46039f"
             ],
             [
              0.2222222222222222,
              "#7201a8"
             ],
             [
              0.3333333333333333,
              "#9c179e"
             ],
             [
              0.4444444444444444,
              "#bd3786"
             ],
             [
              0.5555555555555556,
              "#d8576b"
             ],
             [
              0.6666666666666666,
              "#ed7953"
             ],
             [
              0.7777777777777778,
              "#fb9f3a"
             ],
             [
              0.8888888888888888,
              "#fdca26"
             ],
             [
              1,
              "#f0f921"
             ]
            ],
            "type": "histogram2dcontour"
           }
          ],
          "mesh3d": [
           {
            "colorbar": {
             "outlinewidth": 0,
             "ticks": ""
            },
            "type": "mesh3d"
           }
          ],
          "parcoords": [
           {
            "line": {
             "colorbar": {
              "outlinewidth": 0,
              "ticks": ""
             }
            },
            "type": "parcoords"
           }
          ],
          "pie": [
           {
            "automargin": true,
            "type": "pie"
           }
          ],
          "scatter": [
           {
            "marker": {
             "colorbar": {
              "outlinewidth": 0,
              "ticks": ""
             }
            },
            "type": "scatter"
           }
          ],
          "scatter3d": [
           {
            "line": {
             "colorbar": {
              "outlinewidth": 0,
              "ticks": ""
             }
            },
            "marker": {
             "colorbar": {
              "outlinewidth": 0,
              "ticks": ""
             }
            },
            "type": "scatter3d"
           }
          ],
          "scattercarpet": [
           {
            "marker": {
             "colorbar": {
              "outlinewidth": 0,
              "ticks": ""
             }
            },
            "type": "scattercarpet"
           }
          ],
          "scattergeo": [
           {
            "marker": {
             "colorbar": {
              "outlinewidth": 0,
              "ticks": ""
             }
            },
            "type": "scattergeo"
           }
          ],
          "scattergl": [
           {
            "marker": {
             "colorbar": {
              "outlinewidth": 0,
              "ticks": ""
             }
            },
            "type": "scattergl"
           }
          ],
          "scattermapbox": [
           {
            "marker": {
             "colorbar": {
              "outlinewidth": 0,
              "ticks": ""
             }
            },
            "type": "scattermapbox"
           }
          ],
          "scatterpolar": [
           {
            "marker": {
             "colorbar": {
              "outlinewidth": 0,
              "ticks": ""
             }
            },
            "type": "scatterpolar"
           }
          ],
          "scatterpolargl": [
           {
            "marker": {
             "colorbar": {
              "outlinewidth": 0,
              "ticks": ""
             }
            },
            "type": "scatterpolargl"
           }
          ],
          "scatterternary": [
           {
            "marker": {
             "colorbar": {
              "outlinewidth": 0,
              "ticks": ""
             }
            },
            "type": "scatterternary"
           }
          ],
          "surface": [
           {
            "colorbar": {
             "outlinewidth": 0,
             "ticks": ""
            },
            "colorscale": [
             [
              0,
              "#0d0887"
             ],
             [
              0.1111111111111111,
              "#46039f"
             ],
             [
              0.2222222222222222,
              "#7201a8"
             ],
             [
              0.3333333333333333,
              "#9c179e"
             ],
             [
              0.4444444444444444,
              "#bd3786"
             ],
             [
              0.5555555555555556,
              "#d8576b"
             ],
             [
              0.6666666666666666,
              "#ed7953"
             ],
             [
              0.7777777777777778,
              "#fb9f3a"
             ],
             [
              0.8888888888888888,
              "#fdca26"
             ],
             [
              1,
              "#f0f921"
             ]
            ],
            "type": "surface"
           }
          ],
          "table": [
           {
            "cells": {
             "fill": {
              "color": "#EBF0F8"
             },
             "line": {
              "color": "white"
             }
            },
            "header": {
             "fill": {
              "color": "#C8D4E3"
             },
             "line": {
              "color": "white"
             }
            },
            "type": "table"
           }
          ]
         },
         "layout": {
          "annotationdefaults": {
           "arrowcolor": "#2a3f5f",
           "arrowhead": 0,
           "arrowwidth": 1
          },
          "coloraxis": {
           "colorbar": {
            "outlinewidth": 0,
            "ticks": ""
           }
          },
          "colorscale": {
           "diverging": [
            [
             0,
             "#8e0152"
            ],
            [
             0.1,
             "#c51b7d"
            ],
            [
             0.2,
             "#de77ae"
            ],
            [
             0.3,
             "#f1b6da"
            ],
            [
             0.4,
             "#fde0ef"
            ],
            [
             0.5,
             "#f7f7f7"
            ],
            [
             0.6,
             "#e6f5d0"
            ],
            [
             0.7,
             "#b8e186"
            ],
            [
             0.8,
             "#7fbc41"
            ],
            [
             0.9,
             "#4d9221"
            ],
            [
             1,
             "#276419"
            ]
           ],
           "sequential": [
            [
             0,
             "#0d0887"
            ],
            [
             0.1111111111111111,
             "#46039f"
            ],
            [
             0.2222222222222222,
             "#7201a8"
            ],
            [
             0.3333333333333333,
             "#9c179e"
            ],
            [
             0.4444444444444444,
             "#bd3786"
            ],
            [
             0.5555555555555556,
             "#d8576b"
            ],
            [
             0.6666666666666666,
             "#ed7953"
            ],
            [
             0.7777777777777778,
             "#fb9f3a"
            ],
            [
             0.8888888888888888,
             "#fdca26"
            ],
            [
             1,
             "#f0f921"
            ]
           ],
           "sequentialminus": [
            [
             0,
             "#0d0887"
            ],
            [
             0.1111111111111111,
             "#46039f"
            ],
            [
             0.2222222222222222,
             "#7201a8"
            ],
            [
             0.3333333333333333,
             "#9c179e"
            ],
            [
             0.4444444444444444,
             "#bd3786"
            ],
            [
             0.5555555555555556,
             "#d8576b"
            ],
            [
             0.6666666666666666,
             "#ed7953"
            ],
            [
             0.7777777777777778,
             "#fb9f3a"
            ],
            [
             0.8888888888888888,
             "#fdca26"
            ],
            [
             1,
             "#f0f921"
            ]
           ]
          },
          "colorway": [
           "#636efa",
           "#EF553B",
           "#00cc96",
           "#ab63fa",
           "#FFA15A",
           "#19d3f3",
           "#FF6692",
           "#B6E880",
           "#FF97FF",
           "#FECB52"
          ],
          "font": {
           "color": "#2a3f5f"
          },
          "geo": {
           "bgcolor": "white",
           "lakecolor": "white",
           "landcolor": "#E5ECF6",
           "showlakes": true,
           "showland": true,
           "subunitcolor": "white"
          },
          "hoverlabel": {
           "align": "left"
          },
          "hovermode": "closest",
          "mapbox": {
           "style": "light"
          },
          "paper_bgcolor": "white",
          "plot_bgcolor": "#E5ECF6",
          "polar": {
           "angularaxis": {
            "gridcolor": "white",
            "linecolor": "white",
            "ticks": ""
           },
           "bgcolor": "#E5ECF6",
           "radialaxis": {
            "gridcolor": "white",
            "linecolor": "white",
            "ticks": ""
           }
          },
          "scene": {
           "xaxis": {
            "backgroundcolor": "#E5ECF6",
            "gridcolor": "white",
            "gridwidth": 2,
            "linecolor": "white",
            "showbackground": true,
            "ticks": "",
            "zerolinecolor": "white"
           },
           "yaxis": {
            "backgroundcolor": "#E5ECF6",
            "gridcolor": "white",
            "gridwidth": 2,
            "linecolor": "white",
            "showbackground": true,
            "ticks": "",
            "zerolinecolor": "white"
           },
           "zaxis": {
            "backgroundcolor": "#E5ECF6",
            "gridcolor": "white",
            "gridwidth": 2,
            "linecolor": "white",
            "showbackground": true,
            "ticks": "",
            "zerolinecolor": "white"
           }
          },
          "shapedefaults": {
           "line": {
            "color": "#2a3f5f"
           }
          },
          "ternary": {
           "aaxis": {
            "gridcolor": "white",
            "linecolor": "white",
            "ticks": ""
           },
           "baxis": {
            "gridcolor": "white",
            "linecolor": "white",
            "ticks": ""
           },
           "bgcolor": "#E5ECF6",
           "caxis": {
            "gridcolor": "white",
            "linecolor": "white",
            "ticks": ""
           }
          },
          "title": {
           "x": 0.05
          },
          "xaxis": {
           "automargin": true,
           "gridcolor": "white",
           "linecolor": "white",
           "ticks": "",
           "title": {
            "standoff": 15
           },
           "zerolinecolor": "white",
           "zerolinewidth": 2
          },
          "yaxis": {
           "automargin": true,
           "gridcolor": "white",
           "linecolor": "white",
           "ticks": "",
           "title": {
            "standoff": 15
           },
           "zerolinecolor": "white",
           "zerolinewidth": 2
          }
         }
        },
        "title": {
         "font": {
          "color": "#4D5663"
         }
        },
        "xaxis": {
         "gridcolor": "#E1E5ED",
         "showgrid": true,
         "tickfont": {
          "color": "#4D5663"
         },
         "title": {
          "font": {
           "color": "#4D5663"
          },
          "text": ""
         },
         "zerolinecolor": "#E1E5ED"
        },
        "yaxis": {
         "gridcolor": "#E1E5ED",
         "showgrid": true,
         "tickfont": {
          "color": "#4D5663"
         },
         "title": {
          "font": {
           "color": "#4D5663"
          },
          "text": ""
         },
         "zerolinecolor": "#E1E5ED"
        }
       }
      },
      "text/html": [
       "<div>\n",
       "        \n",
       "        \n",
       "            <div id=\"4a7303c9-0d2c-425b-935c-d07af8d1d691\" class=\"plotly-graph-div\" style=\"height:525px; width:100%;\"></div>\n",
       "            <script type=\"text/javascript\">\n",
       "                require([\"plotly\"], function(Plotly) {\n",
       "                    window.PLOTLYENV=window.PLOTLYENV || {};\n",
       "                    window.PLOTLYENV.BASE_URL='https://plot.ly';\n",
       "                    \n",
       "                if (document.getElementById(\"4a7303c9-0d2c-425b-935c-d07af8d1d691\")) {\n",
       "                    Plotly.newPlot(\n",
       "                        '4a7303c9-0d2c-425b-935c-d07af8d1d691',\n",
       "                        [{\"marker\": {\"color\": \"rgba(255, 153, 51, 0.6)\", \"line\": {\"color\": \"rgba(255, 153, 51, 1.0)\", \"width\": 1}}, \"name\": \"None\", \"orientation\": \"v\", \"text\": \"\", \"type\": \"bar\", \"x\": [\"A\", \"B\", \"C\", \"D\"], \"y\": [100, 100, 100, 100]}],\n",
       "                        {\"legend\": {\"bgcolor\": \"#F5F6F9\", \"font\": {\"color\": \"#4D5663\"}}, \"paper_bgcolor\": \"#F5F6F9\", \"plot_bgcolor\": \"#F5F6F9\", \"template\": {\"data\": {\"bar\": [{\"error_x\": {\"color\": \"#2a3f5f\"}, \"error_y\": {\"color\": \"#2a3f5f\"}, \"marker\": {\"line\": {\"color\": \"#E5ECF6\", \"width\": 0.5}}, \"type\": \"bar\"}], \"barpolar\": [{\"marker\": {\"line\": {\"color\": \"#E5ECF6\", \"width\": 0.5}}, \"type\": \"barpolar\"}], \"carpet\": [{\"aaxis\": {\"endlinecolor\": \"#2a3f5f\", \"gridcolor\": \"white\", \"linecolor\": \"white\", \"minorgridcolor\": \"white\", \"startlinecolor\": \"#2a3f5f\"}, \"baxis\": {\"endlinecolor\": \"#2a3f5f\", \"gridcolor\": \"white\", \"linecolor\": \"white\", \"minorgridcolor\": \"white\", \"startlinecolor\": \"#2a3f5f\"}, \"type\": \"carpet\"}], \"choropleth\": [{\"colorbar\": {\"outlinewidth\": 0, \"ticks\": \"\"}, \"type\": \"choropleth\"}], \"contour\": [{\"colorbar\": {\"outlinewidth\": 0, \"ticks\": \"\"}, \"colorscale\": [[0.0, \"#0d0887\"], [0.1111111111111111, \"#46039f\"], [0.2222222222222222, \"#7201a8\"], [0.3333333333333333, \"#9c179e\"], [0.4444444444444444, \"#bd3786\"], [0.5555555555555556, \"#d8576b\"], [0.6666666666666666, \"#ed7953\"], [0.7777777777777778, \"#fb9f3a\"], [0.8888888888888888, \"#fdca26\"], [1.0, \"#f0f921\"]], \"type\": \"contour\"}], \"contourcarpet\": [{\"colorbar\": {\"outlinewidth\": 0, \"ticks\": \"\"}, \"type\": \"contourcarpet\"}], \"heatmap\": [{\"colorbar\": {\"outlinewidth\": 0, \"ticks\": \"\"}, \"colorscale\": [[0.0, \"#0d0887\"], [0.1111111111111111, \"#46039f\"], [0.2222222222222222, \"#7201a8\"], [0.3333333333333333, \"#9c179e\"], [0.4444444444444444, \"#bd3786\"], [0.5555555555555556, \"#d8576b\"], [0.6666666666666666, \"#ed7953\"], [0.7777777777777778, \"#fb9f3a\"], [0.8888888888888888, \"#fdca26\"], [1.0, \"#f0f921\"]], \"type\": \"heatmap\"}], \"heatmapgl\": [{\"colorbar\": {\"outlinewidth\": 0, \"ticks\": \"\"}, \"colorscale\": [[0.0, \"#0d0887\"], [0.1111111111111111, \"#46039f\"], [0.2222222222222222, \"#7201a8\"], [0.3333333333333333, \"#9c179e\"], [0.4444444444444444, \"#bd3786\"], [0.5555555555555556, \"#d8576b\"], [0.6666666666666666, \"#ed7953\"], [0.7777777777777778, \"#fb9f3a\"], [0.8888888888888888, \"#fdca26\"], [1.0, \"#f0f921\"]], \"type\": \"heatmapgl\"}], \"histogram\": [{\"marker\": {\"colorbar\": {\"outlinewidth\": 0, \"ticks\": \"\"}}, \"type\": \"histogram\"}], \"histogram2d\": [{\"colorbar\": {\"outlinewidth\": 0, \"ticks\": \"\"}, \"colorscale\": [[0.0, \"#0d0887\"], [0.1111111111111111, \"#46039f\"], [0.2222222222222222, \"#7201a8\"], [0.3333333333333333, \"#9c179e\"], [0.4444444444444444, \"#bd3786\"], [0.5555555555555556, \"#d8576b\"], [0.6666666666666666, \"#ed7953\"], [0.7777777777777778, \"#fb9f3a\"], [0.8888888888888888, \"#fdca26\"], [1.0, \"#f0f921\"]], \"type\": \"histogram2d\"}], \"histogram2dcontour\": [{\"colorbar\": {\"outlinewidth\": 0, \"ticks\": \"\"}, \"colorscale\": [[0.0, \"#0d0887\"], [0.1111111111111111, \"#46039f\"], [0.2222222222222222, \"#7201a8\"], [0.3333333333333333, \"#9c179e\"], [0.4444444444444444, \"#bd3786\"], [0.5555555555555556, \"#d8576b\"], [0.6666666666666666, \"#ed7953\"], [0.7777777777777778, \"#fb9f3a\"], [0.8888888888888888, \"#fdca26\"], [1.0, \"#f0f921\"]], \"type\": \"histogram2dcontour\"}], \"mesh3d\": [{\"colorbar\": {\"outlinewidth\": 0, \"ticks\": \"\"}, \"type\": \"mesh3d\"}], \"parcoords\": [{\"line\": {\"colorbar\": {\"outlinewidth\": 0, \"ticks\": \"\"}}, \"type\": \"parcoords\"}], \"pie\": [{\"automargin\": true, \"type\": \"pie\"}], \"scatter\": [{\"marker\": {\"colorbar\": {\"outlinewidth\": 0, \"ticks\": \"\"}}, \"type\": \"scatter\"}], \"scatter3d\": [{\"line\": {\"colorbar\": {\"outlinewidth\": 0, \"ticks\": \"\"}}, \"marker\": {\"colorbar\": {\"outlinewidth\": 0, \"ticks\": \"\"}}, \"type\": \"scatter3d\"}], \"scattercarpet\": [{\"marker\": {\"colorbar\": {\"outlinewidth\": 0, \"ticks\": \"\"}}, \"type\": \"scattercarpet\"}], \"scattergeo\": [{\"marker\": {\"colorbar\": {\"outlinewidth\": 0, \"ticks\": \"\"}}, \"type\": \"scattergeo\"}], \"scattergl\": [{\"marker\": {\"colorbar\": {\"outlinewidth\": 0, \"ticks\": \"\"}}, \"type\": \"scattergl\"}], \"scattermapbox\": [{\"marker\": {\"colorbar\": {\"outlinewidth\": 0, \"ticks\": \"\"}}, \"type\": \"scattermapbox\"}], \"scatterpolar\": [{\"marker\": {\"colorbar\": {\"outlinewidth\": 0, \"ticks\": \"\"}}, \"type\": \"scatterpolar\"}], \"scatterpolargl\": [{\"marker\": {\"colorbar\": {\"outlinewidth\": 0, \"ticks\": \"\"}}, \"type\": \"scatterpolargl\"}], \"scatterternary\": [{\"marker\": {\"colorbar\": {\"outlinewidth\": 0, \"ticks\": \"\"}}, \"type\": \"scatterternary\"}], \"surface\": [{\"colorbar\": {\"outlinewidth\": 0, \"ticks\": \"\"}, \"colorscale\": [[0.0, \"#0d0887\"], [0.1111111111111111, \"#46039f\"], [0.2222222222222222, \"#7201a8\"], [0.3333333333333333, \"#9c179e\"], [0.4444444444444444, \"#bd3786\"], [0.5555555555555556, \"#d8576b\"], [0.6666666666666666, \"#ed7953\"], [0.7777777777777778, \"#fb9f3a\"], [0.8888888888888888, \"#fdca26\"], [1.0, \"#f0f921\"]], \"type\": \"surface\"}], \"table\": [{\"cells\": {\"fill\": {\"color\": \"#EBF0F8\"}, \"line\": {\"color\": \"white\"}}, \"header\": {\"fill\": {\"color\": \"#C8D4E3\"}, \"line\": {\"color\": \"white\"}}, \"type\": \"table\"}]}, \"layout\": {\"annotationdefaults\": {\"arrowcolor\": \"#2a3f5f\", \"arrowhead\": 0, \"arrowwidth\": 1}, \"coloraxis\": {\"colorbar\": {\"outlinewidth\": 0, \"ticks\": \"\"}}, \"colorscale\": {\"diverging\": [[0, \"#8e0152\"], [0.1, \"#c51b7d\"], [0.2, \"#de77ae\"], [0.3, \"#f1b6da\"], [0.4, \"#fde0ef\"], [0.5, \"#f7f7f7\"], [0.6, \"#e6f5d0\"], [0.7, \"#b8e186\"], [0.8, \"#7fbc41\"], [0.9, \"#4d9221\"], [1, \"#276419\"]], \"sequential\": [[0.0, \"#0d0887\"], [0.1111111111111111, \"#46039f\"], [0.2222222222222222, \"#7201a8\"], [0.3333333333333333, \"#9c179e\"], [0.4444444444444444, \"#bd3786\"], [0.5555555555555556, \"#d8576b\"], [0.6666666666666666, \"#ed7953\"], [0.7777777777777778, \"#fb9f3a\"], [0.8888888888888888, \"#fdca26\"], [1.0, \"#f0f921\"]], \"sequentialminus\": [[0.0, \"#0d0887\"], [0.1111111111111111, \"#46039f\"], [0.2222222222222222, \"#7201a8\"], [0.3333333333333333, \"#9c179e\"], [0.4444444444444444, \"#bd3786\"], [0.5555555555555556, \"#d8576b\"], [0.6666666666666666, \"#ed7953\"], [0.7777777777777778, \"#fb9f3a\"], [0.8888888888888888, \"#fdca26\"], [1.0, \"#f0f921\"]]}, \"colorway\": [\"#636efa\", \"#EF553B\", \"#00cc96\", \"#ab63fa\", \"#FFA15A\", \"#19d3f3\", \"#FF6692\", \"#B6E880\", \"#FF97FF\", \"#FECB52\"], \"font\": {\"color\": \"#2a3f5f\"}, \"geo\": {\"bgcolor\": \"white\", \"lakecolor\": \"white\", \"landcolor\": \"#E5ECF6\", \"showlakes\": true, \"showland\": true, \"subunitcolor\": \"white\"}, \"hoverlabel\": {\"align\": \"left\"}, \"hovermode\": \"closest\", \"mapbox\": {\"style\": \"light\"}, \"paper_bgcolor\": \"white\", \"plot_bgcolor\": \"#E5ECF6\", \"polar\": {\"angularaxis\": {\"gridcolor\": \"white\", \"linecolor\": \"white\", \"ticks\": \"\"}, \"bgcolor\": \"#E5ECF6\", \"radialaxis\": {\"gridcolor\": \"white\", \"linecolor\": \"white\", \"ticks\": \"\"}}, \"scene\": {\"xaxis\": {\"backgroundcolor\": \"#E5ECF6\", \"gridcolor\": \"white\", \"gridwidth\": 2, \"linecolor\": \"white\", \"showbackground\": true, \"ticks\": \"\", \"zerolinecolor\": \"white\"}, \"yaxis\": {\"backgroundcolor\": \"#E5ECF6\", \"gridcolor\": \"white\", \"gridwidth\": 2, \"linecolor\": \"white\", \"showbackground\": true, \"ticks\": \"\", \"zerolinecolor\": \"white\"}, \"zaxis\": {\"backgroundcolor\": \"#E5ECF6\", \"gridcolor\": \"white\", \"gridwidth\": 2, \"linecolor\": \"white\", \"showbackground\": true, \"ticks\": \"\", \"zerolinecolor\": \"white\"}}, \"shapedefaults\": {\"line\": {\"color\": \"#2a3f5f\"}}, \"ternary\": {\"aaxis\": {\"gridcolor\": \"white\", \"linecolor\": \"white\", \"ticks\": \"\"}, \"baxis\": {\"gridcolor\": \"white\", \"linecolor\": \"white\", \"ticks\": \"\"}, \"bgcolor\": \"#E5ECF6\", \"caxis\": {\"gridcolor\": \"white\", \"linecolor\": \"white\", \"ticks\": \"\"}}, \"title\": {\"x\": 0.05}, \"xaxis\": {\"automargin\": true, \"gridcolor\": \"white\", \"linecolor\": \"white\", \"ticks\": \"\", \"title\": {\"standoff\": 15}, \"zerolinecolor\": \"white\", \"zerolinewidth\": 2}, \"yaxis\": {\"automargin\": true, \"gridcolor\": \"white\", \"linecolor\": \"white\", \"ticks\": \"\", \"title\": {\"standoff\": 15}, \"zerolinecolor\": \"white\", \"zerolinewidth\": 2}}}, \"title\": {\"font\": {\"color\": \"#4D5663\"}}, \"xaxis\": {\"gridcolor\": \"#E1E5ED\", \"showgrid\": true, \"tickfont\": {\"color\": \"#4D5663\"}, \"title\": {\"font\": {\"color\": \"#4D5663\"}, \"text\": \"\"}, \"zerolinecolor\": \"#E1E5ED\"}, \"yaxis\": {\"gridcolor\": \"#E1E5ED\", \"showgrid\": true, \"tickfont\": {\"color\": \"#4D5663\"}, \"title\": {\"font\": {\"color\": \"#4D5663\"}, \"text\": \"\"}, \"zerolinecolor\": \"#E1E5ED\"}},\n",
       "                        {\"showLink\": true, \"linkText\": \"Export to plot.ly\", \"plotlyServerURL\": \"https://plot.ly\", \"responsive\": true}\n",
       "                    ).then(function(){\n",
       "                            \n",
       "var gd = document.getElementById('4a7303c9-0d2c-425b-935c-d07af8d1d691');\n",
       "var x = new MutationObserver(function (mutations, observer) {{\n",
       "        var display = window.getComputedStyle(gd).display;\n",
       "        if (!display || display === 'none') {{\n",
       "            console.log([gd, 'removed!']);\n",
       "            Plotly.purge(gd);\n",
       "            observer.disconnect();\n",
       "        }}\n",
       "}});\n",
       "\n",
       "// Listen for the removal of the full notebook cells\n",
       "var notebookContainer = gd.closest('#notebook-container');\n",
       "if (notebookContainer) {{\n",
       "    x.observe(notebookContainer, {childList: true});\n",
       "}}\n",
       "\n",
       "// Listen for the clearing of the current output cell\n",
       "var outputEl = gd.closest('.output');\n",
       "if (outputEl) {{\n",
       "    x.observe(outputEl, {childList: true});\n",
       "}}\n",
       "\n",
       "                        })\n",
       "                };\n",
       "                });\n",
       "            </script>\n",
       "        </div>"
      ]
     },
     "metadata": {},
     "output_type": "display_data"
    }
   ],
   "source": [
    "df.count().iplot(kind='bar')"
   ]
  },
  {
   "cell_type": "markdown",
   "metadata": {},
   "source": [
    "## Boxplots"
   ]
  },
  {
   "cell_type": "code",
   "execution_count": 13,
   "metadata": {
    "jupyter": {
     "outputs_hidden": false
    }
   },
   "outputs": [
    {
     "data": {
      "application/vnd.plotly.v1+json": {
       "config": {
        "linkText": "Export to plot.ly",
        "plotlyServerURL": "https://plot.ly",
        "showLink": true
       },
       "data": [
        {
         "boxpoints": false,
         "line": {
          "width": 1.3
         },
         "marker": {
          "color": "rgba(255, 153, 51, 1.0)"
         },
         "name": "A",
         "orientation": "v",
         "type": "box",
         "y": [
          1.940291908011102,
          -0.43602033128621526,
          -0.48460214045660277,
          -1.0240471641424937,
          0.07834813558886017,
          -0.03664652387595461,
          -0.3129739035091516,
          -2.334547594397871,
          1.8228858929130831,
          1.5711886392255132,
          -2.364881578802697,
          1.4616947574353703,
          -0.4987309829110831,
          1.5617852729463797,
          0.27096936324438226,
          -0.6303478616043724,
          -1.5081522475000202,
          1.7029399159062886,
          -0.5595680928927093,
          -1.2503555447771197,
          0.8046047778907405,
          -0.8662211973605952,
          0.5836035330903515,
          -1.6882300309849554,
          0.5249023960622097,
          0.8738634367385915,
          -0.7011217630000545,
          -0.11281811880033381,
          1.9132226852451233,
          0.21515592223039476,
          -1.5250854327856227,
          -0.1590202944556442,
          -0.4527591510178096,
          -1.1110076710922145,
          -0.9041890618466469,
          -1.05375893360304,
          0.45947755704608234,
          0.4151947410799361,
          -1.4538365237286752,
          -0.5787259904446689,
          1.0876123636309982,
          -0.256605975290541,
          0.13329166285795085,
          -0.9077772592137843,
          0.03249663834892144,
          1.0142902752121234,
          -0.3344369309963581,
          -0.09121153691247674,
          -0.40669721394299546,
          0.02744157623740808,
          -1.5452805971626824,
          -1.3511169562269885,
          0.01158109319398306,
          -0.9149503343075752,
          -1.1025417006876994,
          -0.5048494637049264,
          -0.2567919047639987,
          0.01093619218693575,
          -0.1356930776970061,
          0.10026165369166105,
          1.1717276766409668,
          -0.6434971360362067,
          0.34067344818628176,
          0.8863816354805312,
          -0.10132359942293251,
          0.07605559055080867,
          -0.6913446582930974,
          -1.2920514173129505,
          -1.3009741161906287,
          1.2876633447677763,
          -1.4445628899407343,
          0.259865688457576,
          1.8478838525077084,
          -0.41108510928550895,
          0.2893624467427053,
          0.748614342294359,
          0.9263547679541281,
          0.635161754847521,
          0.28256247565135617,
          1.5126383882427301,
          -0.7632724161850403,
          -0.2983928325770369,
          0.37300270064839636,
          1.0871880926061648,
          2.6572202224944146,
          -1.9722183777917304,
          0.18564568416487742,
          -0.9814354534461059,
          -0.5474587763161223,
          0.03598568118577001,
          -0.23166847854919972,
          -1.1346148101716846,
          -0.9036756738680616,
          -0.0404909774929333,
          -0.7164950094764136,
          -0.06435143860746836,
          -0.07591268221618847,
          -0.5296157564584758,
          0.2931309732891985,
          -0.1006868486366963
         ]
        },
        {
         "boxpoints": false,
         "line": {
          "width": 1.3
         },
         "marker": {
          "color": "rgba(55, 128, 191, 1.0)"
         },
         "name": "B",
         "orientation": "v",
         "type": "box",
         "y": [
          -0.42790688434940893,
          1.1023212831129967,
          1.1887901480514325,
          1.0732111845425714,
          -0.36657365759249483,
          -0.5656473349592283,
          -0.052425381012257515,
          1.1967973487129693,
          -1.9204162179742734,
          0.49499173286988396,
          0.03177713886948559,
          2.0395208180242643,
          -0.43859191833447764,
          1.4803364226090499,
          0.12666444902249152,
          -1.649742282114302,
          0.5870377856553117,
          2.2710802059818387,
          -0.30189613702080215,
          -0.7473224975631962,
          -1.900915231301534,
          -0.3708915752256786,
          -0.6999856013421171,
          -2.0196320119393696,
          0.21564852508540636,
          -0.33120503933020584,
          -0.41383604470641094,
          -0.47804860178887726,
          -0.7092972940284749,
          0.5778318584490235,
          -0.4101017143331438,
          -0.5352139410516578,
          -0.7862257663300574,
          0.6939896876836772,
          0.5326883503544092,
          1.5131372743263152,
          0.4166429553616738,
          0.2528413795800169,
          -0.855163816308513,
          -0.14730575159544035,
          0.28800779576442737,
          -1.4143330241262138,
          -0.1499239941006353,
          1.007051705598499,
          0.7490749925322414,
          -1.426002197503157,
          -1.279040263458639,
          -2.154585408397387,
          0.9533137961235957,
          -1.175672610090137,
          1.4978861553591707,
          1.4435405003817126,
          0.16563658417772678,
          -0.6623006604152534,
          -0.49891553469198524,
          1.9747739497342782,
          0.10501534948661304,
          0.14056313980420468,
          -2.002254240703674,
          0.7190327472356344,
          -0.881783930208081,
          0.25366385499380195,
          -0.5874379416344943,
          -1.6289419914202181,
          0.8301884314766689,
          0.7747392373953594,
          -0.6875231198482459,
          0.12024538466383536,
          1.3670594450102325,
          0.5827452306838281,
          -0.530278447900754,
          0.05614891806237901,
          0.7790080419810892,
          1.446161850152793,
          0.1404383743784033,
          -1.276468775850176,
          -1.2232777640277335,
          -1.0818283123154933,
          1.2036621750038603,
          0.10999185836379068,
          -1.1292034967068854,
          -1.4838806863523342,
          0.7118756638641246,
          -0.5259681147027214,
          0.3274831050418921,
          -0.8385036986314343,
          -0.1876452907738252,
          -0.48443317356575794,
          -0.06461280053411844,
          -1.1236064929290808,
          0.8555082423265195,
          1.3065424209543985,
          0.07851453225301613,
          0.4895930528339927,
          0.28602019675591833,
          -0.9257653387478679,
          0.02203108690296603,
          -0.5784050702216772,
          0.5342364290101148,
          0.07580009014358847
         ]
        },
        {
         "boxpoints": false,
         "line": {
          "width": 1.3
         },
         "marker": {
          "color": "rgba(50, 171, 96, 1.0)"
         },
         "name": "C",
         "orientation": "v",
         "type": "box",
         "y": [
          0.4013694609466367,
          0.47918402807881155,
          -0.42016852086149753,
          1.5337189926126906,
          1.3692304382751603,
          -0.3168641694521636,
          2.692429089468827,
          -0.6652237765776419,
          1.4443366018163644,
          -0.6514708194267461,
          1.45256913444164,
          0.023667405688731085,
          0.953494686532997,
          0.6841691448345603,
          1.457020988275902,
          -1.3221074877330492,
          -0.5568555380425787,
          -0.8338105899157492,
          -1.273316700006224,
          2.1310179421500757,
          -0.790810333337568,
          -0.6147579795903965,
          0.4863445340914847,
          -1.3868066791554745,
          1.0260345270013729,
          -0.0027815353979401256,
          -0.49918215638661734,
          0.0038705357634394185,
          0.7141127100951283,
          -0.5986985110230264,
          0.7421629754860158,
          0.4364953891662601,
          1.477689611629932,
          -0.823104905283714,
          -0.7279646980891549,
          0.7139429087481839,
          -1.433892260560694,
          -0.2852460426280975,
          -0.29322710064580976,
          0.2648298911530672,
          -0.8344790095451745,
          -0.6257954442101381,
          -0.8979270742708928,
          -1.0627054958827784,
          0.14682007448296913,
          0.3369887765375471,
          0.9010835351649243,
          0.13666041907777177,
          -0.8585298051678452,
          1.3697422241654644,
          1.0680204614831375,
          -1.5531807082563662,
          1.1143656673797777,
          0.2652399971862241,
          -0.11323452807453596,
          0.5351022895127286,
          -0.6359446982698095,
          -0.9700437730501994,
          1.2159581898575078,
          0.1313959814287452,
          1.531513094989766,
          -0.4294253647798791,
          -0.8233822177687363,
          0.8268188128873591,
          0.07757679838976207,
          0.7543081593642519,
          0.9067799533272407,
          1.1551702177814234,
          -1.0918330003663343,
          -1.0415833666768308,
          2.3868791906968725,
          -0.4460471077300906,
          0.9335229422900791,
          -2.0147781854982334,
          0.07518616784451551,
          0.6130296924816733,
          -0.6191733399077277,
          -1.1108889862270899,
          1.0502540811913292,
          0.9419672506611048,
          -0.3229204045492647,
          -0.15118050576790337,
          1.87169656007912,
          -0.5935431095998885,
          -0.612748189828855,
          -0.8457209641384387,
          1.0241174971534497,
          0.1825103841436704,
          0.46711500740492334,
          0.35750506885609434,
          0.03665200766281884,
          -0.4628535307444767,
          -0.09591576139526112,
          1.0693530820311394,
          1.1477702354954502,
          -0.22770298244346562,
          -0.8069211019531929,
          -0.28549790959366456,
          -1.2310405363296488,
          0.13029019673645767
         ]
        },
        {
         "boxpoints": false,
         "line": {
          "width": 1.3
         },
         "marker": {
          "color": "rgba(128, 0, 128, 1.0)"
         },
         "name": "D",
         "orientation": "v",
         "type": "box",
         "y": [
          -0.7203762912595594,
          -1.6050089831119205,
          3.007762996295736,
          0.1733995978267144,
          0.2504646108312079,
          -0.07130292333757249,
          -0.3550444916446761,
          -0.9000545911117473,
          0.3250395493676486,
          -0.3976028525195338,
          -0.843406131024096,
          1.0809587540023515,
          1.1678004312633128,
          -0.0493650327231605,
          -0.09207617219955272,
          1.26651488109588,
          -0.41539895178365305,
          1.5481858903886139,
          -1.701828256459534,
          0.40381342663461345,
          1.1302664422386104,
          0.7696868674361801,
          1.40355248058713,
          0.8483601170109333,
          -0.7920806453711708,
          -0.08348691490384501,
          0.21518816306210514,
          1.6122209167752783,
          0.7637133361772442,
          -0.5641857474393002,
          0.15987423176818513,
          0.5304508625131966,
          -0.4667921723851996,
          -0.022061316959858874,
          -0.9100857813466896,
          -0.9242559515150672,
          -0.372818248607995,
          1.325603529635037,
          0.8575063466509635,
          0.36643935671150507,
          -1.3461851756109922,
          0.9980013915690534,
          0.6692254966922532,
          -1.2212442484388222,
          -1.8812972718926764,
          1.9180318585597222,
          -1.3776993606827088,
          0.8548976802386279,
          1.9758395506859114,
          -0.9690094140539778,
          1.0201402369292452,
          -0.07815768961091717,
          0.6741049041804277,
          0.7661815240719574,
          -0.6164371057442412,
          0.08863255880530042,
          1.7779922543607076,
          0.31825462054177894,
          -0.09873914042333422,
          0.19360654491978155,
          -0.204012527431161,
          0.1461476076760226,
          -0.24299670570853538,
          0.5483020249916255,
          -0.5149665212599834,
          -0.6860956795972244,
          0.3175799790618004,
          0.5398715147459157,
          0.08388696203953451,
          0.40689649801470273,
          -2.0843800588334913,
          -1.0847863223719147,
          0.11031111563988295,
          0.7516182882774625,
          0.6368272464532464,
          -1.4554386348105055,
          -0.7366387640992695,
          -0.7495234920610955,
          -0.7980672470637358,
          -0.1926295926019785,
          -0.09414185211424955,
          1.0299763429324347,
          0.8000816201238704,
          0.11939010004759178,
          -0.43753599226913814,
          -0.7326535395151343,
          -1.422964340599728,
          0.21669205016497914,
          -0.1277208527681951,
          -0.7010962368833163,
          0.9425570075717837,
          -1.261296669024147,
          1.2154295835099995,
          0.5874723176947764,
          -0.29039099909376886,
          -1.2206280708578845,
          -0.543946901517839,
          -0.4060673045471729,
          0.42940524362239696,
          0.8943986601433543
         ]
        }
       ],
       "layout": {
        "legend": {
         "bgcolor": "#F5F6F9",
         "font": {
          "color": "#4D5663"
         }
        },
        "paper_bgcolor": "#F5F6F9",
        "plot_bgcolor": "#F5F6F9",
        "template": {
         "data": {
          "bar": [
           {
            "error_x": {
             "color": "#2a3f5f"
            },
            "error_y": {
             "color": "#2a3f5f"
            },
            "marker": {
             "line": {
              "color": "#E5ECF6",
              "width": 0.5
             }
            },
            "type": "bar"
           }
          ],
          "barpolar": [
           {
            "marker": {
             "line": {
              "color": "#E5ECF6",
              "width": 0.5
             }
            },
            "type": "barpolar"
           }
          ],
          "carpet": [
           {
            "aaxis": {
             "endlinecolor": "#2a3f5f",
             "gridcolor": "white",
             "linecolor": "white",
             "minorgridcolor": "white",
             "startlinecolor": "#2a3f5f"
            },
            "baxis": {
             "endlinecolor": "#2a3f5f",
             "gridcolor": "white",
             "linecolor": "white",
             "minorgridcolor": "white",
             "startlinecolor": "#2a3f5f"
            },
            "type": "carpet"
           }
          ],
          "choropleth": [
           {
            "colorbar": {
             "outlinewidth": 0,
             "ticks": ""
            },
            "type": "choropleth"
           }
          ],
          "contour": [
           {
            "colorbar": {
             "outlinewidth": 0,
             "ticks": ""
            },
            "colorscale": [
             [
              0,
              "#0d0887"
             ],
             [
              0.1111111111111111,
              "#46039f"
             ],
             [
              0.2222222222222222,
              "#7201a8"
             ],
             [
              0.3333333333333333,
              "#9c179e"
             ],
             [
              0.4444444444444444,
              "#bd3786"
             ],
             [
              0.5555555555555556,
              "#d8576b"
             ],
             [
              0.6666666666666666,
              "#ed7953"
             ],
             [
              0.7777777777777778,
              "#fb9f3a"
             ],
             [
              0.8888888888888888,
              "#fdca26"
             ],
             [
              1,
              "#f0f921"
             ]
            ],
            "type": "contour"
           }
          ],
          "contourcarpet": [
           {
            "colorbar": {
             "outlinewidth": 0,
             "ticks": ""
            },
            "type": "contourcarpet"
           }
          ],
          "heatmap": [
           {
            "colorbar": {
             "outlinewidth": 0,
             "ticks": ""
            },
            "colorscale": [
             [
              0,
              "#0d0887"
             ],
             [
              0.1111111111111111,
              "#46039f"
             ],
             [
              0.2222222222222222,
              "#7201a8"
             ],
             [
              0.3333333333333333,
              "#9c179e"
             ],
             [
              0.4444444444444444,
              "#bd3786"
             ],
             [
              0.5555555555555556,
              "#d8576b"
             ],
             [
              0.6666666666666666,
              "#ed7953"
             ],
             [
              0.7777777777777778,
              "#fb9f3a"
             ],
             [
              0.8888888888888888,
              "#fdca26"
             ],
             [
              1,
              "#f0f921"
             ]
            ],
            "type": "heatmap"
           }
          ],
          "heatmapgl": [
           {
            "colorbar": {
             "outlinewidth": 0,
             "ticks": ""
            },
            "colorscale": [
             [
              0,
              "#0d0887"
             ],
             [
              0.1111111111111111,
              "#46039f"
             ],
             [
              0.2222222222222222,
              "#7201a8"
             ],
             [
              0.3333333333333333,
              "#9c179e"
             ],
             [
              0.4444444444444444,
              "#bd3786"
             ],
             [
              0.5555555555555556,
              "#d8576b"
             ],
             [
              0.6666666666666666,
              "#ed7953"
             ],
             [
              0.7777777777777778,
              "#fb9f3a"
             ],
             [
              0.8888888888888888,
              "#fdca26"
             ],
             [
              1,
              "#f0f921"
             ]
            ],
            "type": "heatmapgl"
           }
          ],
          "histogram": [
           {
            "marker": {
             "colorbar": {
              "outlinewidth": 0,
              "ticks": ""
             }
            },
            "type": "histogram"
           }
          ],
          "histogram2d": [
           {
            "colorbar": {
             "outlinewidth": 0,
             "ticks": ""
            },
            "colorscale": [
             [
              0,
              "#0d0887"
             ],
             [
              0.1111111111111111,
              "#46039f"
             ],
             [
              0.2222222222222222,
              "#7201a8"
             ],
             [
              0.3333333333333333,
              "#9c179e"
             ],
             [
              0.4444444444444444,
              "#bd3786"
             ],
             [
              0.5555555555555556,
              "#d8576b"
             ],
             [
              0.6666666666666666,
              "#ed7953"
             ],
             [
              0.7777777777777778,
              "#fb9f3a"
             ],
             [
              0.8888888888888888,
              "#fdca26"
             ],
             [
              1,
              "#f0f921"
             ]
            ],
            "type": "histogram2d"
           }
          ],
          "histogram2dcontour": [
           {
            "colorbar": {
             "outlinewidth": 0,
             "ticks": ""
            },
            "colorscale": [
             [
              0,
              "#0d0887"
             ],
             [
              0.1111111111111111,
              "#46039f"
             ],
             [
              0.2222222222222222,
              "#7201a8"
             ],
             [
              0.3333333333333333,
              "#9c179e"
             ],
             [
              0.4444444444444444,
              "#bd3786"
             ],
             [
              0.5555555555555556,
              "#d8576b"
             ],
             [
              0.6666666666666666,
              "#ed7953"
             ],
             [
              0.7777777777777778,
              "#fb9f3a"
             ],
             [
              0.8888888888888888,
              "#fdca26"
             ],
             [
              1,
              "#f0f921"
             ]
            ],
            "type": "histogram2dcontour"
           }
          ],
          "mesh3d": [
           {
            "colorbar": {
             "outlinewidth": 0,
             "ticks": ""
            },
            "type": "mesh3d"
           }
          ],
          "parcoords": [
           {
            "line": {
             "colorbar": {
              "outlinewidth": 0,
              "ticks": ""
             }
            },
            "type": "parcoords"
           }
          ],
          "pie": [
           {
            "automargin": true,
            "type": "pie"
           }
          ],
          "scatter": [
           {
            "marker": {
             "colorbar": {
              "outlinewidth": 0,
              "ticks": ""
             }
            },
            "type": "scatter"
           }
          ],
          "scatter3d": [
           {
            "line": {
             "colorbar": {
              "outlinewidth": 0,
              "ticks": ""
             }
            },
            "marker": {
             "colorbar": {
              "outlinewidth": 0,
              "ticks": ""
             }
            },
            "type": "scatter3d"
           }
          ],
          "scattercarpet": [
           {
            "marker": {
             "colorbar": {
              "outlinewidth": 0,
              "ticks": ""
             }
            },
            "type": "scattercarpet"
           }
          ],
          "scattergeo": [
           {
            "marker": {
             "colorbar": {
              "outlinewidth": 0,
              "ticks": ""
             }
            },
            "type": "scattergeo"
           }
          ],
          "scattergl": [
           {
            "marker": {
             "colorbar": {
              "outlinewidth": 0,
              "ticks": ""
             }
            },
            "type": "scattergl"
           }
          ],
          "scattermapbox": [
           {
            "marker": {
             "colorbar": {
              "outlinewidth": 0,
              "ticks": ""
             }
            },
            "type": "scattermapbox"
           }
          ],
          "scatterpolar": [
           {
            "marker": {
             "colorbar": {
              "outlinewidth": 0,
              "ticks": ""
             }
            },
            "type": "scatterpolar"
           }
          ],
          "scatterpolargl": [
           {
            "marker": {
             "colorbar": {
              "outlinewidth": 0,
              "ticks": ""
             }
            },
            "type": "scatterpolargl"
           }
          ],
          "scatterternary": [
           {
            "marker": {
             "colorbar": {
              "outlinewidth": 0,
              "ticks": ""
             }
            },
            "type": "scatterternary"
           }
          ],
          "surface": [
           {
            "colorbar": {
             "outlinewidth": 0,
             "ticks": ""
            },
            "colorscale": [
             [
              0,
              "#0d0887"
             ],
             [
              0.1111111111111111,
              "#46039f"
             ],
             [
              0.2222222222222222,
              "#7201a8"
             ],
             [
              0.3333333333333333,
              "#9c179e"
             ],
             [
              0.4444444444444444,
              "#bd3786"
             ],
             [
              0.5555555555555556,
              "#d8576b"
             ],
             [
              0.6666666666666666,
              "#ed7953"
             ],
             [
              0.7777777777777778,
              "#fb9f3a"
             ],
             [
              0.8888888888888888,
              "#fdca26"
             ],
             [
              1,
              "#f0f921"
             ]
            ],
            "type": "surface"
           }
          ],
          "table": [
           {
            "cells": {
             "fill": {
              "color": "#EBF0F8"
             },
             "line": {
              "color": "white"
             }
            },
            "header": {
             "fill": {
              "color": "#C8D4E3"
             },
             "line": {
              "color": "white"
             }
            },
            "type": "table"
           }
          ]
         },
         "layout": {
          "annotationdefaults": {
           "arrowcolor": "#2a3f5f",
           "arrowhead": 0,
           "arrowwidth": 1
          },
          "coloraxis": {
           "colorbar": {
            "outlinewidth": 0,
            "ticks": ""
           }
          },
          "colorscale": {
           "diverging": [
            [
             0,
             "#8e0152"
            ],
            [
             0.1,
             "#c51b7d"
            ],
            [
             0.2,
             "#de77ae"
            ],
            [
             0.3,
             "#f1b6da"
            ],
            [
             0.4,
             "#fde0ef"
            ],
            [
             0.5,
             "#f7f7f7"
            ],
            [
             0.6,
             "#e6f5d0"
            ],
            [
             0.7,
             "#b8e186"
            ],
            [
             0.8,
             "#7fbc41"
            ],
            [
             0.9,
             "#4d9221"
            ],
            [
             1,
             "#276419"
            ]
           ],
           "sequential": [
            [
             0,
             "#0d0887"
            ],
            [
             0.1111111111111111,
             "#46039f"
            ],
            [
             0.2222222222222222,
             "#7201a8"
            ],
            [
             0.3333333333333333,
             "#9c179e"
            ],
            [
             0.4444444444444444,
             "#bd3786"
            ],
            [
             0.5555555555555556,
             "#d8576b"
            ],
            [
             0.6666666666666666,
             "#ed7953"
            ],
            [
             0.7777777777777778,
             "#fb9f3a"
            ],
            [
             0.8888888888888888,
             "#fdca26"
            ],
            [
             1,
             "#f0f921"
            ]
           ],
           "sequentialminus": [
            [
             0,
             "#0d0887"
            ],
            [
             0.1111111111111111,
             "#46039f"
            ],
            [
             0.2222222222222222,
             "#7201a8"
            ],
            [
             0.3333333333333333,
             "#9c179e"
            ],
            [
             0.4444444444444444,
             "#bd3786"
            ],
            [
             0.5555555555555556,
             "#d8576b"
            ],
            [
             0.6666666666666666,
             "#ed7953"
            ],
            [
             0.7777777777777778,
             "#fb9f3a"
            ],
            [
             0.8888888888888888,
             "#fdca26"
            ],
            [
             1,
             "#f0f921"
            ]
           ]
          },
          "colorway": [
           "#636efa",
           "#EF553B",
           "#00cc96",
           "#ab63fa",
           "#FFA15A",
           "#19d3f3",
           "#FF6692",
           "#B6E880",
           "#FF97FF",
           "#FECB52"
          ],
          "font": {
           "color": "#2a3f5f"
          },
          "geo": {
           "bgcolor": "white",
           "lakecolor": "white",
           "landcolor": "#E5ECF6",
           "showlakes": true,
           "showland": true,
           "subunitcolor": "white"
          },
          "hoverlabel": {
           "align": "left"
          },
          "hovermode": "closest",
          "mapbox": {
           "style": "light"
          },
          "paper_bgcolor": "white",
          "plot_bgcolor": "#E5ECF6",
          "polar": {
           "angularaxis": {
            "gridcolor": "white",
            "linecolor": "white",
            "ticks": ""
           },
           "bgcolor": "#E5ECF6",
           "radialaxis": {
            "gridcolor": "white",
            "linecolor": "white",
            "ticks": ""
           }
          },
          "scene": {
           "xaxis": {
            "backgroundcolor": "#E5ECF6",
            "gridcolor": "white",
            "gridwidth": 2,
            "linecolor": "white",
            "showbackground": true,
            "ticks": "",
            "zerolinecolor": "white"
           },
           "yaxis": {
            "backgroundcolor": "#E5ECF6",
            "gridcolor": "white",
            "gridwidth": 2,
            "linecolor": "white",
            "showbackground": true,
            "ticks": "",
            "zerolinecolor": "white"
           },
           "zaxis": {
            "backgroundcolor": "#E5ECF6",
            "gridcolor": "white",
            "gridwidth": 2,
            "linecolor": "white",
            "showbackground": true,
            "ticks": "",
            "zerolinecolor": "white"
           }
          },
          "shapedefaults": {
           "line": {
            "color": "#2a3f5f"
           }
          },
          "ternary": {
           "aaxis": {
            "gridcolor": "white",
            "linecolor": "white",
            "ticks": ""
           },
           "baxis": {
            "gridcolor": "white",
            "linecolor": "white",
            "ticks": ""
           },
           "bgcolor": "#E5ECF6",
           "caxis": {
            "gridcolor": "white",
            "linecolor": "white",
            "ticks": ""
           }
          },
          "title": {
           "x": 0.05
          },
          "xaxis": {
           "automargin": true,
           "gridcolor": "white",
           "linecolor": "white",
           "ticks": "",
           "title": {
            "standoff": 15
           },
           "zerolinecolor": "white",
           "zerolinewidth": 2
          },
          "yaxis": {
           "automargin": true,
           "gridcolor": "white",
           "linecolor": "white",
           "ticks": "",
           "title": {
            "standoff": 15
           },
           "zerolinecolor": "white",
           "zerolinewidth": 2
          }
         }
        },
        "title": {
         "font": {
          "color": "#4D5663"
         }
        },
        "xaxis": {
         "gridcolor": "#E1E5ED",
         "showgrid": true,
         "tickfont": {
          "color": "#4D5663"
         },
         "title": {
          "font": {
           "color": "#4D5663"
          },
          "text": ""
         },
         "zerolinecolor": "#E1E5ED"
        },
        "yaxis": {
         "gridcolor": "#E1E5ED",
         "showgrid": true,
         "tickfont": {
          "color": "#4D5663"
         },
         "title": {
          "font": {
           "color": "#4D5663"
          },
          "text": ""
         },
         "zerolinecolor": "#E1E5ED"
        }
       }
      },
      "text/html": [
       "<div>\n",
       "        \n",
       "        \n",
       "            <div id=\"79474e38-0a13-476d-9e14-a31258afe17f\" class=\"plotly-graph-div\" style=\"height:525px; width:100%;\"></div>\n",
       "            <script type=\"text/javascript\">\n",
       "                require([\"plotly\"], function(Plotly) {\n",
       "                    window.PLOTLYENV=window.PLOTLYENV || {};\n",
       "                    window.PLOTLYENV.BASE_URL='https://plot.ly';\n",
       "                    \n",
       "                if (document.getElementById(\"79474e38-0a13-476d-9e14-a31258afe17f\")) {\n",
       "                    Plotly.newPlot(\n",
       "                        '79474e38-0a13-476d-9e14-a31258afe17f',\n",
       "                        [{\"boxpoints\": false, \"line\": {\"width\": 1.3}, \"marker\": {\"color\": \"rgba(255, 153, 51, 1.0)\"}, \"name\": \"A\", \"orientation\": \"v\", \"type\": \"box\", \"y\": [1.940291908011102, -0.43602033128621526, -0.48460214045660277, -1.0240471641424937, 0.07834813558886017, -0.03664652387595461, -0.3129739035091516, -2.334547594397871, 1.8228858929130831, 1.5711886392255132, -2.364881578802697, 1.4616947574353703, -0.4987309829110831, 1.5617852729463797, 0.27096936324438226, -0.6303478616043724, -1.5081522475000202, 1.7029399159062886, -0.5595680928927093, -1.2503555447771197, 0.8046047778907405, -0.8662211973605952, 0.5836035330903515, -1.6882300309849554, 0.5249023960622097, 0.8738634367385915, -0.7011217630000545, -0.11281811880033381, 1.9132226852451233, 0.21515592223039476, -1.5250854327856227, -0.1590202944556442, -0.4527591510178096, -1.1110076710922145, -0.9041890618466469, -1.05375893360304, 0.45947755704608234, 0.4151947410799361, -1.4538365237286752, -0.5787259904446689, 1.0876123636309982, -0.256605975290541, 0.13329166285795085, -0.9077772592137843, 0.03249663834892144, 1.0142902752121234, -0.3344369309963581, -0.09121153691247674, -0.40669721394299546, 0.02744157623740808, -1.5452805971626824, -1.3511169562269885, 0.01158109319398306, -0.9149503343075752, -1.1025417006876994, -0.5048494637049264, -0.2567919047639987, 0.01093619218693575, -0.1356930776970061, 0.10026165369166105, 1.1717276766409668, -0.6434971360362067, 0.34067344818628176, 0.8863816354805312, -0.10132359942293251, 0.07605559055080867, -0.6913446582930974, -1.2920514173129505, -1.3009741161906287, 1.2876633447677763, -1.4445628899407343, 0.259865688457576, 1.8478838525077084, -0.41108510928550895, 0.2893624467427053, 0.748614342294359, 0.9263547679541281, 0.635161754847521, 0.28256247565135617, 1.5126383882427301, -0.7632724161850403, -0.2983928325770369, 0.37300270064839636, 1.0871880926061648, 2.6572202224944146, -1.9722183777917304, 0.18564568416487742, -0.9814354534461059, -0.5474587763161223, 0.03598568118577001, -0.23166847854919972, -1.1346148101716846, -0.9036756738680616, -0.0404909774929333, -0.7164950094764136, -0.06435143860746836, -0.07591268221618847, -0.5296157564584758, 0.2931309732891985, -0.1006868486366963]}, {\"boxpoints\": false, \"line\": {\"width\": 1.3}, \"marker\": {\"color\": \"rgba(55, 128, 191, 1.0)\"}, \"name\": \"B\", \"orientation\": \"v\", \"type\": \"box\", \"y\": [-0.42790688434940893, 1.1023212831129967, 1.1887901480514325, 1.0732111845425714, -0.36657365759249483, -0.5656473349592283, -0.052425381012257515, 1.1967973487129693, -1.9204162179742734, 0.49499173286988396, 0.03177713886948559, 2.0395208180242643, -0.43859191833447764, 1.4803364226090499, 0.12666444902249152, -1.649742282114302, 0.5870377856553117, 2.2710802059818387, -0.30189613702080215, -0.7473224975631962, -1.900915231301534, -0.3708915752256786, -0.6999856013421171, -2.0196320119393696, 0.21564852508540636, -0.33120503933020584, -0.41383604470641094, -0.47804860178887726, -0.7092972940284749, 0.5778318584490235, -0.4101017143331438, -0.5352139410516578, -0.7862257663300574, 0.6939896876836772, 0.5326883503544092, 1.5131372743263152, 0.4166429553616738, 0.2528413795800169, -0.855163816308513, -0.14730575159544035, 0.28800779576442737, -1.4143330241262138, -0.1499239941006353, 1.007051705598499, 0.7490749925322414, -1.426002197503157, -1.279040263458639, -2.154585408397387, 0.9533137961235957, -1.175672610090137, 1.4978861553591707, 1.4435405003817126, 0.16563658417772678, -0.6623006604152534, -0.49891553469198524, 1.9747739497342782, 0.10501534948661304, 0.14056313980420468, -2.002254240703674, 0.7190327472356344, -0.881783930208081, 0.25366385499380195, -0.5874379416344943, -1.6289419914202181, 0.8301884314766689, 0.7747392373953594, -0.6875231198482459, 0.12024538466383536, 1.3670594450102325, 0.5827452306838281, -0.530278447900754, 0.05614891806237901, 0.7790080419810892, 1.446161850152793, 0.1404383743784033, -1.276468775850176, -1.2232777640277335, -1.0818283123154933, 1.2036621750038603, 0.10999185836379068, -1.1292034967068854, -1.4838806863523342, 0.7118756638641246, -0.5259681147027214, 0.3274831050418921, -0.8385036986314343, -0.1876452907738252, -0.48443317356575794, -0.06461280053411844, -1.1236064929290808, 0.8555082423265195, 1.3065424209543985, 0.07851453225301613, 0.4895930528339927, 0.28602019675591833, -0.9257653387478679, 0.02203108690296603, -0.5784050702216772, 0.5342364290101148, 0.07580009014358847]}, {\"boxpoints\": false, \"line\": {\"width\": 1.3}, \"marker\": {\"color\": \"rgba(50, 171, 96, 1.0)\"}, \"name\": \"C\", \"orientation\": \"v\", \"type\": \"box\", \"y\": [0.4013694609466367, 0.47918402807881155, -0.42016852086149753, 1.5337189926126906, 1.3692304382751603, -0.3168641694521636, 2.692429089468827, -0.6652237765776419, 1.4443366018163644, -0.6514708194267461, 1.45256913444164, 0.023667405688731085, 0.953494686532997, 0.6841691448345603, 1.457020988275902, -1.3221074877330492, -0.5568555380425787, -0.8338105899157492, -1.273316700006224, 2.1310179421500757, -0.790810333337568, -0.6147579795903965, 0.4863445340914847, -1.3868066791554745, 1.0260345270013729, -0.0027815353979401256, -0.49918215638661734, 0.0038705357634394185, 0.7141127100951283, -0.5986985110230264, 0.7421629754860158, 0.4364953891662601, 1.477689611629932, -0.823104905283714, -0.7279646980891549, 0.7139429087481839, -1.433892260560694, -0.2852460426280975, -0.29322710064580976, 0.2648298911530672, -0.8344790095451745, -0.6257954442101381, -0.8979270742708928, -1.0627054958827784, 0.14682007448296913, 0.3369887765375471, 0.9010835351649243, 0.13666041907777177, -0.8585298051678452, 1.3697422241654644, 1.0680204614831375, -1.5531807082563662, 1.1143656673797777, 0.2652399971862241, -0.11323452807453596, 0.5351022895127286, -0.6359446982698095, -0.9700437730501994, 1.2159581898575078, 0.1313959814287452, 1.531513094989766, -0.4294253647798791, -0.8233822177687363, 0.8268188128873591, 0.07757679838976207, 0.7543081593642519, 0.9067799533272407, 1.1551702177814234, -1.0918330003663343, -1.0415833666768308, 2.3868791906968725, -0.4460471077300906, 0.9335229422900791, -2.0147781854982334, 0.07518616784451551, 0.6130296924816733, -0.6191733399077277, -1.1108889862270899, 1.0502540811913292, 0.9419672506611048, -0.3229204045492647, -0.15118050576790337, 1.87169656007912, -0.5935431095998885, -0.612748189828855, -0.8457209641384387, 1.0241174971534497, 0.1825103841436704, 0.46711500740492334, 0.35750506885609434, 0.03665200766281884, -0.4628535307444767, -0.09591576139526112, 1.0693530820311394, 1.1477702354954502, -0.22770298244346562, -0.8069211019531929, -0.28549790959366456, -1.2310405363296488, 0.13029019673645767]}, {\"boxpoints\": false, \"line\": {\"width\": 1.3}, \"marker\": {\"color\": \"rgba(128, 0, 128, 1.0)\"}, \"name\": \"D\", \"orientation\": \"v\", \"type\": \"box\", \"y\": [-0.7203762912595594, -1.6050089831119205, 3.007762996295736, 0.1733995978267144, 0.2504646108312079, -0.07130292333757249, -0.3550444916446761, -0.9000545911117473, 0.3250395493676486, -0.3976028525195338, -0.843406131024096, 1.0809587540023515, 1.1678004312633128, -0.0493650327231605, -0.09207617219955272, 1.26651488109588, -0.41539895178365305, 1.5481858903886139, -1.701828256459534, 0.40381342663461345, 1.1302664422386104, 0.7696868674361801, 1.40355248058713, 0.8483601170109333, -0.7920806453711708, -0.08348691490384501, 0.21518816306210514, 1.6122209167752783, 0.7637133361772442, -0.5641857474393002, 0.15987423176818513, 0.5304508625131966, -0.4667921723851996, -0.022061316959858874, -0.9100857813466896, -0.9242559515150672, -0.372818248607995, 1.325603529635037, 0.8575063466509635, 0.36643935671150507, -1.3461851756109922, 0.9980013915690534, 0.6692254966922532, -1.2212442484388222, -1.8812972718926764, 1.9180318585597222, -1.3776993606827088, 0.8548976802386279, 1.9758395506859114, -0.9690094140539778, 1.0201402369292452, -0.07815768961091717, 0.6741049041804277, 0.7661815240719574, -0.6164371057442412, 0.08863255880530042, 1.7779922543607076, 0.31825462054177894, -0.09873914042333422, 0.19360654491978155, -0.204012527431161, 0.1461476076760226, -0.24299670570853538, 0.5483020249916255, -0.5149665212599834, -0.6860956795972244, 0.3175799790618004, 0.5398715147459157, 0.08388696203953451, 0.40689649801470273, -2.0843800588334913, -1.0847863223719147, 0.11031111563988295, 0.7516182882774625, 0.6368272464532464, -1.4554386348105055, -0.7366387640992695, -0.7495234920610955, -0.7980672470637358, -0.1926295926019785, -0.09414185211424955, 1.0299763429324347, 0.8000816201238704, 0.11939010004759178, -0.43753599226913814, -0.7326535395151343, -1.422964340599728, 0.21669205016497914, -0.1277208527681951, -0.7010962368833163, 0.9425570075717837, -1.261296669024147, 1.2154295835099995, 0.5874723176947764, -0.29039099909376886, -1.2206280708578845, -0.543946901517839, -0.4060673045471729, 0.42940524362239696, 0.8943986601433543]}],\n",
       "                        {\"legend\": {\"bgcolor\": \"#F5F6F9\", \"font\": {\"color\": \"#4D5663\"}}, \"paper_bgcolor\": \"#F5F6F9\", \"plot_bgcolor\": \"#F5F6F9\", \"template\": {\"data\": {\"bar\": [{\"error_x\": {\"color\": \"#2a3f5f\"}, \"error_y\": {\"color\": \"#2a3f5f\"}, \"marker\": {\"line\": {\"color\": \"#E5ECF6\", \"width\": 0.5}}, \"type\": \"bar\"}], \"barpolar\": [{\"marker\": {\"line\": {\"color\": \"#E5ECF6\", \"width\": 0.5}}, \"type\": \"barpolar\"}], \"carpet\": [{\"aaxis\": {\"endlinecolor\": \"#2a3f5f\", \"gridcolor\": \"white\", \"linecolor\": \"white\", \"minorgridcolor\": \"white\", \"startlinecolor\": \"#2a3f5f\"}, \"baxis\": {\"endlinecolor\": \"#2a3f5f\", \"gridcolor\": \"white\", \"linecolor\": \"white\", \"minorgridcolor\": \"white\", \"startlinecolor\": \"#2a3f5f\"}, \"type\": \"carpet\"}], \"choropleth\": [{\"colorbar\": {\"outlinewidth\": 0, \"ticks\": \"\"}, \"type\": \"choropleth\"}], \"contour\": [{\"colorbar\": {\"outlinewidth\": 0, \"ticks\": \"\"}, \"colorscale\": [[0.0, \"#0d0887\"], [0.1111111111111111, \"#46039f\"], [0.2222222222222222, \"#7201a8\"], [0.3333333333333333, \"#9c179e\"], [0.4444444444444444, \"#bd3786\"], [0.5555555555555556, \"#d8576b\"], [0.6666666666666666, \"#ed7953\"], [0.7777777777777778, \"#fb9f3a\"], [0.8888888888888888, \"#fdca26\"], [1.0, \"#f0f921\"]], \"type\": \"contour\"}], \"contourcarpet\": [{\"colorbar\": {\"outlinewidth\": 0, \"ticks\": \"\"}, \"type\": \"contourcarpet\"}], \"heatmap\": [{\"colorbar\": {\"outlinewidth\": 0, \"ticks\": \"\"}, \"colorscale\": [[0.0, \"#0d0887\"], [0.1111111111111111, \"#46039f\"], [0.2222222222222222, \"#7201a8\"], [0.3333333333333333, \"#9c179e\"], [0.4444444444444444, \"#bd3786\"], [0.5555555555555556, \"#d8576b\"], [0.6666666666666666, \"#ed7953\"], [0.7777777777777778, \"#fb9f3a\"], [0.8888888888888888, \"#fdca26\"], [1.0, \"#f0f921\"]], \"type\": \"heatmap\"}], \"heatmapgl\": [{\"colorbar\": {\"outlinewidth\": 0, \"ticks\": \"\"}, \"colorscale\": [[0.0, \"#0d0887\"], [0.1111111111111111, \"#46039f\"], [0.2222222222222222, \"#7201a8\"], [0.3333333333333333, \"#9c179e\"], [0.4444444444444444, \"#bd3786\"], [0.5555555555555556, \"#d8576b\"], [0.6666666666666666, \"#ed7953\"], [0.7777777777777778, \"#fb9f3a\"], [0.8888888888888888, \"#fdca26\"], [1.0, \"#f0f921\"]], \"type\": \"heatmapgl\"}], \"histogram\": [{\"marker\": {\"colorbar\": {\"outlinewidth\": 0, \"ticks\": \"\"}}, \"type\": \"histogram\"}], \"histogram2d\": [{\"colorbar\": {\"outlinewidth\": 0, \"ticks\": \"\"}, \"colorscale\": [[0.0, \"#0d0887\"], [0.1111111111111111, \"#46039f\"], [0.2222222222222222, \"#7201a8\"], [0.3333333333333333, \"#9c179e\"], [0.4444444444444444, \"#bd3786\"], [0.5555555555555556, \"#d8576b\"], [0.6666666666666666, \"#ed7953\"], [0.7777777777777778, \"#fb9f3a\"], [0.8888888888888888, \"#fdca26\"], [1.0, \"#f0f921\"]], \"type\": \"histogram2d\"}], \"histogram2dcontour\": [{\"colorbar\": {\"outlinewidth\": 0, \"ticks\": \"\"}, \"colorscale\": [[0.0, \"#0d0887\"], [0.1111111111111111, \"#46039f\"], [0.2222222222222222, \"#7201a8\"], [0.3333333333333333, \"#9c179e\"], [0.4444444444444444, \"#bd3786\"], [0.5555555555555556, \"#d8576b\"], [0.6666666666666666, \"#ed7953\"], [0.7777777777777778, \"#fb9f3a\"], [0.8888888888888888, \"#fdca26\"], [1.0, \"#f0f921\"]], \"type\": \"histogram2dcontour\"}], \"mesh3d\": [{\"colorbar\": {\"outlinewidth\": 0, \"ticks\": \"\"}, \"type\": \"mesh3d\"}], \"parcoords\": [{\"line\": {\"colorbar\": {\"outlinewidth\": 0, \"ticks\": \"\"}}, \"type\": \"parcoords\"}], \"pie\": [{\"automargin\": true, \"type\": \"pie\"}], \"scatter\": [{\"marker\": {\"colorbar\": {\"outlinewidth\": 0, \"ticks\": \"\"}}, \"type\": \"scatter\"}], \"scatter3d\": [{\"line\": {\"colorbar\": {\"outlinewidth\": 0, \"ticks\": \"\"}}, \"marker\": {\"colorbar\": {\"outlinewidth\": 0, \"ticks\": \"\"}}, \"type\": \"scatter3d\"}], \"scattercarpet\": [{\"marker\": {\"colorbar\": {\"outlinewidth\": 0, \"ticks\": \"\"}}, \"type\": \"scattercarpet\"}], \"scattergeo\": [{\"marker\": {\"colorbar\": {\"outlinewidth\": 0, \"ticks\": \"\"}}, \"type\": \"scattergeo\"}], \"scattergl\": [{\"marker\": {\"colorbar\": {\"outlinewidth\": 0, \"ticks\": \"\"}}, \"type\": \"scattergl\"}], \"scattermapbox\": [{\"marker\": {\"colorbar\": {\"outlinewidth\": 0, \"ticks\": \"\"}}, \"type\": \"scattermapbox\"}], \"scatterpolar\": [{\"marker\": {\"colorbar\": {\"outlinewidth\": 0, \"ticks\": \"\"}}, \"type\": \"scatterpolar\"}], \"scatterpolargl\": [{\"marker\": {\"colorbar\": {\"outlinewidth\": 0, \"ticks\": \"\"}}, \"type\": \"scatterpolargl\"}], \"scatterternary\": [{\"marker\": {\"colorbar\": {\"outlinewidth\": 0, \"ticks\": \"\"}}, \"type\": \"scatterternary\"}], \"surface\": [{\"colorbar\": {\"outlinewidth\": 0, \"ticks\": \"\"}, \"colorscale\": [[0.0, \"#0d0887\"], [0.1111111111111111, \"#46039f\"], [0.2222222222222222, \"#7201a8\"], [0.3333333333333333, \"#9c179e\"], [0.4444444444444444, \"#bd3786\"], [0.5555555555555556, \"#d8576b\"], [0.6666666666666666, \"#ed7953\"], [0.7777777777777778, \"#fb9f3a\"], [0.8888888888888888, \"#fdca26\"], [1.0, \"#f0f921\"]], \"type\": \"surface\"}], \"table\": [{\"cells\": {\"fill\": {\"color\": \"#EBF0F8\"}, \"line\": {\"color\": \"white\"}}, \"header\": {\"fill\": {\"color\": \"#C8D4E3\"}, \"line\": {\"color\": \"white\"}}, \"type\": \"table\"}]}, \"layout\": {\"annotationdefaults\": {\"arrowcolor\": \"#2a3f5f\", \"arrowhead\": 0, \"arrowwidth\": 1}, \"coloraxis\": {\"colorbar\": {\"outlinewidth\": 0, \"ticks\": \"\"}}, \"colorscale\": {\"diverging\": [[0, \"#8e0152\"], [0.1, \"#c51b7d\"], [0.2, \"#de77ae\"], [0.3, \"#f1b6da\"], [0.4, \"#fde0ef\"], [0.5, \"#f7f7f7\"], [0.6, \"#e6f5d0\"], [0.7, \"#b8e186\"], [0.8, \"#7fbc41\"], [0.9, \"#4d9221\"], [1, \"#276419\"]], \"sequential\": [[0.0, \"#0d0887\"], [0.1111111111111111, \"#46039f\"], [0.2222222222222222, \"#7201a8\"], [0.3333333333333333, \"#9c179e\"], [0.4444444444444444, \"#bd3786\"], [0.5555555555555556, \"#d8576b\"], [0.6666666666666666, \"#ed7953\"], [0.7777777777777778, \"#fb9f3a\"], [0.8888888888888888, \"#fdca26\"], [1.0, \"#f0f921\"]], \"sequentialminus\": [[0.0, \"#0d0887\"], [0.1111111111111111, \"#46039f\"], [0.2222222222222222, \"#7201a8\"], [0.3333333333333333, \"#9c179e\"], [0.4444444444444444, \"#bd3786\"], [0.5555555555555556, \"#d8576b\"], [0.6666666666666666, \"#ed7953\"], [0.7777777777777778, \"#fb9f3a\"], [0.8888888888888888, \"#fdca26\"], [1.0, \"#f0f921\"]]}, \"colorway\": [\"#636efa\", \"#EF553B\", \"#00cc96\", \"#ab63fa\", \"#FFA15A\", \"#19d3f3\", \"#FF6692\", \"#B6E880\", \"#FF97FF\", \"#FECB52\"], \"font\": {\"color\": \"#2a3f5f\"}, \"geo\": {\"bgcolor\": \"white\", \"lakecolor\": \"white\", \"landcolor\": \"#E5ECF6\", \"showlakes\": true, \"showland\": true, \"subunitcolor\": \"white\"}, \"hoverlabel\": {\"align\": \"left\"}, \"hovermode\": \"closest\", \"mapbox\": {\"style\": \"light\"}, \"paper_bgcolor\": \"white\", \"plot_bgcolor\": \"#E5ECF6\", \"polar\": {\"angularaxis\": {\"gridcolor\": \"white\", \"linecolor\": \"white\", \"ticks\": \"\"}, \"bgcolor\": \"#E5ECF6\", \"radialaxis\": {\"gridcolor\": \"white\", \"linecolor\": \"white\", \"ticks\": \"\"}}, \"scene\": {\"xaxis\": {\"backgroundcolor\": \"#E5ECF6\", \"gridcolor\": \"white\", \"gridwidth\": 2, \"linecolor\": \"white\", \"showbackground\": true, \"ticks\": \"\", \"zerolinecolor\": \"white\"}, \"yaxis\": {\"backgroundcolor\": \"#E5ECF6\", \"gridcolor\": \"white\", \"gridwidth\": 2, \"linecolor\": \"white\", \"showbackground\": true, \"ticks\": \"\", \"zerolinecolor\": \"white\"}, \"zaxis\": {\"backgroundcolor\": \"#E5ECF6\", \"gridcolor\": \"white\", \"gridwidth\": 2, \"linecolor\": \"white\", \"showbackground\": true, \"ticks\": \"\", \"zerolinecolor\": \"white\"}}, \"shapedefaults\": {\"line\": {\"color\": \"#2a3f5f\"}}, \"ternary\": {\"aaxis\": {\"gridcolor\": \"white\", \"linecolor\": \"white\", \"ticks\": \"\"}, \"baxis\": {\"gridcolor\": \"white\", \"linecolor\": \"white\", \"ticks\": \"\"}, \"bgcolor\": \"#E5ECF6\", \"caxis\": {\"gridcolor\": \"white\", \"linecolor\": \"white\", \"ticks\": \"\"}}, \"title\": {\"x\": 0.05}, \"xaxis\": {\"automargin\": true, \"gridcolor\": \"white\", \"linecolor\": \"white\", \"ticks\": \"\", \"title\": {\"standoff\": 15}, \"zerolinecolor\": \"white\", \"zerolinewidth\": 2}, \"yaxis\": {\"automargin\": true, \"gridcolor\": \"white\", \"linecolor\": \"white\", \"ticks\": \"\", \"title\": {\"standoff\": 15}, \"zerolinecolor\": \"white\", \"zerolinewidth\": 2}}}, \"title\": {\"font\": {\"color\": \"#4D5663\"}}, \"xaxis\": {\"gridcolor\": \"#E1E5ED\", \"showgrid\": true, \"tickfont\": {\"color\": \"#4D5663\"}, \"title\": {\"font\": {\"color\": \"#4D5663\"}, \"text\": \"\"}, \"zerolinecolor\": \"#E1E5ED\"}, \"yaxis\": {\"gridcolor\": \"#E1E5ED\", \"showgrid\": true, \"tickfont\": {\"color\": \"#4D5663\"}, \"title\": {\"font\": {\"color\": \"#4D5663\"}, \"text\": \"\"}, \"zerolinecolor\": \"#E1E5ED\"}},\n",
       "                        {\"showLink\": true, \"linkText\": \"Export to plot.ly\", \"plotlyServerURL\": \"https://plot.ly\", \"responsive\": true}\n",
       "                    ).then(function(){\n",
       "                            \n",
       "var gd = document.getElementById('79474e38-0a13-476d-9e14-a31258afe17f');\n",
       "var x = new MutationObserver(function (mutations, observer) {{\n",
       "        var display = window.getComputedStyle(gd).display;\n",
       "        if (!display || display === 'none') {{\n",
       "            console.log([gd, 'removed!']);\n",
       "            Plotly.purge(gd);\n",
       "            observer.disconnect();\n",
       "        }}\n",
       "}});\n",
       "\n",
       "// Listen for the removal of the full notebook cells\n",
       "var notebookContainer = gd.closest('#notebook-container');\n",
       "if (notebookContainer) {{\n",
       "    x.observe(notebookContainer, {childList: true});\n",
       "}}\n",
       "\n",
       "// Listen for the clearing of the current output cell\n",
       "var outputEl = gd.closest('.output');\n",
       "if (outputEl) {{\n",
       "    x.observe(outputEl, {childList: true});\n",
       "}}\n",
       "\n",
       "                        })\n",
       "                };\n",
       "                });\n",
       "            </script>\n",
       "        </div>"
      ]
     },
     "metadata": {},
     "output_type": "display_data"
    }
   ],
   "source": [
    "df.iplot(kind='box')"
   ]
  },
  {
   "cell_type": "markdown",
   "metadata": {},
   "source": [
    "## 3d Surface"
   ]
  },
  {
   "cell_type": "code",
   "execution_count": 14,
   "metadata": {
    "jupyter": {
     "outputs_hidden": false
    }
   },
   "outputs": [
    {
     "data": {
      "application/vnd.plotly.v1+json": {
       "config": {
        "linkText": "Export to plot.ly",
        "plotlyServerURL": "https://plot.ly",
        "showLink": true
       },
       "data": [
        {
         "colorscale": [
          [
           0,
           "rgb(165,0,38)"
          ],
          [
           0.1,
           "rgb(215,48,39)"
          ],
          [
           0.2,
           "rgb(244,109,67)"
          ],
          [
           0.3,
           "rgb(253,174,97)"
          ],
          [
           0.4,
           "rgb(254,224,144)"
          ],
          [
           0.5,
           "rgb(255,255,191)"
          ],
          [
           0.6,
           "rgb(224,243,248)"
          ],
          [
           0.7,
           "rgb(171,217,233)"
          ],
          [
           0.8,
           "rgb(116,173,209)"
          ],
          [
           0.9,
           "rgb(69,117,180)"
          ],
          [
           1,
           "rgb(49,54,149)"
          ]
         ],
         "type": "surface",
         "x": [
          0,
          1,
          2,
          3,
          4
         ],
         "y": [
          "x",
          "y",
          "z"
         ],
         "z": [
          [
           1,
           2,
           3,
           4,
           5
          ],
          [
           10,
           20,
           30,
           20,
           10
          ],
          [
           5,
           4,
           3,
           2,
           1
          ]
         ]
        }
       ],
       "layout": {
        "legend": {
         "bgcolor": "#F5F6F9",
         "font": {
          "color": "#4D5663"
         }
        },
        "paper_bgcolor": "#F5F6F9",
        "plot_bgcolor": "#F5F6F9",
        "template": {
         "data": {
          "bar": [
           {
            "error_x": {
             "color": "#2a3f5f"
            },
            "error_y": {
             "color": "#2a3f5f"
            },
            "marker": {
             "line": {
              "color": "#E5ECF6",
              "width": 0.5
             }
            },
            "type": "bar"
           }
          ],
          "barpolar": [
           {
            "marker": {
             "line": {
              "color": "#E5ECF6",
              "width": 0.5
             }
            },
            "type": "barpolar"
           }
          ],
          "carpet": [
           {
            "aaxis": {
             "endlinecolor": "#2a3f5f",
             "gridcolor": "white",
             "linecolor": "white",
             "minorgridcolor": "white",
             "startlinecolor": "#2a3f5f"
            },
            "baxis": {
             "endlinecolor": "#2a3f5f",
             "gridcolor": "white",
             "linecolor": "white",
             "minorgridcolor": "white",
             "startlinecolor": "#2a3f5f"
            },
            "type": "carpet"
           }
          ],
          "choropleth": [
           {
            "colorbar": {
             "outlinewidth": 0,
             "ticks": ""
            },
            "type": "choropleth"
           }
          ],
          "contour": [
           {
            "colorbar": {
             "outlinewidth": 0,
             "ticks": ""
            },
            "colorscale": [
             [
              0,
              "#0d0887"
             ],
             [
              0.1111111111111111,
              "#46039f"
             ],
             [
              0.2222222222222222,
              "#7201a8"
             ],
             [
              0.3333333333333333,
              "#9c179e"
             ],
             [
              0.4444444444444444,
              "#bd3786"
             ],
             [
              0.5555555555555556,
              "#d8576b"
             ],
             [
              0.6666666666666666,
              "#ed7953"
             ],
             [
              0.7777777777777778,
              "#fb9f3a"
             ],
             [
              0.8888888888888888,
              "#fdca26"
             ],
             [
              1,
              "#f0f921"
             ]
            ],
            "type": "contour"
           }
          ],
          "contourcarpet": [
           {
            "colorbar": {
             "outlinewidth": 0,
             "ticks": ""
            },
            "type": "contourcarpet"
           }
          ],
          "heatmap": [
           {
            "colorbar": {
             "outlinewidth": 0,
             "ticks": ""
            },
            "colorscale": [
             [
              0,
              "#0d0887"
             ],
             [
              0.1111111111111111,
              "#46039f"
             ],
             [
              0.2222222222222222,
              "#7201a8"
             ],
             [
              0.3333333333333333,
              "#9c179e"
             ],
             [
              0.4444444444444444,
              "#bd3786"
             ],
             [
              0.5555555555555556,
              "#d8576b"
             ],
             [
              0.6666666666666666,
              "#ed7953"
             ],
             [
              0.7777777777777778,
              "#fb9f3a"
             ],
             [
              0.8888888888888888,
              "#fdca26"
             ],
             [
              1,
              "#f0f921"
             ]
            ],
            "type": "heatmap"
           }
          ],
          "heatmapgl": [
           {
            "colorbar": {
             "outlinewidth": 0,
             "ticks": ""
            },
            "colorscale": [
             [
              0,
              "#0d0887"
             ],
             [
              0.1111111111111111,
              "#46039f"
             ],
             [
              0.2222222222222222,
              "#7201a8"
             ],
             [
              0.3333333333333333,
              "#9c179e"
             ],
             [
              0.4444444444444444,
              "#bd3786"
             ],
             [
              0.5555555555555556,
              "#d8576b"
             ],
             [
              0.6666666666666666,
              "#ed7953"
             ],
             [
              0.7777777777777778,
              "#fb9f3a"
             ],
             [
              0.8888888888888888,
              "#fdca26"
             ],
             [
              1,
              "#f0f921"
             ]
            ],
            "type": "heatmapgl"
           }
          ],
          "histogram": [
           {
            "marker": {
             "colorbar": {
              "outlinewidth": 0,
              "ticks": ""
             }
            },
            "type": "histogram"
           }
          ],
          "histogram2d": [
           {
            "colorbar": {
             "outlinewidth": 0,
             "ticks": ""
            },
            "colorscale": [
             [
              0,
              "#0d0887"
             ],
             [
              0.1111111111111111,
              "#46039f"
             ],
             [
              0.2222222222222222,
              "#7201a8"
             ],
             [
              0.3333333333333333,
              "#9c179e"
             ],
             [
              0.4444444444444444,
              "#bd3786"
             ],
             [
              0.5555555555555556,
              "#d8576b"
             ],
             [
              0.6666666666666666,
              "#ed7953"
             ],
             [
              0.7777777777777778,
              "#fb9f3a"
             ],
             [
              0.8888888888888888,
              "#fdca26"
             ],
             [
              1,
              "#f0f921"
             ]
            ],
            "type": "histogram2d"
           }
          ],
          "histogram2dcontour": [
           {
            "colorbar": {
             "outlinewidth": 0,
             "ticks": ""
            },
            "colorscale": [
             [
              0,
              "#0d0887"
             ],
             [
              0.1111111111111111,
              "#46039f"
             ],
             [
              0.2222222222222222,
              "#7201a8"
             ],
             [
              0.3333333333333333,
              "#9c179e"
             ],
             [
              0.4444444444444444,
              "#bd3786"
             ],
             [
              0.5555555555555556,
              "#d8576b"
             ],
             [
              0.6666666666666666,
              "#ed7953"
             ],
             [
              0.7777777777777778,
              "#fb9f3a"
             ],
             [
              0.8888888888888888,
              "#fdca26"
             ],
             [
              1,
              "#f0f921"
             ]
            ],
            "type": "histogram2dcontour"
           }
          ],
          "mesh3d": [
           {
            "colorbar": {
             "outlinewidth": 0,
             "ticks": ""
            },
            "type": "mesh3d"
           }
          ],
          "parcoords": [
           {
            "line": {
             "colorbar": {
              "outlinewidth": 0,
              "ticks": ""
             }
            },
            "type": "parcoords"
           }
          ],
          "pie": [
           {
            "automargin": true,
            "type": "pie"
           }
          ],
          "scatter": [
           {
            "marker": {
             "colorbar": {
              "outlinewidth": 0,
              "ticks": ""
             }
            },
            "type": "scatter"
           }
          ],
          "scatter3d": [
           {
            "line": {
             "colorbar": {
              "outlinewidth": 0,
              "ticks": ""
             }
            },
            "marker": {
             "colorbar": {
              "outlinewidth": 0,
              "ticks": ""
             }
            },
            "type": "scatter3d"
           }
          ],
          "scattercarpet": [
           {
            "marker": {
             "colorbar": {
              "outlinewidth": 0,
              "ticks": ""
             }
            },
            "type": "scattercarpet"
           }
          ],
          "scattergeo": [
           {
            "marker": {
             "colorbar": {
              "outlinewidth": 0,
              "ticks": ""
             }
            },
            "type": "scattergeo"
           }
          ],
          "scattergl": [
           {
            "marker": {
             "colorbar": {
              "outlinewidth": 0,
              "ticks": ""
             }
            },
            "type": "scattergl"
           }
          ],
          "scattermapbox": [
           {
            "marker": {
             "colorbar": {
              "outlinewidth": 0,
              "ticks": ""
             }
            },
            "type": "scattermapbox"
           }
          ],
          "scatterpolar": [
           {
            "marker": {
             "colorbar": {
              "outlinewidth": 0,
              "ticks": ""
             }
            },
            "type": "scatterpolar"
           }
          ],
          "scatterpolargl": [
           {
            "marker": {
             "colorbar": {
              "outlinewidth": 0,
              "ticks": ""
             }
            },
            "type": "scatterpolargl"
           }
          ],
          "scatterternary": [
           {
            "marker": {
             "colorbar": {
              "outlinewidth": 0,
              "ticks": ""
             }
            },
            "type": "scatterternary"
           }
          ],
          "surface": [
           {
            "colorbar": {
             "outlinewidth": 0,
             "ticks": ""
            },
            "colorscale": [
             [
              0,
              "#0d0887"
             ],
             [
              0.1111111111111111,
              "#46039f"
             ],
             [
              0.2222222222222222,
              "#7201a8"
             ],
             [
              0.3333333333333333,
              "#9c179e"
             ],
             [
              0.4444444444444444,
              "#bd3786"
             ],
             [
              0.5555555555555556,
              "#d8576b"
             ],
             [
              0.6666666666666666,
              "#ed7953"
             ],
             [
              0.7777777777777778,
              "#fb9f3a"
             ],
             [
              0.8888888888888888,
              "#fdca26"
             ],
             [
              1,
              "#f0f921"
             ]
            ],
            "type": "surface"
           }
          ],
          "table": [
           {
            "cells": {
             "fill": {
              "color": "#EBF0F8"
             },
             "line": {
              "color": "white"
             }
            },
            "header": {
             "fill": {
              "color": "#C8D4E3"
             },
             "line": {
              "color": "white"
             }
            },
            "type": "table"
           }
          ]
         },
         "layout": {
          "annotationdefaults": {
           "arrowcolor": "#2a3f5f",
           "arrowhead": 0,
           "arrowwidth": 1
          },
          "coloraxis": {
           "colorbar": {
            "outlinewidth": 0,
            "ticks": ""
           }
          },
          "colorscale": {
           "diverging": [
            [
             0,
             "#8e0152"
            ],
            [
             0.1,
             "#c51b7d"
            ],
            [
             0.2,
             "#de77ae"
            ],
            [
             0.3,
             "#f1b6da"
            ],
            [
             0.4,
             "#fde0ef"
            ],
            [
             0.5,
             "#f7f7f7"
            ],
            [
             0.6,
             "#e6f5d0"
            ],
            [
             0.7,
             "#b8e186"
            ],
            [
             0.8,
             "#7fbc41"
            ],
            [
             0.9,
             "#4d9221"
            ],
            [
             1,
             "#276419"
            ]
           ],
           "sequential": [
            [
             0,
             "#0d0887"
            ],
            [
             0.1111111111111111,
             "#46039f"
            ],
            [
             0.2222222222222222,
             "#7201a8"
            ],
            [
             0.3333333333333333,
             "#9c179e"
            ],
            [
             0.4444444444444444,
             "#bd3786"
            ],
            [
             0.5555555555555556,
             "#d8576b"
            ],
            [
             0.6666666666666666,
             "#ed7953"
            ],
            [
             0.7777777777777778,
             "#fb9f3a"
            ],
            [
             0.8888888888888888,
             "#fdca26"
            ],
            [
             1,
             "#f0f921"
            ]
           ],
           "sequentialminus": [
            [
             0,
             "#0d0887"
            ],
            [
             0.1111111111111111,
             "#46039f"
            ],
            [
             0.2222222222222222,
             "#7201a8"
            ],
            [
             0.3333333333333333,
             "#9c179e"
            ],
            [
             0.4444444444444444,
             "#bd3786"
            ],
            [
             0.5555555555555556,
             "#d8576b"
            ],
            [
             0.6666666666666666,
             "#ed7953"
            ],
            [
             0.7777777777777778,
             "#fb9f3a"
            ],
            [
             0.8888888888888888,
             "#fdca26"
            ],
            [
             1,
             "#f0f921"
            ]
           ]
          },
          "colorway": [
           "#636efa",
           "#EF553B",
           "#00cc96",
           "#ab63fa",
           "#FFA15A",
           "#19d3f3",
           "#FF6692",
           "#B6E880",
           "#FF97FF",
           "#FECB52"
          ],
          "font": {
           "color": "#2a3f5f"
          },
          "geo": {
           "bgcolor": "white",
           "lakecolor": "white",
           "landcolor": "#E5ECF6",
           "showlakes": true,
           "showland": true,
           "subunitcolor": "white"
          },
          "hoverlabel": {
           "align": "left"
          },
          "hovermode": "closest",
          "mapbox": {
           "style": "light"
          },
          "paper_bgcolor": "white",
          "plot_bgcolor": "#E5ECF6",
          "polar": {
           "angularaxis": {
            "gridcolor": "white",
            "linecolor": "white",
            "ticks": ""
           },
           "bgcolor": "#E5ECF6",
           "radialaxis": {
            "gridcolor": "white",
            "linecolor": "white",
            "ticks": ""
           }
          },
          "scene": {
           "xaxis": {
            "backgroundcolor": "#E5ECF6",
            "gridcolor": "white",
            "gridwidth": 2,
            "linecolor": "white",
            "showbackground": true,
            "ticks": "",
            "zerolinecolor": "white"
           },
           "yaxis": {
            "backgroundcolor": "#E5ECF6",
            "gridcolor": "white",
            "gridwidth": 2,
            "linecolor": "white",
            "showbackground": true,
            "ticks": "",
            "zerolinecolor": "white"
           },
           "zaxis": {
            "backgroundcolor": "#E5ECF6",
            "gridcolor": "white",
            "gridwidth": 2,
            "linecolor": "white",
            "showbackground": true,
            "ticks": "",
            "zerolinecolor": "white"
           }
          },
          "shapedefaults": {
           "line": {
            "color": "#2a3f5f"
           }
          },
          "ternary": {
           "aaxis": {
            "gridcolor": "white",
            "linecolor": "white",
            "ticks": ""
           },
           "baxis": {
            "gridcolor": "white",
            "linecolor": "white",
            "ticks": ""
           },
           "bgcolor": "#E5ECF6",
           "caxis": {
            "gridcolor": "white",
            "linecolor": "white",
            "ticks": ""
           }
          },
          "title": {
           "x": 0.05
          },
          "xaxis": {
           "automargin": true,
           "gridcolor": "white",
           "linecolor": "white",
           "ticks": "",
           "title": {
            "standoff": 15
           },
           "zerolinecolor": "white",
           "zerolinewidth": 2
          },
          "yaxis": {
           "automargin": true,
           "gridcolor": "white",
           "linecolor": "white",
           "ticks": "",
           "title": {
            "standoff": 15
           },
           "zerolinecolor": "white",
           "zerolinewidth": 2
          }
         }
        },
        "title": {
         "font": {
          "color": "#4D5663"
         }
        },
        "xaxis": {
         "gridcolor": "#E1E5ED",
         "showgrid": true,
         "tickfont": {
          "color": "#4D5663"
         },
         "title": {
          "font": {
           "color": "#4D5663"
          },
          "text": ""
         },
         "zerolinecolor": "#E1E5ED"
        },
        "yaxis": {
         "gridcolor": "#E1E5ED",
         "showgrid": true,
         "tickfont": {
          "color": "#4D5663"
         },
         "title": {
          "font": {
           "color": "#4D5663"
          },
          "text": ""
         },
         "zerolinecolor": "#E1E5ED"
        }
       }
      },
      "text/html": [
       "<div>\n",
       "        \n",
       "        \n",
       "            <div id=\"80ea622d-3c96-441c-a3b8-d5137bf0f5e9\" class=\"plotly-graph-div\" style=\"height:525px; width:100%;\"></div>\n",
       "            <script type=\"text/javascript\">\n",
       "                require([\"plotly\"], function(Plotly) {\n",
       "                    window.PLOTLYENV=window.PLOTLYENV || {};\n",
       "                    window.PLOTLYENV.BASE_URL='https://plot.ly';\n",
       "                    \n",
       "                if (document.getElementById(\"80ea622d-3c96-441c-a3b8-d5137bf0f5e9\")) {\n",
       "                    Plotly.newPlot(\n",
       "                        '80ea622d-3c96-441c-a3b8-d5137bf0f5e9',\n",
       "                        [{\"colorscale\": [[0.0, \"rgb(165,0,38)\"], [0.1, \"rgb(215,48,39)\"], [0.2, \"rgb(244,109,67)\"], [0.3, \"rgb(253,174,97)\"], [0.4, \"rgb(254,224,144)\"], [0.5, \"rgb(255,255,191)\"], [0.6, \"rgb(224,243,248)\"], [0.7, \"rgb(171,217,233)\"], [0.8, \"rgb(116,173,209)\"], [0.9, \"rgb(69,117,180)\"], [1.0, \"rgb(49,54,149)\"]], \"type\": \"surface\", \"x\": [0, 1, 2, 3, 4], \"y\": [\"x\", \"y\", \"z\"], \"z\": [[1, 2, 3, 4, 5], [10, 20, 30, 20, 10], [5, 4, 3, 2, 1]]}],\n",
       "                        {\"legend\": {\"bgcolor\": \"#F5F6F9\", \"font\": {\"color\": \"#4D5663\"}}, \"paper_bgcolor\": \"#F5F6F9\", \"plot_bgcolor\": \"#F5F6F9\", \"template\": {\"data\": {\"bar\": [{\"error_x\": {\"color\": \"#2a3f5f\"}, \"error_y\": {\"color\": \"#2a3f5f\"}, \"marker\": {\"line\": {\"color\": \"#E5ECF6\", \"width\": 0.5}}, \"type\": \"bar\"}], \"barpolar\": [{\"marker\": {\"line\": {\"color\": \"#E5ECF6\", \"width\": 0.5}}, \"type\": \"barpolar\"}], \"carpet\": [{\"aaxis\": {\"endlinecolor\": \"#2a3f5f\", \"gridcolor\": \"white\", \"linecolor\": \"white\", \"minorgridcolor\": \"white\", \"startlinecolor\": \"#2a3f5f\"}, \"baxis\": {\"endlinecolor\": \"#2a3f5f\", \"gridcolor\": \"white\", \"linecolor\": \"white\", \"minorgridcolor\": \"white\", \"startlinecolor\": \"#2a3f5f\"}, \"type\": \"carpet\"}], \"choropleth\": [{\"colorbar\": {\"outlinewidth\": 0, \"ticks\": \"\"}, \"type\": \"choropleth\"}], \"contour\": [{\"colorbar\": {\"outlinewidth\": 0, \"ticks\": \"\"}, \"colorscale\": [[0.0, \"#0d0887\"], [0.1111111111111111, \"#46039f\"], [0.2222222222222222, \"#7201a8\"], [0.3333333333333333, \"#9c179e\"], [0.4444444444444444, \"#bd3786\"], [0.5555555555555556, \"#d8576b\"], [0.6666666666666666, \"#ed7953\"], [0.7777777777777778, \"#fb9f3a\"], [0.8888888888888888, \"#fdca26\"], [1.0, \"#f0f921\"]], \"type\": \"contour\"}], \"contourcarpet\": [{\"colorbar\": {\"outlinewidth\": 0, \"ticks\": \"\"}, \"type\": \"contourcarpet\"}], \"heatmap\": [{\"colorbar\": {\"outlinewidth\": 0, \"ticks\": \"\"}, \"colorscale\": [[0.0, \"#0d0887\"], [0.1111111111111111, \"#46039f\"], [0.2222222222222222, \"#7201a8\"], [0.3333333333333333, \"#9c179e\"], [0.4444444444444444, \"#bd3786\"], [0.5555555555555556, \"#d8576b\"], [0.6666666666666666, \"#ed7953\"], [0.7777777777777778, \"#fb9f3a\"], [0.8888888888888888, \"#fdca26\"], [1.0, \"#f0f921\"]], \"type\": \"heatmap\"}], \"heatmapgl\": [{\"colorbar\": {\"outlinewidth\": 0, \"ticks\": \"\"}, \"colorscale\": [[0.0, \"#0d0887\"], [0.1111111111111111, \"#46039f\"], [0.2222222222222222, \"#7201a8\"], [0.3333333333333333, \"#9c179e\"], [0.4444444444444444, \"#bd3786\"], [0.5555555555555556, \"#d8576b\"], [0.6666666666666666, \"#ed7953\"], [0.7777777777777778, \"#fb9f3a\"], [0.8888888888888888, \"#fdca26\"], [1.0, \"#f0f921\"]], \"type\": \"heatmapgl\"}], \"histogram\": [{\"marker\": {\"colorbar\": {\"outlinewidth\": 0, \"ticks\": \"\"}}, \"type\": \"histogram\"}], \"histogram2d\": [{\"colorbar\": {\"outlinewidth\": 0, \"ticks\": \"\"}, \"colorscale\": [[0.0, \"#0d0887\"], [0.1111111111111111, \"#46039f\"], [0.2222222222222222, \"#7201a8\"], [0.3333333333333333, \"#9c179e\"], [0.4444444444444444, \"#bd3786\"], [0.5555555555555556, \"#d8576b\"], [0.6666666666666666, \"#ed7953\"], [0.7777777777777778, \"#fb9f3a\"], [0.8888888888888888, \"#fdca26\"], [1.0, \"#f0f921\"]], \"type\": \"histogram2d\"}], \"histogram2dcontour\": [{\"colorbar\": {\"outlinewidth\": 0, \"ticks\": \"\"}, \"colorscale\": [[0.0, \"#0d0887\"], [0.1111111111111111, \"#46039f\"], [0.2222222222222222, \"#7201a8\"], [0.3333333333333333, \"#9c179e\"], [0.4444444444444444, \"#bd3786\"], [0.5555555555555556, \"#d8576b\"], [0.6666666666666666, \"#ed7953\"], [0.7777777777777778, \"#fb9f3a\"], [0.8888888888888888, \"#fdca26\"], [1.0, \"#f0f921\"]], \"type\": \"histogram2dcontour\"}], \"mesh3d\": [{\"colorbar\": {\"outlinewidth\": 0, \"ticks\": \"\"}, \"type\": \"mesh3d\"}], \"parcoords\": [{\"line\": {\"colorbar\": {\"outlinewidth\": 0, \"ticks\": \"\"}}, \"type\": \"parcoords\"}], \"pie\": [{\"automargin\": true, \"type\": \"pie\"}], \"scatter\": [{\"marker\": {\"colorbar\": {\"outlinewidth\": 0, \"ticks\": \"\"}}, \"type\": \"scatter\"}], \"scatter3d\": [{\"line\": {\"colorbar\": {\"outlinewidth\": 0, \"ticks\": \"\"}}, \"marker\": {\"colorbar\": {\"outlinewidth\": 0, \"ticks\": \"\"}}, \"type\": \"scatter3d\"}], \"scattercarpet\": [{\"marker\": {\"colorbar\": {\"outlinewidth\": 0, \"ticks\": \"\"}}, \"type\": \"scattercarpet\"}], \"scattergeo\": [{\"marker\": {\"colorbar\": {\"outlinewidth\": 0, \"ticks\": \"\"}}, \"type\": \"scattergeo\"}], \"scattergl\": [{\"marker\": {\"colorbar\": {\"outlinewidth\": 0, \"ticks\": \"\"}}, \"type\": \"scattergl\"}], \"scattermapbox\": [{\"marker\": {\"colorbar\": {\"outlinewidth\": 0, \"ticks\": \"\"}}, \"type\": \"scattermapbox\"}], \"scatterpolar\": [{\"marker\": {\"colorbar\": {\"outlinewidth\": 0, \"ticks\": \"\"}}, \"type\": \"scatterpolar\"}], \"scatterpolargl\": [{\"marker\": {\"colorbar\": {\"outlinewidth\": 0, \"ticks\": \"\"}}, \"type\": \"scatterpolargl\"}], \"scatterternary\": [{\"marker\": {\"colorbar\": {\"outlinewidth\": 0, \"ticks\": \"\"}}, \"type\": \"scatterternary\"}], \"surface\": [{\"colorbar\": {\"outlinewidth\": 0, \"ticks\": \"\"}, \"colorscale\": [[0.0, \"#0d0887\"], [0.1111111111111111, \"#46039f\"], [0.2222222222222222, \"#7201a8\"], [0.3333333333333333, \"#9c179e\"], [0.4444444444444444, \"#bd3786\"], [0.5555555555555556, \"#d8576b\"], [0.6666666666666666, \"#ed7953\"], [0.7777777777777778, \"#fb9f3a\"], [0.8888888888888888, \"#fdca26\"], [1.0, \"#f0f921\"]], \"type\": \"surface\"}], \"table\": [{\"cells\": {\"fill\": {\"color\": \"#EBF0F8\"}, \"line\": {\"color\": \"white\"}}, \"header\": {\"fill\": {\"color\": \"#C8D4E3\"}, \"line\": {\"color\": \"white\"}}, \"type\": \"table\"}]}, \"layout\": {\"annotationdefaults\": {\"arrowcolor\": \"#2a3f5f\", \"arrowhead\": 0, \"arrowwidth\": 1}, \"coloraxis\": {\"colorbar\": {\"outlinewidth\": 0, \"ticks\": \"\"}}, \"colorscale\": {\"diverging\": [[0, \"#8e0152\"], [0.1, \"#c51b7d\"], [0.2, \"#de77ae\"], [0.3, \"#f1b6da\"], [0.4, \"#fde0ef\"], [0.5, \"#f7f7f7\"], [0.6, \"#e6f5d0\"], [0.7, \"#b8e186\"], [0.8, \"#7fbc41\"], [0.9, \"#4d9221\"], [1, \"#276419\"]], \"sequential\": [[0.0, \"#0d0887\"], [0.1111111111111111, \"#46039f\"], [0.2222222222222222, \"#7201a8\"], [0.3333333333333333, \"#9c179e\"], [0.4444444444444444, \"#bd3786\"], [0.5555555555555556, \"#d8576b\"], [0.6666666666666666, \"#ed7953\"], [0.7777777777777778, \"#fb9f3a\"], [0.8888888888888888, \"#fdca26\"], [1.0, \"#f0f921\"]], \"sequentialminus\": [[0.0, \"#0d0887\"], [0.1111111111111111, \"#46039f\"], [0.2222222222222222, \"#7201a8\"], [0.3333333333333333, \"#9c179e\"], [0.4444444444444444, \"#bd3786\"], [0.5555555555555556, \"#d8576b\"], [0.6666666666666666, \"#ed7953\"], [0.7777777777777778, \"#fb9f3a\"], [0.8888888888888888, \"#fdca26\"], [1.0, \"#f0f921\"]]}, \"colorway\": [\"#636efa\", \"#EF553B\", \"#00cc96\", \"#ab63fa\", \"#FFA15A\", \"#19d3f3\", \"#FF6692\", \"#B6E880\", \"#FF97FF\", \"#FECB52\"], \"font\": {\"color\": \"#2a3f5f\"}, \"geo\": {\"bgcolor\": \"white\", \"lakecolor\": \"white\", \"landcolor\": \"#E5ECF6\", \"showlakes\": true, \"showland\": true, \"subunitcolor\": \"white\"}, \"hoverlabel\": {\"align\": \"left\"}, \"hovermode\": \"closest\", \"mapbox\": {\"style\": \"light\"}, \"paper_bgcolor\": \"white\", \"plot_bgcolor\": \"#E5ECF6\", \"polar\": {\"angularaxis\": {\"gridcolor\": \"white\", \"linecolor\": \"white\", \"ticks\": \"\"}, \"bgcolor\": \"#E5ECF6\", \"radialaxis\": {\"gridcolor\": \"white\", \"linecolor\": \"white\", \"ticks\": \"\"}}, \"scene\": {\"xaxis\": {\"backgroundcolor\": \"#E5ECF6\", \"gridcolor\": \"white\", \"gridwidth\": 2, \"linecolor\": \"white\", \"showbackground\": true, \"ticks\": \"\", \"zerolinecolor\": \"white\"}, \"yaxis\": {\"backgroundcolor\": \"#E5ECF6\", \"gridcolor\": \"white\", \"gridwidth\": 2, \"linecolor\": \"white\", \"showbackground\": true, \"ticks\": \"\", \"zerolinecolor\": \"white\"}, \"zaxis\": {\"backgroundcolor\": \"#E5ECF6\", \"gridcolor\": \"white\", \"gridwidth\": 2, \"linecolor\": \"white\", \"showbackground\": true, \"ticks\": \"\", \"zerolinecolor\": \"white\"}}, \"shapedefaults\": {\"line\": {\"color\": \"#2a3f5f\"}}, \"ternary\": {\"aaxis\": {\"gridcolor\": \"white\", \"linecolor\": \"white\", \"ticks\": \"\"}, \"baxis\": {\"gridcolor\": \"white\", \"linecolor\": \"white\", \"ticks\": \"\"}, \"bgcolor\": \"#E5ECF6\", \"caxis\": {\"gridcolor\": \"white\", \"linecolor\": \"white\", \"ticks\": \"\"}}, \"title\": {\"x\": 0.05}, \"xaxis\": {\"automargin\": true, \"gridcolor\": \"white\", \"linecolor\": \"white\", \"ticks\": \"\", \"title\": {\"standoff\": 15}, \"zerolinecolor\": \"white\", \"zerolinewidth\": 2}, \"yaxis\": {\"automargin\": true, \"gridcolor\": \"white\", \"linecolor\": \"white\", \"ticks\": \"\", \"title\": {\"standoff\": 15}, \"zerolinecolor\": \"white\", \"zerolinewidth\": 2}}}, \"title\": {\"font\": {\"color\": \"#4D5663\"}}, \"xaxis\": {\"gridcolor\": \"#E1E5ED\", \"showgrid\": true, \"tickfont\": {\"color\": \"#4D5663\"}, \"title\": {\"font\": {\"color\": \"#4D5663\"}, \"text\": \"\"}, \"zerolinecolor\": \"#E1E5ED\"}, \"yaxis\": {\"gridcolor\": \"#E1E5ED\", \"showgrid\": true, \"tickfont\": {\"color\": \"#4D5663\"}, \"title\": {\"font\": {\"color\": \"#4D5663\"}, \"text\": \"\"}, \"zerolinecolor\": \"#E1E5ED\"}},\n",
       "                        {\"showLink\": true, \"linkText\": \"Export to plot.ly\", \"plotlyServerURL\": \"https://plot.ly\", \"responsive\": true}\n",
       "                    ).then(function(){\n",
       "                            \n",
       "var gd = document.getElementById('80ea622d-3c96-441c-a3b8-d5137bf0f5e9');\n",
       "var x = new MutationObserver(function (mutations, observer) {{\n",
       "        var display = window.getComputedStyle(gd).display;\n",
       "        if (!display || display === 'none') {{\n",
       "            console.log([gd, 'removed!']);\n",
       "            Plotly.purge(gd);\n",
       "            observer.disconnect();\n",
       "        }}\n",
       "}});\n",
       "\n",
       "// Listen for the removal of the full notebook cells\n",
       "var notebookContainer = gd.closest('#notebook-container');\n",
       "if (notebookContainer) {{\n",
       "    x.observe(notebookContainer, {childList: true});\n",
       "}}\n",
       "\n",
       "// Listen for the clearing of the current output cell\n",
       "var outputEl = gd.closest('.output');\n",
       "if (outputEl) {{\n",
       "    x.observe(outputEl, {childList: true});\n",
       "}}\n",
       "\n",
       "                        })\n",
       "                };\n",
       "                });\n",
       "            </script>\n",
       "        </div>"
      ]
     },
     "metadata": {},
     "output_type": "display_data"
    }
   ],
   "source": [
    "df3 = pd.DataFrame({'x':[1,2,3,4,5],'y':[10,20,30,20,10],'z':[5,4,3,2,1]})\n",
    "df3.iplot(kind='surface',colorscale='rdylbu')"
   ]
  },
  {
   "cell_type": "markdown",
   "metadata": {},
   "source": [
    "## Spread"
   ]
  },
  {
   "cell_type": "code",
   "execution_count": 15,
   "metadata": {
    "jupyter": {
     "outputs_hidden": false
    }
   },
   "outputs": [
    {
     "name": "stderr",
     "output_type": "stream",
     "text": [
      "C:\\Users\\Himanshu\\anaconda3\\envs\\tf1\\lib\\site-packages\\cufflinks\\plotlytools.py:849: FutureWarning:\n",
      "\n",
      "The pandas.np module is deprecated and will be removed from pandas in a future version. Import numpy directly instead\n",
      "\n",
      "C:\\Users\\Himanshu\\anaconda3\\envs\\tf1\\lib\\site-packages\\cufflinks\\plotlytools.py:850: FutureWarning:\n",
      "\n",
      "The pandas.np module is deprecated and will be removed from pandas in a future version. Import numpy directly instead\n",
      "\n"
     ]
    },
    {
     "data": {
      "application/vnd.plotly.v1+json": {
       "config": {
        "linkText": "Export to plot.ly",
        "plotlyServerURL": "https://plot.ly",
        "showLink": true
       },
       "data": [
        {
         "line": {
          "color": "rgba(255, 153, 51, 1.0)",
          "dash": "solid",
          "shape": "linear",
          "width": 1.3
         },
         "mode": "lines",
         "name": "A",
         "text": "",
         "type": "scatter",
         "x": [
          0,
          1,
          2,
          3,
          4,
          5,
          6,
          7,
          8,
          9,
          10,
          11,
          12,
          13,
          14,
          15,
          16,
          17,
          18,
          19,
          20,
          21,
          22,
          23,
          24,
          25,
          26,
          27,
          28,
          29,
          30,
          31,
          32,
          33,
          34,
          35,
          36,
          37,
          38,
          39,
          40,
          41,
          42,
          43,
          44,
          45,
          46,
          47,
          48,
          49,
          50,
          51,
          52,
          53,
          54,
          55,
          56,
          57,
          58,
          59,
          60,
          61,
          62,
          63,
          64,
          65,
          66,
          67,
          68,
          69,
          70,
          71,
          72,
          73,
          74,
          75,
          76,
          77,
          78,
          79,
          80,
          81,
          82,
          83,
          84,
          85,
          86,
          87,
          88,
          89,
          90,
          91,
          92,
          93,
          94,
          95,
          96,
          97,
          98,
          99
         ],
         "y": [
          1.940291908011102,
          -0.43602033128621526,
          -0.48460214045660277,
          -1.0240471641424937,
          0.07834813558886017,
          -0.03664652387595461,
          -0.3129739035091516,
          -2.334547594397871,
          1.8228858929130831,
          1.5711886392255132,
          -2.364881578802697,
          1.4616947574353703,
          -0.4987309829110831,
          1.5617852729463797,
          0.27096936324438226,
          -0.6303478616043724,
          -1.5081522475000202,
          1.7029399159062886,
          -0.5595680928927093,
          -1.2503555447771197,
          0.8046047778907405,
          -0.8662211973605952,
          0.5836035330903515,
          -1.6882300309849554,
          0.5249023960622097,
          0.8738634367385915,
          -0.7011217630000545,
          -0.11281811880033381,
          1.9132226852451233,
          0.21515592223039476,
          -1.5250854327856227,
          -0.1590202944556442,
          -0.4527591510178096,
          -1.1110076710922145,
          -0.9041890618466469,
          -1.05375893360304,
          0.45947755704608234,
          0.4151947410799361,
          -1.4538365237286752,
          -0.5787259904446689,
          1.0876123636309982,
          -0.256605975290541,
          0.13329166285795085,
          -0.9077772592137843,
          0.03249663834892144,
          1.0142902752121234,
          -0.3344369309963581,
          -0.09121153691247674,
          -0.40669721394299546,
          0.02744157623740808,
          -1.5452805971626824,
          -1.3511169562269885,
          0.01158109319398306,
          -0.9149503343075752,
          -1.1025417006876994,
          -0.5048494637049264,
          -0.2567919047639987,
          0.01093619218693575,
          -0.1356930776970061,
          0.10026165369166105,
          1.1717276766409668,
          -0.6434971360362067,
          0.34067344818628176,
          0.8863816354805312,
          -0.10132359942293251,
          0.07605559055080867,
          -0.6913446582930974,
          -1.2920514173129505,
          -1.3009741161906287,
          1.2876633447677763,
          -1.4445628899407343,
          0.259865688457576,
          1.8478838525077084,
          -0.41108510928550895,
          0.2893624467427053,
          0.748614342294359,
          0.9263547679541281,
          0.635161754847521,
          0.28256247565135617,
          1.5126383882427301,
          -0.7632724161850403,
          -0.2983928325770369,
          0.37300270064839636,
          1.0871880926061648,
          2.6572202224944146,
          -1.9722183777917304,
          0.18564568416487742,
          -0.9814354534461059,
          -0.5474587763161223,
          0.03598568118577001,
          -0.23166847854919972,
          -1.1346148101716846,
          -0.9036756738680616,
          -0.0404909774929333,
          -0.7164950094764136,
          -0.06435143860746836,
          -0.07591268221618847,
          -0.5296157564584758,
          0.2931309732891985,
          -0.1006868486366963
         ]
        },
        {
         "line": {
          "color": "rgba(55, 128, 191, 1.0)",
          "dash": "solid",
          "shape": "linear",
          "width": 1.3
         },
         "mode": "lines",
         "name": "B",
         "text": "",
         "type": "scatter",
         "x": [
          0,
          1,
          2,
          3,
          4,
          5,
          6,
          7,
          8,
          9,
          10,
          11,
          12,
          13,
          14,
          15,
          16,
          17,
          18,
          19,
          20,
          21,
          22,
          23,
          24,
          25,
          26,
          27,
          28,
          29,
          30,
          31,
          32,
          33,
          34,
          35,
          36,
          37,
          38,
          39,
          40,
          41,
          42,
          43,
          44,
          45,
          46,
          47,
          48,
          49,
          50,
          51,
          52,
          53,
          54,
          55,
          56,
          57,
          58,
          59,
          60,
          61,
          62,
          63,
          64,
          65,
          66,
          67,
          68,
          69,
          70,
          71,
          72,
          73,
          74,
          75,
          76,
          77,
          78,
          79,
          80,
          81,
          82,
          83,
          84,
          85,
          86,
          87,
          88,
          89,
          90,
          91,
          92,
          93,
          94,
          95,
          96,
          97,
          98,
          99
         ],
         "y": [
          -0.42790688434940893,
          1.1023212831129967,
          1.1887901480514325,
          1.0732111845425714,
          -0.36657365759249483,
          -0.5656473349592283,
          -0.052425381012257515,
          1.1967973487129693,
          -1.9204162179742734,
          0.49499173286988396,
          0.03177713886948559,
          2.0395208180242643,
          -0.43859191833447764,
          1.4803364226090499,
          0.12666444902249152,
          -1.649742282114302,
          0.5870377856553117,
          2.2710802059818387,
          -0.30189613702080215,
          -0.7473224975631962,
          -1.900915231301534,
          -0.3708915752256786,
          -0.6999856013421171,
          -2.0196320119393696,
          0.21564852508540636,
          -0.33120503933020584,
          -0.41383604470641094,
          -0.47804860178887726,
          -0.7092972940284749,
          0.5778318584490235,
          -0.4101017143331438,
          -0.5352139410516578,
          -0.7862257663300574,
          0.6939896876836772,
          0.5326883503544092,
          1.5131372743263152,
          0.4166429553616738,
          0.2528413795800169,
          -0.855163816308513,
          -0.14730575159544035,
          0.28800779576442737,
          -1.4143330241262138,
          -0.1499239941006353,
          1.007051705598499,
          0.7490749925322414,
          -1.426002197503157,
          -1.279040263458639,
          -2.154585408397387,
          0.9533137961235957,
          -1.175672610090137,
          1.4978861553591707,
          1.4435405003817126,
          0.16563658417772678,
          -0.6623006604152534,
          -0.49891553469198524,
          1.9747739497342782,
          0.10501534948661304,
          0.14056313980420468,
          -2.002254240703674,
          0.7190327472356344,
          -0.881783930208081,
          0.25366385499380195,
          -0.5874379416344943,
          -1.6289419914202181,
          0.8301884314766689,
          0.7747392373953594,
          -0.6875231198482459,
          0.12024538466383536,
          1.3670594450102325,
          0.5827452306838281,
          -0.530278447900754,
          0.05614891806237901,
          0.7790080419810892,
          1.446161850152793,
          0.1404383743784033,
          -1.276468775850176,
          -1.2232777640277335,
          -1.0818283123154933,
          1.2036621750038603,
          0.10999185836379068,
          -1.1292034967068854,
          -1.4838806863523342,
          0.7118756638641246,
          -0.5259681147027214,
          0.3274831050418921,
          -0.8385036986314343,
          -0.1876452907738252,
          -0.48443317356575794,
          -0.06461280053411844,
          -1.1236064929290808,
          0.8555082423265195,
          1.3065424209543985,
          0.07851453225301613,
          0.4895930528339927,
          0.28602019675591833,
          -0.9257653387478679,
          0.02203108690296603,
          -0.5784050702216772,
          0.5342364290101148,
          0.07580009014358847
         ]
        },
        {
         "connectgaps": false,
         "fill": "tozeroy",
         "line": {
          "color": "green",
          "dash": "solid",
          "shape": "linear",
          "width": 0.5
         },
         "mode": "lines",
         "name": "Spread",
         "showlegend": false,
         "type": "scatter",
         "x": [
          0,
          1,
          2,
          3,
          4,
          5,
          6,
          7,
          8,
          9,
          10,
          11,
          12,
          13,
          14,
          15,
          16,
          17,
          18,
          19,
          20,
          21,
          22,
          23,
          24,
          25,
          26,
          27,
          28,
          29,
          30,
          31,
          32,
          33,
          34,
          35,
          36,
          37,
          38,
          39,
          40,
          41,
          42,
          43,
          44,
          45,
          46,
          47,
          48,
          49,
          50,
          51,
          52,
          53,
          54,
          55,
          56,
          57,
          58,
          59,
          60,
          61,
          62,
          63,
          64,
          65,
          66,
          67,
          68,
          69,
          70,
          71,
          72,
          73,
          74,
          75,
          76,
          77,
          78,
          79,
          80,
          81,
          82,
          83,
          84,
          85,
          86,
          87,
          88,
          89,
          90,
          91,
          92,
          93,
          94,
          95,
          96,
          97,
          98,
          99
         ],
         "xaxis": "x2",
         "y": [
          2.368198792360511,
          "",
          "",
          "",
          0.444921793181355,
          0.5290008110832737,
          "",
          "",
          3.7433021108873565,
          1.0761969063556291,
          "",
          "",
          "",
          0.08144885033732985,
          0.14430491422189073,
          1.0193944205099297,
          "",
          "",
          "",
          "",
          2.7055200091922744,
          "",
          1.2835891344324686,
          0.3314019809544142,
          0.30925387097680335,
          1.2050684760687973,
          "",
          0.36523048298854344,
          2.6225199792735983,
          "",
          "",
          0.37619364659601356,
          0.33346661531224775,
          "",
          "",
          "",
          0.04283460168440856,
          0.1623533614999192,
          "",
          "",
          0.7996045678665709,
          1.1577270488356728,
          0.2832156569585862,
          "",
          "",
          2.4402924727152806,
          0.944603332462281,
          2.0633738714849104,
          "",
          1.203114186327545,
          "",
          "",
          "",
          "",
          "",
          "",
          "",
          "",
          1.866561163006668,
          "",
          2.0535116068490478,
          "",
          0.928111389820776,
          2.5153236269007495,
          "",
          "",
          "",
          "",
          "",
          0.7049181140839482,
          "",
          0.203716770395197,
          1.0688758105266192,
          "",
          0.14892407236430197,
          2.025083118144535,
          2.1496325319818617,
          1.7169900671630143,
          "",
          1.4026465298789395,
          0.3659310805218451,
          1.1854878537752973,
          "",
          1.613156207308886,
          2.3297371174525225,
          "",
          0.3732909749387026,
          "",
          "",
          1.1595921741148507,
          "",
          "",
          "",
          "",
          "",
          0.8614139001403995,
          "",
          0.04878931376320139,
          "",
          ""
         ],
         "yaxis": "y2"
        },
        {
         "connectgaps": false,
         "fill": "tozeroy",
         "line": {
          "color": "red",
          "dash": "solid",
          "shape": "linear",
          "width": 0.5
         },
         "mode": "lines",
         "name": "Spread",
         "showlegend": false,
         "type": "scatter",
         "x": [
          0,
          1,
          2,
          3,
          4,
          5,
          6,
          7,
          8,
          9,
          10,
          11,
          12,
          13,
          14,
          15,
          16,
          17,
          18,
          19,
          20,
          21,
          22,
          23,
          24,
          25,
          26,
          27,
          28,
          29,
          30,
          31,
          32,
          33,
          34,
          35,
          36,
          37,
          38,
          39,
          40,
          41,
          42,
          43,
          44,
          45,
          46,
          47,
          48,
          49,
          50,
          51,
          52,
          53,
          54,
          55,
          56,
          57,
          58,
          59,
          60,
          61,
          62,
          63,
          64,
          65,
          66,
          67,
          68,
          69,
          70,
          71,
          72,
          73,
          74,
          75,
          76,
          77,
          78,
          79,
          80,
          81,
          82,
          83,
          84,
          85,
          86,
          87,
          88,
          89,
          90,
          91,
          92,
          93,
          94,
          95,
          96,
          97,
          98,
          99
         ],
         "xaxis": "x2",
         "y": [
          "",
          -1.538341614399212,
          -1.6733922885080352,
          -2.097258348685065,
          "",
          "",
          -0.2605485224968941,
          -3.5313449431108404,
          "",
          "",
          -2.3966587176721825,
          -0.5778260605888941,
          -0.06013906457660545,
          "",
          "",
          "",
          -2.095190033155332,
          -0.5681402900755501,
          -0.2576719558719071,
          -0.5030330472139235,
          "",
          -0.4953296221349166,
          "",
          "",
          "",
          "",
          -0.2872857182936435,
          "",
          "",
          -0.36267593621862876,
          -1.114983718452479,
          "",
          "",
          -1.8049973587758918,
          -1.4368774122010561,
          -2.5668962079293554,
          "",
          "",
          -0.5986727074201622,
          -0.43142023884922853,
          "",
          "",
          "",
          -1.9148289648122834,
          -0.7165783541833199,
          "",
          "",
          "",
          -1.3600110100665912,
          "",
          -3.043166752521853,
          -2.794657456608701,
          -0.15405549098374371,
          -0.25264967389232185,
          -0.6036261659957142,
          -2.479623413439205,
          -0.3618072542506118,
          -0.12962694761726892,
          "",
          -0.6187710935439733,
          "",
          -0.8971609910300087,
          "",
          "",
          -0.9315120308996014,
          -0.6986836468445508,
          -0.0038215384448515577,
          -1.4122968019767859,
          -2.668033561200861,
          "",
          -0.9142844420399804,
          "",
          "",
          -1.857246959438302,
          "",
          "",
          "",
          "",
          -0.9210996993525041,
          "",
          "",
          "",
          -0.33887296321572824,
          "",
          "",
          -1.1337146791602961,
          "",
          -0.497002279880348,
          -0.48284597578200383,
          "",
          -1.0871767208757193,
          -2.441157231126083,
          -0.9821902061210777,
          -0.530084030326926,
          -1.002515206232332,
          "",
          -0.09794376911915449,
          "",
          -0.2411054557209163,
          -0.17648693878028476
         ],
         "yaxis": "y2"
        }
       ],
       "layout": {
        "hovermode": "x",
        "legend": {
         "bgcolor": "#F5F6F9",
         "font": {
          "color": "#4D5663"
         }
        },
        "paper_bgcolor": "#F5F6F9",
        "plot_bgcolor": "#F5F6F9",
        "template": {
         "data": {
          "bar": [
           {
            "error_x": {
             "color": "#2a3f5f"
            },
            "error_y": {
             "color": "#2a3f5f"
            },
            "marker": {
             "line": {
              "color": "#E5ECF6",
              "width": 0.5
             }
            },
            "type": "bar"
           }
          ],
          "barpolar": [
           {
            "marker": {
             "line": {
              "color": "#E5ECF6",
              "width": 0.5
             }
            },
            "type": "barpolar"
           }
          ],
          "carpet": [
           {
            "aaxis": {
             "endlinecolor": "#2a3f5f",
             "gridcolor": "white",
             "linecolor": "white",
             "minorgridcolor": "white",
             "startlinecolor": "#2a3f5f"
            },
            "baxis": {
             "endlinecolor": "#2a3f5f",
             "gridcolor": "white",
             "linecolor": "white",
             "minorgridcolor": "white",
             "startlinecolor": "#2a3f5f"
            },
            "type": "carpet"
           }
          ],
          "choropleth": [
           {
            "colorbar": {
             "outlinewidth": 0,
             "ticks": ""
            },
            "type": "choropleth"
           }
          ],
          "contour": [
           {
            "colorbar": {
             "outlinewidth": 0,
             "ticks": ""
            },
            "colorscale": [
             [
              0,
              "#0d0887"
             ],
             [
              0.1111111111111111,
              "#46039f"
             ],
             [
              0.2222222222222222,
              "#7201a8"
             ],
             [
              0.3333333333333333,
              "#9c179e"
             ],
             [
              0.4444444444444444,
              "#bd3786"
             ],
             [
              0.5555555555555556,
              "#d8576b"
             ],
             [
              0.6666666666666666,
              "#ed7953"
             ],
             [
              0.7777777777777778,
              "#fb9f3a"
             ],
             [
              0.8888888888888888,
              "#fdca26"
             ],
             [
              1,
              "#f0f921"
             ]
            ],
            "type": "contour"
           }
          ],
          "contourcarpet": [
           {
            "colorbar": {
             "outlinewidth": 0,
             "ticks": ""
            },
            "type": "contourcarpet"
           }
          ],
          "heatmap": [
           {
            "colorbar": {
             "outlinewidth": 0,
             "ticks": ""
            },
            "colorscale": [
             [
              0,
              "#0d0887"
             ],
             [
              0.1111111111111111,
              "#46039f"
             ],
             [
              0.2222222222222222,
              "#7201a8"
             ],
             [
              0.3333333333333333,
              "#9c179e"
             ],
             [
              0.4444444444444444,
              "#bd3786"
             ],
             [
              0.5555555555555556,
              "#d8576b"
             ],
             [
              0.6666666666666666,
              "#ed7953"
             ],
             [
              0.7777777777777778,
              "#fb9f3a"
             ],
             [
              0.8888888888888888,
              "#fdca26"
             ],
             [
              1,
              "#f0f921"
             ]
            ],
            "type": "heatmap"
           }
          ],
          "heatmapgl": [
           {
            "colorbar": {
             "outlinewidth": 0,
             "ticks": ""
            },
            "colorscale": [
             [
              0,
              "#0d0887"
             ],
             [
              0.1111111111111111,
              "#46039f"
             ],
             [
              0.2222222222222222,
              "#7201a8"
             ],
             [
              0.3333333333333333,
              "#9c179e"
             ],
             [
              0.4444444444444444,
              "#bd3786"
             ],
             [
              0.5555555555555556,
              "#d8576b"
             ],
             [
              0.6666666666666666,
              "#ed7953"
             ],
             [
              0.7777777777777778,
              "#fb9f3a"
             ],
             [
              0.8888888888888888,
              "#fdca26"
             ],
             [
              1,
              "#f0f921"
             ]
            ],
            "type": "heatmapgl"
           }
          ],
          "histogram": [
           {
            "marker": {
             "colorbar": {
              "outlinewidth": 0,
              "ticks": ""
             }
            },
            "type": "histogram"
           }
          ],
          "histogram2d": [
           {
            "colorbar": {
             "outlinewidth": 0,
             "ticks": ""
            },
            "colorscale": [
             [
              0,
              "#0d0887"
             ],
             [
              0.1111111111111111,
              "#46039f"
             ],
             [
              0.2222222222222222,
              "#7201a8"
             ],
             [
              0.3333333333333333,
              "#9c179e"
             ],
             [
              0.4444444444444444,
              "#bd3786"
             ],
             [
              0.5555555555555556,
              "#d8576b"
             ],
             [
              0.6666666666666666,
              "#ed7953"
             ],
             [
              0.7777777777777778,
              "#fb9f3a"
             ],
             [
              0.8888888888888888,
              "#fdca26"
             ],
             [
              1,
              "#f0f921"
             ]
            ],
            "type": "histogram2d"
           }
          ],
          "histogram2dcontour": [
           {
            "colorbar": {
             "outlinewidth": 0,
             "ticks": ""
            },
            "colorscale": [
             [
              0,
              "#0d0887"
             ],
             [
              0.1111111111111111,
              "#46039f"
             ],
             [
              0.2222222222222222,
              "#7201a8"
             ],
             [
              0.3333333333333333,
              "#9c179e"
             ],
             [
              0.4444444444444444,
              "#bd3786"
             ],
             [
              0.5555555555555556,
              "#d8576b"
             ],
             [
              0.6666666666666666,
              "#ed7953"
             ],
             [
              0.7777777777777778,
              "#fb9f3a"
             ],
             [
              0.8888888888888888,
              "#fdca26"
             ],
             [
              1,
              "#f0f921"
             ]
            ],
            "type": "histogram2dcontour"
           }
          ],
          "mesh3d": [
           {
            "colorbar": {
             "outlinewidth": 0,
             "ticks": ""
            },
            "type": "mesh3d"
           }
          ],
          "parcoords": [
           {
            "line": {
             "colorbar": {
              "outlinewidth": 0,
              "ticks": ""
             }
            },
            "type": "parcoords"
           }
          ],
          "pie": [
           {
            "automargin": true,
            "type": "pie"
           }
          ],
          "scatter": [
           {
            "marker": {
             "colorbar": {
              "outlinewidth": 0,
              "ticks": ""
             }
            },
            "type": "scatter"
           }
          ],
          "scatter3d": [
           {
            "line": {
             "colorbar": {
              "outlinewidth": 0,
              "ticks": ""
             }
            },
            "marker": {
             "colorbar": {
              "outlinewidth": 0,
              "ticks": ""
             }
            },
            "type": "scatter3d"
           }
          ],
          "scattercarpet": [
           {
            "marker": {
             "colorbar": {
              "outlinewidth": 0,
              "ticks": ""
             }
            },
            "type": "scattercarpet"
           }
          ],
          "scattergeo": [
           {
            "marker": {
             "colorbar": {
              "outlinewidth": 0,
              "ticks": ""
             }
            },
            "type": "scattergeo"
           }
          ],
          "scattergl": [
           {
            "marker": {
             "colorbar": {
              "outlinewidth": 0,
              "ticks": ""
             }
            },
            "type": "scattergl"
           }
          ],
          "scattermapbox": [
           {
            "marker": {
             "colorbar": {
              "outlinewidth": 0,
              "ticks": ""
             }
            },
            "type": "scattermapbox"
           }
          ],
          "scatterpolar": [
           {
            "marker": {
             "colorbar": {
              "outlinewidth": 0,
              "ticks": ""
             }
            },
            "type": "scatterpolar"
           }
          ],
          "scatterpolargl": [
           {
            "marker": {
             "colorbar": {
              "outlinewidth": 0,
              "ticks": ""
             }
            },
            "type": "scatterpolargl"
           }
          ],
          "scatterternary": [
           {
            "marker": {
             "colorbar": {
              "outlinewidth": 0,
              "ticks": ""
             }
            },
            "type": "scatterternary"
           }
          ],
          "surface": [
           {
            "colorbar": {
             "outlinewidth": 0,
             "ticks": ""
            },
            "colorscale": [
             [
              0,
              "#0d0887"
             ],
             [
              0.1111111111111111,
              "#46039f"
             ],
             [
              0.2222222222222222,
              "#7201a8"
             ],
             [
              0.3333333333333333,
              "#9c179e"
             ],
             [
              0.4444444444444444,
              "#bd3786"
             ],
             [
              0.5555555555555556,
              "#d8576b"
             ],
             [
              0.6666666666666666,
              "#ed7953"
             ],
             [
              0.7777777777777778,
              "#fb9f3a"
             ],
             [
              0.8888888888888888,
              "#fdca26"
             ],
             [
              1,
              "#f0f921"
             ]
            ],
            "type": "surface"
           }
          ],
          "table": [
           {
            "cells": {
             "fill": {
              "color": "#EBF0F8"
             },
             "line": {
              "color": "white"
             }
            },
            "header": {
             "fill": {
              "color": "#C8D4E3"
             },
             "line": {
              "color": "white"
             }
            },
            "type": "table"
           }
          ]
         },
         "layout": {
          "annotationdefaults": {
           "arrowcolor": "#2a3f5f",
           "arrowhead": 0,
           "arrowwidth": 1
          },
          "coloraxis": {
           "colorbar": {
            "outlinewidth": 0,
            "ticks": ""
           }
          },
          "colorscale": {
           "diverging": [
            [
             0,
             "#8e0152"
            ],
            [
             0.1,
             "#c51b7d"
            ],
            [
             0.2,
             "#de77ae"
            ],
            [
             0.3,
             "#f1b6da"
            ],
            [
             0.4,
             "#fde0ef"
            ],
            [
             0.5,
             "#f7f7f7"
            ],
            [
             0.6,
             "#e6f5d0"
            ],
            [
             0.7,
             "#b8e186"
            ],
            [
             0.8,
             "#7fbc41"
            ],
            [
             0.9,
             "#4d9221"
            ],
            [
             1,
             "#276419"
            ]
           ],
           "sequential": [
            [
             0,
             "#0d0887"
            ],
            [
             0.1111111111111111,
             "#46039f"
            ],
            [
             0.2222222222222222,
             "#7201a8"
            ],
            [
             0.3333333333333333,
             "#9c179e"
            ],
            [
             0.4444444444444444,
             "#bd3786"
            ],
            [
             0.5555555555555556,
             "#d8576b"
            ],
            [
             0.6666666666666666,
             "#ed7953"
            ],
            [
             0.7777777777777778,
             "#fb9f3a"
            ],
            [
             0.8888888888888888,
             "#fdca26"
            ],
            [
             1,
             "#f0f921"
            ]
           ],
           "sequentialminus": [
            [
             0,
             "#0d0887"
            ],
            [
             0.1111111111111111,
             "#46039f"
            ],
            [
             0.2222222222222222,
             "#7201a8"
            ],
            [
             0.3333333333333333,
             "#9c179e"
            ],
            [
             0.4444444444444444,
             "#bd3786"
            ],
            [
             0.5555555555555556,
             "#d8576b"
            ],
            [
             0.6666666666666666,
             "#ed7953"
            ],
            [
             0.7777777777777778,
             "#fb9f3a"
            ],
            [
             0.8888888888888888,
             "#fdca26"
            ],
            [
             1,
             "#f0f921"
            ]
           ]
          },
          "colorway": [
           "#636efa",
           "#EF553B",
           "#00cc96",
           "#ab63fa",
           "#FFA15A",
           "#19d3f3",
           "#FF6692",
           "#B6E880",
           "#FF97FF",
           "#FECB52"
          ],
          "font": {
           "color": "#2a3f5f"
          },
          "geo": {
           "bgcolor": "white",
           "lakecolor": "white",
           "landcolor": "#E5ECF6",
           "showlakes": true,
           "showland": true,
           "subunitcolor": "white"
          },
          "hoverlabel": {
           "align": "left"
          },
          "hovermode": "closest",
          "mapbox": {
           "style": "light"
          },
          "paper_bgcolor": "white",
          "plot_bgcolor": "#E5ECF6",
          "polar": {
           "angularaxis": {
            "gridcolor": "white",
            "linecolor": "white",
            "ticks": ""
           },
           "bgcolor": "#E5ECF6",
           "radialaxis": {
            "gridcolor": "white",
            "linecolor": "white",
            "ticks": ""
           }
          },
          "scene": {
           "xaxis": {
            "backgroundcolor": "#E5ECF6",
            "gridcolor": "white",
            "gridwidth": 2,
            "linecolor": "white",
            "showbackground": true,
            "ticks": "",
            "zerolinecolor": "white"
           },
           "yaxis": {
            "backgroundcolor": "#E5ECF6",
            "gridcolor": "white",
            "gridwidth": 2,
            "linecolor": "white",
            "showbackground": true,
            "ticks": "",
            "zerolinecolor": "white"
           },
           "zaxis": {
            "backgroundcolor": "#E5ECF6",
            "gridcolor": "white",
            "gridwidth": 2,
            "linecolor": "white",
            "showbackground": true,
            "ticks": "",
            "zerolinecolor": "white"
           }
          },
          "shapedefaults": {
           "line": {
            "color": "#2a3f5f"
           }
          },
          "ternary": {
           "aaxis": {
            "gridcolor": "white",
            "linecolor": "white",
            "ticks": ""
           },
           "baxis": {
            "gridcolor": "white",
            "linecolor": "white",
            "ticks": ""
           },
           "bgcolor": "#E5ECF6",
           "caxis": {
            "gridcolor": "white",
            "linecolor": "white",
            "ticks": ""
           }
          },
          "title": {
           "x": 0.05
          },
          "xaxis": {
           "automargin": true,
           "gridcolor": "white",
           "linecolor": "white",
           "ticks": "",
           "title": {
            "standoff": 15
           },
           "zerolinecolor": "white",
           "zerolinewidth": 2
          },
          "yaxis": {
           "automargin": true,
           "gridcolor": "white",
           "linecolor": "white",
           "ticks": "",
           "title": {
            "standoff": 15
           },
           "zerolinecolor": "white",
           "zerolinewidth": 2
          }
         }
        },
        "title": {
         "font": {
          "color": "#4D5663"
         }
        },
        "xaxis": {
         "gridcolor": "#E1E5ED",
         "showgrid": true,
         "tickfont": {
          "color": "#4D5663"
         },
         "title": {
          "font": {
           "color": "#4D5663"
          },
          "text": ""
         },
         "zerolinecolor": "#E1E5ED"
        },
        "xaxis2": {
         "anchor": "y2",
         "gridcolor": "#E1E5ED",
         "showgrid": true,
         "showticklabels": false,
         "tickfont": {
          "color": "#4D5663"
         },
         "title": {
          "font": {
           "color": "#4D5663"
          },
          "text": ""
         },
         "zerolinecolor": "#E1E5ED"
        },
        "yaxis": {
         "domain": [
          0.3,
          1
         ],
         "gridcolor": "#E1E5ED",
         "showgrid": true,
         "tickfont": {
          "color": "#4D5663"
         },
         "title": {
          "font": {
           "color": "#4D5663"
          },
          "text": ""
         },
         "zerolinecolor": "#E1E5ED"
        },
        "yaxis2": {
         "domain": [
          0,
          0.25
         ],
         "gridcolor": "#E1E5ED",
         "showgrid": true,
         "tickfont": {
          "color": "#4D5663"
         },
         "title": {
          "font": {
           "color": "#4D5663"
          },
          "text": "Spread"
         },
         "zerolinecolor": "#E1E5ED"
        }
       }
      },
      "text/html": [
       "<div>\n",
       "        \n",
       "        \n",
       "            <div id=\"67c0ec4c-8f77-4278-a100-b6c60944d6d2\" class=\"plotly-graph-div\" style=\"height:525px; width:100%;\"></div>\n",
       "            <script type=\"text/javascript\">\n",
       "                require([\"plotly\"], function(Plotly) {\n",
       "                    window.PLOTLYENV=window.PLOTLYENV || {};\n",
       "                    window.PLOTLYENV.BASE_URL='https://plot.ly';\n",
       "                    \n",
       "                if (document.getElementById(\"67c0ec4c-8f77-4278-a100-b6c60944d6d2\")) {\n",
       "                    Plotly.newPlot(\n",
       "                        '67c0ec4c-8f77-4278-a100-b6c60944d6d2',\n",
       "                        [{\"line\": {\"color\": \"rgba(255, 153, 51, 1.0)\", \"dash\": \"solid\", \"shape\": \"linear\", \"width\": 1.3}, \"mode\": \"lines\", \"name\": \"A\", \"text\": \"\", \"type\": \"scatter\", \"x\": [0, 1, 2, 3, 4, 5, 6, 7, 8, 9, 10, 11, 12, 13, 14, 15, 16, 17, 18, 19, 20, 21, 22, 23, 24, 25, 26, 27, 28, 29, 30, 31, 32, 33, 34, 35, 36, 37, 38, 39, 40, 41, 42, 43, 44, 45, 46, 47, 48, 49, 50, 51, 52, 53, 54, 55, 56, 57, 58, 59, 60, 61, 62, 63, 64, 65, 66, 67, 68, 69, 70, 71, 72, 73, 74, 75, 76, 77, 78, 79, 80, 81, 82, 83, 84, 85, 86, 87, 88, 89, 90, 91, 92, 93, 94, 95, 96, 97, 98, 99], \"y\": [1.940291908011102, -0.43602033128621526, -0.48460214045660277, -1.0240471641424937, 0.07834813558886017, -0.03664652387595461, -0.3129739035091516, -2.334547594397871, 1.8228858929130831, 1.5711886392255132, -2.364881578802697, 1.4616947574353703, -0.4987309829110831, 1.5617852729463797, 0.27096936324438226, -0.6303478616043724, -1.5081522475000202, 1.7029399159062886, -0.5595680928927093, -1.2503555447771197, 0.8046047778907405, -0.8662211973605952, 0.5836035330903515, -1.6882300309849554, 0.5249023960622097, 0.8738634367385915, -0.7011217630000545, -0.11281811880033381, 1.9132226852451233, 0.21515592223039476, -1.5250854327856227, -0.1590202944556442, -0.4527591510178096, -1.1110076710922145, -0.9041890618466469, -1.05375893360304, 0.45947755704608234, 0.4151947410799361, -1.4538365237286752, -0.5787259904446689, 1.0876123636309982, -0.256605975290541, 0.13329166285795085, -0.9077772592137843, 0.03249663834892144, 1.0142902752121234, -0.3344369309963581, -0.09121153691247674, -0.40669721394299546, 0.02744157623740808, -1.5452805971626824, -1.3511169562269885, 0.01158109319398306, -0.9149503343075752, -1.1025417006876994, -0.5048494637049264, -0.2567919047639987, 0.01093619218693575, -0.1356930776970061, 0.10026165369166105, 1.1717276766409668, -0.6434971360362067, 0.34067344818628176, 0.8863816354805312, -0.10132359942293251, 0.07605559055080867, -0.6913446582930974, -1.2920514173129505, -1.3009741161906287, 1.2876633447677763, -1.4445628899407343, 0.259865688457576, 1.8478838525077084, -0.41108510928550895, 0.2893624467427053, 0.748614342294359, 0.9263547679541281, 0.635161754847521, 0.28256247565135617, 1.5126383882427301, -0.7632724161850403, -0.2983928325770369, 0.37300270064839636, 1.0871880926061648, 2.6572202224944146, -1.9722183777917304, 0.18564568416487742, -0.9814354534461059, -0.5474587763161223, 0.03598568118577001, -0.23166847854919972, -1.1346148101716846, -0.9036756738680616, -0.0404909774929333, -0.7164950094764136, -0.06435143860746836, -0.07591268221618847, -0.5296157564584758, 0.2931309732891985, -0.1006868486366963]}, {\"line\": {\"color\": \"rgba(55, 128, 191, 1.0)\", \"dash\": \"solid\", \"shape\": \"linear\", \"width\": 1.3}, \"mode\": \"lines\", \"name\": \"B\", \"text\": \"\", \"type\": \"scatter\", \"x\": [0, 1, 2, 3, 4, 5, 6, 7, 8, 9, 10, 11, 12, 13, 14, 15, 16, 17, 18, 19, 20, 21, 22, 23, 24, 25, 26, 27, 28, 29, 30, 31, 32, 33, 34, 35, 36, 37, 38, 39, 40, 41, 42, 43, 44, 45, 46, 47, 48, 49, 50, 51, 52, 53, 54, 55, 56, 57, 58, 59, 60, 61, 62, 63, 64, 65, 66, 67, 68, 69, 70, 71, 72, 73, 74, 75, 76, 77, 78, 79, 80, 81, 82, 83, 84, 85, 86, 87, 88, 89, 90, 91, 92, 93, 94, 95, 96, 97, 98, 99], \"y\": [-0.42790688434940893, 1.1023212831129967, 1.1887901480514325, 1.0732111845425714, -0.36657365759249483, -0.5656473349592283, -0.052425381012257515, 1.1967973487129693, -1.9204162179742734, 0.49499173286988396, 0.03177713886948559, 2.0395208180242643, -0.43859191833447764, 1.4803364226090499, 0.12666444902249152, -1.649742282114302, 0.5870377856553117, 2.2710802059818387, -0.30189613702080215, -0.7473224975631962, -1.900915231301534, -0.3708915752256786, -0.6999856013421171, -2.0196320119393696, 0.21564852508540636, -0.33120503933020584, -0.41383604470641094, -0.47804860178887726, -0.7092972940284749, 0.5778318584490235, -0.4101017143331438, -0.5352139410516578, -0.7862257663300574, 0.6939896876836772, 0.5326883503544092, 1.5131372743263152, 0.4166429553616738, 0.2528413795800169, -0.855163816308513, -0.14730575159544035, 0.28800779576442737, -1.4143330241262138, -0.1499239941006353, 1.007051705598499, 0.7490749925322414, -1.426002197503157, -1.279040263458639, -2.154585408397387, 0.9533137961235957, -1.175672610090137, 1.4978861553591707, 1.4435405003817126, 0.16563658417772678, -0.6623006604152534, -0.49891553469198524, 1.9747739497342782, 0.10501534948661304, 0.14056313980420468, -2.002254240703674, 0.7190327472356344, -0.881783930208081, 0.25366385499380195, -0.5874379416344943, -1.6289419914202181, 0.8301884314766689, 0.7747392373953594, -0.6875231198482459, 0.12024538466383536, 1.3670594450102325, 0.5827452306838281, -0.530278447900754, 0.05614891806237901, 0.7790080419810892, 1.446161850152793, 0.1404383743784033, -1.276468775850176, -1.2232777640277335, -1.0818283123154933, 1.2036621750038603, 0.10999185836379068, -1.1292034967068854, -1.4838806863523342, 0.7118756638641246, -0.5259681147027214, 0.3274831050418921, -0.8385036986314343, -0.1876452907738252, -0.48443317356575794, -0.06461280053411844, -1.1236064929290808, 0.8555082423265195, 1.3065424209543985, 0.07851453225301613, 0.4895930528339927, 0.28602019675591833, -0.9257653387478679, 0.02203108690296603, -0.5784050702216772, 0.5342364290101148, 0.07580009014358847]}, {\"connectgaps\": false, \"fill\": \"tozeroy\", \"line\": {\"color\": \"green\", \"dash\": \"solid\", \"shape\": \"linear\", \"width\": 0.5}, \"mode\": \"lines\", \"name\": \"Spread\", \"showlegend\": false, \"type\": \"scatter\", \"x\": [0, 1, 2, 3, 4, 5, 6, 7, 8, 9, 10, 11, 12, 13, 14, 15, 16, 17, 18, 19, 20, 21, 22, 23, 24, 25, 26, 27, 28, 29, 30, 31, 32, 33, 34, 35, 36, 37, 38, 39, 40, 41, 42, 43, 44, 45, 46, 47, 48, 49, 50, 51, 52, 53, 54, 55, 56, 57, 58, 59, 60, 61, 62, 63, 64, 65, 66, 67, 68, 69, 70, 71, 72, 73, 74, 75, 76, 77, 78, 79, 80, 81, 82, 83, 84, 85, 86, 87, 88, 89, 90, 91, 92, 93, 94, 95, 96, 97, 98, 99], \"xaxis\": \"x2\", \"y\": [2.368198792360511, \"\", \"\", \"\", 0.444921793181355, 0.5290008110832737, \"\", \"\", 3.7433021108873565, 1.0761969063556291, \"\", \"\", \"\", 0.08144885033732985, 0.14430491422189073, 1.0193944205099297, \"\", \"\", \"\", \"\", 2.7055200091922744, \"\", 1.2835891344324686, 0.3314019809544142, 0.30925387097680335, 1.2050684760687973, \"\", 0.36523048298854344, 2.6225199792735983, \"\", \"\", 0.37619364659601356, 0.33346661531224775, \"\", \"\", \"\", 0.04283460168440856, 0.1623533614999192, \"\", \"\", 0.7996045678665709, 1.1577270488356728, 0.2832156569585862, \"\", \"\", 2.4402924727152806, 0.944603332462281, 2.0633738714849104, \"\", 1.203114186327545, \"\", \"\", \"\", \"\", \"\", \"\", \"\", \"\", 1.866561163006668, \"\", 2.0535116068490478, \"\", 0.928111389820776, 2.5153236269007495, \"\", \"\", \"\", \"\", \"\", 0.7049181140839482, \"\", 0.203716770395197, 1.0688758105266192, \"\", 0.14892407236430197, 2.025083118144535, 2.1496325319818617, 1.7169900671630143, \"\", 1.4026465298789395, 0.3659310805218451, 1.1854878537752973, \"\", 1.613156207308886, 2.3297371174525225, \"\", 0.3732909749387026, \"\", \"\", 1.1595921741148507, \"\", \"\", \"\", \"\", \"\", 0.8614139001403995, \"\", 0.04878931376320139, \"\", \"\"], \"yaxis\": \"y2\"}, {\"connectgaps\": false, \"fill\": \"tozeroy\", \"line\": {\"color\": \"red\", \"dash\": \"solid\", \"shape\": \"linear\", \"width\": 0.5}, \"mode\": \"lines\", \"name\": \"Spread\", \"showlegend\": false, \"type\": \"scatter\", \"x\": [0, 1, 2, 3, 4, 5, 6, 7, 8, 9, 10, 11, 12, 13, 14, 15, 16, 17, 18, 19, 20, 21, 22, 23, 24, 25, 26, 27, 28, 29, 30, 31, 32, 33, 34, 35, 36, 37, 38, 39, 40, 41, 42, 43, 44, 45, 46, 47, 48, 49, 50, 51, 52, 53, 54, 55, 56, 57, 58, 59, 60, 61, 62, 63, 64, 65, 66, 67, 68, 69, 70, 71, 72, 73, 74, 75, 76, 77, 78, 79, 80, 81, 82, 83, 84, 85, 86, 87, 88, 89, 90, 91, 92, 93, 94, 95, 96, 97, 98, 99], \"xaxis\": \"x2\", \"y\": [\"\", -1.538341614399212, -1.6733922885080352, -2.097258348685065, \"\", \"\", -0.2605485224968941, -3.5313449431108404, \"\", \"\", -2.3966587176721825, -0.5778260605888941, -0.06013906457660545, \"\", \"\", \"\", -2.095190033155332, -0.5681402900755501, -0.2576719558719071, -0.5030330472139235, \"\", -0.4953296221349166, \"\", \"\", \"\", \"\", -0.2872857182936435, \"\", \"\", -0.36267593621862876, -1.114983718452479, \"\", \"\", -1.8049973587758918, -1.4368774122010561, -2.5668962079293554, \"\", \"\", -0.5986727074201622, -0.43142023884922853, \"\", \"\", \"\", -1.9148289648122834, -0.7165783541833199, \"\", \"\", \"\", -1.3600110100665912, \"\", -3.043166752521853, -2.794657456608701, -0.15405549098374371, -0.25264967389232185, -0.6036261659957142, -2.479623413439205, -0.3618072542506118, -0.12962694761726892, \"\", -0.6187710935439733, \"\", -0.8971609910300087, \"\", \"\", -0.9315120308996014, -0.6986836468445508, -0.0038215384448515577, -1.4122968019767859, -2.668033561200861, \"\", -0.9142844420399804, \"\", \"\", -1.857246959438302, \"\", \"\", \"\", \"\", -0.9210996993525041, \"\", \"\", \"\", -0.33887296321572824, \"\", \"\", -1.1337146791602961, \"\", -0.497002279880348, -0.48284597578200383, \"\", -1.0871767208757193, -2.441157231126083, -0.9821902061210777, -0.530084030326926, -1.002515206232332, \"\", -0.09794376911915449, \"\", -0.2411054557209163, -0.17648693878028476], \"yaxis\": \"y2\"}],\n",
       "                        {\"hovermode\": \"x\", \"legend\": {\"bgcolor\": \"#F5F6F9\", \"font\": {\"color\": \"#4D5663\"}}, \"paper_bgcolor\": \"#F5F6F9\", \"plot_bgcolor\": \"#F5F6F9\", \"template\": {\"data\": {\"bar\": [{\"error_x\": {\"color\": \"#2a3f5f\"}, \"error_y\": {\"color\": \"#2a3f5f\"}, \"marker\": {\"line\": {\"color\": \"#E5ECF6\", \"width\": 0.5}}, \"type\": \"bar\"}], \"barpolar\": [{\"marker\": {\"line\": {\"color\": \"#E5ECF6\", \"width\": 0.5}}, \"type\": \"barpolar\"}], \"carpet\": [{\"aaxis\": {\"endlinecolor\": \"#2a3f5f\", \"gridcolor\": \"white\", \"linecolor\": \"white\", \"minorgridcolor\": \"white\", \"startlinecolor\": \"#2a3f5f\"}, \"baxis\": {\"endlinecolor\": \"#2a3f5f\", \"gridcolor\": \"white\", \"linecolor\": \"white\", \"minorgridcolor\": \"white\", \"startlinecolor\": \"#2a3f5f\"}, \"type\": \"carpet\"}], \"choropleth\": [{\"colorbar\": {\"outlinewidth\": 0, \"ticks\": \"\"}, \"type\": \"choropleth\"}], \"contour\": [{\"colorbar\": {\"outlinewidth\": 0, \"ticks\": \"\"}, \"colorscale\": [[0.0, \"#0d0887\"], [0.1111111111111111, \"#46039f\"], [0.2222222222222222, \"#7201a8\"], [0.3333333333333333, \"#9c179e\"], [0.4444444444444444, \"#bd3786\"], [0.5555555555555556, \"#d8576b\"], [0.6666666666666666, \"#ed7953\"], [0.7777777777777778, \"#fb9f3a\"], [0.8888888888888888, \"#fdca26\"], [1.0, \"#f0f921\"]], \"type\": \"contour\"}], \"contourcarpet\": [{\"colorbar\": {\"outlinewidth\": 0, \"ticks\": \"\"}, \"type\": \"contourcarpet\"}], \"heatmap\": [{\"colorbar\": {\"outlinewidth\": 0, \"ticks\": \"\"}, \"colorscale\": [[0.0, \"#0d0887\"], [0.1111111111111111, \"#46039f\"], [0.2222222222222222, \"#7201a8\"], [0.3333333333333333, \"#9c179e\"], [0.4444444444444444, \"#bd3786\"], [0.5555555555555556, \"#d8576b\"], [0.6666666666666666, \"#ed7953\"], [0.7777777777777778, \"#fb9f3a\"], [0.8888888888888888, \"#fdca26\"], [1.0, \"#f0f921\"]], \"type\": \"heatmap\"}], \"heatmapgl\": [{\"colorbar\": {\"outlinewidth\": 0, \"ticks\": \"\"}, \"colorscale\": [[0.0, \"#0d0887\"], [0.1111111111111111, \"#46039f\"], [0.2222222222222222, \"#7201a8\"], [0.3333333333333333, \"#9c179e\"], [0.4444444444444444, \"#bd3786\"], [0.5555555555555556, \"#d8576b\"], [0.6666666666666666, \"#ed7953\"], [0.7777777777777778, \"#fb9f3a\"], [0.8888888888888888, \"#fdca26\"], [1.0, \"#f0f921\"]], \"type\": \"heatmapgl\"}], \"histogram\": [{\"marker\": {\"colorbar\": {\"outlinewidth\": 0, \"ticks\": \"\"}}, \"type\": \"histogram\"}], \"histogram2d\": [{\"colorbar\": {\"outlinewidth\": 0, \"ticks\": \"\"}, \"colorscale\": [[0.0, \"#0d0887\"], [0.1111111111111111, \"#46039f\"], [0.2222222222222222, \"#7201a8\"], [0.3333333333333333, \"#9c179e\"], [0.4444444444444444, \"#bd3786\"], [0.5555555555555556, \"#d8576b\"], [0.6666666666666666, \"#ed7953\"], [0.7777777777777778, \"#fb9f3a\"], [0.8888888888888888, \"#fdca26\"], [1.0, \"#f0f921\"]], \"type\": \"histogram2d\"}], \"histogram2dcontour\": [{\"colorbar\": {\"outlinewidth\": 0, \"ticks\": \"\"}, \"colorscale\": [[0.0, \"#0d0887\"], [0.1111111111111111, \"#46039f\"], [0.2222222222222222, \"#7201a8\"], [0.3333333333333333, \"#9c179e\"], [0.4444444444444444, \"#bd3786\"], [0.5555555555555556, \"#d8576b\"], [0.6666666666666666, \"#ed7953\"], [0.7777777777777778, \"#fb9f3a\"], [0.8888888888888888, \"#fdca26\"], [1.0, \"#f0f921\"]], \"type\": \"histogram2dcontour\"}], \"mesh3d\": [{\"colorbar\": {\"outlinewidth\": 0, \"ticks\": \"\"}, \"type\": \"mesh3d\"}], \"parcoords\": [{\"line\": {\"colorbar\": {\"outlinewidth\": 0, \"ticks\": \"\"}}, \"type\": \"parcoords\"}], \"pie\": [{\"automargin\": true, \"type\": \"pie\"}], \"scatter\": [{\"marker\": {\"colorbar\": {\"outlinewidth\": 0, \"ticks\": \"\"}}, \"type\": \"scatter\"}], \"scatter3d\": [{\"line\": {\"colorbar\": {\"outlinewidth\": 0, \"ticks\": \"\"}}, \"marker\": {\"colorbar\": {\"outlinewidth\": 0, \"ticks\": \"\"}}, \"type\": \"scatter3d\"}], \"scattercarpet\": [{\"marker\": {\"colorbar\": {\"outlinewidth\": 0, \"ticks\": \"\"}}, \"type\": \"scattercarpet\"}], \"scattergeo\": [{\"marker\": {\"colorbar\": {\"outlinewidth\": 0, \"ticks\": \"\"}}, \"type\": \"scattergeo\"}], \"scattergl\": [{\"marker\": {\"colorbar\": {\"outlinewidth\": 0, \"ticks\": \"\"}}, \"type\": \"scattergl\"}], \"scattermapbox\": [{\"marker\": {\"colorbar\": {\"outlinewidth\": 0, \"ticks\": \"\"}}, \"type\": \"scattermapbox\"}], \"scatterpolar\": [{\"marker\": {\"colorbar\": {\"outlinewidth\": 0, \"ticks\": \"\"}}, \"type\": \"scatterpolar\"}], \"scatterpolargl\": [{\"marker\": {\"colorbar\": {\"outlinewidth\": 0, \"ticks\": \"\"}}, \"type\": \"scatterpolargl\"}], \"scatterternary\": [{\"marker\": {\"colorbar\": {\"outlinewidth\": 0, \"ticks\": \"\"}}, \"type\": \"scatterternary\"}], \"surface\": [{\"colorbar\": {\"outlinewidth\": 0, \"ticks\": \"\"}, \"colorscale\": [[0.0, \"#0d0887\"], [0.1111111111111111, \"#46039f\"], [0.2222222222222222, \"#7201a8\"], [0.3333333333333333, \"#9c179e\"], [0.4444444444444444, \"#bd3786\"], [0.5555555555555556, \"#d8576b\"], [0.6666666666666666, \"#ed7953\"], [0.7777777777777778, \"#fb9f3a\"], [0.8888888888888888, \"#fdca26\"], [1.0, \"#f0f921\"]], \"type\": \"surface\"}], \"table\": [{\"cells\": {\"fill\": {\"color\": \"#EBF0F8\"}, \"line\": {\"color\": \"white\"}}, \"header\": {\"fill\": {\"color\": \"#C8D4E3\"}, \"line\": {\"color\": \"white\"}}, \"type\": \"table\"}]}, \"layout\": {\"annotationdefaults\": {\"arrowcolor\": \"#2a3f5f\", \"arrowhead\": 0, \"arrowwidth\": 1}, \"coloraxis\": {\"colorbar\": {\"outlinewidth\": 0, \"ticks\": \"\"}}, \"colorscale\": {\"diverging\": [[0, \"#8e0152\"], [0.1, \"#c51b7d\"], [0.2, \"#de77ae\"], [0.3, \"#f1b6da\"], [0.4, \"#fde0ef\"], [0.5, \"#f7f7f7\"], [0.6, \"#e6f5d0\"], [0.7, \"#b8e186\"], [0.8, \"#7fbc41\"], [0.9, \"#4d9221\"], [1, \"#276419\"]], \"sequential\": [[0.0, \"#0d0887\"], [0.1111111111111111, \"#46039f\"], [0.2222222222222222, \"#7201a8\"], [0.3333333333333333, \"#9c179e\"], [0.4444444444444444, \"#bd3786\"], [0.5555555555555556, \"#d8576b\"], [0.6666666666666666, \"#ed7953\"], [0.7777777777777778, \"#fb9f3a\"], [0.8888888888888888, \"#fdca26\"], [1.0, \"#f0f921\"]], \"sequentialminus\": [[0.0, \"#0d0887\"], [0.1111111111111111, \"#46039f\"], [0.2222222222222222, \"#7201a8\"], [0.3333333333333333, \"#9c179e\"], [0.4444444444444444, \"#bd3786\"], [0.5555555555555556, \"#d8576b\"], [0.6666666666666666, \"#ed7953\"], [0.7777777777777778, \"#fb9f3a\"], [0.8888888888888888, \"#fdca26\"], [1.0, \"#f0f921\"]]}, \"colorway\": [\"#636efa\", \"#EF553B\", \"#00cc96\", \"#ab63fa\", \"#FFA15A\", \"#19d3f3\", \"#FF6692\", \"#B6E880\", \"#FF97FF\", \"#FECB52\"], \"font\": {\"color\": \"#2a3f5f\"}, \"geo\": {\"bgcolor\": \"white\", \"lakecolor\": \"white\", \"landcolor\": \"#E5ECF6\", \"showlakes\": true, \"showland\": true, \"subunitcolor\": \"white\"}, \"hoverlabel\": {\"align\": \"left\"}, \"hovermode\": \"closest\", \"mapbox\": {\"style\": \"light\"}, \"paper_bgcolor\": \"white\", \"plot_bgcolor\": \"#E5ECF6\", \"polar\": {\"angularaxis\": {\"gridcolor\": \"white\", \"linecolor\": \"white\", \"ticks\": \"\"}, \"bgcolor\": \"#E5ECF6\", \"radialaxis\": {\"gridcolor\": \"white\", \"linecolor\": \"white\", \"ticks\": \"\"}}, \"scene\": {\"xaxis\": {\"backgroundcolor\": \"#E5ECF6\", \"gridcolor\": \"white\", \"gridwidth\": 2, \"linecolor\": \"white\", \"showbackground\": true, \"ticks\": \"\", \"zerolinecolor\": \"white\"}, \"yaxis\": {\"backgroundcolor\": \"#E5ECF6\", \"gridcolor\": \"white\", \"gridwidth\": 2, \"linecolor\": \"white\", \"showbackground\": true, \"ticks\": \"\", \"zerolinecolor\": \"white\"}, \"zaxis\": {\"backgroundcolor\": \"#E5ECF6\", \"gridcolor\": \"white\", \"gridwidth\": 2, \"linecolor\": \"white\", \"showbackground\": true, \"ticks\": \"\", \"zerolinecolor\": \"white\"}}, \"shapedefaults\": {\"line\": {\"color\": \"#2a3f5f\"}}, \"ternary\": {\"aaxis\": {\"gridcolor\": \"white\", \"linecolor\": \"white\", \"ticks\": \"\"}, \"baxis\": {\"gridcolor\": \"white\", \"linecolor\": \"white\", \"ticks\": \"\"}, \"bgcolor\": \"#E5ECF6\", \"caxis\": {\"gridcolor\": \"white\", \"linecolor\": \"white\", \"ticks\": \"\"}}, \"title\": {\"x\": 0.05}, \"xaxis\": {\"automargin\": true, \"gridcolor\": \"white\", \"linecolor\": \"white\", \"ticks\": \"\", \"title\": {\"standoff\": 15}, \"zerolinecolor\": \"white\", \"zerolinewidth\": 2}, \"yaxis\": {\"automargin\": true, \"gridcolor\": \"white\", \"linecolor\": \"white\", \"ticks\": \"\", \"title\": {\"standoff\": 15}, \"zerolinecolor\": \"white\", \"zerolinewidth\": 2}}}, \"title\": {\"font\": {\"color\": \"#4D5663\"}}, \"xaxis\": {\"gridcolor\": \"#E1E5ED\", \"showgrid\": true, \"tickfont\": {\"color\": \"#4D5663\"}, \"title\": {\"font\": {\"color\": \"#4D5663\"}, \"text\": \"\"}, \"zerolinecolor\": \"#E1E5ED\"}, \"xaxis2\": {\"anchor\": \"y2\", \"gridcolor\": \"#E1E5ED\", \"showgrid\": true, \"showticklabels\": false, \"tickfont\": {\"color\": \"#4D5663\"}, \"title\": {\"font\": {\"color\": \"#4D5663\"}, \"text\": \"\"}, \"zerolinecolor\": \"#E1E5ED\"}, \"yaxis\": {\"domain\": [0.3, 1], \"gridcolor\": \"#E1E5ED\", \"showgrid\": true, \"tickfont\": {\"color\": \"#4D5663\"}, \"title\": {\"font\": {\"color\": \"#4D5663\"}, \"text\": \"\"}, \"zerolinecolor\": \"#E1E5ED\"}, \"yaxis2\": {\"domain\": [0, 0.25], \"gridcolor\": \"#E1E5ED\", \"showgrid\": true, \"tickfont\": {\"color\": \"#4D5663\"}, \"title\": {\"font\": {\"color\": \"#4D5663\"}, \"text\": \"Spread\"}, \"zerolinecolor\": \"#E1E5ED\"}},\n",
       "                        {\"showLink\": true, \"linkText\": \"Export to plot.ly\", \"plotlyServerURL\": \"https://plot.ly\", \"responsive\": true}\n",
       "                    ).then(function(){\n",
       "                            \n",
       "var gd = document.getElementById('67c0ec4c-8f77-4278-a100-b6c60944d6d2');\n",
       "var x = new MutationObserver(function (mutations, observer) {{\n",
       "        var display = window.getComputedStyle(gd).display;\n",
       "        if (!display || display === 'none') {{\n",
       "            console.log([gd, 'removed!']);\n",
       "            Plotly.purge(gd);\n",
       "            observer.disconnect();\n",
       "        }}\n",
       "}});\n",
       "\n",
       "// Listen for the removal of the full notebook cells\n",
       "var notebookContainer = gd.closest('#notebook-container');\n",
       "if (notebookContainer) {{\n",
       "    x.observe(notebookContainer, {childList: true});\n",
       "}}\n",
       "\n",
       "// Listen for the clearing of the current output cell\n",
       "var outputEl = gd.closest('.output');\n",
       "if (outputEl) {{\n",
       "    x.observe(outputEl, {childList: true});\n",
       "}}\n",
       "\n",
       "                        })\n",
       "                };\n",
       "                });\n",
       "            </script>\n",
       "        </div>"
      ]
     },
     "metadata": {},
     "output_type": "display_data"
    }
   ],
   "source": [
    "df[['A','B']].iplot(kind='spread')"
   ]
  },
  {
   "cell_type": "markdown",
   "metadata": {},
   "source": [
    "## histogram"
   ]
  },
  {
   "cell_type": "code",
   "execution_count": 16,
   "metadata": {
    "jupyter": {
     "outputs_hidden": false
    }
   },
   "outputs": [
    {
     "data": {
      "application/vnd.plotly.v1+json": {
       "config": {
        "linkText": "Export to plot.ly",
        "plotlyServerURL": "https://plot.ly",
        "showLink": true
       },
       "data": [
        {
         "histfunc": "count",
         "histnorm": "",
         "marker": {
          "color": "rgba(255, 153, 51, 1.0)",
          "line": {
           "color": "#4D5663",
           "width": 1.3
          }
         },
         "name": "A",
         "nbinsx": 25,
         "opacity": 0.8,
         "orientation": "v",
         "type": "histogram",
         "x": [
          1.940291908011102,
          -0.43602033128621526,
          -0.48460214045660277,
          -1.0240471641424937,
          0.07834813558886017,
          -0.03664652387595461,
          -0.3129739035091516,
          -2.334547594397871,
          1.8228858929130831,
          1.5711886392255132,
          -2.364881578802697,
          1.4616947574353703,
          -0.4987309829110831,
          1.5617852729463797,
          0.27096936324438226,
          -0.6303478616043724,
          -1.5081522475000202,
          1.7029399159062886,
          -0.5595680928927093,
          -1.2503555447771197,
          0.8046047778907405,
          -0.8662211973605952,
          0.5836035330903515,
          -1.6882300309849554,
          0.5249023960622097,
          0.8738634367385915,
          -0.7011217630000545,
          -0.11281811880033381,
          1.9132226852451233,
          0.21515592223039476,
          -1.5250854327856227,
          -0.1590202944556442,
          -0.4527591510178096,
          -1.1110076710922145,
          -0.9041890618466469,
          -1.05375893360304,
          0.45947755704608234,
          0.4151947410799361,
          -1.4538365237286752,
          -0.5787259904446689,
          1.0876123636309982,
          -0.256605975290541,
          0.13329166285795085,
          -0.9077772592137843,
          0.03249663834892144,
          1.0142902752121234,
          -0.3344369309963581,
          -0.09121153691247674,
          -0.40669721394299546,
          0.02744157623740808,
          -1.5452805971626824,
          -1.3511169562269885,
          0.01158109319398306,
          -0.9149503343075752,
          -1.1025417006876994,
          -0.5048494637049264,
          -0.2567919047639987,
          0.01093619218693575,
          -0.1356930776970061,
          0.10026165369166105,
          1.1717276766409668,
          -0.6434971360362067,
          0.34067344818628176,
          0.8863816354805312,
          -0.10132359942293251,
          0.07605559055080867,
          -0.6913446582930974,
          -1.2920514173129505,
          -1.3009741161906287,
          1.2876633447677763,
          -1.4445628899407343,
          0.259865688457576,
          1.8478838525077084,
          -0.41108510928550895,
          0.2893624467427053,
          0.748614342294359,
          0.9263547679541281,
          0.635161754847521,
          0.28256247565135617,
          1.5126383882427301,
          -0.7632724161850403,
          -0.2983928325770369,
          0.37300270064839636,
          1.0871880926061648,
          2.6572202224944146,
          -1.9722183777917304,
          0.18564568416487742,
          -0.9814354534461059,
          -0.5474587763161223,
          0.03598568118577001,
          -0.23166847854919972,
          -1.1346148101716846,
          -0.9036756738680616,
          -0.0404909774929333,
          -0.7164950094764136,
          -0.06435143860746836,
          -0.07591268221618847,
          -0.5296157564584758,
          0.2931309732891985,
          -0.1006868486366963
         ]
        }
       ],
       "layout": {
        "barmode": "overlay",
        "legend": {
         "bgcolor": "#F5F6F9",
         "font": {
          "color": "#4D5663"
         }
        },
        "paper_bgcolor": "#F5F6F9",
        "plot_bgcolor": "#F5F6F9",
        "template": {
         "data": {
          "bar": [
           {
            "error_x": {
             "color": "#2a3f5f"
            },
            "error_y": {
             "color": "#2a3f5f"
            },
            "marker": {
             "line": {
              "color": "#E5ECF6",
              "width": 0.5
             }
            },
            "type": "bar"
           }
          ],
          "barpolar": [
           {
            "marker": {
             "line": {
              "color": "#E5ECF6",
              "width": 0.5
             }
            },
            "type": "barpolar"
           }
          ],
          "carpet": [
           {
            "aaxis": {
             "endlinecolor": "#2a3f5f",
             "gridcolor": "white",
             "linecolor": "white",
             "minorgridcolor": "white",
             "startlinecolor": "#2a3f5f"
            },
            "baxis": {
             "endlinecolor": "#2a3f5f",
             "gridcolor": "white",
             "linecolor": "white",
             "minorgridcolor": "white",
             "startlinecolor": "#2a3f5f"
            },
            "type": "carpet"
           }
          ],
          "choropleth": [
           {
            "colorbar": {
             "outlinewidth": 0,
             "ticks": ""
            },
            "type": "choropleth"
           }
          ],
          "contour": [
           {
            "colorbar": {
             "outlinewidth": 0,
             "ticks": ""
            },
            "colorscale": [
             [
              0,
              "#0d0887"
             ],
             [
              0.1111111111111111,
              "#46039f"
             ],
             [
              0.2222222222222222,
              "#7201a8"
             ],
             [
              0.3333333333333333,
              "#9c179e"
             ],
             [
              0.4444444444444444,
              "#bd3786"
             ],
             [
              0.5555555555555556,
              "#d8576b"
             ],
             [
              0.6666666666666666,
              "#ed7953"
             ],
             [
              0.7777777777777778,
              "#fb9f3a"
             ],
             [
              0.8888888888888888,
              "#fdca26"
             ],
             [
              1,
              "#f0f921"
             ]
            ],
            "type": "contour"
           }
          ],
          "contourcarpet": [
           {
            "colorbar": {
             "outlinewidth": 0,
             "ticks": ""
            },
            "type": "contourcarpet"
           }
          ],
          "heatmap": [
           {
            "colorbar": {
             "outlinewidth": 0,
             "ticks": ""
            },
            "colorscale": [
             [
              0,
              "#0d0887"
             ],
             [
              0.1111111111111111,
              "#46039f"
             ],
             [
              0.2222222222222222,
              "#7201a8"
             ],
             [
              0.3333333333333333,
              "#9c179e"
             ],
             [
              0.4444444444444444,
              "#bd3786"
             ],
             [
              0.5555555555555556,
              "#d8576b"
             ],
             [
              0.6666666666666666,
              "#ed7953"
             ],
             [
              0.7777777777777778,
              "#fb9f3a"
             ],
             [
              0.8888888888888888,
              "#fdca26"
             ],
             [
              1,
              "#f0f921"
             ]
            ],
            "type": "heatmap"
           }
          ],
          "heatmapgl": [
           {
            "colorbar": {
             "outlinewidth": 0,
             "ticks": ""
            },
            "colorscale": [
             [
              0,
              "#0d0887"
             ],
             [
              0.1111111111111111,
              "#46039f"
             ],
             [
              0.2222222222222222,
              "#7201a8"
             ],
             [
              0.3333333333333333,
              "#9c179e"
             ],
             [
              0.4444444444444444,
              "#bd3786"
             ],
             [
              0.5555555555555556,
              "#d8576b"
             ],
             [
              0.6666666666666666,
              "#ed7953"
             ],
             [
              0.7777777777777778,
              "#fb9f3a"
             ],
             [
              0.8888888888888888,
              "#fdca26"
             ],
             [
              1,
              "#f0f921"
             ]
            ],
            "type": "heatmapgl"
           }
          ],
          "histogram": [
           {
            "marker": {
             "colorbar": {
              "outlinewidth": 0,
              "ticks": ""
             }
            },
            "type": "histogram"
           }
          ],
          "histogram2d": [
           {
            "colorbar": {
             "outlinewidth": 0,
             "ticks": ""
            },
            "colorscale": [
             [
              0,
              "#0d0887"
             ],
             [
              0.1111111111111111,
              "#46039f"
             ],
             [
              0.2222222222222222,
              "#7201a8"
             ],
             [
              0.3333333333333333,
              "#9c179e"
             ],
             [
              0.4444444444444444,
              "#bd3786"
             ],
             [
              0.5555555555555556,
              "#d8576b"
             ],
             [
              0.6666666666666666,
              "#ed7953"
             ],
             [
              0.7777777777777778,
              "#fb9f3a"
             ],
             [
              0.8888888888888888,
              "#fdca26"
             ],
             [
              1,
              "#f0f921"
             ]
            ],
            "type": "histogram2d"
           }
          ],
          "histogram2dcontour": [
           {
            "colorbar": {
             "outlinewidth": 0,
             "ticks": ""
            },
            "colorscale": [
             [
              0,
              "#0d0887"
             ],
             [
              0.1111111111111111,
              "#46039f"
             ],
             [
              0.2222222222222222,
              "#7201a8"
             ],
             [
              0.3333333333333333,
              "#9c179e"
             ],
             [
              0.4444444444444444,
              "#bd3786"
             ],
             [
              0.5555555555555556,
              "#d8576b"
             ],
             [
              0.6666666666666666,
              "#ed7953"
             ],
             [
              0.7777777777777778,
              "#fb9f3a"
             ],
             [
              0.8888888888888888,
              "#fdca26"
             ],
             [
              1,
              "#f0f921"
             ]
            ],
            "type": "histogram2dcontour"
           }
          ],
          "mesh3d": [
           {
            "colorbar": {
             "outlinewidth": 0,
             "ticks": ""
            },
            "type": "mesh3d"
           }
          ],
          "parcoords": [
           {
            "line": {
             "colorbar": {
              "outlinewidth": 0,
              "ticks": ""
             }
            },
            "type": "parcoords"
           }
          ],
          "pie": [
           {
            "automargin": true,
            "type": "pie"
           }
          ],
          "scatter": [
           {
            "marker": {
             "colorbar": {
              "outlinewidth": 0,
              "ticks": ""
             }
            },
            "type": "scatter"
           }
          ],
          "scatter3d": [
           {
            "line": {
             "colorbar": {
              "outlinewidth": 0,
              "ticks": ""
             }
            },
            "marker": {
             "colorbar": {
              "outlinewidth": 0,
              "ticks": ""
             }
            },
            "type": "scatter3d"
           }
          ],
          "scattercarpet": [
           {
            "marker": {
             "colorbar": {
              "outlinewidth": 0,
              "ticks": ""
             }
            },
            "type": "scattercarpet"
           }
          ],
          "scattergeo": [
           {
            "marker": {
             "colorbar": {
              "outlinewidth": 0,
              "ticks": ""
             }
            },
            "type": "scattergeo"
           }
          ],
          "scattergl": [
           {
            "marker": {
             "colorbar": {
              "outlinewidth": 0,
              "ticks": ""
             }
            },
            "type": "scattergl"
           }
          ],
          "scattermapbox": [
           {
            "marker": {
             "colorbar": {
              "outlinewidth": 0,
              "ticks": ""
             }
            },
            "type": "scattermapbox"
           }
          ],
          "scatterpolar": [
           {
            "marker": {
             "colorbar": {
              "outlinewidth": 0,
              "ticks": ""
             }
            },
            "type": "scatterpolar"
           }
          ],
          "scatterpolargl": [
           {
            "marker": {
             "colorbar": {
              "outlinewidth": 0,
              "ticks": ""
             }
            },
            "type": "scatterpolargl"
           }
          ],
          "scatterternary": [
           {
            "marker": {
             "colorbar": {
              "outlinewidth": 0,
              "ticks": ""
             }
            },
            "type": "scatterternary"
           }
          ],
          "surface": [
           {
            "colorbar": {
             "outlinewidth": 0,
             "ticks": ""
            },
            "colorscale": [
             [
              0,
              "#0d0887"
             ],
             [
              0.1111111111111111,
              "#46039f"
             ],
             [
              0.2222222222222222,
              "#7201a8"
             ],
             [
              0.3333333333333333,
              "#9c179e"
             ],
             [
              0.4444444444444444,
              "#bd3786"
             ],
             [
              0.5555555555555556,
              "#d8576b"
             ],
             [
              0.6666666666666666,
              "#ed7953"
             ],
             [
              0.7777777777777778,
              "#fb9f3a"
             ],
             [
              0.8888888888888888,
              "#fdca26"
             ],
             [
              1,
              "#f0f921"
             ]
            ],
            "type": "surface"
           }
          ],
          "table": [
           {
            "cells": {
             "fill": {
              "color": "#EBF0F8"
             },
             "line": {
              "color": "white"
             }
            },
            "header": {
             "fill": {
              "color": "#C8D4E3"
             },
             "line": {
              "color": "white"
             }
            },
            "type": "table"
           }
          ]
         },
         "layout": {
          "annotationdefaults": {
           "arrowcolor": "#2a3f5f",
           "arrowhead": 0,
           "arrowwidth": 1
          },
          "coloraxis": {
           "colorbar": {
            "outlinewidth": 0,
            "ticks": ""
           }
          },
          "colorscale": {
           "diverging": [
            [
             0,
             "#8e0152"
            ],
            [
             0.1,
             "#c51b7d"
            ],
            [
             0.2,
             "#de77ae"
            ],
            [
             0.3,
             "#f1b6da"
            ],
            [
             0.4,
             "#fde0ef"
            ],
            [
             0.5,
             "#f7f7f7"
            ],
            [
             0.6,
             "#e6f5d0"
            ],
            [
             0.7,
             "#b8e186"
            ],
            [
             0.8,
             "#7fbc41"
            ],
            [
             0.9,
             "#4d9221"
            ],
            [
             1,
             "#276419"
            ]
           ],
           "sequential": [
            [
             0,
             "#0d0887"
            ],
            [
             0.1111111111111111,
             "#46039f"
            ],
            [
             0.2222222222222222,
             "#7201a8"
            ],
            [
             0.3333333333333333,
             "#9c179e"
            ],
            [
             0.4444444444444444,
             "#bd3786"
            ],
            [
             0.5555555555555556,
             "#d8576b"
            ],
            [
             0.6666666666666666,
             "#ed7953"
            ],
            [
             0.7777777777777778,
             "#fb9f3a"
            ],
            [
             0.8888888888888888,
             "#fdca26"
            ],
            [
             1,
             "#f0f921"
            ]
           ],
           "sequentialminus": [
            [
             0,
             "#0d0887"
            ],
            [
             0.1111111111111111,
             "#46039f"
            ],
            [
             0.2222222222222222,
             "#7201a8"
            ],
            [
             0.3333333333333333,
             "#9c179e"
            ],
            [
             0.4444444444444444,
             "#bd3786"
            ],
            [
             0.5555555555555556,
             "#d8576b"
            ],
            [
             0.6666666666666666,
             "#ed7953"
            ],
            [
             0.7777777777777778,
             "#fb9f3a"
            ],
            [
             0.8888888888888888,
             "#fdca26"
            ],
            [
             1,
             "#f0f921"
            ]
           ]
          },
          "colorway": [
           "#636efa",
           "#EF553B",
           "#00cc96",
           "#ab63fa",
           "#FFA15A",
           "#19d3f3",
           "#FF6692",
           "#B6E880",
           "#FF97FF",
           "#FECB52"
          ],
          "font": {
           "color": "#2a3f5f"
          },
          "geo": {
           "bgcolor": "white",
           "lakecolor": "white",
           "landcolor": "#E5ECF6",
           "showlakes": true,
           "showland": true,
           "subunitcolor": "white"
          },
          "hoverlabel": {
           "align": "left"
          },
          "hovermode": "closest",
          "mapbox": {
           "style": "light"
          },
          "paper_bgcolor": "white",
          "plot_bgcolor": "#E5ECF6",
          "polar": {
           "angularaxis": {
            "gridcolor": "white",
            "linecolor": "white",
            "ticks": ""
           },
           "bgcolor": "#E5ECF6",
           "radialaxis": {
            "gridcolor": "white",
            "linecolor": "white",
            "ticks": ""
           }
          },
          "scene": {
           "xaxis": {
            "backgroundcolor": "#E5ECF6",
            "gridcolor": "white",
            "gridwidth": 2,
            "linecolor": "white",
            "showbackground": true,
            "ticks": "",
            "zerolinecolor": "white"
           },
           "yaxis": {
            "backgroundcolor": "#E5ECF6",
            "gridcolor": "white",
            "gridwidth": 2,
            "linecolor": "white",
            "showbackground": true,
            "ticks": "",
            "zerolinecolor": "white"
           },
           "zaxis": {
            "backgroundcolor": "#E5ECF6",
            "gridcolor": "white",
            "gridwidth": 2,
            "linecolor": "white",
            "showbackground": true,
            "ticks": "",
            "zerolinecolor": "white"
           }
          },
          "shapedefaults": {
           "line": {
            "color": "#2a3f5f"
           }
          },
          "ternary": {
           "aaxis": {
            "gridcolor": "white",
            "linecolor": "white",
            "ticks": ""
           },
           "baxis": {
            "gridcolor": "white",
            "linecolor": "white",
            "ticks": ""
           },
           "bgcolor": "#E5ECF6",
           "caxis": {
            "gridcolor": "white",
            "linecolor": "white",
            "ticks": ""
           }
          },
          "title": {
           "x": 0.05
          },
          "xaxis": {
           "automargin": true,
           "gridcolor": "white",
           "linecolor": "white",
           "ticks": "",
           "title": {
            "standoff": 15
           },
           "zerolinecolor": "white",
           "zerolinewidth": 2
          },
          "yaxis": {
           "automargin": true,
           "gridcolor": "white",
           "linecolor": "white",
           "ticks": "",
           "title": {
            "standoff": 15
           },
           "zerolinecolor": "white",
           "zerolinewidth": 2
          }
         }
        },
        "title": {
         "font": {
          "color": "#4D5663"
         }
        },
        "xaxis": {
         "gridcolor": "#E1E5ED",
         "showgrid": true,
         "tickfont": {
          "color": "#4D5663"
         },
         "title": {
          "font": {
           "color": "#4D5663"
          },
          "text": ""
         },
         "zerolinecolor": "#E1E5ED"
        },
        "yaxis": {
         "gridcolor": "#E1E5ED",
         "showgrid": true,
         "tickfont": {
          "color": "#4D5663"
         },
         "title": {
          "font": {
           "color": "#4D5663"
          },
          "text": ""
         },
         "zerolinecolor": "#E1E5ED"
        }
       }
      },
      "text/html": [
       "<div>\n",
       "        \n",
       "        \n",
       "            <div id=\"cc6063bd-27e3-403a-ab97-759925f51c48\" class=\"plotly-graph-div\" style=\"height:525px; width:100%;\"></div>\n",
       "            <script type=\"text/javascript\">\n",
       "                require([\"plotly\"], function(Plotly) {\n",
       "                    window.PLOTLYENV=window.PLOTLYENV || {};\n",
       "                    window.PLOTLYENV.BASE_URL='https://plot.ly';\n",
       "                    \n",
       "                if (document.getElementById(\"cc6063bd-27e3-403a-ab97-759925f51c48\")) {\n",
       "                    Plotly.newPlot(\n",
       "                        'cc6063bd-27e3-403a-ab97-759925f51c48',\n",
       "                        [{\"histfunc\": \"count\", \"histnorm\": \"\", \"marker\": {\"color\": \"rgba(255, 153, 51, 1.0)\", \"line\": {\"color\": \"#4D5663\", \"width\": 1.3}}, \"name\": \"A\", \"nbinsx\": 25, \"opacity\": 0.8, \"orientation\": \"v\", \"type\": \"histogram\", \"x\": [1.940291908011102, -0.43602033128621526, -0.48460214045660277, -1.0240471641424937, 0.07834813558886017, -0.03664652387595461, -0.3129739035091516, -2.334547594397871, 1.8228858929130831, 1.5711886392255132, -2.364881578802697, 1.4616947574353703, -0.4987309829110831, 1.5617852729463797, 0.27096936324438226, -0.6303478616043724, -1.5081522475000202, 1.7029399159062886, -0.5595680928927093, -1.2503555447771197, 0.8046047778907405, -0.8662211973605952, 0.5836035330903515, -1.6882300309849554, 0.5249023960622097, 0.8738634367385915, -0.7011217630000545, -0.11281811880033381, 1.9132226852451233, 0.21515592223039476, -1.5250854327856227, -0.1590202944556442, -0.4527591510178096, -1.1110076710922145, -0.9041890618466469, -1.05375893360304, 0.45947755704608234, 0.4151947410799361, -1.4538365237286752, -0.5787259904446689, 1.0876123636309982, -0.256605975290541, 0.13329166285795085, -0.9077772592137843, 0.03249663834892144, 1.0142902752121234, -0.3344369309963581, -0.09121153691247674, -0.40669721394299546, 0.02744157623740808, -1.5452805971626824, -1.3511169562269885, 0.01158109319398306, -0.9149503343075752, -1.1025417006876994, -0.5048494637049264, -0.2567919047639987, 0.01093619218693575, -0.1356930776970061, 0.10026165369166105, 1.1717276766409668, -0.6434971360362067, 0.34067344818628176, 0.8863816354805312, -0.10132359942293251, 0.07605559055080867, -0.6913446582930974, -1.2920514173129505, -1.3009741161906287, 1.2876633447677763, -1.4445628899407343, 0.259865688457576, 1.8478838525077084, -0.41108510928550895, 0.2893624467427053, 0.748614342294359, 0.9263547679541281, 0.635161754847521, 0.28256247565135617, 1.5126383882427301, -0.7632724161850403, -0.2983928325770369, 0.37300270064839636, 1.0871880926061648, 2.6572202224944146, -1.9722183777917304, 0.18564568416487742, -0.9814354534461059, -0.5474587763161223, 0.03598568118577001, -0.23166847854919972, -1.1346148101716846, -0.9036756738680616, -0.0404909774929333, -0.7164950094764136, -0.06435143860746836, -0.07591268221618847, -0.5296157564584758, 0.2931309732891985, -0.1006868486366963]}],\n",
       "                        {\"barmode\": \"overlay\", \"legend\": {\"bgcolor\": \"#F5F6F9\", \"font\": {\"color\": \"#4D5663\"}}, \"paper_bgcolor\": \"#F5F6F9\", \"plot_bgcolor\": \"#F5F6F9\", \"template\": {\"data\": {\"bar\": [{\"error_x\": {\"color\": \"#2a3f5f\"}, \"error_y\": {\"color\": \"#2a3f5f\"}, \"marker\": {\"line\": {\"color\": \"#E5ECF6\", \"width\": 0.5}}, \"type\": \"bar\"}], \"barpolar\": [{\"marker\": {\"line\": {\"color\": \"#E5ECF6\", \"width\": 0.5}}, \"type\": \"barpolar\"}], \"carpet\": [{\"aaxis\": {\"endlinecolor\": \"#2a3f5f\", \"gridcolor\": \"white\", \"linecolor\": \"white\", \"minorgridcolor\": \"white\", \"startlinecolor\": \"#2a3f5f\"}, \"baxis\": {\"endlinecolor\": \"#2a3f5f\", \"gridcolor\": \"white\", \"linecolor\": \"white\", \"minorgridcolor\": \"white\", \"startlinecolor\": \"#2a3f5f\"}, \"type\": \"carpet\"}], \"choropleth\": [{\"colorbar\": {\"outlinewidth\": 0, \"ticks\": \"\"}, \"type\": \"choropleth\"}], \"contour\": [{\"colorbar\": {\"outlinewidth\": 0, \"ticks\": \"\"}, \"colorscale\": [[0.0, \"#0d0887\"], [0.1111111111111111, \"#46039f\"], [0.2222222222222222, \"#7201a8\"], [0.3333333333333333, \"#9c179e\"], [0.4444444444444444, \"#bd3786\"], [0.5555555555555556, \"#d8576b\"], [0.6666666666666666, \"#ed7953\"], [0.7777777777777778, \"#fb9f3a\"], [0.8888888888888888, \"#fdca26\"], [1.0, \"#f0f921\"]], \"type\": \"contour\"}], \"contourcarpet\": [{\"colorbar\": {\"outlinewidth\": 0, \"ticks\": \"\"}, \"type\": \"contourcarpet\"}], \"heatmap\": [{\"colorbar\": {\"outlinewidth\": 0, \"ticks\": \"\"}, \"colorscale\": [[0.0, \"#0d0887\"], [0.1111111111111111, \"#46039f\"], [0.2222222222222222, \"#7201a8\"], [0.3333333333333333, \"#9c179e\"], [0.4444444444444444, \"#bd3786\"], [0.5555555555555556, \"#d8576b\"], [0.6666666666666666, \"#ed7953\"], [0.7777777777777778, \"#fb9f3a\"], [0.8888888888888888, \"#fdca26\"], [1.0, \"#f0f921\"]], \"type\": \"heatmap\"}], \"heatmapgl\": [{\"colorbar\": {\"outlinewidth\": 0, \"ticks\": \"\"}, \"colorscale\": [[0.0, \"#0d0887\"], [0.1111111111111111, \"#46039f\"], [0.2222222222222222, \"#7201a8\"], [0.3333333333333333, \"#9c179e\"], [0.4444444444444444, \"#bd3786\"], [0.5555555555555556, \"#d8576b\"], [0.6666666666666666, \"#ed7953\"], [0.7777777777777778, \"#fb9f3a\"], [0.8888888888888888, \"#fdca26\"], [1.0, \"#f0f921\"]], \"type\": \"heatmapgl\"}], \"histogram\": [{\"marker\": {\"colorbar\": {\"outlinewidth\": 0, \"ticks\": \"\"}}, \"type\": \"histogram\"}], \"histogram2d\": [{\"colorbar\": {\"outlinewidth\": 0, \"ticks\": \"\"}, \"colorscale\": [[0.0, \"#0d0887\"], [0.1111111111111111, \"#46039f\"], [0.2222222222222222, \"#7201a8\"], [0.3333333333333333, \"#9c179e\"], [0.4444444444444444, \"#bd3786\"], [0.5555555555555556, \"#d8576b\"], [0.6666666666666666, \"#ed7953\"], [0.7777777777777778, \"#fb9f3a\"], [0.8888888888888888, \"#fdca26\"], [1.0, \"#f0f921\"]], \"type\": \"histogram2d\"}], \"histogram2dcontour\": [{\"colorbar\": {\"outlinewidth\": 0, \"ticks\": \"\"}, \"colorscale\": [[0.0, \"#0d0887\"], [0.1111111111111111, \"#46039f\"], [0.2222222222222222, \"#7201a8\"], [0.3333333333333333, \"#9c179e\"], [0.4444444444444444, \"#bd3786\"], [0.5555555555555556, \"#d8576b\"], [0.6666666666666666, \"#ed7953\"], [0.7777777777777778, \"#fb9f3a\"], [0.8888888888888888, \"#fdca26\"], [1.0, \"#f0f921\"]], \"type\": \"histogram2dcontour\"}], \"mesh3d\": [{\"colorbar\": {\"outlinewidth\": 0, \"ticks\": \"\"}, \"type\": \"mesh3d\"}], \"parcoords\": [{\"line\": {\"colorbar\": {\"outlinewidth\": 0, \"ticks\": \"\"}}, \"type\": \"parcoords\"}], \"pie\": [{\"automargin\": true, \"type\": \"pie\"}], \"scatter\": [{\"marker\": {\"colorbar\": {\"outlinewidth\": 0, \"ticks\": \"\"}}, \"type\": \"scatter\"}], \"scatter3d\": [{\"line\": {\"colorbar\": {\"outlinewidth\": 0, \"ticks\": \"\"}}, \"marker\": {\"colorbar\": {\"outlinewidth\": 0, \"ticks\": \"\"}}, \"type\": \"scatter3d\"}], \"scattercarpet\": [{\"marker\": {\"colorbar\": {\"outlinewidth\": 0, \"ticks\": \"\"}}, \"type\": \"scattercarpet\"}], \"scattergeo\": [{\"marker\": {\"colorbar\": {\"outlinewidth\": 0, \"ticks\": \"\"}}, \"type\": \"scattergeo\"}], \"scattergl\": [{\"marker\": {\"colorbar\": {\"outlinewidth\": 0, \"ticks\": \"\"}}, \"type\": \"scattergl\"}], \"scattermapbox\": [{\"marker\": {\"colorbar\": {\"outlinewidth\": 0, \"ticks\": \"\"}}, \"type\": \"scattermapbox\"}], \"scatterpolar\": [{\"marker\": {\"colorbar\": {\"outlinewidth\": 0, \"ticks\": \"\"}}, \"type\": \"scatterpolar\"}], \"scatterpolargl\": [{\"marker\": {\"colorbar\": {\"outlinewidth\": 0, \"ticks\": \"\"}}, \"type\": \"scatterpolargl\"}], \"scatterternary\": [{\"marker\": {\"colorbar\": {\"outlinewidth\": 0, \"ticks\": \"\"}}, \"type\": \"scatterternary\"}], \"surface\": [{\"colorbar\": {\"outlinewidth\": 0, \"ticks\": \"\"}, \"colorscale\": [[0.0, \"#0d0887\"], [0.1111111111111111, \"#46039f\"], [0.2222222222222222, \"#7201a8\"], [0.3333333333333333, \"#9c179e\"], [0.4444444444444444, \"#bd3786\"], [0.5555555555555556, \"#d8576b\"], [0.6666666666666666, \"#ed7953\"], [0.7777777777777778, \"#fb9f3a\"], [0.8888888888888888, \"#fdca26\"], [1.0, \"#f0f921\"]], \"type\": \"surface\"}], \"table\": [{\"cells\": {\"fill\": {\"color\": \"#EBF0F8\"}, \"line\": {\"color\": \"white\"}}, \"header\": {\"fill\": {\"color\": \"#C8D4E3\"}, \"line\": {\"color\": \"white\"}}, \"type\": \"table\"}]}, \"layout\": {\"annotationdefaults\": {\"arrowcolor\": \"#2a3f5f\", \"arrowhead\": 0, \"arrowwidth\": 1}, \"coloraxis\": {\"colorbar\": {\"outlinewidth\": 0, \"ticks\": \"\"}}, \"colorscale\": {\"diverging\": [[0, \"#8e0152\"], [0.1, \"#c51b7d\"], [0.2, \"#de77ae\"], [0.3, \"#f1b6da\"], [0.4, \"#fde0ef\"], [0.5, \"#f7f7f7\"], [0.6, \"#e6f5d0\"], [0.7, \"#b8e186\"], [0.8, \"#7fbc41\"], [0.9, \"#4d9221\"], [1, \"#276419\"]], \"sequential\": [[0.0, \"#0d0887\"], [0.1111111111111111, \"#46039f\"], [0.2222222222222222, \"#7201a8\"], [0.3333333333333333, \"#9c179e\"], [0.4444444444444444, \"#bd3786\"], [0.5555555555555556, \"#d8576b\"], [0.6666666666666666, \"#ed7953\"], [0.7777777777777778, \"#fb9f3a\"], [0.8888888888888888, \"#fdca26\"], [1.0, \"#f0f921\"]], \"sequentialminus\": [[0.0, \"#0d0887\"], [0.1111111111111111, \"#46039f\"], [0.2222222222222222, \"#7201a8\"], [0.3333333333333333, \"#9c179e\"], [0.4444444444444444, \"#bd3786\"], [0.5555555555555556, \"#d8576b\"], [0.6666666666666666, \"#ed7953\"], [0.7777777777777778, \"#fb9f3a\"], [0.8888888888888888, \"#fdca26\"], [1.0, \"#f0f921\"]]}, \"colorway\": [\"#636efa\", \"#EF553B\", \"#00cc96\", \"#ab63fa\", \"#FFA15A\", \"#19d3f3\", \"#FF6692\", \"#B6E880\", \"#FF97FF\", \"#FECB52\"], \"font\": {\"color\": \"#2a3f5f\"}, \"geo\": {\"bgcolor\": \"white\", \"lakecolor\": \"white\", \"landcolor\": \"#E5ECF6\", \"showlakes\": true, \"showland\": true, \"subunitcolor\": \"white\"}, \"hoverlabel\": {\"align\": \"left\"}, \"hovermode\": \"closest\", \"mapbox\": {\"style\": \"light\"}, \"paper_bgcolor\": \"white\", \"plot_bgcolor\": \"#E5ECF6\", \"polar\": {\"angularaxis\": {\"gridcolor\": \"white\", \"linecolor\": \"white\", \"ticks\": \"\"}, \"bgcolor\": \"#E5ECF6\", \"radialaxis\": {\"gridcolor\": \"white\", \"linecolor\": \"white\", \"ticks\": \"\"}}, \"scene\": {\"xaxis\": {\"backgroundcolor\": \"#E5ECF6\", \"gridcolor\": \"white\", \"gridwidth\": 2, \"linecolor\": \"white\", \"showbackground\": true, \"ticks\": \"\", \"zerolinecolor\": \"white\"}, \"yaxis\": {\"backgroundcolor\": \"#E5ECF6\", \"gridcolor\": \"white\", \"gridwidth\": 2, \"linecolor\": \"white\", \"showbackground\": true, \"ticks\": \"\", \"zerolinecolor\": \"white\"}, \"zaxis\": {\"backgroundcolor\": \"#E5ECF6\", \"gridcolor\": \"white\", \"gridwidth\": 2, \"linecolor\": \"white\", \"showbackground\": true, \"ticks\": \"\", \"zerolinecolor\": \"white\"}}, \"shapedefaults\": {\"line\": {\"color\": \"#2a3f5f\"}}, \"ternary\": {\"aaxis\": {\"gridcolor\": \"white\", \"linecolor\": \"white\", \"ticks\": \"\"}, \"baxis\": {\"gridcolor\": \"white\", \"linecolor\": \"white\", \"ticks\": \"\"}, \"bgcolor\": \"#E5ECF6\", \"caxis\": {\"gridcolor\": \"white\", \"linecolor\": \"white\", \"ticks\": \"\"}}, \"title\": {\"x\": 0.05}, \"xaxis\": {\"automargin\": true, \"gridcolor\": \"white\", \"linecolor\": \"white\", \"ticks\": \"\", \"title\": {\"standoff\": 15}, \"zerolinecolor\": \"white\", \"zerolinewidth\": 2}, \"yaxis\": {\"automargin\": true, \"gridcolor\": \"white\", \"linecolor\": \"white\", \"ticks\": \"\", \"title\": {\"standoff\": 15}, \"zerolinecolor\": \"white\", \"zerolinewidth\": 2}}}, \"title\": {\"font\": {\"color\": \"#4D5663\"}}, \"xaxis\": {\"gridcolor\": \"#E1E5ED\", \"showgrid\": true, \"tickfont\": {\"color\": \"#4D5663\"}, \"title\": {\"font\": {\"color\": \"#4D5663\"}, \"text\": \"\"}, \"zerolinecolor\": \"#E1E5ED\"}, \"yaxis\": {\"gridcolor\": \"#E1E5ED\", \"showgrid\": true, \"tickfont\": {\"color\": \"#4D5663\"}, \"title\": {\"font\": {\"color\": \"#4D5663\"}, \"text\": \"\"}, \"zerolinecolor\": \"#E1E5ED\"}},\n",
       "                        {\"showLink\": true, \"linkText\": \"Export to plot.ly\", \"plotlyServerURL\": \"https://plot.ly\", \"responsive\": true}\n",
       "                    ).then(function(){\n",
       "                            \n",
       "var gd = document.getElementById('cc6063bd-27e3-403a-ab97-759925f51c48');\n",
       "var x = new MutationObserver(function (mutations, observer) {{\n",
       "        var display = window.getComputedStyle(gd).display;\n",
       "        if (!display || display === 'none') {{\n",
       "            console.log([gd, 'removed!']);\n",
       "            Plotly.purge(gd);\n",
       "            observer.disconnect();\n",
       "        }}\n",
       "}});\n",
       "\n",
       "// Listen for the removal of the full notebook cells\n",
       "var notebookContainer = gd.closest('#notebook-container');\n",
       "if (notebookContainer) {{\n",
       "    x.observe(notebookContainer, {childList: true});\n",
       "}}\n",
       "\n",
       "// Listen for the clearing of the current output cell\n",
       "var outputEl = gd.closest('.output');\n",
       "if (outputEl) {{\n",
       "    x.observe(outputEl, {childList: true});\n",
       "}}\n",
       "\n",
       "                        })\n",
       "                };\n",
       "                });\n",
       "            </script>\n",
       "        </div>"
      ]
     },
     "metadata": {},
     "output_type": "display_data"
    }
   ],
   "source": [
    "df['A'].iplot(kind='hist',bins=25)"
   ]
  },
  {
   "cell_type": "code",
   "execution_count": 19,
   "metadata": {
    "jupyter": {
     "outputs_hidden": false
    }
   },
   "outputs": [
    {
     "data": {
      "application/vnd.plotly.v1+json": {
       "config": {
        "linkText": "Export to plot.ly",
        "plotlyServerURL": "https://plot.ly",
        "showLink": true
       },
       "data": [
        {
         "marker": {
          "color": [
           "rgb(255, 153, 51)",
           "rgb(55, 128, 191)",
           "rgb(50, 171, 96)",
           "rgb(128, 0, 128)",
           "rgb(219, 64, 82)",
           "rgb(0, 128, 128)",
           "rgb(255, 255, 51)",
           "rgb(128, 128, 0)",
           "rgb(251, 128, 114)",
           "rgb(128, 177, 211)"
          ],
          "line": {
           "width": 1.3
          },
          "size": [
           63,
           64,
           45,
           87,
           83,
           48,
           112,
           40,
           85,
           40,
           85,
           55,
           75,
           69,
           85,
           26,
           42,
           37,
           27,
           100,
           38,
           41,
           65,
           25,
           76,
           54,
           44,
           54,
           69,
           42,
           70,
           64,
           86,
           37,
           39,
           69,
           24,
           48,
           48,
           60,
           37,
           41,
           35,
           32,
           57,
           61,
           73,
           57,
           36,
           83,
           77,
           21,
           78,
           60,
           52,
           66,
           41,
           34,
           80,
           57,
           87,
           45,
           37,
           72,
           56,
           70,
           74,
           79,
           31,
           32,
           105,
           45,
           74,
           12,
           56,
           67,
           41,
           31,
           77,
           74,
           47,
           51,
           94,
           42,
           41,
           36,
           76,
           58,
           64,
           62,
           55,
           44,
           52,
           77,
           79,
           49,
           37,
           48,
           28,
           57
          ],
          "symbol": "circle"
         },
         "mode": "markers",
         "text": "",
         "type": "scatter",
         "x": [
          1.940291908011102,
          -0.43602033128621526,
          -0.48460214045660277,
          -1.0240471641424937,
          0.07834813558886017,
          -0.03664652387595461,
          -0.3129739035091516,
          -2.334547594397871,
          1.8228858929130831,
          1.5711886392255132,
          -2.364881578802697,
          1.4616947574353703,
          -0.4987309829110831,
          1.5617852729463797,
          0.27096936324438226,
          -0.6303478616043724,
          -1.5081522475000202,
          1.7029399159062886,
          -0.5595680928927093,
          -1.2503555447771197,
          0.8046047778907405,
          -0.8662211973605952,
          0.5836035330903515,
          -1.6882300309849554,
          0.5249023960622097,
          0.8738634367385915,
          -0.7011217630000545,
          -0.11281811880033381,
          1.9132226852451233,
          0.21515592223039476,
          -1.5250854327856227,
          -0.1590202944556442,
          -0.4527591510178096,
          -1.1110076710922145,
          -0.9041890618466469,
          -1.05375893360304,
          0.45947755704608234,
          0.4151947410799361,
          -1.4538365237286752,
          -0.5787259904446689,
          1.0876123636309982,
          -0.256605975290541,
          0.13329166285795085,
          -0.9077772592137843,
          0.03249663834892144,
          1.0142902752121234,
          -0.3344369309963581,
          -0.09121153691247674,
          -0.40669721394299546,
          0.02744157623740808,
          -1.5452805971626824,
          -1.3511169562269885,
          0.01158109319398306,
          -0.9149503343075752,
          -1.1025417006876994,
          -0.5048494637049264,
          -0.2567919047639987,
          0.01093619218693575,
          -0.1356930776970061,
          0.10026165369166105,
          1.1717276766409668,
          -0.6434971360362067,
          0.34067344818628176,
          0.8863816354805312,
          -0.10132359942293251,
          0.07605559055080867,
          -0.6913446582930974,
          -1.2920514173129505,
          -1.3009741161906287,
          1.2876633447677763,
          -1.4445628899407343,
          0.259865688457576,
          1.8478838525077084,
          -0.41108510928550895,
          0.2893624467427053,
          0.748614342294359,
          0.9263547679541281,
          0.635161754847521,
          0.28256247565135617,
          1.5126383882427301,
          -0.7632724161850403,
          -0.2983928325770369,
          0.37300270064839636,
          1.0871880926061648,
          2.6572202224944146,
          -1.9722183777917304,
          0.18564568416487742,
          -0.9814354534461059,
          -0.5474587763161223,
          0.03598568118577001,
          -0.23166847854919972,
          -1.1346148101716846,
          -0.9036756738680616,
          -0.0404909774929333,
          -0.7164950094764136,
          -0.06435143860746836,
          -0.07591268221618847,
          -0.5296157564584758,
          0.2931309732891985,
          -0.1006868486366963
         ],
         "y": [
          -0.42790688434940893,
          1.1023212831129967,
          1.1887901480514325,
          1.0732111845425714,
          -0.36657365759249483,
          -0.5656473349592283,
          -0.052425381012257515,
          1.1967973487129693,
          -1.9204162179742734,
          0.49499173286988396,
          0.03177713886948559,
          2.0395208180242643,
          -0.43859191833447764,
          1.4803364226090499,
          0.12666444902249152,
          -1.649742282114302,
          0.5870377856553117,
          2.2710802059818387,
          -0.30189613702080215,
          -0.7473224975631962,
          -1.900915231301534,
          -0.3708915752256786,
          -0.6999856013421171,
          -2.0196320119393696,
          0.21564852508540636,
          -0.33120503933020584,
          -0.41383604470641094,
          -0.47804860178887726,
          -0.7092972940284749,
          0.5778318584490235,
          -0.4101017143331438,
          -0.5352139410516578,
          -0.7862257663300574,
          0.6939896876836772,
          0.5326883503544092,
          1.5131372743263152,
          0.4166429553616738,
          0.2528413795800169,
          -0.855163816308513,
          -0.14730575159544035,
          0.28800779576442737,
          -1.4143330241262138,
          -0.1499239941006353,
          1.007051705598499,
          0.7490749925322414,
          -1.426002197503157,
          -1.279040263458639,
          -2.154585408397387,
          0.9533137961235957,
          -1.175672610090137,
          1.4978861553591707,
          1.4435405003817126,
          0.16563658417772678,
          -0.6623006604152534,
          -0.49891553469198524,
          1.9747739497342782,
          0.10501534948661304,
          0.14056313980420468,
          -2.002254240703674,
          0.7190327472356344,
          -0.881783930208081,
          0.25366385499380195,
          -0.5874379416344943,
          -1.6289419914202181,
          0.8301884314766689,
          0.7747392373953594,
          -0.6875231198482459,
          0.12024538466383536,
          1.3670594450102325,
          0.5827452306838281,
          -0.530278447900754,
          0.05614891806237901,
          0.7790080419810892,
          1.446161850152793,
          0.1404383743784033,
          -1.276468775850176,
          -1.2232777640277335,
          -1.0818283123154933,
          1.2036621750038603,
          0.10999185836379068,
          -1.1292034967068854,
          -1.4838806863523342,
          0.7118756638641246,
          -0.5259681147027214,
          0.3274831050418921,
          -0.8385036986314343,
          -0.1876452907738252,
          -0.48443317356575794,
          -0.06461280053411844,
          -1.1236064929290808,
          0.8555082423265195,
          1.3065424209543985,
          0.07851453225301613,
          0.4895930528339927,
          0.28602019675591833,
          -0.9257653387478679,
          0.02203108690296603,
          -0.5784050702216772,
          0.5342364290101148,
          0.07580009014358847
         ]
        }
       ],
       "layout": {
        "legend": {
         "bgcolor": "#F5F6F9",
         "font": {
          "color": "#4D5663"
         }
        },
        "paper_bgcolor": "#F5F6F9",
        "plot_bgcolor": "#F5F6F9",
        "template": {
         "data": {
          "bar": [
           {
            "error_x": {
             "color": "#2a3f5f"
            },
            "error_y": {
             "color": "#2a3f5f"
            },
            "marker": {
             "line": {
              "color": "#E5ECF6",
              "width": 0.5
             }
            },
            "type": "bar"
           }
          ],
          "barpolar": [
           {
            "marker": {
             "line": {
              "color": "#E5ECF6",
              "width": 0.5
             }
            },
            "type": "barpolar"
           }
          ],
          "carpet": [
           {
            "aaxis": {
             "endlinecolor": "#2a3f5f",
             "gridcolor": "white",
             "linecolor": "white",
             "minorgridcolor": "white",
             "startlinecolor": "#2a3f5f"
            },
            "baxis": {
             "endlinecolor": "#2a3f5f",
             "gridcolor": "white",
             "linecolor": "white",
             "minorgridcolor": "white",
             "startlinecolor": "#2a3f5f"
            },
            "type": "carpet"
           }
          ],
          "choropleth": [
           {
            "colorbar": {
             "outlinewidth": 0,
             "ticks": ""
            },
            "type": "choropleth"
           }
          ],
          "contour": [
           {
            "colorbar": {
             "outlinewidth": 0,
             "ticks": ""
            },
            "colorscale": [
             [
              0,
              "#0d0887"
             ],
             [
              0.1111111111111111,
              "#46039f"
             ],
             [
              0.2222222222222222,
              "#7201a8"
             ],
             [
              0.3333333333333333,
              "#9c179e"
             ],
             [
              0.4444444444444444,
              "#bd3786"
             ],
             [
              0.5555555555555556,
              "#d8576b"
             ],
             [
              0.6666666666666666,
              "#ed7953"
             ],
             [
              0.7777777777777778,
              "#fb9f3a"
             ],
             [
              0.8888888888888888,
              "#fdca26"
             ],
             [
              1,
              "#f0f921"
             ]
            ],
            "type": "contour"
           }
          ],
          "contourcarpet": [
           {
            "colorbar": {
             "outlinewidth": 0,
             "ticks": ""
            },
            "type": "contourcarpet"
           }
          ],
          "heatmap": [
           {
            "colorbar": {
             "outlinewidth": 0,
             "ticks": ""
            },
            "colorscale": [
             [
              0,
              "#0d0887"
             ],
             [
              0.1111111111111111,
              "#46039f"
             ],
             [
              0.2222222222222222,
              "#7201a8"
             ],
             [
              0.3333333333333333,
              "#9c179e"
             ],
             [
              0.4444444444444444,
              "#bd3786"
             ],
             [
              0.5555555555555556,
              "#d8576b"
             ],
             [
              0.6666666666666666,
              "#ed7953"
             ],
             [
              0.7777777777777778,
              "#fb9f3a"
             ],
             [
              0.8888888888888888,
              "#fdca26"
             ],
             [
              1,
              "#f0f921"
             ]
            ],
            "type": "heatmap"
           }
          ],
          "heatmapgl": [
           {
            "colorbar": {
             "outlinewidth": 0,
             "ticks": ""
            },
            "colorscale": [
             [
              0,
              "#0d0887"
             ],
             [
              0.1111111111111111,
              "#46039f"
             ],
             [
              0.2222222222222222,
              "#7201a8"
             ],
             [
              0.3333333333333333,
              "#9c179e"
             ],
             [
              0.4444444444444444,
              "#bd3786"
             ],
             [
              0.5555555555555556,
              "#d8576b"
             ],
             [
              0.6666666666666666,
              "#ed7953"
             ],
             [
              0.7777777777777778,
              "#fb9f3a"
             ],
             [
              0.8888888888888888,
              "#fdca26"
             ],
             [
              1,
              "#f0f921"
             ]
            ],
            "type": "heatmapgl"
           }
          ],
          "histogram": [
           {
            "marker": {
             "colorbar": {
              "outlinewidth": 0,
              "ticks": ""
             }
            },
            "type": "histogram"
           }
          ],
          "histogram2d": [
           {
            "colorbar": {
             "outlinewidth": 0,
             "ticks": ""
            },
            "colorscale": [
             [
              0,
              "#0d0887"
             ],
             [
              0.1111111111111111,
              "#46039f"
             ],
             [
              0.2222222222222222,
              "#7201a8"
             ],
             [
              0.3333333333333333,
              "#9c179e"
             ],
             [
              0.4444444444444444,
              "#bd3786"
             ],
             [
              0.5555555555555556,
              "#d8576b"
             ],
             [
              0.6666666666666666,
              "#ed7953"
             ],
             [
              0.7777777777777778,
              "#fb9f3a"
             ],
             [
              0.8888888888888888,
              "#fdca26"
             ],
             [
              1,
              "#f0f921"
             ]
            ],
            "type": "histogram2d"
           }
          ],
          "histogram2dcontour": [
           {
            "colorbar": {
             "outlinewidth": 0,
             "ticks": ""
            },
            "colorscale": [
             [
              0,
              "#0d0887"
             ],
             [
              0.1111111111111111,
              "#46039f"
             ],
             [
              0.2222222222222222,
              "#7201a8"
             ],
             [
              0.3333333333333333,
              "#9c179e"
             ],
             [
              0.4444444444444444,
              "#bd3786"
             ],
             [
              0.5555555555555556,
              "#d8576b"
             ],
             [
              0.6666666666666666,
              "#ed7953"
             ],
             [
              0.7777777777777778,
              "#fb9f3a"
             ],
             [
              0.8888888888888888,
              "#fdca26"
             ],
             [
              1,
              "#f0f921"
             ]
            ],
            "type": "histogram2dcontour"
           }
          ],
          "mesh3d": [
           {
            "colorbar": {
             "outlinewidth": 0,
             "ticks": ""
            },
            "type": "mesh3d"
           }
          ],
          "parcoords": [
           {
            "line": {
             "colorbar": {
              "outlinewidth": 0,
              "ticks": ""
             }
            },
            "type": "parcoords"
           }
          ],
          "pie": [
           {
            "automargin": true,
            "type": "pie"
           }
          ],
          "scatter": [
           {
            "marker": {
             "colorbar": {
              "outlinewidth": 0,
              "ticks": ""
             }
            },
            "type": "scatter"
           }
          ],
          "scatter3d": [
           {
            "line": {
             "colorbar": {
              "outlinewidth": 0,
              "ticks": ""
             }
            },
            "marker": {
             "colorbar": {
              "outlinewidth": 0,
              "ticks": ""
             }
            },
            "type": "scatter3d"
           }
          ],
          "scattercarpet": [
           {
            "marker": {
             "colorbar": {
              "outlinewidth": 0,
              "ticks": ""
             }
            },
            "type": "scattercarpet"
           }
          ],
          "scattergeo": [
           {
            "marker": {
             "colorbar": {
              "outlinewidth": 0,
              "ticks": ""
             }
            },
            "type": "scattergeo"
           }
          ],
          "scattergl": [
           {
            "marker": {
             "colorbar": {
              "outlinewidth": 0,
              "ticks": ""
             }
            },
            "type": "scattergl"
           }
          ],
          "scattermapbox": [
           {
            "marker": {
             "colorbar": {
              "outlinewidth": 0,
              "ticks": ""
             }
            },
            "type": "scattermapbox"
           }
          ],
          "scatterpolar": [
           {
            "marker": {
             "colorbar": {
              "outlinewidth": 0,
              "ticks": ""
             }
            },
            "type": "scatterpolar"
           }
          ],
          "scatterpolargl": [
           {
            "marker": {
             "colorbar": {
              "outlinewidth": 0,
              "ticks": ""
             }
            },
            "type": "scatterpolargl"
           }
          ],
          "scatterternary": [
           {
            "marker": {
             "colorbar": {
              "outlinewidth": 0,
              "ticks": ""
             }
            },
            "type": "scatterternary"
           }
          ],
          "surface": [
           {
            "colorbar": {
             "outlinewidth": 0,
             "ticks": ""
            },
            "colorscale": [
             [
              0,
              "#0d0887"
             ],
             [
              0.1111111111111111,
              "#46039f"
             ],
             [
              0.2222222222222222,
              "#7201a8"
             ],
             [
              0.3333333333333333,
              "#9c179e"
             ],
             [
              0.4444444444444444,
              "#bd3786"
             ],
             [
              0.5555555555555556,
              "#d8576b"
             ],
             [
              0.6666666666666666,
              "#ed7953"
             ],
             [
              0.7777777777777778,
              "#fb9f3a"
             ],
             [
              0.8888888888888888,
              "#fdca26"
             ],
             [
              1,
              "#f0f921"
             ]
            ],
            "type": "surface"
           }
          ],
          "table": [
           {
            "cells": {
             "fill": {
              "color": "#EBF0F8"
             },
             "line": {
              "color": "white"
             }
            },
            "header": {
             "fill": {
              "color": "#C8D4E3"
             },
             "line": {
              "color": "white"
             }
            },
            "type": "table"
           }
          ]
         },
         "layout": {
          "annotationdefaults": {
           "arrowcolor": "#2a3f5f",
           "arrowhead": 0,
           "arrowwidth": 1
          },
          "coloraxis": {
           "colorbar": {
            "outlinewidth": 0,
            "ticks": ""
           }
          },
          "colorscale": {
           "diverging": [
            [
             0,
             "#8e0152"
            ],
            [
             0.1,
             "#c51b7d"
            ],
            [
             0.2,
             "#de77ae"
            ],
            [
             0.3,
             "#f1b6da"
            ],
            [
             0.4,
             "#fde0ef"
            ],
            [
             0.5,
             "#f7f7f7"
            ],
            [
             0.6,
             "#e6f5d0"
            ],
            [
             0.7,
             "#b8e186"
            ],
            [
             0.8,
             "#7fbc41"
            ],
            [
             0.9,
             "#4d9221"
            ],
            [
             1,
             "#276419"
            ]
           ],
           "sequential": [
            [
             0,
             "#0d0887"
            ],
            [
             0.1111111111111111,
             "#46039f"
            ],
            [
             0.2222222222222222,
             "#7201a8"
            ],
            [
             0.3333333333333333,
             "#9c179e"
            ],
            [
             0.4444444444444444,
             "#bd3786"
            ],
            [
             0.5555555555555556,
             "#d8576b"
            ],
            [
             0.6666666666666666,
             "#ed7953"
            ],
            [
             0.7777777777777778,
             "#fb9f3a"
            ],
            [
             0.8888888888888888,
             "#fdca26"
            ],
            [
             1,
             "#f0f921"
            ]
           ],
           "sequentialminus": [
            [
             0,
             "#0d0887"
            ],
            [
             0.1111111111111111,
             "#46039f"
            ],
            [
             0.2222222222222222,
             "#7201a8"
            ],
            [
             0.3333333333333333,
             "#9c179e"
            ],
            [
             0.4444444444444444,
             "#bd3786"
            ],
            [
             0.5555555555555556,
             "#d8576b"
            ],
            [
             0.6666666666666666,
             "#ed7953"
            ],
            [
             0.7777777777777778,
             "#fb9f3a"
            ],
            [
             0.8888888888888888,
             "#fdca26"
            ],
            [
             1,
             "#f0f921"
            ]
           ]
          },
          "colorway": [
           "#636efa",
           "#EF553B",
           "#00cc96",
           "#ab63fa",
           "#FFA15A",
           "#19d3f3",
           "#FF6692",
           "#B6E880",
           "#FF97FF",
           "#FECB52"
          ],
          "font": {
           "color": "#2a3f5f"
          },
          "geo": {
           "bgcolor": "white",
           "lakecolor": "white",
           "landcolor": "#E5ECF6",
           "showlakes": true,
           "showland": true,
           "subunitcolor": "white"
          },
          "hoverlabel": {
           "align": "left"
          },
          "hovermode": "closest",
          "mapbox": {
           "style": "light"
          },
          "paper_bgcolor": "white",
          "plot_bgcolor": "#E5ECF6",
          "polar": {
           "angularaxis": {
            "gridcolor": "white",
            "linecolor": "white",
            "ticks": ""
           },
           "bgcolor": "#E5ECF6",
           "radialaxis": {
            "gridcolor": "white",
            "linecolor": "white",
            "ticks": ""
           }
          },
          "scene": {
           "xaxis": {
            "backgroundcolor": "#E5ECF6",
            "gridcolor": "white",
            "gridwidth": 2,
            "linecolor": "white",
            "showbackground": true,
            "ticks": "",
            "zerolinecolor": "white"
           },
           "yaxis": {
            "backgroundcolor": "#E5ECF6",
            "gridcolor": "white",
            "gridwidth": 2,
            "linecolor": "white",
            "showbackground": true,
            "ticks": "",
            "zerolinecolor": "white"
           },
           "zaxis": {
            "backgroundcolor": "#E5ECF6",
            "gridcolor": "white",
            "gridwidth": 2,
            "linecolor": "white",
            "showbackground": true,
            "ticks": "",
            "zerolinecolor": "white"
           }
          },
          "shapedefaults": {
           "line": {
            "color": "#2a3f5f"
           }
          },
          "ternary": {
           "aaxis": {
            "gridcolor": "white",
            "linecolor": "white",
            "ticks": ""
           },
           "baxis": {
            "gridcolor": "white",
            "linecolor": "white",
            "ticks": ""
           },
           "bgcolor": "#E5ECF6",
           "caxis": {
            "gridcolor": "white",
            "linecolor": "white",
            "ticks": ""
           }
          },
          "title": {
           "x": 0.05
          },
          "xaxis": {
           "automargin": true,
           "gridcolor": "white",
           "linecolor": "white",
           "ticks": "",
           "title": {
            "standoff": 15
           },
           "zerolinecolor": "white",
           "zerolinewidth": 2
          },
          "yaxis": {
           "automargin": true,
           "gridcolor": "white",
           "linecolor": "white",
           "ticks": "",
           "title": {
            "standoff": 15
           },
           "zerolinecolor": "white",
           "zerolinewidth": 2
          }
         }
        },
        "title": {
         "font": {
          "color": "#4D5663"
         }
        },
        "xaxis": {
         "gridcolor": "#E1E5ED",
         "showgrid": true,
         "tickfont": {
          "color": "#4D5663"
         },
         "title": {
          "font": {
           "color": "#4D5663"
          },
          "text": ""
         },
         "zerolinecolor": "#E1E5ED"
        },
        "yaxis": {
         "gridcolor": "#E1E5ED",
         "showgrid": true,
         "tickfont": {
          "color": "#4D5663"
         },
         "title": {
          "font": {
           "color": "#4D5663"
          },
          "text": ""
         },
         "zerolinecolor": "#E1E5ED"
        }
       }
      },
      "text/html": [
       "<div>\n",
       "        \n",
       "        \n",
       "            <div id=\"01f5aabc-12a4-4f3d-b379-7d26e99e7510\" class=\"plotly-graph-div\" style=\"height:525px; width:100%;\"></div>\n",
       "            <script type=\"text/javascript\">\n",
       "                require([\"plotly\"], function(Plotly) {\n",
       "                    window.PLOTLYENV=window.PLOTLYENV || {};\n",
       "                    window.PLOTLYENV.BASE_URL='https://plot.ly';\n",
       "                    \n",
       "                if (document.getElementById(\"01f5aabc-12a4-4f3d-b379-7d26e99e7510\")) {\n",
       "                    Plotly.newPlot(\n",
       "                        '01f5aabc-12a4-4f3d-b379-7d26e99e7510',\n",
       "                        [{\"marker\": {\"color\": [\"rgb(255, 153, 51)\", \"rgb(55, 128, 191)\", \"rgb(50, 171, 96)\", \"rgb(128, 0, 128)\", \"rgb(219, 64, 82)\", \"rgb(0, 128, 128)\", \"rgb(255, 255, 51)\", \"rgb(128, 128, 0)\", \"rgb(251, 128, 114)\", \"rgb(128, 177, 211)\"], \"line\": {\"width\": 1.3}, \"size\": [63, 64, 45, 87, 83, 48, 112, 40, 85, 40, 85, 55, 75, 69, 85, 26, 42, 37, 27, 100, 38, 41, 65, 25, 76, 54, 44, 54, 69, 42, 70, 64, 86, 37, 39, 69, 24, 48, 48, 60, 37, 41, 35, 32, 57, 61, 73, 57, 36, 83, 77, 21, 78, 60, 52, 66, 41, 34, 80, 57, 87, 45, 37, 72, 56, 70, 74, 79, 31, 32, 105, 45, 74, 12, 56, 67, 41, 31, 77, 74, 47, 51, 94, 42, 41, 36, 76, 58, 64, 62, 55, 44, 52, 77, 79, 49, 37, 48, 28, 57], \"symbol\": \"circle\"}, \"mode\": \"markers\", \"text\": \"\", \"type\": \"scatter\", \"x\": [1.940291908011102, -0.43602033128621526, -0.48460214045660277, -1.0240471641424937, 0.07834813558886017, -0.03664652387595461, -0.3129739035091516, -2.334547594397871, 1.8228858929130831, 1.5711886392255132, -2.364881578802697, 1.4616947574353703, -0.4987309829110831, 1.5617852729463797, 0.27096936324438226, -0.6303478616043724, -1.5081522475000202, 1.7029399159062886, -0.5595680928927093, -1.2503555447771197, 0.8046047778907405, -0.8662211973605952, 0.5836035330903515, -1.6882300309849554, 0.5249023960622097, 0.8738634367385915, -0.7011217630000545, -0.11281811880033381, 1.9132226852451233, 0.21515592223039476, -1.5250854327856227, -0.1590202944556442, -0.4527591510178096, -1.1110076710922145, -0.9041890618466469, -1.05375893360304, 0.45947755704608234, 0.4151947410799361, -1.4538365237286752, -0.5787259904446689, 1.0876123636309982, -0.256605975290541, 0.13329166285795085, -0.9077772592137843, 0.03249663834892144, 1.0142902752121234, -0.3344369309963581, -0.09121153691247674, -0.40669721394299546, 0.02744157623740808, -1.5452805971626824, -1.3511169562269885, 0.01158109319398306, -0.9149503343075752, -1.1025417006876994, -0.5048494637049264, -0.2567919047639987, 0.01093619218693575, -0.1356930776970061, 0.10026165369166105, 1.1717276766409668, -0.6434971360362067, 0.34067344818628176, 0.8863816354805312, -0.10132359942293251, 0.07605559055080867, -0.6913446582930974, -1.2920514173129505, -1.3009741161906287, 1.2876633447677763, -1.4445628899407343, 0.259865688457576, 1.8478838525077084, -0.41108510928550895, 0.2893624467427053, 0.748614342294359, 0.9263547679541281, 0.635161754847521, 0.28256247565135617, 1.5126383882427301, -0.7632724161850403, -0.2983928325770369, 0.37300270064839636, 1.0871880926061648, 2.6572202224944146, -1.9722183777917304, 0.18564568416487742, -0.9814354534461059, -0.5474587763161223, 0.03598568118577001, -0.23166847854919972, -1.1346148101716846, -0.9036756738680616, -0.0404909774929333, -0.7164950094764136, -0.06435143860746836, -0.07591268221618847, -0.5296157564584758, 0.2931309732891985, -0.1006868486366963], \"y\": [-0.42790688434940893, 1.1023212831129967, 1.1887901480514325, 1.0732111845425714, -0.36657365759249483, -0.5656473349592283, -0.052425381012257515, 1.1967973487129693, -1.9204162179742734, 0.49499173286988396, 0.03177713886948559, 2.0395208180242643, -0.43859191833447764, 1.4803364226090499, 0.12666444902249152, -1.649742282114302, 0.5870377856553117, 2.2710802059818387, -0.30189613702080215, -0.7473224975631962, -1.900915231301534, -0.3708915752256786, -0.6999856013421171, -2.0196320119393696, 0.21564852508540636, -0.33120503933020584, -0.41383604470641094, -0.47804860178887726, -0.7092972940284749, 0.5778318584490235, -0.4101017143331438, -0.5352139410516578, -0.7862257663300574, 0.6939896876836772, 0.5326883503544092, 1.5131372743263152, 0.4166429553616738, 0.2528413795800169, -0.855163816308513, -0.14730575159544035, 0.28800779576442737, -1.4143330241262138, -0.1499239941006353, 1.007051705598499, 0.7490749925322414, -1.426002197503157, -1.279040263458639, -2.154585408397387, 0.9533137961235957, -1.175672610090137, 1.4978861553591707, 1.4435405003817126, 0.16563658417772678, -0.6623006604152534, -0.49891553469198524, 1.9747739497342782, 0.10501534948661304, 0.14056313980420468, -2.002254240703674, 0.7190327472356344, -0.881783930208081, 0.25366385499380195, -0.5874379416344943, -1.6289419914202181, 0.8301884314766689, 0.7747392373953594, -0.6875231198482459, 0.12024538466383536, 1.3670594450102325, 0.5827452306838281, -0.530278447900754, 0.05614891806237901, 0.7790080419810892, 1.446161850152793, 0.1404383743784033, -1.276468775850176, -1.2232777640277335, -1.0818283123154933, 1.2036621750038603, 0.10999185836379068, -1.1292034967068854, -1.4838806863523342, 0.7118756638641246, -0.5259681147027214, 0.3274831050418921, -0.8385036986314343, -0.1876452907738252, -0.48443317356575794, -0.06461280053411844, -1.1236064929290808, 0.8555082423265195, 1.3065424209543985, 0.07851453225301613, 0.4895930528339927, 0.28602019675591833, -0.9257653387478679, 0.02203108690296603, -0.5784050702216772, 0.5342364290101148, 0.07580009014358847]}],\n",
       "                        {\"legend\": {\"bgcolor\": \"#F5F6F9\", \"font\": {\"color\": \"#4D5663\"}}, \"paper_bgcolor\": \"#F5F6F9\", \"plot_bgcolor\": \"#F5F6F9\", \"template\": {\"data\": {\"bar\": [{\"error_x\": {\"color\": \"#2a3f5f\"}, \"error_y\": {\"color\": \"#2a3f5f\"}, \"marker\": {\"line\": {\"color\": \"#E5ECF6\", \"width\": 0.5}}, \"type\": \"bar\"}], \"barpolar\": [{\"marker\": {\"line\": {\"color\": \"#E5ECF6\", \"width\": 0.5}}, \"type\": \"barpolar\"}], \"carpet\": [{\"aaxis\": {\"endlinecolor\": \"#2a3f5f\", \"gridcolor\": \"white\", \"linecolor\": \"white\", \"minorgridcolor\": \"white\", \"startlinecolor\": \"#2a3f5f\"}, \"baxis\": {\"endlinecolor\": \"#2a3f5f\", \"gridcolor\": \"white\", \"linecolor\": \"white\", \"minorgridcolor\": \"white\", \"startlinecolor\": \"#2a3f5f\"}, \"type\": \"carpet\"}], \"choropleth\": [{\"colorbar\": {\"outlinewidth\": 0, \"ticks\": \"\"}, \"type\": \"choropleth\"}], \"contour\": [{\"colorbar\": {\"outlinewidth\": 0, \"ticks\": \"\"}, \"colorscale\": [[0.0, \"#0d0887\"], [0.1111111111111111, \"#46039f\"], [0.2222222222222222, \"#7201a8\"], [0.3333333333333333, \"#9c179e\"], [0.4444444444444444, \"#bd3786\"], [0.5555555555555556, \"#d8576b\"], [0.6666666666666666, \"#ed7953\"], [0.7777777777777778, \"#fb9f3a\"], [0.8888888888888888, \"#fdca26\"], [1.0, \"#f0f921\"]], \"type\": \"contour\"}], \"contourcarpet\": [{\"colorbar\": {\"outlinewidth\": 0, \"ticks\": \"\"}, \"type\": \"contourcarpet\"}], \"heatmap\": [{\"colorbar\": {\"outlinewidth\": 0, \"ticks\": \"\"}, \"colorscale\": [[0.0, \"#0d0887\"], [0.1111111111111111, \"#46039f\"], [0.2222222222222222, \"#7201a8\"], [0.3333333333333333, \"#9c179e\"], [0.4444444444444444, \"#bd3786\"], [0.5555555555555556, \"#d8576b\"], [0.6666666666666666, \"#ed7953\"], [0.7777777777777778, \"#fb9f3a\"], [0.8888888888888888, \"#fdca26\"], [1.0, \"#f0f921\"]], \"type\": \"heatmap\"}], \"heatmapgl\": [{\"colorbar\": {\"outlinewidth\": 0, \"ticks\": \"\"}, \"colorscale\": [[0.0, \"#0d0887\"], [0.1111111111111111, \"#46039f\"], [0.2222222222222222, \"#7201a8\"], [0.3333333333333333, \"#9c179e\"], [0.4444444444444444, \"#bd3786\"], [0.5555555555555556, \"#d8576b\"], [0.6666666666666666, \"#ed7953\"], [0.7777777777777778, \"#fb9f3a\"], [0.8888888888888888, \"#fdca26\"], [1.0, \"#f0f921\"]], \"type\": \"heatmapgl\"}], \"histogram\": [{\"marker\": {\"colorbar\": {\"outlinewidth\": 0, \"ticks\": \"\"}}, \"type\": \"histogram\"}], \"histogram2d\": [{\"colorbar\": {\"outlinewidth\": 0, \"ticks\": \"\"}, \"colorscale\": [[0.0, \"#0d0887\"], [0.1111111111111111, \"#46039f\"], [0.2222222222222222, \"#7201a8\"], [0.3333333333333333, \"#9c179e\"], [0.4444444444444444, \"#bd3786\"], [0.5555555555555556, \"#d8576b\"], [0.6666666666666666, \"#ed7953\"], [0.7777777777777778, \"#fb9f3a\"], [0.8888888888888888, \"#fdca26\"], [1.0, \"#f0f921\"]], \"type\": \"histogram2d\"}], \"histogram2dcontour\": [{\"colorbar\": {\"outlinewidth\": 0, \"ticks\": \"\"}, \"colorscale\": [[0.0, \"#0d0887\"], [0.1111111111111111, \"#46039f\"], [0.2222222222222222, \"#7201a8\"], [0.3333333333333333, \"#9c179e\"], [0.4444444444444444, \"#bd3786\"], [0.5555555555555556, \"#d8576b\"], [0.6666666666666666, \"#ed7953\"], [0.7777777777777778, \"#fb9f3a\"], [0.8888888888888888, \"#fdca26\"], [1.0, \"#f0f921\"]], \"type\": \"histogram2dcontour\"}], \"mesh3d\": [{\"colorbar\": {\"outlinewidth\": 0, \"ticks\": \"\"}, \"type\": \"mesh3d\"}], \"parcoords\": [{\"line\": {\"colorbar\": {\"outlinewidth\": 0, \"ticks\": \"\"}}, \"type\": \"parcoords\"}], \"pie\": [{\"automargin\": true, \"type\": \"pie\"}], \"scatter\": [{\"marker\": {\"colorbar\": {\"outlinewidth\": 0, \"ticks\": \"\"}}, \"type\": \"scatter\"}], \"scatter3d\": [{\"line\": {\"colorbar\": {\"outlinewidth\": 0, \"ticks\": \"\"}}, \"marker\": {\"colorbar\": {\"outlinewidth\": 0, \"ticks\": \"\"}}, \"type\": \"scatter3d\"}], \"scattercarpet\": [{\"marker\": {\"colorbar\": {\"outlinewidth\": 0, \"ticks\": \"\"}}, \"type\": \"scattercarpet\"}], \"scattergeo\": [{\"marker\": {\"colorbar\": {\"outlinewidth\": 0, \"ticks\": \"\"}}, \"type\": \"scattergeo\"}], \"scattergl\": [{\"marker\": {\"colorbar\": {\"outlinewidth\": 0, \"ticks\": \"\"}}, \"type\": \"scattergl\"}], \"scattermapbox\": [{\"marker\": {\"colorbar\": {\"outlinewidth\": 0, \"ticks\": \"\"}}, \"type\": \"scattermapbox\"}], \"scatterpolar\": [{\"marker\": {\"colorbar\": {\"outlinewidth\": 0, \"ticks\": \"\"}}, \"type\": \"scatterpolar\"}], \"scatterpolargl\": [{\"marker\": {\"colorbar\": {\"outlinewidth\": 0, \"ticks\": \"\"}}, \"type\": \"scatterpolargl\"}], \"scatterternary\": [{\"marker\": {\"colorbar\": {\"outlinewidth\": 0, \"ticks\": \"\"}}, \"type\": \"scatterternary\"}], \"surface\": [{\"colorbar\": {\"outlinewidth\": 0, \"ticks\": \"\"}, \"colorscale\": [[0.0, \"#0d0887\"], [0.1111111111111111, \"#46039f\"], [0.2222222222222222, \"#7201a8\"], [0.3333333333333333, \"#9c179e\"], [0.4444444444444444, \"#bd3786\"], [0.5555555555555556, \"#d8576b\"], [0.6666666666666666, \"#ed7953\"], [0.7777777777777778, \"#fb9f3a\"], [0.8888888888888888, \"#fdca26\"], [1.0, \"#f0f921\"]], \"type\": \"surface\"}], \"table\": [{\"cells\": {\"fill\": {\"color\": \"#EBF0F8\"}, \"line\": {\"color\": \"white\"}}, \"header\": {\"fill\": {\"color\": \"#C8D4E3\"}, \"line\": {\"color\": \"white\"}}, \"type\": \"table\"}]}, \"layout\": {\"annotationdefaults\": {\"arrowcolor\": \"#2a3f5f\", \"arrowhead\": 0, \"arrowwidth\": 1}, \"coloraxis\": {\"colorbar\": {\"outlinewidth\": 0, \"ticks\": \"\"}}, \"colorscale\": {\"diverging\": [[0, \"#8e0152\"], [0.1, \"#c51b7d\"], [0.2, \"#de77ae\"], [0.3, \"#f1b6da\"], [0.4, \"#fde0ef\"], [0.5, \"#f7f7f7\"], [0.6, \"#e6f5d0\"], [0.7, \"#b8e186\"], [0.8, \"#7fbc41\"], [0.9, \"#4d9221\"], [1, \"#276419\"]], \"sequential\": [[0.0, \"#0d0887\"], [0.1111111111111111, \"#46039f\"], [0.2222222222222222, \"#7201a8\"], [0.3333333333333333, \"#9c179e\"], [0.4444444444444444, \"#bd3786\"], [0.5555555555555556, \"#d8576b\"], [0.6666666666666666, \"#ed7953\"], [0.7777777777777778, \"#fb9f3a\"], [0.8888888888888888, \"#fdca26\"], [1.0, \"#f0f921\"]], \"sequentialminus\": [[0.0, \"#0d0887\"], [0.1111111111111111, \"#46039f\"], [0.2222222222222222, \"#7201a8\"], [0.3333333333333333, \"#9c179e\"], [0.4444444444444444, \"#bd3786\"], [0.5555555555555556, \"#d8576b\"], [0.6666666666666666, \"#ed7953\"], [0.7777777777777778, \"#fb9f3a\"], [0.8888888888888888, \"#fdca26\"], [1.0, \"#f0f921\"]]}, \"colorway\": [\"#636efa\", \"#EF553B\", \"#00cc96\", \"#ab63fa\", \"#FFA15A\", \"#19d3f3\", \"#FF6692\", \"#B6E880\", \"#FF97FF\", \"#FECB52\"], \"font\": {\"color\": \"#2a3f5f\"}, \"geo\": {\"bgcolor\": \"white\", \"lakecolor\": \"white\", \"landcolor\": \"#E5ECF6\", \"showlakes\": true, \"showland\": true, \"subunitcolor\": \"white\"}, \"hoverlabel\": {\"align\": \"left\"}, \"hovermode\": \"closest\", \"mapbox\": {\"style\": \"light\"}, \"paper_bgcolor\": \"white\", \"plot_bgcolor\": \"#E5ECF6\", \"polar\": {\"angularaxis\": {\"gridcolor\": \"white\", \"linecolor\": \"white\", \"ticks\": \"\"}, \"bgcolor\": \"#E5ECF6\", \"radialaxis\": {\"gridcolor\": \"white\", \"linecolor\": \"white\", \"ticks\": \"\"}}, \"scene\": {\"xaxis\": {\"backgroundcolor\": \"#E5ECF6\", \"gridcolor\": \"white\", \"gridwidth\": 2, \"linecolor\": \"white\", \"showbackground\": true, \"ticks\": \"\", \"zerolinecolor\": \"white\"}, \"yaxis\": {\"backgroundcolor\": \"#E5ECF6\", \"gridcolor\": \"white\", \"gridwidth\": 2, \"linecolor\": \"white\", \"showbackground\": true, \"ticks\": \"\", \"zerolinecolor\": \"white\"}, \"zaxis\": {\"backgroundcolor\": \"#E5ECF6\", \"gridcolor\": \"white\", \"gridwidth\": 2, \"linecolor\": \"white\", \"showbackground\": true, \"ticks\": \"\", \"zerolinecolor\": \"white\"}}, \"shapedefaults\": {\"line\": {\"color\": \"#2a3f5f\"}}, \"ternary\": {\"aaxis\": {\"gridcolor\": \"white\", \"linecolor\": \"white\", \"ticks\": \"\"}, \"baxis\": {\"gridcolor\": \"white\", \"linecolor\": \"white\", \"ticks\": \"\"}, \"bgcolor\": \"#E5ECF6\", \"caxis\": {\"gridcolor\": \"white\", \"linecolor\": \"white\", \"ticks\": \"\"}}, \"title\": {\"x\": 0.05}, \"xaxis\": {\"automargin\": true, \"gridcolor\": \"white\", \"linecolor\": \"white\", \"ticks\": \"\", \"title\": {\"standoff\": 15}, \"zerolinecolor\": \"white\", \"zerolinewidth\": 2}, \"yaxis\": {\"automargin\": true, \"gridcolor\": \"white\", \"linecolor\": \"white\", \"ticks\": \"\", \"title\": {\"standoff\": 15}, \"zerolinecolor\": \"white\", \"zerolinewidth\": 2}}}, \"title\": {\"font\": {\"color\": \"#4D5663\"}}, \"xaxis\": {\"gridcolor\": \"#E1E5ED\", \"showgrid\": true, \"tickfont\": {\"color\": \"#4D5663\"}, \"title\": {\"font\": {\"color\": \"#4D5663\"}, \"text\": \"\"}, \"zerolinecolor\": \"#E1E5ED\"}, \"yaxis\": {\"gridcolor\": \"#E1E5ED\", \"showgrid\": true, \"tickfont\": {\"color\": \"#4D5663\"}, \"title\": {\"font\": {\"color\": \"#4D5663\"}, \"text\": \"\"}, \"zerolinecolor\": \"#E1E5ED\"}},\n",
       "                        {\"showLink\": true, \"linkText\": \"Export to plot.ly\", \"plotlyServerURL\": \"https://plot.ly\", \"responsive\": true}\n",
       "                    ).then(function(){\n",
       "                            \n",
       "var gd = document.getElementById('01f5aabc-12a4-4f3d-b379-7d26e99e7510');\n",
       "var x = new MutationObserver(function (mutations, observer) {{\n",
       "        var display = window.getComputedStyle(gd).display;\n",
       "        if (!display || display === 'none') {{\n",
       "            console.log([gd, 'removed!']);\n",
       "            Plotly.purge(gd);\n",
       "            observer.disconnect();\n",
       "        }}\n",
       "}});\n",
       "\n",
       "// Listen for the removal of the full notebook cells\n",
       "var notebookContainer = gd.closest('#notebook-container');\n",
       "if (notebookContainer) {{\n",
       "    x.observe(notebookContainer, {childList: true});\n",
       "}}\n",
       "\n",
       "// Listen for the clearing of the current output cell\n",
       "var outputEl = gd.closest('.output');\n",
       "if (outputEl) {{\n",
       "    x.observe(outputEl, {childList: true});\n",
       "}}\n",
       "\n",
       "                        })\n",
       "                };\n",
       "                });\n",
       "            </script>\n",
       "        </div>"
      ]
     },
     "metadata": {},
     "output_type": "display_data"
    }
   ],
   "source": [
    "df.iplot(kind='bubble',x='A',y='B',size='C')"
   ]
  },
  {
   "cell_type": "markdown",
   "metadata": {},
   "source": [
    "## scatter_matrix()\n",
    "\n",
    "Similar to sns.pairplot()"
   ]
  },
  {
   "cell_type": "code",
   "execution_count": 18,
   "metadata": {
    "jupyter": {
     "outputs_hidden": false
    }
   },
   "outputs": [
    {
     "data": {
      "application/vnd.plotly.v1+json": {
       "config": {
        "linkText": "Export to plot.ly",
        "plotlyServerURL": "https://plot.ly",
        "showLink": true
       },
       "data": [
        {
         "histfunc": "count",
         "histnorm": "",
         "marker": {
          "color": "rgba(255, 153, 51, 1.0)",
          "line": {
           "color": "#4D5663",
           "width": 1.3
          }
         },
         "name": "A",
         "nbinsx": 10,
         "opacity": 0.8,
         "orientation": "v",
         "type": "histogram",
         "x": [
          1.940291908011102,
          -0.43602033128621526,
          -0.48460214045660277,
          -1.0240471641424937,
          0.07834813558886017,
          -0.03664652387595461,
          -0.3129739035091516,
          -2.334547594397871,
          1.8228858929130831,
          1.5711886392255132,
          -2.364881578802697,
          1.4616947574353703,
          -0.4987309829110831,
          1.5617852729463797,
          0.27096936324438226,
          -0.6303478616043724,
          -1.5081522475000202,
          1.7029399159062886,
          -0.5595680928927093,
          -1.2503555447771197,
          0.8046047778907405,
          -0.8662211973605952,
          0.5836035330903515,
          -1.6882300309849554,
          0.5249023960622097,
          0.8738634367385915,
          -0.7011217630000545,
          -0.11281811880033381,
          1.9132226852451233,
          0.21515592223039476,
          -1.5250854327856227,
          -0.1590202944556442,
          -0.4527591510178096,
          -1.1110076710922145,
          -0.9041890618466469,
          -1.05375893360304,
          0.45947755704608234,
          0.4151947410799361,
          -1.4538365237286752,
          -0.5787259904446689,
          1.0876123636309982,
          -0.256605975290541,
          0.13329166285795085,
          -0.9077772592137843,
          0.03249663834892144,
          1.0142902752121234,
          -0.3344369309963581,
          -0.09121153691247674,
          -0.40669721394299546,
          0.02744157623740808,
          -1.5452805971626824,
          -1.3511169562269885,
          0.01158109319398306,
          -0.9149503343075752,
          -1.1025417006876994,
          -0.5048494637049264,
          -0.2567919047639987,
          0.01093619218693575,
          -0.1356930776970061,
          0.10026165369166105,
          1.1717276766409668,
          -0.6434971360362067,
          0.34067344818628176,
          0.8863816354805312,
          -0.10132359942293251,
          0.07605559055080867,
          -0.6913446582930974,
          -1.2920514173129505,
          -1.3009741161906287,
          1.2876633447677763,
          -1.4445628899407343,
          0.259865688457576,
          1.8478838525077084,
          -0.41108510928550895,
          0.2893624467427053,
          0.748614342294359,
          0.9263547679541281,
          0.635161754847521,
          0.28256247565135617,
          1.5126383882427301,
          -0.7632724161850403,
          -0.2983928325770369,
          0.37300270064839636,
          1.0871880926061648,
          2.6572202224944146,
          -1.9722183777917304,
          0.18564568416487742,
          -0.9814354534461059,
          -0.5474587763161223,
          0.03598568118577001,
          -0.23166847854919972,
          -1.1346148101716846,
          -0.9036756738680616,
          -0.0404909774929333,
          -0.7164950094764136,
          -0.06435143860746836,
          -0.07591268221618847,
          -0.5296157564584758,
          0.2931309732891985,
          -0.1006868486366963
         ],
         "xaxis": "x",
         "yaxis": "y"
        },
        {
         "line": {
          "color": "rgba(128, 128, 128, 1.0)",
          "dash": "solid",
          "shape": "linear",
          "width": 1.3
         },
         "marker": {
          "size": 2,
          "symbol": "circle"
         },
         "mode": "markers",
         "name": "A",
         "text": "",
         "type": "scatter",
         "x": [
          -0.42790688434940893,
          1.1023212831129967,
          1.1887901480514325,
          1.0732111845425714,
          -0.36657365759249483,
          -0.5656473349592283,
          -0.052425381012257515,
          1.1967973487129693,
          -1.9204162179742734,
          0.49499173286988396,
          0.03177713886948559,
          2.0395208180242643,
          -0.43859191833447764,
          1.4803364226090499,
          0.12666444902249152,
          -1.649742282114302,
          0.5870377856553117,
          2.2710802059818387,
          -0.30189613702080215,
          -0.7473224975631962,
          -1.900915231301534,
          -0.3708915752256786,
          -0.6999856013421171,
          -2.0196320119393696,
          0.21564852508540636,
          -0.33120503933020584,
          -0.41383604470641094,
          -0.47804860178887726,
          -0.7092972940284749,
          0.5778318584490235,
          -0.4101017143331438,
          -0.5352139410516578,
          -0.7862257663300574,
          0.6939896876836772,
          0.5326883503544092,
          1.5131372743263152,
          0.4166429553616738,
          0.2528413795800169,
          -0.855163816308513,
          -0.14730575159544035,
          0.28800779576442737,
          -1.4143330241262138,
          -0.1499239941006353,
          1.007051705598499,
          0.7490749925322414,
          -1.426002197503157,
          -1.279040263458639,
          -2.154585408397387,
          0.9533137961235957,
          -1.175672610090137,
          1.4978861553591707,
          1.4435405003817126,
          0.16563658417772678,
          -0.6623006604152534,
          -0.49891553469198524,
          1.9747739497342782,
          0.10501534948661304,
          0.14056313980420468,
          -2.002254240703674,
          0.7190327472356344,
          -0.881783930208081,
          0.25366385499380195,
          -0.5874379416344943,
          -1.6289419914202181,
          0.8301884314766689,
          0.7747392373953594,
          -0.6875231198482459,
          0.12024538466383536,
          1.3670594450102325,
          0.5827452306838281,
          -0.530278447900754,
          0.05614891806237901,
          0.7790080419810892,
          1.446161850152793,
          0.1404383743784033,
          -1.276468775850176,
          -1.2232777640277335,
          -1.0818283123154933,
          1.2036621750038603,
          0.10999185836379068,
          -1.1292034967068854,
          -1.4838806863523342,
          0.7118756638641246,
          -0.5259681147027214,
          0.3274831050418921,
          -0.8385036986314343,
          -0.1876452907738252,
          -0.48443317356575794,
          -0.06461280053411844,
          -1.1236064929290808,
          0.8555082423265195,
          1.3065424209543985,
          0.07851453225301613,
          0.4895930528339927,
          0.28602019675591833,
          -0.9257653387478679,
          0.02203108690296603,
          -0.5784050702216772,
          0.5342364290101148,
          0.07580009014358847
         ],
         "xaxis": "x2",
         "y": [
          1.940291908011102,
          -0.43602033128621526,
          -0.48460214045660277,
          -1.0240471641424937,
          0.07834813558886017,
          -0.03664652387595461,
          -0.3129739035091516,
          -2.334547594397871,
          1.8228858929130831,
          1.5711886392255132,
          -2.364881578802697,
          1.4616947574353703,
          -0.4987309829110831,
          1.5617852729463797,
          0.27096936324438226,
          -0.6303478616043724,
          -1.5081522475000202,
          1.7029399159062886,
          -0.5595680928927093,
          -1.2503555447771197,
          0.8046047778907405,
          -0.8662211973605952,
          0.5836035330903515,
          -1.6882300309849554,
          0.5249023960622097,
          0.8738634367385915,
          -0.7011217630000545,
          -0.11281811880033381,
          1.9132226852451233,
          0.21515592223039476,
          -1.5250854327856227,
          -0.1590202944556442,
          -0.4527591510178096,
          -1.1110076710922145,
          -0.9041890618466469,
          -1.05375893360304,
          0.45947755704608234,
          0.4151947410799361,
          -1.4538365237286752,
          -0.5787259904446689,
          1.0876123636309982,
          -0.256605975290541,
          0.13329166285795085,
          -0.9077772592137843,
          0.03249663834892144,
          1.0142902752121234,
          -0.3344369309963581,
          -0.09121153691247674,
          -0.40669721394299546,
          0.02744157623740808,
          -1.5452805971626824,
          -1.3511169562269885,
          0.01158109319398306,
          -0.9149503343075752,
          -1.1025417006876994,
          -0.5048494637049264,
          -0.2567919047639987,
          0.01093619218693575,
          -0.1356930776970061,
          0.10026165369166105,
          1.1717276766409668,
          -0.6434971360362067,
          0.34067344818628176,
          0.8863816354805312,
          -0.10132359942293251,
          0.07605559055080867,
          -0.6913446582930974,
          -1.2920514173129505,
          -1.3009741161906287,
          1.2876633447677763,
          -1.4445628899407343,
          0.259865688457576,
          1.8478838525077084,
          -0.41108510928550895,
          0.2893624467427053,
          0.748614342294359,
          0.9263547679541281,
          0.635161754847521,
          0.28256247565135617,
          1.5126383882427301,
          -0.7632724161850403,
          -0.2983928325770369,
          0.37300270064839636,
          1.0871880926061648,
          2.6572202224944146,
          -1.9722183777917304,
          0.18564568416487742,
          -0.9814354534461059,
          -0.5474587763161223,
          0.03598568118577001,
          -0.23166847854919972,
          -1.1346148101716846,
          -0.9036756738680616,
          -0.0404909774929333,
          -0.7164950094764136,
          -0.06435143860746836,
          -0.07591268221618847,
          -0.5296157564584758,
          0.2931309732891985,
          -0.1006868486366963
         ],
         "yaxis": "y2"
        },
        {
         "line": {
          "color": "rgba(128, 128, 128, 1.0)",
          "dash": "solid",
          "shape": "linear",
          "width": 1.3
         },
         "marker": {
          "size": 2,
          "symbol": "circle"
         },
         "mode": "markers",
         "name": "A",
         "text": "",
         "type": "scatter",
         "x": [
          0.4013694609466367,
          0.47918402807881155,
          -0.42016852086149753,
          1.5337189926126906,
          1.3692304382751603,
          -0.3168641694521636,
          2.692429089468827,
          -0.6652237765776419,
          1.4443366018163644,
          -0.6514708194267461,
          1.45256913444164,
          0.023667405688731085,
          0.953494686532997,
          0.6841691448345603,
          1.457020988275902,
          -1.3221074877330492,
          -0.5568555380425787,
          -0.8338105899157492,
          -1.273316700006224,
          2.1310179421500757,
          -0.790810333337568,
          -0.6147579795903965,
          0.4863445340914847,
          -1.3868066791554745,
          1.0260345270013729,
          -0.0027815353979401256,
          -0.49918215638661734,
          0.0038705357634394185,
          0.7141127100951283,
          -0.5986985110230264,
          0.7421629754860158,
          0.4364953891662601,
          1.477689611629932,
          -0.823104905283714,
          -0.7279646980891549,
          0.7139429087481839,
          -1.433892260560694,
          -0.2852460426280975,
          -0.29322710064580976,
          0.2648298911530672,
          -0.8344790095451745,
          -0.6257954442101381,
          -0.8979270742708928,
          -1.0627054958827784,
          0.14682007448296913,
          0.3369887765375471,
          0.9010835351649243,
          0.13666041907777177,
          -0.8585298051678452,
          1.3697422241654644,
          1.0680204614831375,
          -1.5531807082563662,
          1.1143656673797777,
          0.2652399971862241,
          -0.11323452807453596,
          0.5351022895127286,
          -0.6359446982698095,
          -0.9700437730501994,
          1.2159581898575078,
          0.1313959814287452,
          1.531513094989766,
          -0.4294253647798791,
          -0.8233822177687363,
          0.8268188128873591,
          0.07757679838976207,
          0.7543081593642519,
          0.9067799533272407,
          1.1551702177814234,
          -1.0918330003663343,
          -1.0415833666768308,
          2.3868791906968725,
          -0.4460471077300906,
          0.9335229422900791,
          -2.0147781854982334,
          0.07518616784451551,
          0.6130296924816733,
          -0.6191733399077277,
          -1.1108889862270899,
          1.0502540811913292,
          0.9419672506611048,
          -0.3229204045492647,
          -0.15118050576790337,
          1.87169656007912,
          -0.5935431095998885,
          -0.612748189828855,
          -0.8457209641384387,
          1.0241174971534497,
          0.1825103841436704,
          0.46711500740492334,
          0.35750506885609434,
          0.03665200766281884,
          -0.4628535307444767,
          -0.09591576139526112,
          1.0693530820311394,
          1.1477702354954502,
          -0.22770298244346562,
          -0.8069211019531929,
          -0.28549790959366456,
          -1.2310405363296488,
          0.13029019673645767
         ],
         "xaxis": "x3",
         "y": [
          1.940291908011102,
          -0.43602033128621526,
          -0.48460214045660277,
          -1.0240471641424937,
          0.07834813558886017,
          -0.03664652387595461,
          -0.3129739035091516,
          -2.334547594397871,
          1.8228858929130831,
          1.5711886392255132,
          -2.364881578802697,
          1.4616947574353703,
          -0.4987309829110831,
          1.5617852729463797,
          0.27096936324438226,
          -0.6303478616043724,
          -1.5081522475000202,
          1.7029399159062886,
          -0.5595680928927093,
          -1.2503555447771197,
          0.8046047778907405,
          -0.8662211973605952,
          0.5836035330903515,
          -1.6882300309849554,
          0.5249023960622097,
          0.8738634367385915,
          -0.7011217630000545,
          -0.11281811880033381,
          1.9132226852451233,
          0.21515592223039476,
          -1.5250854327856227,
          -0.1590202944556442,
          -0.4527591510178096,
          -1.1110076710922145,
          -0.9041890618466469,
          -1.05375893360304,
          0.45947755704608234,
          0.4151947410799361,
          -1.4538365237286752,
          -0.5787259904446689,
          1.0876123636309982,
          -0.256605975290541,
          0.13329166285795085,
          -0.9077772592137843,
          0.03249663834892144,
          1.0142902752121234,
          -0.3344369309963581,
          -0.09121153691247674,
          -0.40669721394299546,
          0.02744157623740808,
          -1.5452805971626824,
          -1.3511169562269885,
          0.01158109319398306,
          -0.9149503343075752,
          -1.1025417006876994,
          -0.5048494637049264,
          -0.2567919047639987,
          0.01093619218693575,
          -0.1356930776970061,
          0.10026165369166105,
          1.1717276766409668,
          -0.6434971360362067,
          0.34067344818628176,
          0.8863816354805312,
          -0.10132359942293251,
          0.07605559055080867,
          -0.6913446582930974,
          -1.2920514173129505,
          -1.3009741161906287,
          1.2876633447677763,
          -1.4445628899407343,
          0.259865688457576,
          1.8478838525077084,
          -0.41108510928550895,
          0.2893624467427053,
          0.748614342294359,
          0.9263547679541281,
          0.635161754847521,
          0.28256247565135617,
          1.5126383882427301,
          -0.7632724161850403,
          -0.2983928325770369,
          0.37300270064839636,
          1.0871880926061648,
          2.6572202224944146,
          -1.9722183777917304,
          0.18564568416487742,
          -0.9814354534461059,
          -0.5474587763161223,
          0.03598568118577001,
          -0.23166847854919972,
          -1.1346148101716846,
          -0.9036756738680616,
          -0.0404909774929333,
          -0.7164950094764136,
          -0.06435143860746836,
          -0.07591268221618847,
          -0.5296157564584758,
          0.2931309732891985,
          -0.1006868486366963
         ],
         "yaxis": "y3"
        },
        {
         "line": {
          "color": "rgba(128, 128, 128, 1.0)",
          "dash": "solid",
          "shape": "linear",
          "width": 1.3
         },
         "marker": {
          "size": 2,
          "symbol": "circle"
         },
         "mode": "markers",
         "name": "A",
         "text": "",
         "type": "scatter",
         "x": [
          -0.7203762912595594,
          -1.6050089831119205,
          3.007762996295736,
          0.1733995978267144,
          0.2504646108312079,
          -0.07130292333757249,
          -0.3550444916446761,
          -0.9000545911117473,
          0.3250395493676486,
          -0.3976028525195338,
          -0.843406131024096,
          1.0809587540023515,
          1.1678004312633128,
          -0.0493650327231605,
          -0.09207617219955272,
          1.26651488109588,
          -0.41539895178365305,
          1.5481858903886139,
          -1.701828256459534,
          0.40381342663461345,
          1.1302664422386104,
          0.7696868674361801,
          1.40355248058713,
          0.8483601170109333,
          -0.7920806453711708,
          -0.08348691490384501,
          0.21518816306210514,
          1.6122209167752783,
          0.7637133361772442,
          -0.5641857474393002,
          0.15987423176818513,
          0.5304508625131966,
          -0.4667921723851996,
          -0.022061316959858874,
          -0.9100857813466896,
          -0.9242559515150672,
          -0.372818248607995,
          1.325603529635037,
          0.8575063466509635,
          0.36643935671150507,
          -1.3461851756109922,
          0.9980013915690534,
          0.6692254966922532,
          -1.2212442484388222,
          -1.8812972718926764,
          1.9180318585597222,
          -1.3776993606827088,
          0.8548976802386279,
          1.9758395506859114,
          -0.9690094140539778,
          1.0201402369292452,
          -0.07815768961091717,
          0.6741049041804277,
          0.7661815240719574,
          -0.6164371057442412,
          0.08863255880530042,
          1.7779922543607076,
          0.31825462054177894,
          -0.09873914042333422,
          0.19360654491978155,
          -0.204012527431161,
          0.1461476076760226,
          -0.24299670570853538,
          0.5483020249916255,
          -0.5149665212599834,
          -0.6860956795972244,
          0.3175799790618004,
          0.5398715147459157,
          0.08388696203953451,
          0.40689649801470273,
          -2.0843800588334913,
          -1.0847863223719147,
          0.11031111563988295,
          0.7516182882774625,
          0.6368272464532464,
          -1.4554386348105055,
          -0.7366387640992695,
          -0.7495234920610955,
          -0.7980672470637358,
          -0.1926295926019785,
          -0.09414185211424955,
          1.0299763429324347,
          0.8000816201238704,
          0.11939010004759178,
          -0.43753599226913814,
          -0.7326535395151343,
          -1.422964340599728,
          0.21669205016497914,
          -0.1277208527681951,
          -0.7010962368833163,
          0.9425570075717837,
          -1.261296669024147,
          1.2154295835099995,
          0.5874723176947764,
          -0.29039099909376886,
          -1.2206280708578845,
          -0.543946901517839,
          -0.4060673045471729,
          0.42940524362239696,
          0.8943986601433543
         ],
         "xaxis": "x4",
         "y": [
          1.940291908011102,
          -0.43602033128621526,
          -0.48460214045660277,
          -1.0240471641424937,
          0.07834813558886017,
          -0.03664652387595461,
          -0.3129739035091516,
          -2.334547594397871,
          1.8228858929130831,
          1.5711886392255132,
          -2.364881578802697,
          1.4616947574353703,
          -0.4987309829110831,
          1.5617852729463797,
          0.27096936324438226,
          -0.6303478616043724,
          -1.5081522475000202,
          1.7029399159062886,
          -0.5595680928927093,
          -1.2503555447771197,
          0.8046047778907405,
          -0.8662211973605952,
          0.5836035330903515,
          -1.6882300309849554,
          0.5249023960622097,
          0.8738634367385915,
          -0.7011217630000545,
          -0.11281811880033381,
          1.9132226852451233,
          0.21515592223039476,
          -1.5250854327856227,
          -0.1590202944556442,
          -0.4527591510178096,
          -1.1110076710922145,
          -0.9041890618466469,
          -1.05375893360304,
          0.45947755704608234,
          0.4151947410799361,
          -1.4538365237286752,
          -0.5787259904446689,
          1.0876123636309982,
          -0.256605975290541,
          0.13329166285795085,
          -0.9077772592137843,
          0.03249663834892144,
          1.0142902752121234,
          -0.3344369309963581,
          -0.09121153691247674,
          -0.40669721394299546,
          0.02744157623740808,
          -1.5452805971626824,
          -1.3511169562269885,
          0.01158109319398306,
          -0.9149503343075752,
          -1.1025417006876994,
          -0.5048494637049264,
          -0.2567919047639987,
          0.01093619218693575,
          -0.1356930776970061,
          0.10026165369166105,
          1.1717276766409668,
          -0.6434971360362067,
          0.34067344818628176,
          0.8863816354805312,
          -0.10132359942293251,
          0.07605559055080867,
          -0.6913446582930974,
          -1.2920514173129505,
          -1.3009741161906287,
          1.2876633447677763,
          -1.4445628899407343,
          0.259865688457576,
          1.8478838525077084,
          -0.41108510928550895,
          0.2893624467427053,
          0.748614342294359,
          0.9263547679541281,
          0.635161754847521,
          0.28256247565135617,
          1.5126383882427301,
          -0.7632724161850403,
          -0.2983928325770369,
          0.37300270064839636,
          1.0871880926061648,
          2.6572202224944146,
          -1.9722183777917304,
          0.18564568416487742,
          -0.9814354534461059,
          -0.5474587763161223,
          0.03598568118577001,
          -0.23166847854919972,
          -1.1346148101716846,
          -0.9036756738680616,
          -0.0404909774929333,
          -0.7164950094764136,
          -0.06435143860746836,
          -0.07591268221618847,
          -0.5296157564584758,
          0.2931309732891985,
          -0.1006868486366963
         ],
         "yaxis": "y4"
        },
        {
         "line": {
          "color": "rgba(128, 128, 128, 1.0)",
          "dash": "solid",
          "shape": "linear",
          "width": 1.3
         },
         "marker": {
          "size": 2,
          "symbol": "circle"
         },
         "mode": "markers",
         "name": "B",
         "text": "",
         "type": "scatter",
         "x": [
          1.940291908011102,
          -0.43602033128621526,
          -0.48460214045660277,
          -1.0240471641424937,
          0.07834813558886017,
          -0.03664652387595461,
          -0.3129739035091516,
          -2.334547594397871,
          1.8228858929130831,
          1.5711886392255132,
          -2.364881578802697,
          1.4616947574353703,
          -0.4987309829110831,
          1.5617852729463797,
          0.27096936324438226,
          -0.6303478616043724,
          -1.5081522475000202,
          1.7029399159062886,
          -0.5595680928927093,
          -1.2503555447771197,
          0.8046047778907405,
          -0.8662211973605952,
          0.5836035330903515,
          -1.6882300309849554,
          0.5249023960622097,
          0.8738634367385915,
          -0.7011217630000545,
          -0.11281811880033381,
          1.9132226852451233,
          0.21515592223039476,
          -1.5250854327856227,
          -0.1590202944556442,
          -0.4527591510178096,
          -1.1110076710922145,
          -0.9041890618466469,
          -1.05375893360304,
          0.45947755704608234,
          0.4151947410799361,
          -1.4538365237286752,
          -0.5787259904446689,
          1.0876123636309982,
          -0.256605975290541,
          0.13329166285795085,
          -0.9077772592137843,
          0.03249663834892144,
          1.0142902752121234,
          -0.3344369309963581,
          -0.09121153691247674,
          -0.40669721394299546,
          0.02744157623740808,
          -1.5452805971626824,
          -1.3511169562269885,
          0.01158109319398306,
          -0.9149503343075752,
          -1.1025417006876994,
          -0.5048494637049264,
          -0.2567919047639987,
          0.01093619218693575,
          -0.1356930776970061,
          0.10026165369166105,
          1.1717276766409668,
          -0.6434971360362067,
          0.34067344818628176,
          0.8863816354805312,
          -0.10132359942293251,
          0.07605559055080867,
          -0.6913446582930974,
          -1.2920514173129505,
          -1.3009741161906287,
          1.2876633447677763,
          -1.4445628899407343,
          0.259865688457576,
          1.8478838525077084,
          -0.41108510928550895,
          0.2893624467427053,
          0.748614342294359,
          0.9263547679541281,
          0.635161754847521,
          0.28256247565135617,
          1.5126383882427301,
          -0.7632724161850403,
          -0.2983928325770369,
          0.37300270064839636,
          1.0871880926061648,
          2.6572202224944146,
          -1.9722183777917304,
          0.18564568416487742,
          -0.9814354534461059,
          -0.5474587763161223,
          0.03598568118577001,
          -0.23166847854919972,
          -1.1346148101716846,
          -0.9036756738680616,
          -0.0404909774929333,
          -0.7164950094764136,
          -0.06435143860746836,
          -0.07591268221618847,
          -0.5296157564584758,
          0.2931309732891985,
          -0.1006868486366963
         ],
         "xaxis": "x5",
         "y": [
          -0.42790688434940893,
          1.1023212831129967,
          1.1887901480514325,
          1.0732111845425714,
          -0.36657365759249483,
          -0.5656473349592283,
          -0.052425381012257515,
          1.1967973487129693,
          -1.9204162179742734,
          0.49499173286988396,
          0.03177713886948559,
          2.0395208180242643,
          -0.43859191833447764,
          1.4803364226090499,
          0.12666444902249152,
          -1.649742282114302,
          0.5870377856553117,
          2.2710802059818387,
          -0.30189613702080215,
          -0.7473224975631962,
          -1.900915231301534,
          -0.3708915752256786,
          -0.6999856013421171,
          -2.0196320119393696,
          0.21564852508540636,
          -0.33120503933020584,
          -0.41383604470641094,
          -0.47804860178887726,
          -0.7092972940284749,
          0.5778318584490235,
          -0.4101017143331438,
          -0.5352139410516578,
          -0.7862257663300574,
          0.6939896876836772,
          0.5326883503544092,
          1.5131372743263152,
          0.4166429553616738,
          0.2528413795800169,
          -0.855163816308513,
          -0.14730575159544035,
          0.28800779576442737,
          -1.4143330241262138,
          -0.1499239941006353,
          1.007051705598499,
          0.7490749925322414,
          -1.426002197503157,
          -1.279040263458639,
          -2.154585408397387,
          0.9533137961235957,
          -1.175672610090137,
          1.4978861553591707,
          1.4435405003817126,
          0.16563658417772678,
          -0.6623006604152534,
          -0.49891553469198524,
          1.9747739497342782,
          0.10501534948661304,
          0.14056313980420468,
          -2.002254240703674,
          0.7190327472356344,
          -0.881783930208081,
          0.25366385499380195,
          -0.5874379416344943,
          -1.6289419914202181,
          0.8301884314766689,
          0.7747392373953594,
          -0.6875231198482459,
          0.12024538466383536,
          1.3670594450102325,
          0.5827452306838281,
          -0.530278447900754,
          0.05614891806237901,
          0.7790080419810892,
          1.446161850152793,
          0.1404383743784033,
          -1.276468775850176,
          -1.2232777640277335,
          -1.0818283123154933,
          1.2036621750038603,
          0.10999185836379068,
          -1.1292034967068854,
          -1.4838806863523342,
          0.7118756638641246,
          -0.5259681147027214,
          0.3274831050418921,
          -0.8385036986314343,
          -0.1876452907738252,
          -0.48443317356575794,
          -0.06461280053411844,
          -1.1236064929290808,
          0.8555082423265195,
          1.3065424209543985,
          0.07851453225301613,
          0.4895930528339927,
          0.28602019675591833,
          -0.9257653387478679,
          0.02203108690296603,
          -0.5784050702216772,
          0.5342364290101148,
          0.07580009014358847
         ],
         "yaxis": "y5"
        },
        {
         "histfunc": "count",
         "histnorm": "",
         "marker": {
          "color": "rgba(55, 128, 191, 1.0)",
          "line": {
           "color": "#4D5663",
           "width": 1.3
          }
         },
         "name": "B",
         "nbinsx": 10,
         "opacity": 0.8,
         "orientation": "v",
         "type": "histogram",
         "x": [
          -0.42790688434940893,
          1.1023212831129967,
          1.1887901480514325,
          1.0732111845425714,
          -0.36657365759249483,
          -0.5656473349592283,
          -0.052425381012257515,
          1.1967973487129693,
          -1.9204162179742734,
          0.49499173286988396,
          0.03177713886948559,
          2.0395208180242643,
          -0.43859191833447764,
          1.4803364226090499,
          0.12666444902249152,
          -1.649742282114302,
          0.5870377856553117,
          2.2710802059818387,
          -0.30189613702080215,
          -0.7473224975631962,
          -1.900915231301534,
          -0.3708915752256786,
          -0.6999856013421171,
          -2.0196320119393696,
          0.21564852508540636,
          -0.33120503933020584,
          -0.41383604470641094,
          -0.47804860178887726,
          -0.7092972940284749,
          0.5778318584490235,
          -0.4101017143331438,
          -0.5352139410516578,
          -0.7862257663300574,
          0.6939896876836772,
          0.5326883503544092,
          1.5131372743263152,
          0.4166429553616738,
          0.2528413795800169,
          -0.855163816308513,
          -0.14730575159544035,
          0.28800779576442737,
          -1.4143330241262138,
          -0.1499239941006353,
          1.007051705598499,
          0.7490749925322414,
          -1.426002197503157,
          -1.279040263458639,
          -2.154585408397387,
          0.9533137961235957,
          -1.175672610090137,
          1.4978861553591707,
          1.4435405003817126,
          0.16563658417772678,
          -0.6623006604152534,
          -0.49891553469198524,
          1.9747739497342782,
          0.10501534948661304,
          0.14056313980420468,
          -2.002254240703674,
          0.7190327472356344,
          -0.881783930208081,
          0.25366385499380195,
          -0.5874379416344943,
          -1.6289419914202181,
          0.8301884314766689,
          0.7747392373953594,
          -0.6875231198482459,
          0.12024538466383536,
          1.3670594450102325,
          0.5827452306838281,
          -0.530278447900754,
          0.05614891806237901,
          0.7790080419810892,
          1.446161850152793,
          0.1404383743784033,
          -1.276468775850176,
          -1.2232777640277335,
          -1.0818283123154933,
          1.2036621750038603,
          0.10999185836379068,
          -1.1292034967068854,
          -1.4838806863523342,
          0.7118756638641246,
          -0.5259681147027214,
          0.3274831050418921,
          -0.8385036986314343,
          -0.1876452907738252,
          -0.48443317356575794,
          -0.06461280053411844,
          -1.1236064929290808,
          0.8555082423265195,
          1.3065424209543985,
          0.07851453225301613,
          0.4895930528339927,
          0.28602019675591833,
          -0.9257653387478679,
          0.02203108690296603,
          -0.5784050702216772,
          0.5342364290101148,
          0.07580009014358847
         ],
         "xaxis": "x6",
         "yaxis": "y6"
        },
        {
         "line": {
          "color": "rgba(128, 128, 128, 1.0)",
          "dash": "solid",
          "shape": "linear",
          "width": 1.3
         },
         "marker": {
          "size": 2,
          "symbol": "circle"
         },
         "mode": "markers",
         "name": "B",
         "text": "",
         "type": "scatter",
         "x": [
          0.4013694609466367,
          0.47918402807881155,
          -0.42016852086149753,
          1.5337189926126906,
          1.3692304382751603,
          -0.3168641694521636,
          2.692429089468827,
          -0.6652237765776419,
          1.4443366018163644,
          -0.6514708194267461,
          1.45256913444164,
          0.023667405688731085,
          0.953494686532997,
          0.6841691448345603,
          1.457020988275902,
          -1.3221074877330492,
          -0.5568555380425787,
          -0.8338105899157492,
          -1.273316700006224,
          2.1310179421500757,
          -0.790810333337568,
          -0.6147579795903965,
          0.4863445340914847,
          -1.3868066791554745,
          1.0260345270013729,
          -0.0027815353979401256,
          -0.49918215638661734,
          0.0038705357634394185,
          0.7141127100951283,
          -0.5986985110230264,
          0.7421629754860158,
          0.4364953891662601,
          1.477689611629932,
          -0.823104905283714,
          -0.7279646980891549,
          0.7139429087481839,
          -1.433892260560694,
          -0.2852460426280975,
          -0.29322710064580976,
          0.2648298911530672,
          -0.8344790095451745,
          -0.6257954442101381,
          -0.8979270742708928,
          -1.0627054958827784,
          0.14682007448296913,
          0.3369887765375471,
          0.9010835351649243,
          0.13666041907777177,
          -0.8585298051678452,
          1.3697422241654644,
          1.0680204614831375,
          -1.5531807082563662,
          1.1143656673797777,
          0.2652399971862241,
          -0.11323452807453596,
          0.5351022895127286,
          -0.6359446982698095,
          -0.9700437730501994,
          1.2159581898575078,
          0.1313959814287452,
          1.531513094989766,
          -0.4294253647798791,
          -0.8233822177687363,
          0.8268188128873591,
          0.07757679838976207,
          0.7543081593642519,
          0.9067799533272407,
          1.1551702177814234,
          -1.0918330003663343,
          -1.0415833666768308,
          2.3868791906968725,
          -0.4460471077300906,
          0.9335229422900791,
          -2.0147781854982334,
          0.07518616784451551,
          0.6130296924816733,
          -0.6191733399077277,
          -1.1108889862270899,
          1.0502540811913292,
          0.9419672506611048,
          -0.3229204045492647,
          -0.15118050576790337,
          1.87169656007912,
          -0.5935431095998885,
          -0.612748189828855,
          -0.8457209641384387,
          1.0241174971534497,
          0.1825103841436704,
          0.46711500740492334,
          0.35750506885609434,
          0.03665200766281884,
          -0.4628535307444767,
          -0.09591576139526112,
          1.0693530820311394,
          1.1477702354954502,
          -0.22770298244346562,
          -0.8069211019531929,
          -0.28549790959366456,
          -1.2310405363296488,
          0.13029019673645767
         ],
         "xaxis": "x7",
         "y": [
          -0.42790688434940893,
          1.1023212831129967,
          1.1887901480514325,
          1.0732111845425714,
          -0.36657365759249483,
          -0.5656473349592283,
          -0.052425381012257515,
          1.1967973487129693,
          -1.9204162179742734,
          0.49499173286988396,
          0.03177713886948559,
          2.0395208180242643,
          -0.43859191833447764,
          1.4803364226090499,
          0.12666444902249152,
          -1.649742282114302,
          0.5870377856553117,
          2.2710802059818387,
          -0.30189613702080215,
          -0.7473224975631962,
          -1.900915231301534,
          -0.3708915752256786,
          -0.6999856013421171,
          -2.0196320119393696,
          0.21564852508540636,
          -0.33120503933020584,
          -0.41383604470641094,
          -0.47804860178887726,
          -0.7092972940284749,
          0.5778318584490235,
          -0.4101017143331438,
          -0.5352139410516578,
          -0.7862257663300574,
          0.6939896876836772,
          0.5326883503544092,
          1.5131372743263152,
          0.4166429553616738,
          0.2528413795800169,
          -0.855163816308513,
          -0.14730575159544035,
          0.28800779576442737,
          -1.4143330241262138,
          -0.1499239941006353,
          1.007051705598499,
          0.7490749925322414,
          -1.426002197503157,
          -1.279040263458639,
          -2.154585408397387,
          0.9533137961235957,
          -1.175672610090137,
          1.4978861553591707,
          1.4435405003817126,
          0.16563658417772678,
          -0.6623006604152534,
          -0.49891553469198524,
          1.9747739497342782,
          0.10501534948661304,
          0.14056313980420468,
          -2.002254240703674,
          0.7190327472356344,
          -0.881783930208081,
          0.25366385499380195,
          -0.5874379416344943,
          -1.6289419914202181,
          0.8301884314766689,
          0.7747392373953594,
          -0.6875231198482459,
          0.12024538466383536,
          1.3670594450102325,
          0.5827452306838281,
          -0.530278447900754,
          0.05614891806237901,
          0.7790080419810892,
          1.446161850152793,
          0.1404383743784033,
          -1.276468775850176,
          -1.2232777640277335,
          -1.0818283123154933,
          1.2036621750038603,
          0.10999185836379068,
          -1.1292034967068854,
          -1.4838806863523342,
          0.7118756638641246,
          -0.5259681147027214,
          0.3274831050418921,
          -0.8385036986314343,
          -0.1876452907738252,
          -0.48443317356575794,
          -0.06461280053411844,
          -1.1236064929290808,
          0.8555082423265195,
          1.3065424209543985,
          0.07851453225301613,
          0.4895930528339927,
          0.28602019675591833,
          -0.9257653387478679,
          0.02203108690296603,
          -0.5784050702216772,
          0.5342364290101148,
          0.07580009014358847
         ],
         "yaxis": "y7"
        },
        {
         "line": {
          "color": "rgba(128, 128, 128, 1.0)",
          "dash": "solid",
          "shape": "linear",
          "width": 1.3
         },
         "marker": {
          "size": 2,
          "symbol": "circle"
         },
         "mode": "markers",
         "name": "B",
         "text": "",
         "type": "scatter",
         "x": [
          -0.7203762912595594,
          -1.6050089831119205,
          3.007762996295736,
          0.1733995978267144,
          0.2504646108312079,
          -0.07130292333757249,
          -0.3550444916446761,
          -0.9000545911117473,
          0.3250395493676486,
          -0.3976028525195338,
          -0.843406131024096,
          1.0809587540023515,
          1.1678004312633128,
          -0.0493650327231605,
          -0.09207617219955272,
          1.26651488109588,
          -0.41539895178365305,
          1.5481858903886139,
          -1.701828256459534,
          0.40381342663461345,
          1.1302664422386104,
          0.7696868674361801,
          1.40355248058713,
          0.8483601170109333,
          -0.7920806453711708,
          -0.08348691490384501,
          0.21518816306210514,
          1.6122209167752783,
          0.7637133361772442,
          -0.5641857474393002,
          0.15987423176818513,
          0.5304508625131966,
          -0.4667921723851996,
          -0.022061316959858874,
          -0.9100857813466896,
          -0.9242559515150672,
          -0.372818248607995,
          1.325603529635037,
          0.8575063466509635,
          0.36643935671150507,
          -1.3461851756109922,
          0.9980013915690534,
          0.6692254966922532,
          -1.2212442484388222,
          -1.8812972718926764,
          1.9180318585597222,
          -1.3776993606827088,
          0.8548976802386279,
          1.9758395506859114,
          -0.9690094140539778,
          1.0201402369292452,
          -0.07815768961091717,
          0.6741049041804277,
          0.7661815240719574,
          -0.6164371057442412,
          0.08863255880530042,
          1.7779922543607076,
          0.31825462054177894,
          -0.09873914042333422,
          0.19360654491978155,
          -0.204012527431161,
          0.1461476076760226,
          -0.24299670570853538,
          0.5483020249916255,
          -0.5149665212599834,
          -0.6860956795972244,
          0.3175799790618004,
          0.5398715147459157,
          0.08388696203953451,
          0.40689649801470273,
          -2.0843800588334913,
          -1.0847863223719147,
          0.11031111563988295,
          0.7516182882774625,
          0.6368272464532464,
          -1.4554386348105055,
          -0.7366387640992695,
          -0.7495234920610955,
          -0.7980672470637358,
          -0.1926295926019785,
          -0.09414185211424955,
          1.0299763429324347,
          0.8000816201238704,
          0.11939010004759178,
          -0.43753599226913814,
          -0.7326535395151343,
          -1.422964340599728,
          0.21669205016497914,
          -0.1277208527681951,
          -0.7010962368833163,
          0.9425570075717837,
          -1.261296669024147,
          1.2154295835099995,
          0.5874723176947764,
          -0.29039099909376886,
          -1.2206280708578845,
          -0.543946901517839,
          -0.4060673045471729,
          0.42940524362239696,
          0.8943986601433543
         ],
         "xaxis": "x8",
         "y": [
          -0.42790688434940893,
          1.1023212831129967,
          1.1887901480514325,
          1.0732111845425714,
          -0.36657365759249483,
          -0.5656473349592283,
          -0.052425381012257515,
          1.1967973487129693,
          -1.9204162179742734,
          0.49499173286988396,
          0.03177713886948559,
          2.0395208180242643,
          -0.43859191833447764,
          1.4803364226090499,
          0.12666444902249152,
          -1.649742282114302,
          0.5870377856553117,
          2.2710802059818387,
          -0.30189613702080215,
          -0.7473224975631962,
          -1.900915231301534,
          -0.3708915752256786,
          -0.6999856013421171,
          -2.0196320119393696,
          0.21564852508540636,
          -0.33120503933020584,
          -0.41383604470641094,
          -0.47804860178887726,
          -0.7092972940284749,
          0.5778318584490235,
          -0.4101017143331438,
          -0.5352139410516578,
          -0.7862257663300574,
          0.6939896876836772,
          0.5326883503544092,
          1.5131372743263152,
          0.4166429553616738,
          0.2528413795800169,
          -0.855163816308513,
          -0.14730575159544035,
          0.28800779576442737,
          -1.4143330241262138,
          -0.1499239941006353,
          1.007051705598499,
          0.7490749925322414,
          -1.426002197503157,
          -1.279040263458639,
          -2.154585408397387,
          0.9533137961235957,
          -1.175672610090137,
          1.4978861553591707,
          1.4435405003817126,
          0.16563658417772678,
          -0.6623006604152534,
          -0.49891553469198524,
          1.9747739497342782,
          0.10501534948661304,
          0.14056313980420468,
          -2.002254240703674,
          0.7190327472356344,
          -0.881783930208081,
          0.25366385499380195,
          -0.5874379416344943,
          -1.6289419914202181,
          0.8301884314766689,
          0.7747392373953594,
          -0.6875231198482459,
          0.12024538466383536,
          1.3670594450102325,
          0.5827452306838281,
          -0.530278447900754,
          0.05614891806237901,
          0.7790080419810892,
          1.446161850152793,
          0.1404383743784033,
          -1.276468775850176,
          -1.2232777640277335,
          -1.0818283123154933,
          1.2036621750038603,
          0.10999185836379068,
          -1.1292034967068854,
          -1.4838806863523342,
          0.7118756638641246,
          -0.5259681147027214,
          0.3274831050418921,
          -0.8385036986314343,
          -0.1876452907738252,
          -0.48443317356575794,
          -0.06461280053411844,
          -1.1236064929290808,
          0.8555082423265195,
          1.3065424209543985,
          0.07851453225301613,
          0.4895930528339927,
          0.28602019675591833,
          -0.9257653387478679,
          0.02203108690296603,
          -0.5784050702216772,
          0.5342364290101148,
          0.07580009014358847
         ],
         "yaxis": "y8"
        },
        {
         "line": {
          "color": "rgba(128, 128, 128, 1.0)",
          "dash": "solid",
          "shape": "linear",
          "width": 1.3
         },
         "marker": {
          "size": 2,
          "symbol": "circle"
         },
         "mode": "markers",
         "name": "C",
         "text": "",
         "type": "scatter",
         "x": [
          1.940291908011102,
          -0.43602033128621526,
          -0.48460214045660277,
          -1.0240471641424937,
          0.07834813558886017,
          -0.03664652387595461,
          -0.3129739035091516,
          -2.334547594397871,
          1.8228858929130831,
          1.5711886392255132,
          -2.364881578802697,
          1.4616947574353703,
          -0.4987309829110831,
          1.5617852729463797,
          0.27096936324438226,
          -0.6303478616043724,
          -1.5081522475000202,
          1.7029399159062886,
          -0.5595680928927093,
          -1.2503555447771197,
          0.8046047778907405,
          -0.8662211973605952,
          0.5836035330903515,
          -1.6882300309849554,
          0.5249023960622097,
          0.8738634367385915,
          -0.7011217630000545,
          -0.11281811880033381,
          1.9132226852451233,
          0.21515592223039476,
          -1.5250854327856227,
          -0.1590202944556442,
          -0.4527591510178096,
          -1.1110076710922145,
          -0.9041890618466469,
          -1.05375893360304,
          0.45947755704608234,
          0.4151947410799361,
          -1.4538365237286752,
          -0.5787259904446689,
          1.0876123636309982,
          -0.256605975290541,
          0.13329166285795085,
          -0.9077772592137843,
          0.03249663834892144,
          1.0142902752121234,
          -0.3344369309963581,
          -0.09121153691247674,
          -0.40669721394299546,
          0.02744157623740808,
          -1.5452805971626824,
          -1.3511169562269885,
          0.01158109319398306,
          -0.9149503343075752,
          -1.1025417006876994,
          -0.5048494637049264,
          -0.2567919047639987,
          0.01093619218693575,
          -0.1356930776970061,
          0.10026165369166105,
          1.1717276766409668,
          -0.6434971360362067,
          0.34067344818628176,
          0.8863816354805312,
          -0.10132359942293251,
          0.07605559055080867,
          -0.6913446582930974,
          -1.2920514173129505,
          -1.3009741161906287,
          1.2876633447677763,
          -1.4445628899407343,
          0.259865688457576,
          1.8478838525077084,
          -0.41108510928550895,
          0.2893624467427053,
          0.748614342294359,
          0.9263547679541281,
          0.635161754847521,
          0.28256247565135617,
          1.5126383882427301,
          -0.7632724161850403,
          -0.2983928325770369,
          0.37300270064839636,
          1.0871880926061648,
          2.6572202224944146,
          -1.9722183777917304,
          0.18564568416487742,
          -0.9814354534461059,
          -0.5474587763161223,
          0.03598568118577001,
          -0.23166847854919972,
          -1.1346148101716846,
          -0.9036756738680616,
          -0.0404909774929333,
          -0.7164950094764136,
          -0.06435143860746836,
          -0.07591268221618847,
          -0.5296157564584758,
          0.2931309732891985,
          -0.1006868486366963
         ],
         "xaxis": "x9",
         "y": [
          0.4013694609466367,
          0.47918402807881155,
          -0.42016852086149753,
          1.5337189926126906,
          1.3692304382751603,
          -0.3168641694521636,
          2.692429089468827,
          -0.6652237765776419,
          1.4443366018163644,
          -0.6514708194267461,
          1.45256913444164,
          0.023667405688731085,
          0.953494686532997,
          0.6841691448345603,
          1.457020988275902,
          -1.3221074877330492,
          -0.5568555380425787,
          -0.8338105899157492,
          -1.273316700006224,
          2.1310179421500757,
          -0.790810333337568,
          -0.6147579795903965,
          0.4863445340914847,
          -1.3868066791554745,
          1.0260345270013729,
          -0.0027815353979401256,
          -0.49918215638661734,
          0.0038705357634394185,
          0.7141127100951283,
          -0.5986985110230264,
          0.7421629754860158,
          0.4364953891662601,
          1.477689611629932,
          -0.823104905283714,
          -0.7279646980891549,
          0.7139429087481839,
          -1.433892260560694,
          -0.2852460426280975,
          -0.29322710064580976,
          0.2648298911530672,
          -0.8344790095451745,
          -0.6257954442101381,
          -0.8979270742708928,
          -1.0627054958827784,
          0.14682007448296913,
          0.3369887765375471,
          0.9010835351649243,
          0.13666041907777177,
          -0.8585298051678452,
          1.3697422241654644,
          1.0680204614831375,
          -1.5531807082563662,
          1.1143656673797777,
          0.2652399971862241,
          -0.11323452807453596,
          0.5351022895127286,
          -0.6359446982698095,
          -0.9700437730501994,
          1.2159581898575078,
          0.1313959814287452,
          1.531513094989766,
          -0.4294253647798791,
          -0.8233822177687363,
          0.8268188128873591,
          0.07757679838976207,
          0.7543081593642519,
          0.9067799533272407,
          1.1551702177814234,
          -1.0918330003663343,
          -1.0415833666768308,
          2.3868791906968725,
          -0.4460471077300906,
          0.9335229422900791,
          -2.0147781854982334,
          0.07518616784451551,
          0.6130296924816733,
          -0.6191733399077277,
          -1.1108889862270899,
          1.0502540811913292,
          0.9419672506611048,
          -0.3229204045492647,
          -0.15118050576790337,
          1.87169656007912,
          -0.5935431095998885,
          -0.612748189828855,
          -0.8457209641384387,
          1.0241174971534497,
          0.1825103841436704,
          0.46711500740492334,
          0.35750506885609434,
          0.03665200766281884,
          -0.4628535307444767,
          -0.09591576139526112,
          1.0693530820311394,
          1.1477702354954502,
          -0.22770298244346562,
          -0.8069211019531929,
          -0.28549790959366456,
          -1.2310405363296488,
          0.13029019673645767
         ],
         "yaxis": "y9"
        },
        {
         "line": {
          "color": "rgba(128, 128, 128, 1.0)",
          "dash": "solid",
          "shape": "linear",
          "width": 1.3
         },
         "marker": {
          "size": 2,
          "symbol": "circle"
         },
         "mode": "markers",
         "name": "C",
         "text": "",
         "type": "scatter",
         "x": [
          -0.42790688434940893,
          1.1023212831129967,
          1.1887901480514325,
          1.0732111845425714,
          -0.36657365759249483,
          -0.5656473349592283,
          -0.052425381012257515,
          1.1967973487129693,
          -1.9204162179742734,
          0.49499173286988396,
          0.03177713886948559,
          2.0395208180242643,
          -0.43859191833447764,
          1.4803364226090499,
          0.12666444902249152,
          -1.649742282114302,
          0.5870377856553117,
          2.2710802059818387,
          -0.30189613702080215,
          -0.7473224975631962,
          -1.900915231301534,
          -0.3708915752256786,
          -0.6999856013421171,
          -2.0196320119393696,
          0.21564852508540636,
          -0.33120503933020584,
          -0.41383604470641094,
          -0.47804860178887726,
          -0.7092972940284749,
          0.5778318584490235,
          -0.4101017143331438,
          -0.5352139410516578,
          -0.7862257663300574,
          0.6939896876836772,
          0.5326883503544092,
          1.5131372743263152,
          0.4166429553616738,
          0.2528413795800169,
          -0.855163816308513,
          -0.14730575159544035,
          0.28800779576442737,
          -1.4143330241262138,
          -0.1499239941006353,
          1.007051705598499,
          0.7490749925322414,
          -1.426002197503157,
          -1.279040263458639,
          -2.154585408397387,
          0.9533137961235957,
          -1.175672610090137,
          1.4978861553591707,
          1.4435405003817126,
          0.16563658417772678,
          -0.6623006604152534,
          -0.49891553469198524,
          1.9747739497342782,
          0.10501534948661304,
          0.14056313980420468,
          -2.002254240703674,
          0.7190327472356344,
          -0.881783930208081,
          0.25366385499380195,
          -0.5874379416344943,
          -1.6289419914202181,
          0.8301884314766689,
          0.7747392373953594,
          -0.6875231198482459,
          0.12024538466383536,
          1.3670594450102325,
          0.5827452306838281,
          -0.530278447900754,
          0.05614891806237901,
          0.7790080419810892,
          1.446161850152793,
          0.1404383743784033,
          -1.276468775850176,
          -1.2232777640277335,
          -1.0818283123154933,
          1.2036621750038603,
          0.10999185836379068,
          -1.1292034967068854,
          -1.4838806863523342,
          0.7118756638641246,
          -0.5259681147027214,
          0.3274831050418921,
          -0.8385036986314343,
          -0.1876452907738252,
          -0.48443317356575794,
          -0.06461280053411844,
          -1.1236064929290808,
          0.8555082423265195,
          1.3065424209543985,
          0.07851453225301613,
          0.4895930528339927,
          0.28602019675591833,
          -0.9257653387478679,
          0.02203108690296603,
          -0.5784050702216772,
          0.5342364290101148,
          0.07580009014358847
         ],
         "xaxis": "x10",
         "y": [
          0.4013694609466367,
          0.47918402807881155,
          -0.42016852086149753,
          1.5337189926126906,
          1.3692304382751603,
          -0.3168641694521636,
          2.692429089468827,
          -0.6652237765776419,
          1.4443366018163644,
          -0.6514708194267461,
          1.45256913444164,
          0.023667405688731085,
          0.953494686532997,
          0.6841691448345603,
          1.457020988275902,
          -1.3221074877330492,
          -0.5568555380425787,
          -0.8338105899157492,
          -1.273316700006224,
          2.1310179421500757,
          -0.790810333337568,
          -0.6147579795903965,
          0.4863445340914847,
          -1.3868066791554745,
          1.0260345270013729,
          -0.0027815353979401256,
          -0.49918215638661734,
          0.0038705357634394185,
          0.7141127100951283,
          -0.5986985110230264,
          0.7421629754860158,
          0.4364953891662601,
          1.477689611629932,
          -0.823104905283714,
          -0.7279646980891549,
          0.7139429087481839,
          -1.433892260560694,
          -0.2852460426280975,
          -0.29322710064580976,
          0.2648298911530672,
          -0.8344790095451745,
          -0.6257954442101381,
          -0.8979270742708928,
          -1.0627054958827784,
          0.14682007448296913,
          0.3369887765375471,
          0.9010835351649243,
          0.13666041907777177,
          -0.8585298051678452,
          1.3697422241654644,
          1.0680204614831375,
          -1.5531807082563662,
          1.1143656673797777,
          0.2652399971862241,
          -0.11323452807453596,
          0.5351022895127286,
          -0.6359446982698095,
          -0.9700437730501994,
          1.2159581898575078,
          0.1313959814287452,
          1.531513094989766,
          -0.4294253647798791,
          -0.8233822177687363,
          0.8268188128873591,
          0.07757679838976207,
          0.7543081593642519,
          0.9067799533272407,
          1.1551702177814234,
          -1.0918330003663343,
          -1.0415833666768308,
          2.3868791906968725,
          -0.4460471077300906,
          0.9335229422900791,
          -2.0147781854982334,
          0.07518616784451551,
          0.6130296924816733,
          -0.6191733399077277,
          -1.1108889862270899,
          1.0502540811913292,
          0.9419672506611048,
          -0.3229204045492647,
          -0.15118050576790337,
          1.87169656007912,
          -0.5935431095998885,
          -0.612748189828855,
          -0.8457209641384387,
          1.0241174971534497,
          0.1825103841436704,
          0.46711500740492334,
          0.35750506885609434,
          0.03665200766281884,
          -0.4628535307444767,
          -0.09591576139526112,
          1.0693530820311394,
          1.1477702354954502,
          -0.22770298244346562,
          -0.8069211019531929,
          -0.28549790959366456,
          -1.2310405363296488,
          0.13029019673645767
         ],
         "yaxis": "y10"
        },
        {
         "histfunc": "count",
         "histnorm": "",
         "marker": {
          "color": "rgba(50, 171, 96, 1.0)",
          "line": {
           "color": "#4D5663",
           "width": 1.3
          }
         },
         "name": "C",
         "nbinsx": 10,
         "opacity": 0.8,
         "orientation": "v",
         "type": "histogram",
         "x": [
          0.4013694609466367,
          0.47918402807881155,
          -0.42016852086149753,
          1.5337189926126906,
          1.3692304382751603,
          -0.3168641694521636,
          2.692429089468827,
          -0.6652237765776419,
          1.4443366018163644,
          -0.6514708194267461,
          1.45256913444164,
          0.023667405688731085,
          0.953494686532997,
          0.6841691448345603,
          1.457020988275902,
          -1.3221074877330492,
          -0.5568555380425787,
          -0.8338105899157492,
          -1.273316700006224,
          2.1310179421500757,
          -0.790810333337568,
          -0.6147579795903965,
          0.4863445340914847,
          -1.3868066791554745,
          1.0260345270013729,
          -0.0027815353979401256,
          -0.49918215638661734,
          0.0038705357634394185,
          0.7141127100951283,
          -0.5986985110230264,
          0.7421629754860158,
          0.4364953891662601,
          1.477689611629932,
          -0.823104905283714,
          -0.7279646980891549,
          0.7139429087481839,
          -1.433892260560694,
          -0.2852460426280975,
          -0.29322710064580976,
          0.2648298911530672,
          -0.8344790095451745,
          -0.6257954442101381,
          -0.8979270742708928,
          -1.0627054958827784,
          0.14682007448296913,
          0.3369887765375471,
          0.9010835351649243,
          0.13666041907777177,
          -0.8585298051678452,
          1.3697422241654644,
          1.0680204614831375,
          -1.5531807082563662,
          1.1143656673797777,
          0.2652399971862241,
          -0.11323452807453596,
          0.5351022895127286,
          -0.6359446982698095,
          -0.9700437730501994,
          1.2159581898575078,
          0.1313959814287452,
          1.531513094989766,
          -0.4294253647798791,
          -0.8233822177687363,
          0.8268188128873591,
          0.07757679838976207,
          0.7543081593642519,
          0.9067799533272407,
          1.1551702177814234,
          -1.0918330003663343,
          -1.0415833666768308,
          2.3868791906968725,
          -0.4460471077300906,
          0.9335229422900791,
          -2.0147781854982334,
          0.07518616784451551,
          0.6130296924816733,
          -0.6191733399077277,
          -1.1108889862270899,
          1.0502540811913292,
          0.9419672506611048,
          -0.3229204045492647,
          -0.15118050576790337,
          1.87169656007912,
          -0.5935431095998885,
          -0.612748189828855,
          -0.8457209641384387,
          1.0241174971534497,
          0.1825103841436704,
          0.46711500740492334,
          0.35750506885609434,
          0.03665200766281884,
          -0.4628535307444767,
          -0.09591576139526112,
          1.0693530820311394,
          1.1477702354954502,
          -0.22770298244346562,
          -0.8069211019531929,
          -0.28549790959366456,
          -1.2310405363296488,
          0.13029019673645767
         ],
         "xaxis": "x11",
         "yaxis": "y11"
        },
        {
         "line": {
          "color": "rgba(128, 128, 128, 1.0)",
          "dash": "solid",
          "shape": "linear",
          "width": 1.3
         },
         "marker": {
          "size": 2,
          "symbol": "circle"
         },
         "mode": "markers",
         "name": "C",
         "text": "",
         "type": "scatter",
         "x": [
          -0.7203762912595594,
          -1.6050089831119205,
          3.007762996295736,
          0.1733995978267144,
          0.2504646108312079,
          -0.07130292333757249,
          -0.3550444916446761,
          -0.9000545911117473,
          0.3250395493676486,
          -0.3976028525195338,
          -0.843406131024096,
          1.0809587540023515,
          1.1678004312633128,
          -0.0493650327231605,
          -0.09207617219955272,
          1.26651488109588,
          -0.41539895178365305,
          1.5481858903886139,
          -1.701828256459534,
          0.40381342663461345,
          1.1302664422386104,
          0.7696868674361801,
          1.40355248058713,
          0.8483601170109333,
          -0.7920806453711708,
          -0.08348691490384501,
          0.21518816306210514,
          1.6122209167752783,
          0.7637133361772442,
          -0.5641857474393002,
          0.15987423176818513,
          0.5304508625131966,
          -0.4667921723851996,
          -0.022061316959858874,
          -0.9100857813466896,
          -0.9242559515150672,
          -0.372818248607995,
          1.325603529635037,
          0.8575063466509635,
          0.36643935671150507,
          -1.3461851756109922,
          0.9980013915690534,
          0.6692254966922532,
          -1.2212442484388222,
          -1.8812972718926764,
          1.9180318585597222,
          -1.3776993606827088,
          0.8548976802386279,
          1.9758395506859114,
          -0.9690094140539778,
          1.0201402369292452,
          -0.07815768961091717,
          0.6741049041804277,
          0.7661815240719574,
          -0.6164371057442412,
          0.08863255880530042,
          1.7779922543607076,
          0.31825462054177894,
          -0.09873914042333422,
          0.19360654491978155,
          -0.204012527431161,
          0.1461476076760226,
          -0.24299670570853538,
          0.5483020249916255,
          -0.5149665212599834,
          -0.6860956795972244,
          0.3175799790618004,
          0.5398715147459157,
          0.08388696203953451,
          0.40689649801470273,
          -2.0843800588334913,
          -1.0847863223719147,
          0.11031111563988295,
          0.7516182882774625,
          0.6368272464532464,
          -1.4554386348105055,
          -0.7366387640992695,
          -0.7495234920610955,
          -0.7980672470637358,
          -0.1926295926019785,
          -0.09414185211424955,
          1.0299763429324347,
          0.8000816201238704,
          0.11939010004759178,
          -0.43753599226913814,
          -0.7326535395151343,
          -1.422964340599728,
          0.21669205016497914,
          -0.1277208527681951,
          -0.7010962368833163,
          0.9425570075717837,
          -1.261296669024147,
          1.2154295835099995,
          0.5874723176947764,
          -0.29039099909376886,
          -1.2206280708578845,
          -0.543946901517839,
          -0.4060673045471729,
          0.42940524362239696,
          0.8943986601433543
         ],
         "xaxis": "x12",
         "y": [
          0.4013694609466367,
          0.47918402807881155,
          -0.42016852086149753,
          1.5337189926126906,
          1.3692304382751603,
          -0.3168641694521636,
          2.692429089468827,
          -0.6652237765776419,
          1.4443366018163644,
          -0.6514708194267461,
          1.45256913444164,
          0.023667405688731085,
          0.953494686532997,
          0.6841691448345603,
          1.457020988275902,
          -1.3221074877330492,
          -0.5568555380425787,
          -0.8338105899157492,
          -1.273316700006224,
          2.1310179421500757,
          -0.790810333337568,
          -0.6147579795903965,
          0.4863445340914847,
          -1.3868066791554745,
          1.0260345270013729,
          -0.0027815353979401256,
          -0.49918215638661734,
          0.0038705357634394185,
          0.7141127100951283,
          -0.5986985110230264,
          0.7421629754860158,
          0.4364953891662601,
          1.477689611629932,
          -0.823104905283714,
          -0.7279646980891549,
          0.7139429087481839,
          -1.433892260560694,
          -0.2852460426280975,
          -0.29322710064580976,
          0.2648298911530672,
          -0.8344790095451745,
          -0.6257954442101381,
          -0.8979270742708928,
          -1.0627054958827784,
          0.14682007448296913,
          0.3369887765375471,
          0.9010835351649243,
          0.13666041907777177,
          -0.8585298051678452,
          1.3697422241654644,
          1.0680204614831375,
          -1.5531807082563662,
          1.1143656673797777,
          0.2652399971862241,
          -0.11323452807453596,
          0.5351022895127286,
          -0.6359446982698095,
          -0.9700437730501994,
          1.2159581898575078,
          0.1313959814287452,
          1.531513094989766,
          -0.4294253647798791,
          -0.8233822177687363,
          0.8268188128873591,
          0.07757679838976207,
          0.7543081593642519,
          0.9067799533272407,
          1.1551702177814234,
          -1.0918330003663343,
          -1.0415833666768308,
          2.3868791906968725,
          -0.4460471077300906,
          0.9335229422900791,
          -2.0147781854982334,
          0.07518616784451551,
          0.6130296924816733,
          -0.6191733399077277,
          -1.1108889862270899,
          1.0502540811913292,
          0.9419672506611048,
          -0.3229204045492647,
          -0.15118050576790337,
          1.87169656007912,
          -0.5935431095998885,
          -0.612748189828855,
          -0.8457209641384387,
          1.0241174971534497,
          0.1825103841436704,
          0.46711500740492334,
          0.35750506885609434,
          0.03665200766281884,
          -0.4628535307444767,
          -0.09591576139526112,
          1.0693530820311394,
          1.1477702354954502,
          -0.22770298244346562,
          -0.8069211019531929,
          -0.28549790959366456,
          -1.2310405363296488,
          0.13029019673645767
         ],
         "yaxis": "y12"
        },
        {
         "line": {
          "color": "rgba(128, 128, 128, 1.0)",
          "dash": "solid",
          "shape": "linear",
          "width": 1.3
         },
         "marker": {
          "size": 2,
          "symbol": "circle"
         },
         "mode": "markers",
         "name": "D",
         "text": "",
         "type": "scatter",
         "x": [
          1.940291908011102,
          -0.43602033128621526,
          -0.48460214045660277,
          -1.0240471641424937,
          0.07834813558886017,
          -0.03664652387595461,
          -0.3129739035091516,
          -2.334547594397871,
          1.8228858929130831,
          1.5711886392255132,
          -2.364881578802697,
          1.4616947574353703,
          -0.4987309829110831,
          1.5617852729463797,
          0.27096936324438226,
          -0.6303478616043724,
          -1.5081522475000202,
          1.7029399159062886,
          -0.5595680928927093,
          -1.2503555447771197,
          0.8046047778907405,
          -0.8662211973605952,
          0.5836035330903515,
          -1.6882300309849554,
          0.5249023960622097,
          0.8738634367385915,
          -0.7011217630000545,
          -0.11281811880033381,
          1.9132226852451233,
          0.21515592223039476,
          -1.5250854327856227,
          -0.1590202944556442,
          -0.4527591510178096,
          -1.1110076710922145,
          -0.9041890618466469,
          -1.05375893360304,
          0.45947755704608234,
          0.4151947410799361,
          -1.4538365237286752,
          -0.5787259904446689,
          1.0876123636309982,
          -0.256605975290541,
          0.13329166285795085,
          -0.9077772592137843,
          0.03249663834892144,
          1.0142902752121234,
          -0.3344369309963581,
          -0.09121153691247674,
          -0.40669721394299546,
          0.02744157623740808,
          -1.5452805971626824,
          -1.3511169562269885,
          0.01158109319398306,
          -0.9149503343075752,
          -1.1025417006876994,
          -0.5048494637049264,
          -0.2567919047639987,
          0.01093619218693575,
          -0.1356930776970061,
          0.10026165369166105,
          1.1717276766409668,
          -0.6434971360362067,
          0.34067344818628176,
          0.8863816354805312,
          -0.10132359942293251,
          0.07605559055080867,
          -0.6913446582930974,
          -1.2920514173129505,
          -1.3009741161906287,
          1.2876633447677763,
          -1.4445628899407343,
          0.259865688457576,
          1.8478838525077084,
          -0.41108510928550895,
          0.2893624467427053,
          0.748614342294359,
          0.9263547679541281,
          0.635161754847521,
          0.28256247565135617,
          1.5126383882427301,
          -0.7632724161850403,
          -0.2983928325770369,
          0.37300270064839636,
          1.0871880926061648,
          2.6572202224944146,
          -1.9722183777917304,
          0.18564568416487742,
          -0.9814354534461059,
          -0.5474587763161223,
          0.03598568118577001,
          -0.23166847854919972,
          -1.1346148101716846,
          -0.9036756738680616,
          -0.0404909774929333,
          -0.7164950094764136,
          -0.06435143860746836,
          -0.07591268221618847,
          -0.5296157564584758,
          0.2931309732891985,
          -0.1006868486366963
         ],
         "xaxis": "x13",
         "y": [
          -0.7203762912595594,
          -1.6050089831119205,
          3.007762996295736,
          0.1733995978267144,
          0.2504646108312079,
          -0.07130292333757249,
          -0.3550444916446761,
          -0.9000545911117473,
          0.3250395493676486,
          -0.3976028525195338,
          -0.843406131024096,
          1.0809587540023515,
          1.1678004312633128,
          -0.0493650327231605,
          -0.09207617219955272,
          1.26651488109588,
          -0.41539895178365305,
          1.5481858903886139,
          -1.701828256459534,
          0.40381342663461345,
          1.1302664422386104,
          0.7696868674361801,
          1.40355248058713,
          0.8483601170109333,
          -0.7920806453711708,
          -0.08348691490384501,
          0.21518816306210514,
          1.6122209167752783,
          0.7637133361772442,
          -0.5641857474393002,
          0.15987423176818513,
          0.5304508625131966,
          -0.4667921723851996,
          -0.022061316959858874,
          -0.9100857813466896,
          -0.9242559515150672,
          -0.372818248607995,
          1.325603529635037,
          0.8575063466509635,
          0.36643935671150507,
          -1.3461851756109922,
          0.9980013915690534,
          0.6692254966922532,
          -1.2212442484388222,
          -1.8812972718926764,
          1.9180318585597222,
          -1.3776993606827088,
          0.8548976802386279,
          1.9758395506859114,
          -0.9690094140539778,
          1.0201402369292452,
          -0.07815768961091717,
          0.6741049041804277,
          0.7661815240719574,
          -0.6164371057442412,
          0.08863255880530042,
          1.7779922543607076,
          0.31825462054177894,
          -0.09873914042333422,
          0.19360654491978155,
          -0.204012527431161,
          0.1461476076760226,
          -0.24299670570853538,
          0.5483020249916255,
          -0.5149665212599834,
          -0.6860956795972244,
          0.3175799790618004,
          0.5398715147459157,
          0.08388696203953451,
          0.40689649801470273,
          -2.0843800588334913,
          -1.0847863223719147,
          0.11031111563988295,
          0.7516182882774625,
          0.6368272464532464,
          -1.4554386348105055,
          -0.7366387640992695,
          -0.7495234920610955,
          -0.7980672470637358,
          -0.1926295926019785,
          -0.09414185211424955,
          1.0299763429324347,
          0.8000816201238704,
          0.11939010004759178,
          -0.43753599226913814,
          -0.7326535395151343,
          -1.422964340599728,
          0.21669205016497914,
          -0.1277208527681951,
          -0.7010962368833163,
          0.9425570075717837,
          -1.261296669024147,
          1.2154295835099995,
          0.5874723176947764,
          -0.29039099909376886,
          -1.2206280708578845,
          -0.543946901517839,
          -0.4060673045471729,
          0.42940524362239696,
          0.8943986601433543
         ],
         "yaxis": "y13"
        },
        {
         "line": {
          "color": "rgba(128, 128, 128, 1.0)",
          "dash": "solid",
          "shape": "linear",
          "width": 1.3
         },
         "marker": {
          "size": 2,
          "symbol": "circle"
         },
         "mode": "markers",
         "name": "D",
         "text": "",
         "type": "scatter",
         "x": [
          -0.42790688434940893,
          1.1023212831129967,
          1.1887901480514325,
          1.0732111845425714,
          -0.36657365759249483,
          -0.5656473349592283,
          -0.052425381012257515,
          1.1967973487129693,
          -1.9204162179742734,
          0.49499173286988396,
          0.03177713886948559,
          2.0395208180242643,
          -0.43859191833447764,
          1.4803364226090499,
          0.12666444902249152,
          -1.649742282114302,
          0.5870377856553117,
          2.2710802059818387,
          -0.30189613702080215,
          -0.7473224975631962,
          -1.900915231301534,
          -0.3708915752256786,
          -0.6999856013421171,
          -2.0196320119393696,
          0.21564852508540636,
          -0.33120503933020584,
          -0.41383604470641094,
          -0.47804860178887726,
          -0.7092972940284749,
          0.5778318584490235,
          -0.4101017143331438,
          -0.5352139410516578,
          -0.7862257663300574,
          0.6939896876836772,
          0.5326883503544092,
          1.5131372743263152,
          0.4166429553616738,
          0.2528413795800169,
          -0.855163816308513,
          -0.14730575159544035,
          0.28800779576442737,
          -1.4143330241262138,
          -0.1499239941006353,
          1.007051705598499,
          0.7490749925322414,
          -1.426002197503157,
          -1.279040263458639,
          -2.154585408397387,
          0.9533137961235957,
          -1.175672610090137,
          1.4978861553591707,
          1.4435405003817126,
          0.16563658417772678,
          -0.6623006604152534,
          -0.49891553469198524,
          1.9747739497342782,
          0.10501534948661304,
          0.14056313980420468,
          -2.002254240703674,
          0.7190327472356344,
          -0.881783930208081,
          0.25366385499380195,
          -0.5874379416344943,
          -1.6289419914202181,
          0.8301884314766689,
          0.7747392373953594,
          -0.6875231198482459,
          0.12024538466383536,
          1.3670594450102325,
          0.5827452306838281,
          -0.530278447900754,
          0.05614891806237901,
          0.7790080419810892,
          1.446161850152793,
          0.1404383743784033,
          -1.276468775850176,
          -1.2232777640277335,
          -1.0818283123154933,
          1.2036621750038603,
          0.10999185836379068,
          -1.1292034967068854,
          -1.4838806863523342,
          0.7118756638641246,
          -0.5259681147027214,
          0.3274831050418921,
          -0.8385036986314343,
          -0.1876452907738252,
          -0.48443317356575794,
          -0.06461280053411844,
          -1.1236064929290808,
          0.8555082423265195,
          1.3065424209543985,
          0.07851453225301613,
          0.4895930528339927,
          0.28602019675591833,
          -0.9257653387478679,
          0.02203108690296603,
          -0.5784050702216772,
          0.5342364290101148,
          0.07580009014358847
         ],
         "xaxis": "x14",
         "y": [
          -0.7203762912595594,
          -1.6050089831119205,
          3.007762996295736,
          0.1733995978267144,
          0.2504646108312079,
          -0.07130292333757249,
          -0.3550444916446761,
          -0.9000545911117473,
          0.3250395493676486,
          -0.3976028525195338,
          -0.843406131024096,
          1.0809587540023515,
          1.1678004312633128,
          -0.0493650327231605,
          -0.09207617219955272,
          1.26651488109588,
          -0.41539895178365305,
          1.5481858903886139,
          -1.701828256459534,
          0.40381342663461345,
          1.1302664422386104,
          0.7696868674361801,
          1.40355248058713,
          0.8483601170109333,
          -0.7920806453711708,
          -0.08348691490384501,
          0.21518816306210514,
          1.6122209167752783,
          0.7637133361772442,
          -0.5641857474393002,
          0.15987423176818513,
          0.5304508625131966,
          -0.4667921723851996,
          -0.022061316959858874,
          -0.9100857813466896,
          -0.9242559515150672,
          -0.372818248607995,
          1.325603529635037,
          0.8575063466509635,
          0.36643935671150507,
          -1.3461851756109922,
          0.9980013915690534,
          0.6692254966922532,
          -1.2212442484388222,
          -1.8812972718926764,
          1.9180318585597222,
          -1.3776993606827088,
          0.8548976802386279,
          1.9758395506859114,
          -0.9690094140539778,
          1.0201402369292452,
          -0.07815768961091717,
          0.6741049041804277,
          0.7661815240719574,
          -0.6164371057442412,
          0.08863255880530042,
          1.7779922543607076,
          0.31825462054177894,
          -0.09873914042333422,
          0.19360654491978155,
          -0.204012527431161,
          0.1461476076760226,
          -0.24299670570853538,
          0.5483020249916255,
          -0.5149665212599834,
          -0.6860956795972244,
          0.3175799790618004,
          0.5398715147459157,
          0.08388696203953451,
          0.40689649801470273,
          -2.0843800588334913,
          -1.0847863223719147,
          0.11031111563988295,
          0.7516182882774625,
          0.6368272464532464,
          -1.4554386348105055,
          -0.7366387640992695,
          -0.7495234920610955,
          -0.7980672470637358,
          -0.1926295926019785,
          -0.09414185211424955,
          1.0299763429324347,
          0.8000816201238704,
          0.11939010004759178,
          -0.43753599226913814,
          -0.7326535395151343,
          -1.422964340599728,
          0.21669205016497914,
          -0.1277208527681951,
          -0.7010962368833163,
          0.9425570075717837,
          -1.261296669024147,
          1.2154295835099995,
          0.5874723176947764,
          -0.29039099909376886,
          -1.2206280708578845,
          -0.543946901517839,
          -0.4060673045471729,
          0.42940524362239696,
          0.8943986601433543
         ],
         "yaxis": "y14"
        },
        {
         "line": {
          "color": "rgba(128, 128, 128, 1.0)",
          "dash": "solid",
          "shape": "linear",
          "width": 1.3
         },
         "marker": {
          "size": 2,
          "symbol": "circle"
         },
         "mode": "markers",
         "name": "D",
         "text": "",
         "type": "scatter",
         "x": [
          0.4013694609466367,
          0.47918402807881155,
          -0.42016852086149753,
          1.5337189926126906,
          1.3692304382751603,
          -0.3168641694521636,
          2.692429089468827,
          -0.6652237765776419,
          1.4443366018163644,
          -0.6514708194267461,
          1.45256913444164,
          0.023667405688731085,
          0.953494686532997,
          0.6841691448345603,
          1.457020988275902,
          -1.3221074877330492,
          -0.5568555380425787,
          -0.8338105899157492,
          -1.273316700006224,
          2.1310179421500757,
          -0.790810333337568,
          -0.6147579795903965,
          0.4863445340914847,
          -1.3868066791554745,
          1.0260345270013729,
          -0.0027815353979401256,
          -0.49918215638661734,
          0.0038705357634394185,
          0.7141127100951283,
          -0.5986985110230264,
          0.7421629754860158,
          0.4364953891662601,
          1.477689611629932,
          -0.823104905283714,
          -0.7279646980891549,
          0.7139429087481839,
          -1.433892260560694,
          -0.2852460426280975,
          -0.29322710064580976,
          0.2648298911530672,
          -0.8344790095451745,
          -0.6257954442101381,
          -0.8979270742708928,
          -1.0627054958827784,
          0.14682007448296913,
          0.3369887765375471,
          0.9010835351649243,
          0.13666041907777177,
          -0.8585298051678452,
          1.3697422241654644,
          1.0680204614831375,
          -1.5531807082563662,
          1.1143656673797777,
          0.2652399971862241,
          -0.11323452807453596,
          0.5351022895127286,
          -0.6359446982698095,
          -0.9700437730501994,
          1.2159581898575078,
          0.1313959814287452,
          1.531513094989766,
          -0.4294253647798791,
          -0.8233822177687363,
          0.8268188128873591,
          0.07757679838976207,
          0.7543081593642519,
          0.9067799533272407,
          1.1551702177814234,
          -1.0918330003663343,
          -1.0415833666768308,
          2.3868791906968725,
          -0.4460471077300906,
          0.9335229422900791,
          -2.0147781854982334,
          0.07518616784451551,
          0.6130296924816733,
          -0.6191733399077277,
          -1.1108889862270899,
          1.0502540811913292,
          0.9419672506611048,
          -0.3229204045492647,
          -0.15118050576790337,
          1.87169656007912,
          -0.5935431095998885,
          -0.612748189828855,
          -0.8457209641384387,
          1.0241174971534497,
          0.1825103841436704,
          0.46711500740492334,
          0.35750506885609434,
          0.03665200766281884,
          -0.4628535307444767,
          -0.09591576139526112,
          1.0693530820311394,
          1.1477702354954502,
          -0.22770298244346562,
          -0.8069211019531929,
          -0.28549790959366456,
          -1.2310405363296488,
          0.13029019673645767
         ],
         "xaxis": "x15",
         "y": [
          -0.7203762912595594,
          -1.6050089831119205,
          3.007762996295736,
          0.1733995978267144,
          0.2504646108312079,
          -0.07130292333757249,
          -0.3550444916446761,
          -0.9000545911117473,
          0.3250395493676486,
          -0.3976028525195338,
          -0.843406131024096,
          1.0809587540023515,
          1.1678004312633128,
          -0.0493650327231605,
          -0.09207617219955272,
          1.26651488109588,
          -0.41539895178365305,
          1.5481858903886139,
          -1.701828256459534,
          0.40381342663461345,
          1.1302664422386104,
          0.7696868674361801,
          1.40355248058713,
          0.8483601170109333,
          -0.7920806453711708,
          -0.08348691490384501,
          0.21518816306210514,
          1.6122209167752783,
          0.7637133361772442,
          -0.5641857474393002,
          0.15987423176818513,
          0.5304508625131966,
          -0.4667921723851996,
          -0.022061316959858874,
          -0.9100857813466896,
          -0.9242559515150672,
          -0.372818248607995,
          1.325603529635037,
          0.8575063466509635,
          0.36643935671150507,
          -1.3461851756109922,
          0.9980013915690534,
          0.6692254966922532,
          -1.2212442484388222,
          -1.8812972718926764,
          1.9180318585597222,
          -1.3776993606827088,
          0.8548976802386279,
          1.9758395506859114,
          -0.9690094140539778,
          1.0201402369292452,
          -0.07815768961091717,
          0.6741049041804277,
          0.7661815240719574,
          -0.6164371057442412,
          0.08863255880530042,
          1.7779922543607076,
          0.31825462054177894,
          -0.09873914042333422,
          0.19360654491978155,
          -0.204012527431161,
          0.1461476076760226,
          -0.24299670570853538,
          0.5483020249916255,
          -0.5149665212599834,
          -0.6860956795972244,
          0.3175799790618004,
          0.5398715147459157,
          0.08388696203953451,
          0.40689649801470273,
          -2.0843800588334913,
          -1.0847863223719147,
          0.11031111563988295,
          0.7516182882774625,
          0.6368272464532464,
          -1.4554386348105055,
          -0.7366387640992695,
          -0.7495234920610955,
          -0.7980672470637358,
          -0.1926295926019785,
          -0.09414185211424955,
          1.0299763429324347,
          0.8000816201238704,
          0.11939010004759178,
          -0.43753599226913814,
          -0.7326535395151343,
          -1.422964340599728,
          0.21669205016497914,
          -0.1277208527681951,
          -0.7010962368833163,
          0.9425570075717837,
          -1.261296669024147,
          1.2154295835099995,
          0.5874723176947764,
          -0.29039099909376886,
          -1.2206280708578845,
          -0.543946901517839,
          -0.4060673045471729,
          0.42940524362239696,
          0.8943986601433543
         ],
         "yaxis": "y15"
        },
        {
         "histfunc": "count",
         "histnorm": "",
         "marker": {
          "color": "rgba(128, 0, 128, 1.0)",
          "line": {
           "color": "#4D5663",
           "width": 1.3
          }
         },
         "name": "D",
         "nbinsx": 10,
         "opacity": 0.8,
         "orientation": "v",
         "type": "histogram",
         "x": [
          -0.7203762912595594,
          -1.6050089831119205,
          3.007762996295736,
          0.1733995978267144,
          0.2504646108312079,
          -0.07130292333757249,
          -0.3550444916446761,
          -0.9000545911117473,
          0.3250395493676486,
          -0.3976028525195338,
          -0.843406131024096,
          1.0809587540023515,
          1.1678004312633128,
          -0.0493650327231605,
          -0.09207617219955272,
          1.26651488109588,
          -0.41539895178365305,
          1.5481858903886139,
          -1.701828256459534,
          0.40381342663461345,
          1.1302664422386104,
          0.7696868674361801,
          1.40355248058713,
          0.8483601170109333,
          -0.7920806453711708,
          -0.08348691490384501,
          0.21518816306210514,
          1.6122209167752783,
          0.7637133361772442,
          -0.5641857474393002,
          0.15987423176818513,
          0.5304508625131966,
          -0.4667921723851996,
          -0.022061316959858874,
          -0.9100857813466896,
          -0.9242559515150672,
          -0.372818248607995,
          1.325603529635037,
          0.8575063466509635,
          0.36643935671150507,
          -1.3461851756109922,
          0.9980013915690534,
          0.6692254966922532,
          -1.2212442484388222,
          -1.8812972718926764,
          1.9180318585597222,
          -1.3776993606827088,
          0.8548976802386279,
          1.9758395506859114,
          -0.9690094140539778,
          1.0201402369292452,
          -0.07815768961091717,
          0.6741049041804277,
          0.7661815240719574,
          -0.6164371057442412,
          0.08863255880530042,
          1.7779922543607076,
          0.31825462054177894,
          -0.09873914042333422,
          0.19360654491978155,
          -0.204012527431161,
          0.1461476076760226,
          -0.24299670570853538,
          0.5483020249916255,
          -0.5149665212599834,
          -0.6860956795972244,
          0.3175799790618004,
          0.5398715147459157,
          0.08388696203953451,
          0.40689649801470273,
          -2.0843800588334913,
          -1.0847863223719147,
          0.11031111563988295,
          0.7516182882774625,
          0.6368272464532464,
          -1.4554386348105055,
          -0.7366387640992695,
          -0.7495234920610955,
          -0.7980672470637358,
          -0.1926295926019785,
          -0.09414185211424955,
          1.0299763429324347,
          0.8000816201238704,
          0.11939010004759178,
          -0.43753599226913814,
          -0.7326535395151343,
          -1.422964340599728,
          0.21669205016497914,
          -0.1277208527681951,
          -0.7010962368833163,
          0.9425570075717837,
          -1.261296669024147,
          1.2154295835099995,
          0.5874723176947764,
          -0.29039099909376886,
          -1.2206280708578845,
          -0.543946901517839,
          -0.4060673045471729,
          0.42940524362239696,
          0.8943986601433543
         ],
         "xaxis": "x16",
         "yaxis": "y16"
        }
       ],
       "layout": {
        "bargap": 0.02,
        "legend": {
         "bgcolor": "#F5F6F9",
         "font": {
          "color": "#4D5663"
         }
        },
        "paper_bgcolor": "#F5F6F9",
        "plot_bgcolor": "#F5F6F9",
        "showlegend": false,
        "template": {
         "data": {
          "bar": [
           {
            "error_x": {
             "color": "#2a3f5f"
            },
            "error_y": {
             "color": "#2a3f5f"
            },
            "marker": {
             "line": {
              "color": "#E5ECF6",
              "width": 0.5
             }
            },
            "type": "bar"
           }
          ],
          "barpolar": [
           {
            "marker": {
             "line": {
              "color": "#E5ECF6",
              "width": 0.5
             }
            },
            "type": "barpolar"
           }
          ],
          "carpet": [
           {
            "aaxis": {
             "endlinecolor": "#2a3f5f",
             "gridcolor": "white",
             "linecolor": "white",
             "minorgridcolor": "white",
             "startlinecolor": "#2a3f5f"
            },
            "baxis": {
             "endlinecolor": "#2a3f5f",
             "gridcolor": "white",
             "linecolor": "white",
             "minorgridcolor": "white",
             "startlinecolor": "#2a3f5f"
            },
            "type": "carpet"
           }
          ],
          "choropleth": [
           {
            "colorbar": {
             "outlinewidth": 0,
             "ticks": ""
            },
            "type": "choropleth"
           }
          ],
          "contour": [
           {
            "colorbar": {
             "outlinewidth": 0,
             "ticks": ""
            },
            "colorscale": [
             [
              0,
              "#0d0887"
             ],
             [
              0.1111111111111111,
              "#46039f"
             ],
             [
              0.2222222222222222,
              "#7201a8"
             ],
             [
              0.3333333333333333,
              "#9c179e"
             ],
             [
              0.4444444444444444,
              "#bd3786"
             ],
             [
              0.5555555555555556,
              "#d8576b"
             ],
             [
              0.6666666666666666,
              "#ed7953"
             ],
             [
              0.7777777777777778,
              "#fb9f3a"
             ],
             [
              0.8888888888888888,
              "#fdca26"
             ],
             [
              1,
              "#f0f921"
             ]
            ],
            "type": "contour"
           }
          ],
          "contourcarpet": [
           {
            "colorbar": {
             "outlinewidth": 0,
             "ticks": ""
            },
            "type": "contourcarpet"
           }
          ],
          "heatmap": [
           {
            "colorbar": {
             "outlinewidth": 0,
             "ticks": ""
            },
            "colorscale": [
             [
              0,
              "#0d0887"
             ],
             [
              0.1111111111111111,
              "#46039f"
             ],
             [
              0.2222222222222222,
              "#7201a8"
             ],
             [
              0.3333333333333333,
              "#9c179e"
             ],
             [
              0.4444444444444444,
              "#bd3786"
             ],
             [
              0.5555555555555556,
              "#d8576b"
             ],
             [
              0.6666666666666666,
              "#ed7953"
             ],
             [
              0.7777777777777778,
              "#fb9f3a"
             ],
             [
              0.8888888888888888,
              "#fdca26"
             ],
             [
              1,
              "#f0f921"
             ]
            ],
            "type": "heatmap"
           }
          ],
          "heatmapgl": [
           {
            "colorbar": {
             "outlinewidth": 0,
             "ticks": ""
            },
            "colorscale": [
             [
              0,
              "#0d0887"
             ],
             [
              0.1111111111111111,
              "#46039f"
             ],
             [
              0.2222222222222222,
              "#7201a8"
             ],
             [
              0.3333333333333333,
              "#9c179e"
             ],
             [
              0.4444444444444444,
              "#bd3786"
             ],
             [
              0.5555555555555556,
              "#d8576b"
             ],
             [
              0.6666666666666666,
              "#ed7953"
             ],
             [
              0.7777777777777778,
              "#fb9f3a"
             ],
             [
              0.8888888888888888,
              "#fdca26"
             ],
             [
              1,
              "#f0f921"
             ]
            ],
            "type": "heatmapgl"
           }
          ],
          "histogram": [
           {
            "marker": {
             "colorbar": {
              "outlinewidth": 0,
              "ticks": ""
             }
            },
            "type": "histogram"
           }
          ],
          "histogram2d": [
           {
            "colorbar": {
             "outlinewidth": 0,
             "ticks": ""
            },
            "colorscale": [
             [
              0,
              "#0d0887"
             ],
             [
              0.1111111111111111,
              "#46039f"
             ],
             [
              0.2222222222222222,
              "#7201a8"
             ],
             [
              0.3333333333333333,
              "#9c179e"
             ],
             [
              0.4444444444444444,
              "#bd3786"
             ],
             [
              0.5555555555555556,
              "#d8576b"
             ],
             [
              0.6666666666666666,
              "#ed7953"
             ],
             [
              0.7777777777777778,
              "#fb9f3a"
             ],
             [
              0.8888888888888888,
              "#fdca26"
             ],
             [
              1,
              "#f0f921"
             ]
            ],
            "type": "histogram2d"
           }
          ],
          "histogram2dcontour": [
           {
            "colorbar": {
             "outlinewidth": 0,
             "ticks": ""
            },
            "colorscale": [
             [
              0,
              "#0d0887"
             ],
             [
              0.1111111111111111,
              "#46039f"
             ],
             [
              0.2222222222222222,
              "#7201a8"
             ],
             [
              0.3333333333333333,
              "#9c179e"
             ],
             [
              0.4444444444444444,
              "#bd3786"
             ],
             [
              0.5555555555555556,
              "#d8576b"
             ],
             [
              0.6666666666666666,
              "#ed7953"
             ],
             [
              0.7777777777777778,
              "#fb9f3a"
             ],
             [
              0.8888888888888888,
              "#fdca26"
             ],
             [
              1,
              "#f0f921"
             ]
            ],
            "type": "histogram2dcontour"
           }
          ],
          "mesh3d": [
           {
            "colorbar": {
             "outlinewidth": 0,
             "ticks": ""
            },
            "type": "mesh3d"
           }
          ],
          "parcoords": [
           {
            "line": {
             "colorbar": {
              "outlinewidth": 0,
              "ticks": ""
             }
            },
            "type": "parcoords"
           }
          ],
          "pie": [
           {
            "automargin": true,
            "type": "pie"
           }
          ],
          "scatter": [
           {
            "marker": {
             "colorbar": {
              "outlinewidth": 0,
              "ticks": ""
             }
            },
            "type": "scatter"
           }
          ],
          "scatter3d": [
           {
            "line": {
             "colorbar": {
              "outlinewidth": 0,
              "ticks": ""
             }
            },
            "marker": {
             "colorbar": {
              "outlinewidth": 0,
              "ticks": ""
             }
            },
            "type": "scatter3d"
           }
          ],
          "scattercarpet": [
           {
            "marker": {
             "colorbar": {
              "outlinewidth": 0,
              "ticks": ""
             }
            },
            "type": "scattercarpet"
           }
          ],
          "scattergeo": [
           {
            "marker": {
             "colorbar": {
              "outlinewidth": 0,
              "ticks": ""
             }
            },
            "type": "scattergeo"
           }
          ],
          "scattergl": [
           {
            "marker": {
             "colorbar": {
              "outlinewidth": 0,
              "ticks": ""
             }
            },
            "type": "scattergl"
           }
          ],
          "scattermapbox": [
           {
            "marker": {
             "colorbar": {
              "outlinewidth": 0,
              "ticks": ""
             }
            },
            "type": "scattermapbox"
           }
          ],
          "scatterpolar": [
           {
            "marker": {
             "colorbar": {
              "outlinewidth": 0,
              "ticks": ""
             }
            },
            "type": "scatterpolar"
           }
          ],
          "scatterpolargl": [
           {
            "marker": {
             "colorbar": {
              "outlinewidth": 0,
              "ticks": ""
             }
            },
            "type": "scatterpolargl"
           }
          ],
          "scatterternary": [
           {
            "marker": {
             "colorbar": {
              "outlinewidth": 0,
              "ticks": ""
             }
            },
            "type": "scatterternary"
           }
          ],
          "surface": [
           {
            "colorbar": {
             "outlinewidth": 0,
             "ticks": ""
            },
            "colorscale": [
             [
              0,
              "#0d0887"
             ],
             [
              0.1111111111111111,
              "#46039f"
             ],
             [
              0.2222222222222222,
              "#7201a8"
             ],
             [
              0.3333333333333333,
              "#9c179e"
             ],
             [
              0.4444444444444444,
              "#bd3786"
             ],
             [
              0.5555555555555556,
              "#d8576b"
             ],
             [
              0.6666666666666666,
              "#ed7953"
             ],
             [
              0.7777777777777778,
              "#fb9f3a"
             ],
             [
              0.8888888888888888,
              "#fdca26"
             ],
             [
              1,
              "#f0f921"
             ]
            ],
            "type": "surface"
           }
          ],
          "table": [
           {
            "cells": {
             "fill": {
              "color": "#EBF0F8"
             },
             "line": {
              "color": "white"
             }
            },
            "header": {
             "fill": {
              "color": "#C8D4E3"
             },
             "line": {
              "color": "white"
             }
            },
            "type": "table"
           }
          ]
         },
         "layout": {
          "annotationdefaults": {
           "arrowcolor": "#2a3f5f",
           "arrowhead": 0,
           "arrowwidth": 1
          },
          "coloraxis": {
           "colorbar": {
            "outlinewidth": 0,
            "ticks": ""
           }
          },
          "colorscale": {
           "diverging": [
            [
             0,
             "#8e0152"
            ],
            [
             0.1,
             "#c51b7d"
            ],
            [
             0.2,
             "#de77ae"
            ],
            [
             0.3,
             "#f1b6da"
            ],
            [
             0.4,
             "#fde0ef"
            ],
            [
             0.5,
             "#f7f7f7"
            ],
            [
             0.6,
             "#e6f5d0"
            ],
            [
             0.7,
             "#b8e186"
            ],
            [
             0.8,
             "#7fbc41"
            ],
            [
             0.9,
             "#4d9221"
            ],
            [
             1,
             "#276419"
            ]
           ],
           "sequential": [
            [
             0,
             "#0d0887"
            ],
            [
             0.1111111111111111,
             "#46039f"
            ],
            [
             0.2222222222222222,
             "#7201a8"
            ],
            [
             0.3333333333333333,
             "#9c179e"
            ],
            [
             0.4444444444444444,
             "#bd3786"
            ],
            [
             0.5555555555555556,
             "#d8576b"
            ],
            [
             0.6666666666666666,
             "#ed7953"
            ],
            [
             0.7777777777777778,
             "#fb9f3a"
            ],
            [
             0.8888888888888888,
             "#fdca26"
            ],
            [
             1,
             "#f0f921"
            ]
           ],
           "sequentialminus": [
            [
             0,
             "#0d0887"
            ],
            [
             0.1111111111111111,
             "#46039f"
            ],
            [
             0.2222222222222222,
             "#7201a8"
            ],
            [
             0.3333333333333333,
             "#9c179e"
            ],
            [
             0.4444444444444444,
             "#bd3786"
            ],
            [
             0.5555555555555556,
             "#d8576b"
            ],
            [
             0.6666666666666666,
             "#ed7953"
            ],
            [
             0.7777777777777778,
             "#fb9f3a"
            ],
            [
             0.8888888888888888,
             "#fdca26"
            ],
            [
             1,
             "#f0f921"
            ]
           ]
          },
          "colorway": [
           "#636efa",
           "#EF553B",
           "#00cc96",
           "#ab63fa",
           "#FFA15A",
           "#19d3f3",
           "#FF6692",
           "#B6E880",
           "#FF97FF",
           "#FECB52"
          ],
          "font": {
           "color": "#2a3f5f"
          },
          "geo": {
           "bgcolor": "white",
           "lakecolor": "white",
           "landcolor": "#E5ECF6",
           "showlakes": true,
           "showland": true,
           "subunitcolor": "white"
          },
          "hoverlabel": {
           "align": "left"
          },
          "hovermode": "closest",
          "mapbox": {
           "style": "light"
          },
          "paper_bgcolor": "white",
          "plot_bgcolor": "#E5ECF6",
          "polar": {
           "angularaxis": {
            "gridcolor": "white",
            "linecolor": "white",
            "ticks": ""
           },
           "bgcolor": "#E5ECF6",
           "radialaxis": {
            "gridcolor": "white",
            "linecolor": "white",
            "ticks": ""
           }
          },
          "scene": {
           "xaxis": {
            "backgroundcolor": "#E5ECF6",
            "gridcolor": "white",
            "gridwidth": 2,
            "linecolor": "white",
            "showbackground": true,
            "ticks": "",
            "zerolinecolor": "white"
           },
           "yaxis": {
            "backgroundcolor": "#E5ECF6",
            "gridcolor": "white",
            "gridwidth": 2,
            "linecolor": "white",
            "showbackground": true,
            "ticks": "",
            "zerolinecolor": "white"
           },
           "zaxis": {
            "backgroundcolor": "#E5ECF6",
            "gridcolor": "white",
            "gridwidth": 2,
            "linecolor": "white",
            "showbackground": true,
            "ticks": "",
            "zerolinecolor": "white"
           }
          },
          "shapedefaults": {
           "line": {
            "color": "#2a3f5f"
           }
          },
          "ternary": {
           "aaxis": {
            "gridcolor": "white",
            "linecolor": "white",
            "ticks": ""
           },
           "baxis": {
            "gridcolor": "white",
            "linecolor": "white",
            "ticks": ""
           },
           "bgcolor": "#E5ECF6",
           "caxis": {
            "gridcolor": "white",
            "linecolor": "white",
            "ticks": ""
           }
          },
          "title": {
           "x": 0.05
          },
          "xaxis": {
           "automargin": true,
           "gridcolor": "white",
           "linecolor": "white",
           "ticks": "",
           "title": {
            "standoff": 15
           },
           "zerolinecolor": "white",
           "zerolinewidth": 2
          },
          "yaxis": {
           "automargin": true,
           "gridcolor": "white",
           "linecolor": "white",
           "ticks": "",
           "title": {
            "standoff": 15
           },
           "zerolinecolor": "white",
           "zerolinewidth": 2
          }
         }
        },
        "title": {
         "font": {
          "color": "#4D5663"
         }
        },
        "xaxis": {
         "anchor": "y",
         "domain": [
          0,
          0.2125
         ],
         "gridcolor": "#E1E5ED",
         "showgrid": false,
         "tickfont": {
          "color": "#4D5663"
         },
         "title": {
          "font": {
           "color": "#4D5663"
          },
          "text": ""
         },
         "zerolinecolor": "#E1E5ED"
        },
        "xaxis10": {
         "anchor": "y10",
         "domain": [
          0.2625,
          0.475
         ],
         "gridcolor": "#E1E5ED",
         "showgrid": false,
         "tickfont": {
          "color": "#4D5663"
         },
         "title": {
          "font": {
           "color": "#4D5663"
          },
          "text": ""
         },
         "zerolinecolor": "#E1E5ED"
        },
        "xaxis11": {
         "anchor": "y11",
         "domain": [
          0.525,
          0.7375
         ],
         "gridcolor": "#E1E5ED",
         "showgrid": false,
         "tickfont": {
          "color": "#4D5663"
         },
         "title": {
          "font": {
           "color": "#4D5663"
          },
          "text": ""
         },
         "zerolinecolor": "#E1E5ED"
        },
        "xaxis12": {
         "anchor": "y12",
         "domain": [
          0.7875,
          1
         ],
         "gridcolor": "#E1E5ED",
         "showgrid": false,
         "tickfont": {
          "color": "#4D5663"
         },
         "title": {
          "font": {
           "color": "#4D5663"
          },
          "text": ""
         },
         "zerolinecolor": "#E1E5ED"
        },
        "xaxis13": {
         "anchor": "y13",
         "domain": [
          0,
          0.2125
         ],
         "gridcolor": "#E1E5ED",
         "showgrid": false,
         "tickfont": {
          "color": "#4D5663"
         },
         "title": {
          "font": {
           "color": "#4D5663"
          },
          "text": ""
         },
         "zerolinecolor": "#E1E5ED"
        },
        "xaxis14": {
         "anchor": "y14",
         "domain": [
          0.2625,
          0.475
         ],
         "gridcolor": "#E1E5ED",
         "showgrid": false,
         "tickfont": {
          "color": "#4D5663"
         },
         "title": {
          "font": {
           "color": "#4D5663"
          },
          "text": ""
         },
         "zerolinecolor": "#E1E5ED"
        },
        "xaxis15": {
         "anchor": "y15",
         "domain": [
          0.525,
          0.7375
         ],
         "gridcolor": "#E1E5ED",
         "showgrid": false,
         "tickfont": {
          "color": "#4D5663"
         },
         "title": {
          "font": {
           "color": "#4D5663"
          },
          "text": ""
         },
         "zerolinecolor": "#E1E5ED"
        },
        "xaxis16": {
         "anchor": "y16",
         "domain": [
          0.7875,
          1
         ],
         "gridcolor": "#E1E5ED",
         "showgrid": false,
         "tickfont": {
          "color": "#4D5663"
         },
         "title": {
          "font": {
           "color": "#4D5663"
          },
          "text": ""
         },
         "zerolinecolor": "#E1E5ED"
        },
        "xaxis2": {
         "anchor": "y2",
         "domain": [
          0.2625,
          0.475
         ],
         "gridcolor": "#E1E5ED",
         "showgrid": false,
         "tickfont": {
          "color": "#4D5663"
         },
         "title": {
          "font": {
           "color": "#4D5663"
          },
          "text": ""
         },
         "zerolinecolor": "#E1E5ED"
        },
        "xaxis3": {
         "anchor": "y3",
         "domain": [
          0.525,
          0.7375
         ],
         "gridcolor": "#E1E5ED",
         "showgrid": false,
         "tickfont": {
          "color": "#4D5663"
         },
         "title": {
          "font": {
           "color": "#4D5663"
          },
          "text": ""
         },
         "zerolinecolor": "#E1E5ED"
        },
        "xaxis4": {
         "anchor": "y4",
         "domain": [
          0.7875,
          1
         ],
         "gridcolor": "#E1E5ED",
         "showgrid": false,
         "tickfont": {
          "color": "#4D5663"
         },
         "title": {
          "font": {
           "color": "#4D5663"
          },
          "text": ""
         },
         "zerolinecolor": "#E1E5ED"
        },
        "xaxis5": {
         "anchor": "y5",
         "domain": [
          0,
          0.2125
         ],
         "gridcolor": "#E1E5ED",
         "showgrid": false,
         "tickfont": {
          "color": "#4D5663"
         },
         "title": {
          "font": {
           "color": "#4D5663"
          },
          "text": ""
         },
         "zerolinecolor": "#E1E5ED"
        },
        "xaxis6": {
         "anchor": "y6",
         "domain": [
          0.2625,
          0.475
         ],
         "gridcolor": "#E1E5ED",
         "showgrid": false,
         "tickfont": {
          "color": "#4D5663"
         },
         "title": {
          "font": {
           "color": "#4D5663"
          },
          "text": ""
         },
         "zerolinecolor": "#E1E5ED"
        },
        "xaxis7": {
         "anchor": "y7",
         "domain": [
          0.525,
          0.7375
         ],
         "gridcolor": "#E1E5ED",
         "showgrid": false,
         "tickfont": {
          "color": "#4D5663"
         },
         "title": {
          "font": {
           "color": "#4D5663"
          },
          "text": ""
         },
         "zerolinecolor": "#E1E5ED"
        },
        "xaxis8": {
         "anchor": "y8",
         "domain": [
          0.7875,
          1
         ],
         "gridcolor": "#E1E5ED",
         "showgrid": false,
         "tickfont": {
          "color": "#4D5663"
         },
         "title": {
          "font": {
           "color": "#4D5663"
          },
          "text": ""
         },
         "zerolinecolor": "#E1E5ED"
        },
        "xaxis9": {
         "anchor": "y9",
         "domain": [
          0,
          0.2125
         ],
         "gridcolor": "#E1E5ED",
         "showgrid": false,
         "tickfont": {
          "color": "#4D5663"
         },
         "title": {
          "font": {
           "color": "#4D5663"
          },
          "text": ""
         },
         "zerolinecolor": "#E1E5ED"
        },
        "yaxis": {
         "anchor": "x",
         "domain": [
          0.8025,
          1
         ],
         "gridcolor": "#E1E5ED",
         "showgrid": false,
         "tickfont": {
          "color": "#4D5663"
         },
         "title": {
          "font": {
           "color": "#4D5663"
          },
          "text": ""
         },
         "zerolinecolor": "#E1E5ED"
        },
        "yaxis10": {
         "anchor": "x10",
         "domain": [
          0.2675,
          0.465
         ],
         "gridcolor": "#E1E5ED",
         "showgrid": false,
         "tickfont": {
          "color": "#4D5663"
         },
         "title": {
          "font": {
           "color": "#4D5663"
          },
          "text": ""
         },
         "zerolinecolor": "#E1E5ED"
        },
        "yaxis11": {
         "anchor": "x11",
         "domain": [
          0.2675,
          0.465
         ],
         "gridcolor": "#E1E5ED",
         "showgrid": false,
         "tickfont": {
          "color": "#4D5663"
         },
         "title": {
          "font": {
           "color": "#4D5663"
          },
          "text": ""
         },
         "zerolinecolor": "#E1E5ED"
        },
        "yaxis12": {
         "anchor": "x12",
         "domain": [
          0.2675,
          0.465
         ],
         "gridcolor": "#E1E5ED",
         "showgrid": false,
         "tickfont": {
          "color": "#4D5663"
         },
         "title": {
          "font": {
           "color": "#4D5663"
          },
          "text": ""
         },
         "zerolinecolor": "#E1E5ED"
        },
        "yaxis13": {
         "anchor": "x13",
         "domain": [
          0,
          0.1975
         ],
         "gridcolor": "#E1E5ED",
         "showgrid": false,
         "tickfont": {
          "color": "#4D5663"
         },
         "title": {
          "font": {
           "color": "#4D5663"
          },
          "text": ""
         },
         "zerolinecolor": "#E1E5ED"
        },
        "yaxis14": {
         "anchor": "x14",
         "domain": [
          0,
          0.1975
         ],
         "gridcolor": "#E1E5ED",
         "showgrid": false,
         "tickfont": {
          "color": "#4D5663"
         },
         "title": {
          "font": {
           "color": "#4D5663"
          },
          "text": ""
         },
         "zerolinecolor": "#E1E5ED"
        },
        "yaxis15": {
         "anchor": "x15",
         "domain": [
          0,
          0.1975
         ],
         "gridcolor": "#E1E5ED",
         "showgrid": false,
         "tickfont": {
          "color": "#4D5663"
         },
         "title": {
          "font": {
           "color": "#4D5663"
          },
          "text": ""
         },
         "zerolinecolor": "#E1E5ED"
        },
        "yaxis16": {
         "anchor": "x16",
         "domain": [
          0,
          0.1975
         ],
         "gridcolor": "#E1E5ED",
         "showgrid": false,
         "tickfont": {
          "color": "#4D5663"
         },
         "title": {
          "font": {
           "color": "#4D5663"
          },
          "text": ""
         },
         "zerolinecolor": "#E1E5ED"
        },
        "yaxis2": {
         "anchor": "x2",
         "domain": [
          0.8025,
          1
         ],
         "gridcolor": "#E1E5ED",
         "showgrid": false,
         "tickfont": {
          "color": "#4D5663"
         },
         "title": {
          "font": {
           "color": "#4D5663"
          },
          "text": ""
         },
         "zerolinecolor": "#E1E5ED"
        },
        "yaxis3": {
         "anchor": "x3",
         "domain": [
          0.8025,
          1
         ],
         "gridcolor": "#E1E5ED",
         "showgrid": false,
         "tickfont": {
          "color": "#4D5663"
         },
         "title": {
          "font": {
           "color": "#4D5663"
          },
          "text": ""
         },
         "zerolinecolor": "#E1E5ED"
        },
        "yaxis4": {
         "anchor": "x4",
         "domain": [
          0.8025,
          1
         ],
         "gridcolor": "#E1E5ED",
         "showgrid": false,
         "tickfont": {
          "color": "#4D5663"
         },
         "title": {
          "font": {
           "color": "#4D5663"
          },
          "text": ""
         },
         "zerolinecolor": "#E1E5ED"
        },
        "yaxis5": {
         "anchor": "x5",
         "domain": [
          0.535,
          0.7325
         ],
         "gridcolor": "#E1E5ED",
         "showgrid": false,
         "tickfont": {
          "color": "#4D5663"
         },
         "title": {
          "font": {
           "color": "#4D5663"
          },
          "text": ""
         },
         "zerolinecolor": "#E1E5ED"
        },
        "yaxis6": {
         "anchor": "x6",
         "domain": [
          0.535,
          0.7325
         ],
         "gridcolor": "#E1E5ED",
         "showgrid": false,
         "tickfont": {
          "color": "#4D5663"
         },
         "title": {
          "font": {
           "color": "#4D5663"
          },
          "text": ""
         },
         "zerolinecolor": "#E1E5ED"
        },
        "yaxis7": {
         "anchor": "x7",
         "domain": [
          0.535,
          0.7325
         ],
         "gridcolor": "#E1E5ED",
         "showgrid": false,
         "tickfont": {
          "color": "#4D5663"
         },
         "title": {
          "font": {
           "color": "#4D5663"
          },
          "text": ""
         },
         "zerolinecolor": "#E1E5ED"
        },
        "yaxis8": {
         "anchor": "x8",
         "domain": [
          0.535,
          0.7325
         ],
         "gridcolor": "#E1E5ED",
         "showgrid": false,
         "tickfont": {
          "color": "#4D5663"
         },
         "title": {
          "font": {
           "color": "#4D5663"
          },
          "text": ""
         },
         "zerolinecolor": "#E1E5ED"
        },
        "yaxis9": {
         "anchor": "x9",
         "domain": [
          0.2675,
          0.465
         ],
         "gridcolor": "#E1E5ED",
         "showgrid": false,
         "tickfont": {
          "color": "#4D5663"
         },
         "title": {
          "font": {
           "color": "#4D5663"
          },
          "text": ""
         },
         "zerolinecolor": "#E1E5ED"
        }
       }
      },
      "text/html": [
       "<div>\n",
       "        \n",
       "        \n",
       "            <div id=\"1d94801c-f019-4afd-b727-9cd85506db00\" class=\"plotly-graph-div\" style=\"height:525px; width:100%;\"></div>\n",
       "            <script type=\"text/javascript\">\n",
       "                require([\"plotly\"], function(Plotly) {\n",
       "                    window.PLOTLYENV=window.PLOTLYENV || {};\n",
       "                    window.PLOTLYENV.BASE_URL='https://plot.ly';\n",
       "                    \n",
       "                if (document.getElementById(\"1d94801c-f019-4afd-b727-9cd85506db00\")) {\n",
       "                    Plotly.newPlot(\n",
       "                        '1d94801c-f019-4afd-b727-9cd85506db00',\n",
       "                        [{\"histfunc\": \"count\", \"histnorm\": \"\", \"marker\": {\"color\": \"rgba(255, 153, 51, 1.0)\", \"line\": {\"color\": \"#4D5663\", \"width\": 1.3}}, \"name\": \"A\", \"nbinsx\": 10, \"opacity\": 0.8, \"orientation\": \"v\", \"type\": \"histogram\", \"x\": [1.940291908011102, -0.43602033128621526, -0.48460214045660277, -1.0240471641424937, 0.07834813558886017, -0.03664652387595461, -0.3129739035091516, -2.334547594397871, 1.8228858929130831, 1.5711886392255132, -2.364881578802697, 1.4616947574353703, -0.4987309829110831, 1.5617852729463797, 0.27096936324438226, -0.6303478616043724, -1.5081522475000202, 1.7029399159062886, -0.5595680928927093, -1.2503555447771197, 0.8046047778907405, -0.8662211973605952, 0.5836035330903515, -1.6882300309849554, 0.5249023960622097, 0.8738634367385915, -0.7011217630000545, -0.11281811880033381, 1.9132226852451233, 0.21515592223039476, -1.5250854327856227, -0.1590202944556442, -0.4527591510178096, -1.1110076710922145, -0.9041890618466469, -1.05375893360304, 0.45947755704608234, 0.4151947410799361, -1.4538365237286752, -0.5787259904446689, 1.0876123636309982, -0.256605975290541, 0.13329166285795085, -0.9077772592137843, 0.03249663834892144, 1.0142902752121234, -0.3344369309963581, -0.09121153691247674, -0.40669721394299546, 0.02744157623740808, -1.5452805971626824, -1.3511169562269885, 0.01158109319398306, -0.9149503343075752, -1.1025417006876994, -0.5048494637049264, -0.2567919047639987, 0.01093619218693575, -0.1356930776970061, 0.10026165369166105, 1.1717276766409668, -0.6434971360362067, 0.34067344818628176, 0.8863816354805312, -0.10132359942293251, 0.07605559055080867, -0.6913446582930974, -1.2920514173129505, -1.3009741161906287, 1.2876633447677763, -1.4445628899407343, 0.259865688457576, 1.8478838525077084, -0.41108510928550895, 0.2893624467427053, 0.748614342294359, 0.9263547679541281, 0.635161754847521, 0.28256247565135617, 1.5126383882427301, -0.7632724161850403, -0.2983928325770369, 0.37300270064839636, 1.0871880926061648, 2.6572202224944146, -1.9722183777917304, 0.18564568416487742, -0.9814354534461059, -0.5474587763161223, 0.03598568118577001, -0.23166847854919972, -1.1346148101716846, -0.9036756738680616, -0.0404909774929333, -0.7164950094764136, -0.06435143860746836, -0.07591268221618847, -0.5296157564584758, 0.2931309732891985, -0.1006868486366963], \"xaxis\": \"x\", \"yaxis\": \"y\"}, {\"line\": {\"color\": \"rgba(128, 128, 128, 1.0)\", \"dash\": \"solid\", \"shape\": \"linear\", \"width\": 1.3}, \"marker\": {\"size\": 2, \"symbol\": \"circle\"}, \"mode\": \"markers\", \"name\": \"A\", \"text\": \"\", \"type\": \"scatter\", \"x\": [-0.42790688434940893, 1.1023212831129967, 1.1887901480514325, 1.0732111845425714, -0.36657365759249483, -0.5656473349592283, -0.052425381012257515, 1.1967973487129693, -1.9204162179742734, 0.49499173286988396, 0.03177713886948559, 2.0395208180242643, -0.43859191833447764, 1.4803364226090499, 0.12666444902249152, -1.649742282114302, 0.5870377856553117, 2.2710802059818387, -0.30189613702080215, -0.7473224975631962, -1.900915231301534, -0.3708915752256786, -0.6999856013421171, -2.0196320119393696, 0.21564852508540636, -0.33120503933020584, -0.41383604470641094, -0.47804860178887726, -0.7092972940284749, 0.5778318584490235, -0.4101017143331438, -0.5352139410516578, -0.7862257663300574, 0.6939896876836772, 0.5326883503544092, 1.5131372743263152, 0.4166429553616738, 0.2528413795800169, -0.855163816308513, -0.14730575159544035, 0.28800779576442737, -1.4143330241262138, -0.1499239941006353, 1.007051705598499, 0.7490749925322414, -1.426002197503157, -1.279040263458639, -2.154585408397387, 0.9533137961235957, -1.175672610090137, 1.4978861553591707, 1.4435405003817126, 0.16563658417772678, -0.6623006604152534, -0.49891553469198524, 1.9747739497342782, 0.10501534948661304, 0.14056313980420468, -2.002254240703674, 0.7190327472356344, -0.881783930208081, 0.25366385499380195, -0.5874379416344943, -1.6289419914202181, 0.8301884314766689, 0.7747392373953594, -0.6875231198482459, 0.12024538466383536, 1.3670594450102325, 0.5827452306838281, -0.530278447900754, 0.05614891806237901, 0.7790080419810892, 1.446161850152793, 0.1404383743784033, -1.276468775850176, -1.2232777640277335, -1.0818283123154933, 1.2036621750038603, 0.10999185836379068, -1.1292034967068854, -1.4838806863523342, 0.7118756638641246, -0.5259681147027214, 0.3274831050418921, -0.8385036986314343, -0.1876452907738252, -0.48443317356575794, -0.06461280053411844, -1.1236064929290808, 0.8555082423265195, 1.3065424209543985, 0.07851453225301613, 0.4895930528339927, 0.28602019675591833, -0.9257653387478679, 0.02203108690296603, -0.5784050702216772, 0.5342364290101148, 0.07580009014358847], \"xaxis\": \"x2\", \"y\": [1.940291908011102, -0.43602033128621526, -0.48460214045660277, -1.0240471641424937, 0.07834813558886017, -0.03664652387595461, -0.3129739035091516, -2.334547594397871, 1.8228858929130831, 1.5711886392255132, -2.364881578802697, 1.4616947574353703, -0.4987309829110831, 1.5617852729463797, 0.27096936324438226, -0.6303478616043724, -1.5081522475000202, 1.7029399159062886, -0.5595680928927093, -1.2503555447771197, 0.8046047778907405, -0.8662211973605952, 0.5836035330903515, -1.6882300309849554, 0.5249023960622097, 0.8738634367385915, -0.7011217630000545, -0.11281811880033381, 1.9132226852451233, 0.21515592223039476, -1.5250854327856227, -0.1590202944556442, -0.4527591510178096, -1.1110076710922145, -0.9041890618466469, -1.05375893360304, 0.45947755704608234, 0.4151947410799361, -1.4538365237286752, -0.5787259904446689, 1.0876123636309982, -0.256605975290541, 0.13329166285795085, -0.9077772592137843, 0.03249663834892144, 1.0142902752121234, -0.3344369309963581, -0.09121153691247674, -0.40669721394299546, 0.02744157623740808, -1.5452805971626824, -1.3511169562269885, 0.01158109319398306, -0.9149503343075752, -1.1025417006876994, -0.5048494637049264, -0.2567919047639987, 0.01093619218693575, -0.1356930776970061, 0.10026165369166105, 1.1717276766409668, -0.6434971360362067, 0.34067344818628176, 0.8863816354805312, -0.10132359942293251, 0.07605559055080867, -0.6913446582930974, -1.2920514173129505, -1.3009741161906287, 1.2876633447677763, -1.4445628899407343, 0.259865688457576, 1.8478838525077084, -0.41108510928550895, 0.2893624467427053, 0.748614342294359, 0.9263547679541281, 0.635161754847521, 0.28256247565135617, 1.5126383882427301, -0.7632724161850403, -0.2983928325770369, 0.37300270064839636, 1.0871880926061648, 2.6572202224944146, -1.9722183777917304, 0.18564568416487742, -0.9814354534461059, -0.5474587763161223, 0.03598568118577001, -0.23166847854919972, -1.1346148101716846, -0.9036756738680616, -0.0404909774929333, -0.7164950094764136, -0.06435143860746836, -0.07591268221618847, -0.5296157564584758, 0.2931309732891985, -0.1006868486366963], \"yaxis\": \"y2\"}, {\"line\": {\"color\": \"rgba(128, 128, 128, 1.0)\", \"dash\": \"solid\", \"shape\": \"linear\", \"width\": 1.3}, \"marker\": {\"size\": 2, \"symbol\": \"circle\"}, \"mode\": \"markers\", \"name\": \"A\", \"text\": \"\", \"type\": \"scatter\", \"x\": [0.4013694609466367, 0.47918402807881155, -0.42016852086149753, 1.5337189926126906, 1.3692304382751603, -0.3168641694521636, 2.692429089468827, -0.6652237765776419, 1.4443366018163644, -0.6514708194267461, 1.45256913444164, 0.023667405688731085, 0.953494686532997, 0.6841691448345603, 1.457020988275902, -1.3221074877330492, -0.5568555380425787, -0.8338105899157492, -1.273316700006224, 2.1310179421500757, -0.790810333337568, -0.6147579795903965, 0.4863445340914847, -1.3868066791554745, 1.0260345270013729, -0.0027815353979401256, -0.49918215638661734, 0.0038705357634394185, 0.7141127100951283, -0.5986985110230264, 0.7421629754860158, 0.4364953891662601, 1.477689611629932, -0.823104905283714, -0.7279646980891549, 0.7139429087481839, -1.433892260560694, -0.2852460426280975, -0.29322710064580976, 0.2648298911530672, -0.8344790095451745, -0.6257954442101381, -0.8979270742708928, -1.0627054958827784, 0.14682007448296913, 0.3369887765375471, 0.9010835351649243, 0.13666041907777177, -0.8585298051678452, 1.3697422241654644, 1.0680204614831375, -1.5531807082563662, 1.1143656673797777, 0.2652399971862241, -0.11323452807453596, 0.5351022895127286, -0.6359446982698095, -0.9700437730501994, 1.2159581898575078, 0.1313959814287452, 1.531513094989766, -0.4294253647798791, -0.8233822177687363, 0.8268188128873591, 0.07757679838976207, 0.7543081593642519, 0.9067799533272407, 1.1551702177814234, -1.0918330003663343, -1.0415833666768308, 2.3868791906968725, -0.4460471077300906, 0.9335229422900791, -2.0147781854982334, 0.07518616784451551, 0.6130296924816733, -0.6191733399077277, -1.1108889862270899, 1.0502540811913292, 0.9419672506611048, -0.3229204045492647, -0.15118050576790337, 1.87169656007912, -0.5935431095998885, -0.612748189828855, -0.8457209641384387, 1.0241174971534497, 0.1825103841436704, 0.46711500740492334, 0.35750506885609434, 0.03665200766281884, -0.4628535307444767, -0.09591576139526112, 1.0693530820311394, 1.1477702354954502, -0.22770298244346562, -0.8069211019531929, -0.28549790959366456, -1.2310405363296488, 0.13029019673645767], \"xaxis\": \"x3\", \"y\": [1.940291908011102, -0.43602033128621526, -0.48460214045660277, -1.0240471641424937, 0.07834813558886017, -0.03664652387595461, -0.3129739035091516, -2.334547594397871, 1.8228858929130831, 1.5711886392255132, -2.364881578802697, 1.4616947574353703, -0.4987309829110831, 1.5617852729463797, 0.27096936324438226, -0.6303478616043724, -1.5081522475000202, 1.7029399159062886, -0.5595680928927093, -1.2503555447771197, 0.8046047778907405, -0.8662211973605952, 0.5836035330903515, -1.6882300309849554, 0.5249023960622097, 0.8738634367385915, -0.7011217630000545, -0.11281811880033381, 1.9132226852451233, 0.21515592223039476, -1.5250854327856227, -0.1590202944556442, -0.4527591510178096, -1.1110076710922145, -0.9041890618466469, -1.05375893360304, 0.45947755704608234, 0.4151947410799361, -1.4538365237286752, -0.5787259904446689, 1.0876123636309982, -0.256605975290541, 0.13329166285795085, -0.9077772592137843, 0.03249663834892144, 1.0142902752121234, -0.3344369309963581, -0.09121153691247674, -0.40669721394299546, 0.02744157623740808, -1.5452805971626824, -1.3511169562269885, 0.01158109319398306, -0.9149503343075752, -1.1025417006876994, -0.5048494637049264, -0.2567919047639987, 0.01093619218693575, -0.1356930776970061, 0.10026165369166105, 1.1717276766409668, -0.6434971360362067, 0.34067344818628176, 0.8863816354805312, -0.10132359942293251, 0.07605559055080867, -0.6913446582930974, -1.2920514173129505, -1.3009741161906287, 1.2876633447677763, -1.4445628899407343, 0.259865688457576, 1.8478838525077084, -0.41108510928550895, 0.2893624467427053, 0.748614342294359, 0.9263547679541281, 0.635161754847521, 0.28256247565135617, 1.5126383882427301, -0.7632724161850403, -0.2983928325770369, 0.37300270064839636, 1.0871880926061648, 2.6572202224944146, -1.9722183777917304, 0.18564568416487742, -0.9814354534461059, -0.5474587763161223, 0.03598568118577001, -0.23166847854919972, -1.1346148101716846, -0.9036756738680616, -0.0404909774929333, -0.7164950094764136, -0.06435143860746836, -0.07591268221618847, -0.5296157564584758, 0.2931309732891985, -0.1006868486366963], \"yaxis\": \"y3\"}, {\"line\": {\"color\": \"rgba(128, 128, 128, 1.0)\", \"dash\": \"solid\", \"shape\": \"linear\", \"width\": 1.3}, \"marker\": {\"size\": 2, \"symbol\": \"circle\"}, \"mode\": \"markers\", \"name\": \"A\", \"text\": \"\", \"type\": \"scatter\", \"x\": [-0.7203762912595594, -1.6050089831119205, 3.007762996295736, 0.1733995978267144, 0.2504646108312079, -0.07130292333757249, -0.3550444916446761, -0.9000545911117473, 0.3250395493676486, -0.3976028525195338, -0.843406131024096, 1.0809587540023515, 1.1678004312633128, -0.0493650327231605, -0.09207617219955272, 1.26651488109588, -0.41539895178365305, 1.5481858903886139, -1.701828256459534, 0.40381342663461345, 1.1302664422386104, 0.7696868674361801, 1.40355248058713, 0.8483601170109333, -0.7920806453711708, -0.08348691490384501, 0.21518816306210514, 1.6122209167752783, 0.7637133361772442, -0.5641857474393002, 0.15987423176818513, 0.5304508625131966, -0.4667921723851996, -0.022061316959858874, -0.9100857813466896, -0.9242559515150672, -0.372818248607995, 1.325603529635037, 0.8575063466509635, 0.36643935671150507, -1.3461851756109922, 0.9980013915690534, 0.6692254966922532, -1.2212442484388222, -1.8812972718926764, 1.9180318585597222, -1.3776993606827088, 0.8548976802386279, 1.9758395506859114, -0.9690094140539778, 1.0201402369292452, -0.07815768961091717, 0.6741049041804277, 0.7661815240719574, -0.6164371057442412, 0.08863255880530042, 1.7779922543607076, 0.31825462054177894, -0.09873914042333422, 0.19360654491978155, -0.204012527431161, 0.1461476076760226, -0.24299670570853538, 0.5483020249916255, -0.5149665212599834, -0.6860956795972244, 0.3175799790618004, 0.5398715147459157, 0.08388696203953451, 0.40689649801470273, -2.0843800588334913, -1.0847863223719147, 0.11031111563988295, 0.7516182882774625, 0.6368272464532464, -1.4554386348105055, -0.7366387640992695, -0.7495234920610955, -0.7980672470637358, -0.1926295926019785, -0.09414185211424955, 1.0299763429324347, 0.8000816201238704, 0.11939010004759178, -0.43753599226913814, -0.7326535395151343, -1.422964340599728, 0.21669205016497914, -0.1277208527681951, -0.7010962368833163, 0.9425570075717837, -1.261296669024147, 1.2154295835099995, 0.5874723176947764, -0.29039099909376886, -1.2206280708578845, -0.543946901517839, -0.4060673045471729, 0.42940524362239696, 0.8943986601433543], \"xaxis\": \"x4\", \"y\": [1.940291908011102, -0.43602033128621526, -0.48460214045660277, -1.0240471641424937, 0.07834813558886017, -0.03664652387595461, -0.3129739035091516, -2.334547594397871, 1.8228858929130831, 1.5711886392255132, -2.364881578802697, 1.4616947574353703, -0.4987309829110831, 1.5617852729463797, 0.27096936324438226, -0.6303478616043724, -1.5081522475000202, 1.7029399159062886, -0.5595680928927093, -1.2503555447771197, 0.8046047778907405, -0.8662211973605952, 0.5836035330903515, -1.6882300309849554, 0.5249023960622097, 0.8738634367385915, -0.7011217630000545, -0.11281811880033381, 1.9132226852451233, 0.21515592223039476, -1.5250854327856227, -0.1590202944556442, -0.4527591510178096, -1.1110076710922145, -0.9041890618466469, -1.05375893360304, 0.45947755704608234, 0.4151947410799361, -1.4538365237286752, -0.5787259904446689, 1.0876123636309982, -0.256605975290541, 0.13329166285795085, -0.9077772592137843, 0.03249663834892144, 1.0142902752121234, -0.3344369309963581, -0.09121153691247674, -0.40669721394299546, 0.02744157623740808, -1.5452805971626824, -1.3511169562269885, 0.01158109319398306, -0.9149503343075752, -1.1025417006876994, -0.5048494637049264, -0.2567919047639987, 0.01093619218693575, -0.1356930776970061, 0.10026165369166105, 1.1717276766409668, -0.6434971360362067, 0.34067344818628176, 0.8863816354805312, -0.10132359942293251, 0.07605559055080867, -0.6913446582930974, -1.2920514173129505, -1.3009741161906287, 1.2876633447677763, -1.4445628899407343, 0.259865688457576, 1.8478838525077084, -0.41108510928550895, 0.2893624467427053, 0.748614342294359, 0.9263547679541281, 0.635161754847521, 0.28256247565135617, 1.5126383882427301, -0.7632724161850403, -0.2983928325770369, 0.37300270064839636, 1.0871880926061648, 2.6572202224944146, -1.9722183777917304, 0.18564568416487742, -0.9814354534461059, -0.5474587763161223, 0.03598568118577001, -0.23166847854919972, -1.1346148101716846, -0.9036756738680616, -0.0404909774929333, -0.7164950094764136, -0.06435143860746836, -0.07591268221618847, -0.5296157564584758, 0.2931309732891985, -0.1006868486366963], \"yaxis\": \"y4\"}, {\"line\": {\"color\": \"rgba(128, 128, 128, 1.0)\", \"dash\": \"solid\", \"shape\": \"linear\", \"width\": 1.3}, \"marker\": {\"size\": 2, \"symbol\": \"circle\"}, \"mode\": \"markers\", \"name\": \"B\", \"text\": \"\", \"type\": \"scatter\", \"x\": [1.940291908011102, -0.43602033128621526, -0.48460214045660277, -1.0240471641424937, 0.07834813558886017, -0.03664652387595461, -0.3129739035091516, -2.334547594397871, 1.8228858929130831, 1.5711886392255132, -2.364881578802697, 1.4616947574353703, -0.4987309829110831, 1.5617852729463797, 0.27096936324438226, -0.6303478616043724, -1.5081522475000202, 1.7029399159062886, -0.5595680928927093, -1.2503555447771197, 0.8046047778907405, -0.8662211973605952, 0.5836035330903515, -1.6882300309849554, 0.5249023960622097, 0.8738634367385915, -0.7011217630000545, -0.11281811880033381, 1.9132226852451233, 0.21515592223039476, -1.5250854327856227, -0.1590202944556442, -0.4527591510178096, -1.1110076710922145, -0.9041890618466469, -1.05375893360304, 0.45947755704608234, 0.4151947410799361, -1.4538365237286752, -0.5787259904446689, 1.0876123636309982, -0.256605975290541, 0.13329166285795085, -0.9077772592137843, 0.03249663834892144, 1.0142902752121234, -0.3344369309963581, -0.09121153691247674, -0.40669721394299546, 0.02744157623740808, -1.5452805971626824, -1.3511169562269885, 0.01158109319398306, -0.9149503343075752, -1.1025417006876994, -0.5048494637049264, -0.2567919047639987, 0.01093619218693575, -0.1356930776970061, 0.10026165369166105, 1.1717276766409668, -0.6434971360362067, 0.34067344818628176, 0.8863816354805312, -0.10132359942293251, 0.07605559055080867, -0.6913446582930974, -1.2920514173129505, -1.3009741161906287, 1.2876633447677763, -1.4445628899407343, 0.259865688457576, 1.8478838525077084, -0.41108510928550895, 0.2893624467427053, 0.748614342294359, 0.9263547679541281, 0.635161754847521, 0.28256247565135617, 1.5126383882427301, -0.7632724161850403, -0.2983928325770369, 0.37300270064839636, 1.0871880926061648, 2.6572202224944146, -1.9722183777917304, 0.18564568416487742, -0.9814354534461059, -0.5474587763161223, 0.03598568118577001, -0.23166847854919972, -1.1346148101716846, -0.9036756738680616, -0.0404909774929333, -0.7164950094764136, -0.06435143860746836, -0.07591268221618847, -0.5296157564584758, 0.2931309732891985, -0.1006868486366963], \"xaxis\": \"x5\", \"y\": [-0.42790688434940893, 1.1023212831129967, 1.1887901480514325, 1.0732111845425714, -0.36657365759249483, -0.5656473349592283, -0.052425381012257515, 1.1967973487129693, -1.9204162179742734, 0.49499173286988396, 0.03177713886948559, 2.0395208180242643, -0.43859191833447764, 1.4803364226090499, 0.12666444902249152, -1.649742282114302, 0.5870377856553117, 2.2710802059818387, -0.30189613702080215, -0.7473224975631962, -1.900915231301534, -0.3708915752256786, -0.6999856013421171, -2.0196320119393696, 0.21564852508540636, -0.33120503933020584, -0.41383604470641094, -0.47804860178887726, -0.7092972940284749, 0.5778318584490235, -0.4101017143331438, -0.5352139410516578, -0.7862257663300574, 0.6939896876836772, 0.5326883503544092, 1.5131372743263152, 0.4166429553616738, 0.2528413795800169, -0.855163816308513, -0.14730575159544035, 0.28800779576442737, -1.4143330241262138, -0.1499239941006353, 1.007051705598499, 0.7490749925322414, -1.426002197503157, -1.279040263458639, -2.154585408397387, 0.9533137961235957, -1.175672610090137, 1.4978861553591707, 1.4435405003817126, 0.16563658417772678, -0.6623006604152534, -0.49891553469198524, 1.9747739497342782, 0.10501534948661304, 0.14056313980420468, -2.002254240703674, 0.7190327472356344, -0.881783930208081, 0.25366385499380195, -0.5874379416344943, -1.6289419914202181, 0.8301884314766689, 0.7747392373953594, -0.6875231198482459, 0.12024538466383536, 1.3670594450102325, 0.5827452306838281, -0.530278447900754, 0.05614891806237901, 0.7790080419810892, 1.446161850152793, 0.1404383743784033, -1.276468775850176, -1.2232777640277335, -1.0818283123154933, 1.2036621750038603, 0.10999185836379068, -1.1292034967068854, -1.4838806863523342, 0.7118756638641246, -0.5259681147027214, 0.3274831050418921, -0.8385036986314343, -0.1876452907738252, -0.48443317356575794, -0.06461280053411844, -1.1236064929290808, 0.8555082423265195, 1.3065424209543985, 0.07851453225301613, 0.4895930528339927, 0.28602019675591833, -0.9257653387478679, 0.02203108690296603, -0.5784050702216772, 0.5342364290101148, 0.07580009014358847], \"yaxis\": \"y5\"}, {\"histfunc\": \"count\", \"histnorm\": \"\", \"marker\": {\"color\": \"rgba(55, 128, 191, 1.0)\", \"line\": {\"color\": \"#4D5663\", \"width\": 1.3}}, \"name\": \"B\", \"nbinsx\": 10, \"opacity\": 0.8, \"orientation\": \"v\", \"type\": \"histogram\", \"x\": [-0.42790688434940893, 1.1023212831129967, 1.1887901480514325, 1.0732111845425714, -0.36657365759249483, -0.5656473349592283, -0.052425381012257515, 1.1967973487129693, -1.9204162179742734, 0.49499173286988396, 0.03177713886948559, 2.0395208180242643, -0.43859191833447764, 1.4803364226090499, 0.12666444902249152, -1.649742282114302, 0.5870377856553117, 2.2710802059818387, -0.30189613702080215, -0.7473224975631962, -1.900915231301534, -0.3708915752256786, -0.6999856013421171, -2.0196320119393696, 0.21564852508540636, -0.33120503933020584, -0.41383604470641094, -0.47804860178887726, -0.7092972940284749, 0.5778318584490235, -0.4101017143331438, -0.5352139410516578, -0.7862257663300574, 0.6939896876836772, 0.5326883503544092, 1.5131372743263152, 0.4166429553616738, 0.2528413795800169, -0.855163816308513, -0.14730575159544035, 0.28800779576442737, -1.4143330241262138, -0.1499239941006353, 1.007051705598499, 0.7490749925322414, -1.426002197503157, -1.279040263458639, -2.154585408397387, 0.9533137961235957, -1.175672610090137, 1.4978861553591707, 1.4435405003817126, 0.16563658417772678, -0.6623006604152534, -0.49891553469198524, 1.9747739497342782, 0.10501534948661304, 0.14056313980420468, -2.002254240703674, 0.7190327472356344, -0.881783930208081, 0.25366385499380195, -0.5874379416344943, -1.6289419914202181, 0.8301884314766689, 0.7747392373953594, -0.6875231198482459, 0.12024538466383536, 1.3670594450102325, 0.5827452306838281, -0.530278447900754, 0.05614891806237901, 0.7790080419810892, 1.446161850152793, 0.1404383743784033, -1.276468775850176, -1.2232777640277335, -1.0818283123154933, 1.2036621750038603, 0.10999185836379068, -1.1292034967068854, -1.4838806863523342, 0.7118756638641246, -0.5259681147027214, 0.3274831050418921, -0.8385036986314343, -0.1876452907738252, -0.48443317356575794, -0.06461280053411844, -1.1236064929290808, 0.8555082423265195, 1.3065424209543985, 0.07851453225301613, 0.4895930528339927, 0.28602019675591833, -0.9257653387478679, 0.02203108690296603, -0.5784050702216772, 0.5342364290101148, 0.07580009014358847], \"xaxis\": \"x6\", \"yaxis\": \"y6\"}, {\"line\": {\"color\": \"rgba(128, 128, 128, 1.0)\", \"dash\": \"solid\", \"shape\": \"linear\", \"width\": 1.3}, \"marker\": {\"size\": 2, \"symbol\": \"circle\"}, \"mode\": \"markers\", \"name\": \"B\", \"text\": \"\", \"type\": \"scatter\", \"x\": [0.4013694609466367, 0.47918402807881155, -0.42016852086149753, 1.5337189926126906, 1.3692304382751603, -0.3168641694521636, 2.692429089468827, -0.6652237765776419, 1.4443366018163644, -0.6514708194267461, 1.45256913444164, 0.023667405688731085, 0.953494686532997, 0.6841691448345603, 1.457020988275902, -1.3221074877330492, -0.5568555380425787, -0.8338105899157492, -1.273316700006224, 2.1310179421500757, -0.790810333337568, -0.6147579795903965, 0.4863445340914847, -1.3868066791554745, 1.0260345270013729, -0.0027815353979401256, -0.49918215638661734, 0.0038705357634394185, 0.7141127100951283, -0.5986985110230264, 0.7421629754860158, 0.4364953891662601, 1.477689611629932, -0.823104905283714, -0.7279646980891549, 0.7139429087481839, -1.433892260560694, -0.2852460426280975, -0.29322710064580976, 0.2648298911530672, -0.8344790095451745, -0.6257954442101381, -0.8979270742708928, -1.0627054958827784, 0.14682007448296913, 0.3369887765375471, 0.9010835351649243, 0.13666041907777177, -0.8585298051678452, 1.3697422241654644, 1.0680204614831375, -1.5531807082563662, 1.1143656673797777, 0.2652399971862241, -0.11323452807453596, 0.5351022895127286, -0.6359446982698095, -0.9700437730501994, 1.2159581898575078, 0.1313959814287452, 1.531513094989766, -0.4294253647798791, -0.8233822177687363, 0.8268188128873591, 0.07757679838976207, 0.7543081593642519, 0.9067799533272407, 1.1551702177814234, -1.0918330003663343, -1.0415833666768308, 2.3868791906968725, -0.4460471077300906, 0.9335229422900791, -2.0147781854982334, 0.07518616784451551, 0.6130296924816733, -0.6191733399077277, -1.1108889862270899, 1.0502540811913292, 0.9419672506611048, -0.3229204045492647, -0.15118050576790337, 1.87169656007912, -0.5935431095998885, -0.612748189828855, -0.8457209641384387, 1.0241174971534497, 0.1825103841436704, 0.46711500740492334, 0.35750506885609434, 0.03665200766281884, -0.4628535307444767, -0.09591576139526112, 1.0693530820311394, 1.1477702354954502, -0.22770298244346562, -0.8069211019531929, -0.28549790959366456, -1.2310405363296488, 0.13029019673645767], \"xaxis\": \"x7\", \"y\": [-0.42790688434940893, 1.1023212831129967, 1.1887901480514325, 1.0732111845425714, -0.36657365759249483, -0.5656473349592283, -0.052425381012257515, 1.1967973487129693, -1.9204162179742734, 0.49499173286988396, 0.03177713886948559, 2.0395208180242643, -0.43859191833447764, 1.4803364226090499, 0.12666444902249152, -1.649742282114302, 0.5870377856553117, 2.2710802059818387, -0.30189613702080215, -0.7473224975631962, -1.900915231301534, -0.3708915752256786, -0.6999856013421171, -2.0196320119393696, 0.21564852508540636, -0.33120503933020584, -0.41383604470641094, -0.47804860178887726, -0.7092972940284749, 0.5778318584490235, -0.4101017143331438, -0.5352139410516578, -0.7862257663300574, 0.6939896876836772, 0.5326883503544092, 1.5131372743263152, 0.4166429553616738, 0.2528413795800169, -0.855163816308513, -0.14730575159544035, 0.28800779576442737, -1.4143330241262138, -0.1499239941006353, 1.007051705598499, 0.7490749925322414, -1.426002197503157, -1.279040263458639, -2.154585408397387, 0.9533137961235957, -1.175672610090137, 1.4978861553591707, 1.4435405003817126, 0.16563658417772678, -0.6623006604152534, -0.49891553469198524, 1.9747739497342782, 0.10501534948661304, 0.14056313980420468, -2.002254240703674, 0.7190327472356344, -0.881783930208081, 0.25366385499380195, -0.5874379416344943, -1.6289419914202181, 0.8301884314766689, 0.7747392373953594, -0.6875231198482459, 0.12024538466383536, 1.3670594450102325, 0.5827452306838281, -0.530278447900754, 0.05614891806237901, 0.7790080419810892, 1.446161850152793, 0.1404383743784033, -1.276468775850176, -1.2232777640277335, -1.0818283123154933, 1.2036621750038603, 0.10999185836379068, -1.1292034967068854, -1.4838806863523342, 0.7118756638641246, -0.5259681147027214, 0.3274831050418921, -0.8385036986314343, -0.1876452907738252, -0.48443317356575794, -0.06461280053411844, -1.1236064929290808, 0.8555082423265195, 1.3065424209543985, 0.07851453225301613, 0.4895930528339927, 0.28602019675591833, -0.9257653387478679, 0.02203108690296603, -0.5784050702216772, 0.5342364290101148, 0.07580009014358847], \"yaxis\": \"y7\"}, {\"line\": {\"color\": \"rgba(128, 128, 128, 1.0)\", \"dash\": \"solid\", \"shape\": \"linear\", \"width\": 1.3}, \"marker\": {\"size\": 2, \"symbol\": \"circle\"}, \"mode\": \"markers\", \"name\": \"B\", \"text\": \"\", \"type\": \"scatter\", \"x\": [-0.7203762912595594, -1.6050089831119205, 3.007762996295736, 0.1733995978267144, 0.2504646108312079, -0.07130292333757249, -0.3550444916446761, -0.9000545911117473, 0.3250395493676486, -0.3976028525195338, -0.843406131024096, 1.0809587540023515, 1.1678004312633128, -0.0493650327231605, -0.09207617219955272, 1.26651488109588, -0.41539895178365305, 1.5481858903886139, -1.701828256459534, 0.40381342663461345, 1.1302664422386104, 0.7696868674361801, 1.40355248058713, 0.8483601170109333, -0.7920806453711708, -0.08348691490384501, 0.21518816306210514, 1.6122209167752783, 0.7637133361772442, -0.5641857474393002, 0.15987423176818513, 0.5304508625131966, -0.4667921723851996, -0.022061316959858874, -0.9100857813466896, -0.9242559515150672, -0.372818248607995, 1.325603529635037, 0.8575063466509635, 0.36643935671150507, -1.3461851756109922, 0.9980013915690534, 0.6692254966922532, -1.2212442484388222, -1.8812972718926764, 1.9180318585597222, -1.3776993606827088, 0.8548976802386279, 1.9758395506859114, -0.9690094140539778, 1.0201402369292452, -0.07815768961091717, 0.6741049041804277, 0.7661815240719574, -0.6164371057442412, 0.08863255880530042, 1.7779922543607076, 0.31825462054177894, -0.09873914042333422, 0.19360654491978155, -0.204012527431161, 0.1461476076760226, -0.24299670570853538, 0.5483020249916255, -0.5149665212599834, -0.6860956795972244, 0.3175799790618004, 0.5398715147459157, 0.08388696203953451, 0.40689649801470273, -2.0843800588334913, -1.0847863223719147, 0.11031111563988295, 0.7516182882774625, 0.6368272464532464, -1.4554386348105055, -0.7366387640992695, -0.7495234920610955, -0.7980672470637358, -0.1926295926019785, -0.09414185211424955, 1.0299763429324347, 0.8000816201238704, 0.11939010004759178, -0.43753599226913814, -0.7326535395151343, -1.422964340599728, 0.21669205016497914, -0.1277208527681951, -0.7010962368833163, 0.9425570075717837, -1.261296669024147, 1.2154295835099995, 0.5874723176947764, -0.29039099909376886, -1.2206280708578845, -0.543946901517839, -0.4060673045471729, 0.42940524362239696, 0.8943986601433543], \"xaxis\": \"x8\", \"y\": [-0.42790688434940893, 1.1023212831129967, 1.1887901480514325, 1.0732111845425714, -0.36657365759249483, -0.5656473349592283, -0.052425381012257515, 1.1967973487129693, -1.9204162179742734, 0.49499173286988396, 0.03177713886948559, 2.0395208180242643, -0.43859191833447764, 1.4803364226090499, 0.12666444902249152, -1.649742282114302, 0.5870377856553117, 2.2710802059818387, -0.30189613702080215, -0.7473224975631962, -1.900915231301534, -0.3708915752256786, -0.6999856013421171, -2.0196320119393696, 0.21564852508540636, -0.33120503933020584, -0.41383604470641094, -0.47804860178887726, -0.7092972940284749, 0.5778318584490235, -0.4101017143331438, -0.5352139410516578, -0.7862257663300574, 0.6939896876836772, 0.5326883503544092, 1.5131372743263152, 0.4166429553616738, 0.2528413795800169, -0.855163816308513, -0.14730575159544035, 0.28800779576442737, -1.4143330241262138, -0.1499239941006353, 1.007051705598499, 0.7490749925322414, -1.426002197503157, -1.279040263458639, -2.154585408397387, 0.9533137961235957, -1.175672610090137, 1.4978861553591707, 1.4435405003817126, 0.16563658417772678, -0.6623006604152534, -0.49891553469198524, 1.9747739497342782, 0.10501534948661304, 0.14056313980420468, -2.002254240703674, 0.7190327472356344, -0.881783930208081, 0.25366385499380195, -0.5874379416344943, -1.6289419914202181, 0.8301884314766689, 0.7747392373953594, -0.6875231198482459, 0.12024538466383536, 1.3670594450102325, 0.5827452306838281, -0.530278447900754, 0.05614891806237901, 0.7790080419810892, 1.446161850152793, 0.1404383743784033, -1.276468775850176, -1.2232777640277335, -1.0818283123154933, 1.2036621750038603, 0.10999185836379068, -1.1292034967068854, -1.4838806863523342, 0.7118756638641246, -0.5259681147027214, 0.3274831050418921, -0.8385036986314343, -0.1876452907738252, -0.48443317356575794, -0.06461280053411844, -1.1236064929290808, 0.8555082423265195, 1.3065424209543985, 0.07851453225301613, 0.4895930528339927, 0.28602019675591833, -0.9257653387478679, 0.02203108690296603, -0.5784050702216772, 0.5342364290101148, 0.07580009014358847], \"yaxis\": \"y8\"}, {\"line\": {\"color\": \"rgba(128, 128, 128, 1.0)\", \"dash\": \"solid\", \"shape\": \"linear\", \"width\": 1.3}, \"marker\": {\"size\": 2, \"symbol\": \"circle\"}, \"mode\": \"markers\", \"name\": \"C\", \"text\": \"\", \"type\": \"scatter\", \"x\": [1.940291908011102, -0.43602033128621526, -0.48460214045660277, -1.0240471641424937, 0.07834813558886017, -0.03664652387595461, -0.3129739035091516, -2.334547594397871, 1.8228858929130831, 1.5711886392255132, -2.364881578802697, 1.4616947574353703, -0.4987309829110831, 1.5617852729463797, 0.27096936324438226, -0.6303478616043724, -1.5081522475000202, 1.7029399159062886, -0.5595680928927093, -1.2503555447771197, 0.8046047778907405, -0.8662211973605952, 0.5836035330903515, -1.6882300309849554, 0.5249023960622097, 0.8738634367385915, -0.7011217630000545, -0.11281811880033381, 1.9132226852451233, 0.21515592223039476, -1.5250854327856227, -0.1590202944556442, -0.4527591510178096, -1.1110076710922145, -0.9041890618466469, -1.05375893360304, 0.45947755704608234, 0.4151947410799361, -1.4538365237286752, -0.5787259904446689, 1.0876123636309982, -0.256605975290541, 0.13329166285795085, -0.9077772592137843, 0.03249663834892144, 1.0142902752121234, -0.3344369309963581, -0.09121153691247674, -0.40669721394299546, 0.02744157623740808, -1.5452805971626824, -1.3511169562269885, 0.01158109319398306, -0.9149503343075752, -1.1025417006876994, -0.5048494637049264, -0.2567919047639987, 0.01093619218693575, -0.1356930776970061, 0.10026165369166105, 1.1717276766409668, -0.6434971360362067, 0.34067344818628176, 0.8863816354805312, -0.10132359942293251, 0.07605559055080867, -0.6913446582930974, -1.2920514173129505, -1.3009741161906287, 1.2876633447677763, -1.4445628899407343, 0.259865688457576, 1.8478838525077084, -0.41108510928550895, 0.2893624467427053, 0.748614342294359, 0.9263547679541281, 0.635161754847521, 0.28256247565135617, 1.5126383882427301, -0.7632724161850403, -0.2983928325770369, 0.37300270064839636, 1.0871880926061648, 2.6572202224944146, -1.9722183777917304, 0.18564568416487742, -0.9814354534461059, -0.5474587763161223, 0.03598568118577001, -0.23166847854919972, -1.1346148101716846, -0.9036756738680616, -0.0404909774929333, -0.7164950094764136, -0.06435143860746836, -0.07591268221618847, -0.5296157564584758, 0.2931309732891985, -0.1006868486366963], \"xaxis\": \"x9\", \"y\": [0.4013694609466367, 0.47918402807881155, -0.42016852086149753, 1.5337189926126906, 1.3692304382751603, -0.3168641694521636, 2.692429089468827, -0.6652237765776419, 1.4443366018163644, -0.6514708194267461, 1.45256913444164, 0.023667405688731085, 0.953494686532997, 0.6841691448345603, 1.457020988275902, -1.3221074877330492, -0.5568555380425787, -0.8338105899157492, -1.273316700006224, 2.1310179421500757, -0.790810333337568, -0.6147579795903965, 0.4863445340914847, -1.3868066791554745, 1.0260345270013729, -0.0027815353979401256, -0.49918215638661734, 0.0038705357634394185, 0.7141127100951283, -0.5986985110230264, 0.7421629754860158, 0.4364953891662601, 1.477689611629932, -0.823104905283714, -0.7279646980891549, 0.7139429087481839, -1.433892260560694, -0.2852460426280975, -0.29322710064580976, 0.2648298911530672, -0.8344790095451745, -0.6257954442101381, -0.8979270742708928, -1.0627054958827784, 0.14682007448296913, 0.3369887765375471, 0.9010835351649243, 0.13666041907777177, -0.8585298051678452, 1.3697422241654644, 1.0680204614831375, -1.5531807082563662, 1.1143656673797777, 0.2652399971862241, -0.11323452807453596, 0.5351022895127286, -0.6359446982698095, -0.9700437730501994, 1.2159581898575078, 0.1313959814287452, 1.531513094989766, -0.4294253647798791, -0.8233822177687363, 0.8268188128873591, 0.07757679838976207, 0.7543081593642519, 0.9067799533272407, 1.1551702177814234, -1.0918330003663343, -1.0415833666768308, 2.3868791906968725, -0.4460471077300906, 0.9335229422900791, -2.0147781854982334, 0.07518616784451551, 0.6130296924816733, -0.6191733399077277, -1.1108889862270899, 1.0502540811913292, 0.9419672506611048, -0.3229204045492647, -0.15118050576790337, 1.87169656007912, -0.5935431095998885, -0.612748189828855, -0.8457209641384387, 1.0241174971534497, 0.1825103841436704, 0.46711500740492334, 0.35750506885609434, 0.03665200766281884, -0.4628535307444767, -0.09591576139526112, 1.0693530820311394, 1.1477702354954502, -0.22770298244346562, -0.8069211019531929, -0.28549790959366456, -1.2310405363296488, 0.13029019673645767], \"yaxis\": \"y9\"}, {\"line\": {\"color\": \"rgba(128, 128, 128, 1.0)\", \"dash\": \"solid\", \"shape\": \"linear\", \"width\": 1.3}, \"marker\": {\"size\": 2, \"symbol\": \"circle\"}, \"mode\": \"markers\", \"name\": \"C\", \"text\": \"\", \"type\": \"scatter\", \"x\": [-0.42790688434940893, 1.1023212831129967, 1.1887901480514325, 1.0732111845425714, -0.36657365759249483, -0.5656473349592283, -0.052425381012257515, 1.1967973487129693, -1.9204162179742734, 0.49499173286988396, 0.03177713886948559, 2.0395208180242643, -0.43859191833447764, 1.4803364226090499, 0.12666444902249152, -1.649742282114302, 0.5870377856553117, 2.2710802059818387, -0.30189613702080215, -0.7473224975631962, -1.900915231301534, -0.3708915752256786, -0.6999856013421171, -2.0196320119393696, 0.21564852508540636, -0.33120503933020584, -0.41383604470641094, -0.47804860178887726, -0.7092972940284749, 0.5778318584490235, -0.4101017143331438, -0.5352139410516578, -0.7862257663300574, 0.6939896876836772, 0.5326883503544092, 1.5131372743263152, 0.4166429553616738, 0.2528413795800169, -0.855163816308513, -0.14730575159544035, 0.28800779576442737, -1.4143330241262138, -0.1499239941006353, 1.007051705598499, 0.7490749925322414, -1.426002197503157, -1.279040263458639, -2.154585408397387, 0.9533137961235957, -1.175672610090137, 1.4978861553591707, 1.4435405003817126, 0.16563658417772678, -0.6623006604152534, -0.49891553469198524, 1.9747739497342782, 0.10501534948661304, 0.14056313980420468, -2.002254240703674, 0.7190327472356344, -0.881783930208081, 0.25366385499380195, -0.5874379416344943, -1.6289419914202181, 0.8301884314766689, 0.7747392373953594, -0.6875231198482459, 0.12024538466383536, 1.3670594450102325, 0.5827452306838281, -0.530278447900754, 0.05614891806237901, 0.7790080419810892, 1.446161850152793, 0.1404383743784033, -1.276468775850176, -1.2232777640277335, -1.0818283123154933, 1.2036621750038603, 0.10999185836379068, -1.1292034967068854, -1.4838806863523342, 0.7118756638641246, -0.5259681147027214, 0.3274831050418921, -0.8385036986314343, -0.1876452907738252, -0.48443317356575794, -0.06461280053411844, -1.1236064929290808, 0.8555082423265195, 1.3065424209543985, 0.07851453225301613, 0.4895930528339927, 0.28602019675591833, -0.9257653387478679, 0.02203108690296603, -0.5784050702216772, 0.5342364290101148, 0.07580009014358847], \"xaxis\": \"x10\", \"y\": [0.4013694609466367, 0.47918402807881155, -0.42016852086149753, 1.5337189926126906, 1.3692304382751603, -0.3168641694521636, 2.692429089468827, -0.6652237765776419, 1.4443366018163644, -0.6514708194267461, 1.45256913444164, 0.023667405688731085, 0.953494686532997, 0.6841691448345603, 1.457020988275902, -1.3221074877330492, -0.5568555380425787, -0.8338105899157492, -1.273316700006224, 2.1310179421500757, -0.790810333337568, -0.6147579795903965, 0.4863445340914847, -1.3868066791554745, 1.0260345270013729, -0.0027815353979401256, -0.49918215638661734, 0.0038705357634394185, 0.7141127100951283, -0.5986985110230264, 0.7421629754860158, 0.4364953891662601, 1.477689611629932, -0.823104905283714, -0.7279646980891549, 0.7139429087481839, -1.433892260560694, -0.2852460426280975, -0.29322710064580976, 0.2648298911530672, -0.8344790095451745, -0.6257954442101381, -0.8979270742708928, -1.0627054958827784, 0.14682007448296913, 0.3369887765375471, 0.9010835351649243, 0.13666041907777177, -0.8585298051678452, 1.3697422241654644, 1.0680204614831375, -1.5531807082563662, 1.1143656673797777, 0.2652399971862241, -0.11323452807453596, 0.5351022895127286, -0.6359446982698095, -0.9700437730501994, 1.2159581898575078, 0.1313959814287452, 1.531513094989766, -0.4294253647798791, -0.8233822177687363, 0.8268188128873591, 0.07757679838976207, 0.7543081593642519, 0.9067799533272407, 1.1551702177814234, -1.0918330003663343, -1.0415833666768308, 2.3868791906968725, -0.4460471077300906, 0.9335229422900791, -2.0147781854982334, 0.07518616784451551, 0.6130296924816733, -0.6191733399077277, -1.1108889862270899, 1.0502540811913292, 0.9419672506611048, -0.3229204045492647, -0.15118050576790337, 1.87169656007912, -0.5935431095998885, -0.612748189828855, -0.8457209641384387, 1.0241174971534497, 0.1825103841436704, 0.46711500740492334, 0.35750506885609434, 0.03665200766281884, -0.4628535307444767, -0.09591576139526112, 1.0693530820311394, 1.1477702354954502, -0.22770298244346562, -0.8069211019531929, -0.28549790959366456, -1.2310405363296488, 0.13029019673645767], \"yaxis\": \"y10\"}, {\"histfunc\": \"count\", \"histnorm\": \"\", \"marker\": {\"color\": \"rgba(50, 171, 96, 1.0)\", \"line\": {\"color\": \"#4D5663\", \"width\": 1.3}}, \"name\": \"C\", \"nbinsx\": 10, \"opacity\": 0.8, \"orientation\": \"v\", \"type\": \"histogram\", \"x\": [0.4013694609466367, 0.47918402807881155, -0.42016852086149753, 1.5337189926126906, 1.3692304382751603, -0.3168641694521636, 2.692429089468827, -0.6652237765776419, 1.4443366018163644, -0.6514708194267461, 1.45256913444164, 0.023667405688731085, 0.953494686532997, 0.6841691448345603, 1.457020988275902, -1.3221074877330492, -0.5568555380425787, -0.8338105899157492, -1.273316700006224, 2.1310179421500757, -0.790810333337568, -0.6147579795903965, 0.4863445340914847, -1.3868066791554745, 1.0260345270013729, -0.0027815353979401256, -0.49918215638661734, 0.0038705357634394185, 0.7141127100951283, -0.5986985110230264, 0.7421629754860158, 0.4364953891662601, 1.477689611629932, -0.823104905283714, -0.7279646980891549, 0.7139429087481839, -1.433892260560694, -0.2852460426280975, -0.29322710064580976, 0.2648298911530672, -0.8344790095451745, -0.6257954442101381, -0.8979270742708928, -1.0627054958827784, 0.14682007448296913, 0.3369887765375471, 0.9010835351649243, 0.13666041907777177, -0.8585298051678452, 1.3697422241654644, 1.0680204614831375, -1.5531807082563662, 1.1143656673797777, 0.2652399971862241, -0.11323452807453596, 0.5351022895127286, -0.6359446982698095, -0.9700437730501994, 1.2159581898575078, 0.1313959814287452, 1.531513094989766, -0.4294253647798791, -0.8233822177687363, 0.8268188128873591, 0.07757679838976207, 0.7543081593642519, 0.9067799533272407, 1.1551702177814234, -1.0918330003663343, -1.0415833666768308, 2.3868791906968725, -0.4460471077300906, 0.9335229422900791, -2.0147781854982334, 0.07518616784451551, 0.6130296924816733, -0.6191733399077277, -1.1108889862270899, 1.0502540811913292, 0.9419672506611048, -0.3229204045492647, -0.15118050576790337, 1.87169656007912, -0.5935431095998885, -0.612748189828855, -0.8457209641384387, 1.0241174971534497, 0.1825103841436704, 0.46711500740492334, 0.35750506885609434, 0.03665200766281884, -0.4628535307444767, -0.09591576139526112, 1.0693530820311394, 1.1477702354954502, -0.22770298244346562, -0.8069211019531929, -0.28549790959366456, -1.2310405363296488, 0.13029019673645767], \"xaxis\": \"x11\", \"yaxis\": \"y11\"}, {\"line\": {\"color\": \"rgba(128, 128, 128, 1.0)\", \"dash\": \"solid\", \"shape\": \"linear\", \"width\": 1.3}, \"marker\": {\"size\": 2, \"symbol\": \"circle\"}, \"mode\": \"markers\", \"name\": \"C\", \"text\": \"\", \"type\": \"scatter\", \"x\": [-0.7203762912595594, -1.6050089831119205, 3.007762996295736, 0.1733995978267144, 0.2504646108312079, -0.07130292333757249, -0.3550444916446761, -0.9000545911117473, 0.3250395493676486, -0.3976028525195338, -0.843406131024096, 1.0809587540023515, 1.1678004312633128, -0.0493650327231605, -0.09207617219955272, 1.26651488109588, -0.41539895178365305, 1.5481858903886139, -1.701828256459534, 0.40381342663461345, 1.1302664422386104, 0.7696868674361801, 1.40355248058713, 0.8483601170109333, -0.7920806453711708, -0.08348691490384501, 0.21518816306210514, 1.6122209167752783, 0.7637133361772442, -0.5641857474393002, 0.15987423176818513, 0.5304508625131966, -0.4667921723851996, -0.022061316959858874, -0.9100857813466896, -0.9242559515150672, -0.372818248607995, 1.325603529635037, 0.8575063466509635, 0.36643935671150507, -1.3461851756109922, 0.9980013915690534, 0.6692254966922532, -1.2212442484388222, -1.8812972718926764, 1.9180318585597222, -1.3776993606827088, 0.8548976802386279, 1.9758395506859114, -0.9690094140539778, 1.0201402369292452, -0.07815768961091717, 0.6741049041804277, 0.7661815240719574, -0.6164371057442412, 0.08863255880530042, 1.7779922543607076, 0.31825462054177894, -0.09873914042333422, 0.19360654491978155, -0.204012527431161, 0.1461476076760226, -0.24299670570853538, 0.5483020249916255, -0.5149665212599834, -0.6860956795972244, 0.3175799790618004, 0.5398715147459157, 0.08388696203953451, 0.40689649801470273, -2.0843800588334913, -1.0847863223719147, 0.11031111563988295, 0.7516182882774625, 0.6368272464532464, -1.4554386348105055, -0.7366387640992695, -0.7495234920610955, -0.7980672470637358, -0.1926295926019785, -0.09414185211424955, 1.0299763429324347, 0.8000816201238704, 0.11939010004759178, -0.43753599226913814, -0.7326535395151343, -1.422964340599728, 0.21669205016497914, -0.1277208527681951, -0.7010962368833163, 0.9425570075717837, -1.261296669024147, 1.2154295835099995, 0.5874723176947764, -0.29039099909376886, -1.2206280708578845, -0.543946901517839, -0.4060673045471729, 0.42940524362239696, 0.8943986601433543], \"xaxis\": \"x12\", \"y\": [0.4013694609466367, 0.47918402807881155, -0.42016852086149753, 1.5337189926126906, 1.3692304382751603, -0.3168641694521636, 2.692429089468827, -0.6652237765776419, 1.4443366018163644, -0.6514708194267461, 1.45256913444164, 0.023667405688731085, 0.953494686532997, 0.6841691448345603, 1.457020988275902, -1.3221074877330492, -0.5568555380425787, -0.8338105899157492, -1.273316700006224, 2.1310179421500757, -0.790810333337568, -0.6147579795903965, 0.4863445340914847, -1.3868066791554745, 1.0260345270013729, -0.0027815353979401256, -0.49918215638661734, 0.0038705357634394185, 0.7141127100951283, -0.5986985110230264, 0.7421629754860158, 0.4364953891662601, 1.477689611629932, -0.823104905283714, -0.7279646980891549, 0.7139429087481839, -1.433892260560694, -0.2852460426280975, -0.29322710064580976, 0.2648298911530672, -0.8344790095451745, -0.6257954442101381, -0.8979270742708928, -1.0627054958827784, 0.14682007448296913, 0.3369887765375471, 0.9010835351649243, 0.13666041907777177, -0.8585298051678452, 1.3697422241654644, 1.0680204614831375, -1.5531807082563662, 1.1143656673797777, 0.2652399971862241, -0.11323452807453596, 0.5351022895127286, -0.6359446982698095, -0.9700437730501994, 1.2159581898575078, 0.1313959814287452, 1.531513094989766, -0.4294253647798791, -0.8233822177687363, 0.8268188128873591, 0.07757679838976207, 0.7543081593642519, 0.9067799533272407, 1.1551702177814234, -1.0918330003663343, -1.0415833666768308, 2.3868791906968725, -0.4460471077300906, 0.9335229422900791, -2.0147781854982334, 0.07518616784451551, 0.6130296924816733, -0.6191733399077277, -1.1108889862270899, 1.0502540811913292, 0.9419672506611048, -0.3229204045492647, -0.15118050576790337, 1.87169656007912, -0.5935431095998885, -0.612748189828855, -0.8457209641384387, 1.0241174971534497, 0.1825103841436704, 0.46711500740492334, 0.35750506885609434, 0.03665200766281884, -0.4628535307444767, -0.09591576139526112, 1.0693530820311394, 1.1477702354954502, -0.22770298244346562, -0.8069211019531929, -0.28549790959366456, -1.2310405363296488, 0.13029019673645767], \"yaxis\": \"y12\"}, {\"line\": {\"color\": \"rgba(128, 128, 128, 1.0)\", \"dash\": \"solid\", \"shape\": \"linear\", \"width\": 1.3}, \"marker\": {\"size\": 2, \"symbol\": \"circle\"}, \"mode\": \"markers\", \"name\": \"D\", \"text\": \"\", \"type\": \"scatter\", \"x\": [1.940291908011102, -0.43602033128621526, -0.48460214045660277, -1.0240471641424937, 0.07834813558886017, -0.03664652387595461, -0.3129739035091516, -2.334547594397871, 1.8228858929130831, 1.5711886392255132, -2.364881578802697, 1.4616947574353703, -0.4987309829110831, 1.5617852729463797, 0.27096936324438226, -0.6303478616043724, -1.5081522475000202, 1.7029399159062886, -0.5595680928927093, -1.2503555447771197, 0.8046047778907405, -0.8662211973605952, 0.5836035330903515, -1.6882300309849554, 0.5249023960622097, 0.8738634367385915, -0.7011217630000545, -0.11281811880033381, 1.9132226852451233, 0.21515592223039476, -1.5250854327856227, -0.1590202944556442, -0.4527591510178096, -1.1110076710922145, -0.9041890618466469, -1.05375893360304, 0.45947755704608234, 0.4151947410799361, -1.4538365237286752, -0.5787259904446689, 1.0876123636309982, -0.256605975290541, 0.13329166285795085, -0.9077772592137843, 0.03249663834892144, 1.0142902752121234, -0.3344369309963581, -0.09121153691247674, -0.40669721394299546, 0.02744157623740808, -1.5452805971626824, -1.3511169562269885, 0.01158109319398306, -0.9149503343075752, -1.1025417006876994, -0.5048494637049264, -0.2567919047639987, 0.01093619218693575, -0.1356930776970061, 0.10026165369166105, 1.1717276766409668, -0.6434971360362067, 0.34067344818628176, 0.8863816354805312, -0.10132359942293251, 0.07605559055080867, -0.6913446582930974, -1.2920514173129505, -1.3009741161906287, 1.2876633447677763, -1.4445628899407343, 0.259865688457576, 1.8478838525077084, -0.41108510928550895, 0.2893624467427053, 0.748614342294359, 0.9263547679541281, 0.635161754847521, 0.28256247565135617, 1.5126383882427301, -0.7632724161850403, -0.2983928325770369, 0.37300270064839636, 1.0871880926061648, 2.6572202224944146, -1.9722183777917304, 0.18564568416487742, -0.9814354534461059, -0.5474587763161223, 0.03598568118577001, -0.23166847854919972, -1.1346148101716846, -0.9036756738680616, -0.0404909774929333, -0.7164950094764136, -0.06435143860746836, -0.07591268221618847, -0.5296157564584758, 0.2931309732891985, -0.1006868486366963], \"xaxis\": \"x13\", \"y\": [-0.7203762912595594, -1.6050089831119205, 3.007762996295736, 0.1733995978267144, 0.2504646108312079, -0.07130292333757249, -0.3550444916446761, -0.9000545911117473, 0.3250395493676486, -0.3976028525195338, -0.843406131024096, 1.0809587540023515, 1.1678004312633128, -0.0493650327231605, -0.09207617219955272, 1.26651488109588, -0.41539895178365305, 1.5481858903886139, -1.701828256459534, 0.40381342663461345, 1.1302664422386104, 0.7696868674361801, 1.40355248058713, 0.8483601170109333, -0.7920806453711708, -0.08348691490384501, 0.21518816306210514, 1.6122209167752783, 0.7637133361772442, -0.5641857474393002, 0.15987423176818513, 0.5304508625131966, -0.4667921723851996, -0.022061316959858874, -0.9100857813466896, -0.9242559515150672, -0.372818248607995, 1.325603529635037, 0.8575063466509635, 0.36643935671150507, -1.3461851756109922, 0.9980013915690534, 0.6692254966922532, -1.2212442484388222, -1.8812972718926764, 1.9180318585597222, -1.3776993606827088, 0.8548976802386279, 1.9758395506859114, -0.9690094140539778, 1.0201402369292452, -0.07815768961091717, 0.6741049041804277, 0.7661815240719574, -0.6164371057442412, 0.08863255880530042, 1.7779922543607076, 0.31825462054177894, -0.09873914042333422, 0.19360654491978155, -0.204012527431161, 0.1461476076760226, -0.24299670570853538, 0.5483020249916255, -0.5149665212599834, -0.6860956795972244, 0.3175799790618004, 0.5398715147459157, 0.08388696203953451, 0.40689649801470273, -2.0843800588334913, -1.0847863223719147, 0.11031111563988295, 0.7516182882774625, 0.6368272464532464, -1.4554386348105055, -0.7366387640992695, -0.7495234920610955, -0.7980672470637358, -0.1926295926019785, -0.09414185211424955, 1.0299763429324347, 0.8000816201238704, 0.11939010004759178, -0.43753599226913814, -0.7326535395151343, -1.422964340599728, 0.21669205016497914, -0.1277208527681951, -0.7010962368833163, 0.9425570075717837, -1.261296669024147, 1.2154295835099995, 0.5874723176947764, -0.29039099909376886, -1.2206280708578845, -0.543946901517839, -0.4060673045471729, 0.42940524362239696, 0.8943986601433543], \"yaxis\": \"y13\"}, {\"line\": {\"color\": \"rgba(128, 128, 128, 1.0)\", \"dash\": \"solid\", \"shape\": \"linear\", \"width\": 1.3}, \"marker\": {\"size\": 2, \"symbol\": \"circle\"}, \"mode\": \"markers\", \"name\": \"D\", \"text\": \"\", \"type\": \"scatter\", \"x\": [-0.42790688434940893, 1.1023212831129967, 1.1887901480514325, 1.0732111845425714, -0.36657365759249483, -0.5656473349592283, -0.052425381012257515, 1.1967973487129693, -1.9204162179742734, 0.49499173286988396, 0.03177713886948559, 2.0395208180242643, -0.43859191833447764, 1.4803364226090499, 0.12666444902249152, -1.649742282114302, 0.5870377856553117, 2.2710802059818387, -0.30189613702080215, -0.7473224975631962, -1.900915231301534, -0.3708915752256786, -0.6999856013421171, -2.0196320119393696, 0.21564852508540636, -0.33120503933020584, -0.41383604470641094, -0.47804860178887726, -0.7092972940284749, 0.5778318584490235, -0.4101017143331438, -0.5352139410516578, -0.7862257663300574, 0.6939896876836772, 0.5326883503544092, 1.5131372743263152, 0.4166429553616738, 0.2528413795800169, -0.855163816308513, -0.14730575159544035, 0.28800779576442737, -1.4143330241262138, -0.1499239941006353, 1.007051705598499, 0.7490749925322414, -1.426002197503157, -1.279040263458639, -2.154585408397387, 0.9533137961235957, -1.175672610090137, 1.4978861553591707, 1.4435405003817126, 0.16563658417772678, -0.6623006604152534, -0.49891553469198524, 1.9747739497342782, 0.10501534948661304, 0.14056313980420468, -2.002254240703674, 0.7190327472356344, -0.881783930208081, 0.25366385499380195, -0.5874379416344943, -1.6289419914202181, 0.8301884314766689, 0.7747392373953594, -0.6875231198482459, 0.12024538466383536, 1.3670594450102325, 0.5827452306838281, -0.530278447900754, 0.05614891806237901, 0.7790080419810892, 1.446161850152793, 0.1404383743784033, -1.276468775850176, -1.2232777640277335, -1.0818283123154933, 1.2036621750038603, 0.10999185836379068, -1.1292034967068854, -1.4838806863523342, 0.7118756638641246, -0.5259681147027214, 0.3274831050418921, -0.8385036986314343, -0.1876452907738252, -0.48443317356575794, -0.06461280053411844, -1.1236064929290808, 0.8555082423265195, 1.3065424209543985, 0.07851453225301613, 0.4895930528339927, 0.28602019675591833, -0.9257653387478679, 0.02203108690296603, -0.5784050702216772, 0.5342364290101148, 0.07580009014358847], \"xaxis\": \"x14\", \"y\": [-0.7203762912595594, -1.6050089831119205, 3.007762996295736, 0.1733995978267144, 0.2504646108312079, -0.07130292333757249, -0.3550444916446761, -0.9000545911117473, 0.3250395493676486, -0.3976028525195338, -0.843406131024096, 1.0809587540023515, 1.1678004312633128, -0.0493650327231605, -0.09207617219955272, 1.26651488109588, -0.41539895178365305, 1.5481858903886139, -1.701828256459534, 0.40381342663461345, 1.1302664422386104, 0.7696868674361801, 1.40355248058713, 0.8483601170109333, -0.7920806453711708, -0.08348691490384501, 0.21518816306210514, 1.6122209167752783, 0.7637133361772442, -0.5641857474393002, 0.15987423176818513, 0.5304508625131966, -0.4667921723851996, -0.022061316959858874, -0.9100857813466896, -0.9242559515150672, -0.372818248607995, 1.325603529635037, 0.8575063466509635, 0.36643935671150507, -1.3461851756109922, 0.9980013915690534, 0.6692254966922532, -1.2212442484388222, -1.8812972718926764, 1.9180318585597222, -1.3776993606827088, 0.8548976802386279, 1.9758395506859114, -0.9690094140539778, 1.0201402369292452, -0.07815768961091717, 0.6741049041804277, 0.7661815240719574, -0.6164371057442412, 0.08863255880530042, 1.7779922543607076, 0.31825462054177894, -0.09873914042333422, 0.19360654491978155, -0.204012527431161, 0.1461476076760226, -0.24299670570853538, 0.5483020249916255, -0.5149665212599834, -0.6860956795972244, 0.3175799790618004, 0.5398715147459157, 0.08388696203953451, 0.40689649801470273, -2.0843800588334913, -1.0847863223719147, 0.11031111563988295, 0.7516182882774625, 0.6368272464532464, -1.4554386348105055, -0.7366387640992695, -0.7495234920610955, -0.7980672470637358, -0.1926295926019785, -0.09414185211424955, 1.0299763429324347, 0.8000816201238704, 0.11939010004759178, -0.43753599226913814, -0.7326535395151343, -1.422964340599728, 0.21669205016497914, -0.1277208527681951, -0.7010962368833163, 0.9425570075717837, -1.261296669024147, 1.2154295835099995, 0.5874723176947764, -0.29039099909376886, -1.2206280708578845, -0.543946901517839, -0.4060673045471729, 0.42940524362239696, 0.8943986601433543], \"yaxis\": \"y14\"}, {\"line\": {\"color\": \"rgba(128, 128, 128, 1.0)\", \"dash\": \"solid\", \"shape\": \"linear\", \"width\": 1.3}, \"marker\": {\"size\": 2, \"symbol\": \"circle\"}, \"mode\": \"markers\", \"name\": \"D\", \"text\": \"\", \"type\": \"scatter\", \"x\": [0.4013694609466367, 0.47918402807881155, -0.42016852086149753, 1.5337189926126906, 1.3692304382751603, -0.3168641694521636, 2.692429089468827, -0.6652237765776419, 1.4443366018163644, -0.6514708194267461, 1.45256913444164, 0.023667405688731085, 0.953494686532997, 0.6841691448345603, 1.457020988275902, -1.3221074877330492, -0.5568555380425787, -0.8338105899157492, -1.273316700006224, 2.1310179421500757, -0.790810333337568, -0.6147579795903965, 0.4863445340914847, -1.3868066791554745, 1.0260345270013729, -0.0027815353979401256, -0.49918215638661734, 0.0038705357634394185, 0.7141127100951283, -0.5986985110230264, 0.7421629754860158, 0.4364953891662601, 1.477689611629932, -0.823104905283714, -0.7279646980891549, 0.7139429087481839, -1.433892260560694, -0.2852460426280975, -0.29322710064580976, 0.2648298911530672, -0.8344790095451745, -0.6257954442101381, -0.8979270742708928, -1.0627054958827784, 0.14682007448296913, 0.3369887765375471, 0.9010835351649243, 0.13666041907777177, -0.8585298051678452, 1.3697422241654644, 1.0680204614831375, -1.5531807082563662, 1.1143656673797777, 0.2652399971862241, -0.11323452807453596, 0.5351022895127286, -0.6359446982698095, -0.9700437730501994, 1.2159581898575078, 0.1313959814287452, 1.531513094989766, -0.4294253647798791, -0.8233822177687363, 0.8268188128873591, 0.07757679838976207, 0.7543081593642519, 0.9067799533272407, 1.1551702177814234, -1.0918330003663343, -1.0415833666768308, 2.3868791906968725, -0.4460471077300906, 0.9335229422900791, -2.0147781854982334, 0.07518616784451551, 0.6130296924816733, -0.6191733399077277, -1.1108889862270899, 1.0502540811913292, 0.9419672506611048, -0.3229204045492647, -0.15118050576790337, 1.87169656007912, -0.5935431095998885, -0.612748189828855, -0.8457209641384387, 1.0241174971534497, 0.1825103841436704, 0.46711500740492334, 0.35750506885609434, 0.03665200766281884, -0.4628535307444767, -0.09591576139526112, 1.0693530820311394, 1.1477702354954502, -0.22770298244346562, -0.8069211019531929, -0.28549790959366456, -1.2310405363296488, 0.13029019673645767], \"xaxis\": \"x15\", \"y\": [-0.7203762912595594, -1.6050089831119205, 3.007762996295736, 0.1733995978267144, 0.2504646108312079, -0.07130292333757249, -0.3550444916446761, -0.9000545911117473, 0.3250395493676486, -0.3976028525195338, -0.843406131024096, 1.0809587540023515, 1.1678004312633128, -0.0493650327231605, -0.09207617219955272, 1.26651488109588, -0.41539895178365305, 1.5481858903886139, -1.701828256459534, 0.40381342663461345, 1.1302664422386104, 0.7696868674361801, 1.40355248058713, 0.8483601170109333, -0.7920806453711708, -0.08348691490384501, 0.21518816306210514, 1.6122209167752783, 0.7637133361772442, -0.5641857474393002, 0.15987423176818513, 0.5304508625131966, -0.4667921723851996, -0.022061316959858874, -0.9100857813466896, -0.9242559515150672, -0.372818248607995, 1.325603529635037, 0.8575063466509635, 0.36643935671150507, -1.3461851756109922, 0.9980013915690534, 0.6692254966922532, -1.2212442484388222, -1.8812972718926764, 1.9180318585597222, -1.3776993606827088, 0.8548976802386279, 1.9758395506859114, -0.9690094140539778, 1.0201402369292452, -0.07815768961091717, 0.6741049041804277, 0.7661815240719574, -0.6164371057442412, 0.08863255880530042, 1.7779922543607076, 0.31825462054177894, -0.09873914042333422, 0.19360654491978155, -0.204012527431161, 0.1461476076760226, -0.24299670570853538, 0.5483020249916255, -0.5149665212599834, -0.6860956795972244, 0.3175799790618004, 0.5398715147459157, 0.08388696203953451, 0.40689649801470273, -2.0843800588334913, -1.0847863223719147, 0.11031111563988295, 0.7516182882774625, 0.6368272464532464, -1.4554386348105055, -0.7366387640992695, -0.7495234920610955, -0.7980672470637358, -0.1926295926019785, -0.09414185211424955, 1.0299763429324347, 0.8000816201238704, 0.11939010004759178, -0.43753599226913814, -0.7326535395151343, -1.422964340599728, 0.21669205016497914, -0.1277208527681951, -0.7010962368833163, 0.9425570075717837, -1.261296669024147, 1.2154295835099995, 0.5874723176947764, -0.29039099909376886, -1.2206280708578845, -0.543946901517839, -0.4060673045471729, 0.42940524362239696, 0.8943986601433543], \"yaxis\": \"y15\"}, {\"histfunc\": \"count\", \"histnorm\": \"\", \"marker\": {\"color\": \"rgba(128, 0, 128, 1.0)\", \"line\": {\"color\": \"#4D5663\", \"width\": 1.3}}, \"name\": \"D\", \"nbinsx\": 10, \"opacity\": 0.8, \"orientation\": \"v\", \"type\": \"histogram\", \"x\": [-0.7203762912595594, -1.6050089831119205, 3.007762996295736, 0.1733995978267144, 0.2504646108312079, -0.07130292333757249, -0.3550444916446761, -0.9000545911117473, 0.3250395493676486, -0.3976028525195338, -0.843406131024096, 1.0809587540023515, 1.1678004312633128, -0.0493650327231605, -0.09207617219955272, 1.26651488109588, -0.41539895178365305, 1.5481858903886139, -1.701828256459534, 0.40381342663461345, 1.1302664422386104, 0.7696868674361801, 1.40355248058713, 0.8483601170109333, -0.7920806453711708, -0.08348691490384501, 0.21518816306210514, 1.6122209167752783, 0.7637133361772442, -0.5641857474393002, 0.15987423176818513, 0.5304508625131966, -0.4667921723851996, -0.022061316959858874, -0.9100857813466896, -0.9242559515150672, -0.372818248607995, 1.325603529635037, 0.8575063466509635, 0.36643935671150507, -1.3461851756109922, 0.9980013915690534, 0.6692254966922532, -1.2212442484388222, -1.8812972718926764, 1.9180318585597222, -1.3776993606827088, 0.8548976802386279, 1.9758395506859114, -0.9690094140539778, 1.0201402369292452, -0.07815768961091717, 0.6741049041804277, 0.7661815240719574, -0.6164371057442412, 0.08863255880530042, 1.7779922543607076, 0.31825462054177894, -0.09873914042333422, 0.19360654491978155, -0.204012527431161, 0.1461476076760226, -0.24299670570853538, 0.5483020249916255, -0.5149665212599834, -0.6860956795972244, 0.3175799790618004, 0.5398715147459157, 0.08388696203953451, 0.40689649801470273, -2.0843800588334913, -1.0847863223719147, 0.11031111563988295, 0.7516182882774625, 0.6368272464532464, -1.4554386348105055, -0.7366387640992695, -0.7495234920610955, -0.7980672470637358, -0.1926295926019785, -0.09414185211424955, 1.0299763429324347, 0.8000816201238704, 0.11939010004759178, -0.43753599226913814, -0.7326535395151343, -1.422964340599728, 0.21669205016497914, -0.1277208527681951, -0.7010962368833163, 0.9425570075717837, -1.261296669024147, 1.2154295835099995, 0.5874723176947764, -0.29039099909376886, -1.2206280708578845, -0.543946901517839, -0.4060673045471729, 0.42940524362239696, 0.8943986601433543], \"xaxis\": \"x16\", \"yaxis\": \"y16\"}],\n",
       "                        {\"bargap\": 0.02, \"legend\": {\"bgcolor\": \"#F5F6F9\", \"font\": {\"color\": \"#4D5663\"}}, \"paper_bgcolor\": \"#F5F6F9\", \"plot_bgcolor\": \"#F5F6F9\", \"showlegend\": false, \"template\": {\"data\": {\"bar\": [{\"error_x\": {\"color\": \"#2a3f5f\"}, \"error_y\": {\"color\": \"#2a3f5f\"}, \"marker\": {\"line\": {\"color\": \"#E5ECF6\", \"width\": 0.5}}, \"type\": \"bar\"}], \"barpolar\": [{\"marker\": {\"line\": {\"color\": \"#E5ECF6\", \"width\": 0.5}}, \"type\": \"barpolar\"}], \"carpet\": [{\"aaxis\": {\"endlinecolor\": \"#2a3f5f\", \"gridcolor\": \"white\", \"linecolor\": \"white\", \"minorgridcolor\": \"white\", \"startlinecolor\": \"#2a3f5f\"}, \"baxis\": {\"endlinecolor\": \"#2a3f5f\", \"gridcolor\": \"white\", \"linecolor\": \"white\", \"minorgridcolor\": \"white\", \"startlinecolor\": \"#2a3f5f\"}, \"type\": \"carpet\"}], \"choropleth\": [{\"colorbar\": {\"outlinewidth\": 0, \"ticks\": \"\"}, \"type\": \"choropleth\"}], \"contour\": [{\"colorbar\": {\"outlinewidth\": 0, \"ticks\": \"\"}, \"colorscale\": [[0.0, \"#0d0887\"], [0.1111111111111111, \"#46039f\"], [0.2222222222222222, \"#7201a8\"], [0.3333333333333333, \"#9c179e\"], [0.4444444444444444, \"#bd3786\"], [0.5555555555555556, \"#d8576b\"], [0.6666666666666666, \"#ed7953\"], [0.7777777777777778, \"#fb9f3a\"], [0.8888888888888888, \"#fdca26\"], [1.0, \"#f0f921\"]], \"type\": \"contour\"}], \"contourcarpet\": [{\"colorbar\": {\"outlinewidth\": 0, \"ticks\": \"\"}, \"type\": \"contourcarpet\"}], \"heatmap\": [{\"colorbar\": {\"outlinewidth\": 0, \"ticks\": \"\"}, \"colorscale\": [[0.0, \"#0d0887\"], [0.1111111111111111, \"#46039f\"], [0.2222222222222222, \"#7201a8\"], [0.3333333333333333, \"#9c179e\"], [0.4444444444444444, \"#bd3786\"], [0.5555555555555556, \"#d8576b\"], [0.6666666666666666, \"#ed7953\"], [0.7777777777777778, \"#fb9f3a\"], [0.8888888888888888, \"#fdca26\"], [1.0, \"#f0f921\"]], \"type\": \"heatmap\"}], \"heatmapgl\": [{\"colorbar\": {\"outlinewidth\": 0, \"ticks\": \"\"}, \"colorscale\": [[0.0, \"#0d0887\"], [0.1111111111111111, \"#46039f\"], [0.2222222222222222, \"#7201a8\"], [0.3333333333333333, \"#9c179e\"], [0.4444444444444444, \"#bd3786\"], [0.5555555555555556, \"#d8576b\"], [0.6666666666666666, \"#ed7953\"], [0.7777777777777778, \"#fb9f3a\"], [0.8888888888888888, \"#fdca26\"], [1.0, \"#f0f921\"]], \"type\": \"heatmapgl\"}], \"histogram\": [{\"marker\": {\"colorbar\": {\"outlinewidth\": 0, \"ticks\": \"\"}}, \"type\": \"histogram\"}], \"histogram2d\": [{\"colorbar\": {\"outlinewidth\": 0, \"ticks\": \"\"}, \"colorscale\": [[0.0, \"#0d0887\"], [0.1111111111111111, \"#46039f\"], [0.2222222222222222, \"#7201a8\"], [0.3333333333333333, \"#9c179e\"], [0.4444444444444444, \"#bd3786\"], [0.5555555555555556, \"#d8576b\"], [0.6666666666666666, \"#ed7953\"], [0.7777777777777778, \"#fb9f3a\"], [0.8888888888888888, \"#fdca26\"], [1.0, \"#f0f921\"]], \"type\": \"histogram2d\"}], \"histogram2dcontour\": [{\"colorbar\": {\"outlinewidth\": 0, \"ticks\": \"\"}, \"colorscale\": [[0.0, \"#0d0887\"], [0.1111111111111111, \"#46039f\"], [0.2222222222222222, \"#7201a8\"], [0.3333333333333333, \"#9c179e\"], [0.4444444444444444, \"#bd3786\"], [0.5555555555555556, \"#d8576b\"], [0.6666666666666666, \"#ed7953\"], [0.7777777777777778, \"#fb9f3a\"], [0.8888888888888888, \"#fdca26\"], [1.0, \"#f0f921\"]], \"type\": \"histogram2dcontour\"}], \"mesh3d\": [{\"colorbar\": {\"outlinewidth\": 0, \"ticks\": \"\"}, \"type\": \"mesh3d\"}], \"parcoords\": [{\"line\": {\"colorbar\": {\"outlinewidth\": 0, \"ticks\": \"\"}}, \"type\": \"parcoords\"}], \"pie\": [{\"automargin\": true, \"type\": \"pie\"}], \"scatter\": [{\"marker\": {\"colorbar\": {\"outlinewidth\": 0, \"ticks\": \"\"}}, \"type\": \"scatter\"}], \"scatter3d\": [{\"line\": {\"colorbar\": {\"outlinewidth\": 0, \"ticks\": \"\"}}, \"marker\": {\"colorbar\": {\"outlinewidth\": 0, \"ticks\": \"\"}}, \"type\": \"scatter3d\"}], \"scattercarpet\": [{\"marker\": {\"colorbar\": {\"outlinewidth\": 0, \"ticks\": \"\"}}, \"type\": \"scattercarpet\"}], \"scattergeo\": [{\"marker\": {\"colorbar\": {\"outlinewidth\": 0, \"ticks\": \"\"}}, \"type\": \"scattergeo\"}], \"scattergl\": [{\"marker\": {\"colorbar\": {\"outlinewidth\": 0, \"ticks\": \"\"}}, \"type\": \"scattergl\"}], \"scattermapbox\": [{\"marker\": {\"colorbar\": {\"outlinewidth\": 0, \"ticks\": \"\"}}, \"type\": \"scattermapbox\"}], \"scatterpolar\": [{\"marker\": {\"colorbar\": {\"outlinewidth\": 0, \"ticks\": \"\"}}, \"type\": \"scatterpolar\"}], \"scatterpolargl\": [{\"marker\": {\"colorbar\": {\"outlinewidth\": 0, \"ticks\": \"\"}}, \"type\": \"scatterpolargl\"}], \"scatterternary\": [{\"marker\": {\"colorbar\": {\"outlinewidth\": 0, \"ticks\": \"\"}}, \"type\": \"scatterternary\"}], \"surface\": [{\"colorbar\": {\"outlinewidth\": 0, \"ticks\": \"\"}, \"colorscale\": [[0.0, \"#0d0887\"], [0.1111111111111111, \"#46039f\"], [0.2222222222222222, \"#7201a8\"], [0.3333333333333333, \"#9c179e\"], [0.4444444444444444, \"#bd3786\"], [0.5555555555555556, \"#d8576b\"], [0.6666666666666666, \"#ed7953\"], [0.7777777777777778, \"#fb9f3a\"], [0.8888888888888888, \"#fdca26\"], [1.0, \"#f0f921\"]], \"type\": \"surface\"}], \"table\": [{\"cells\": {\"fill\": {\"color\": \"#EBF0F8\"}, \"line\": {\"color\": \"white\"}}, \"header\": {\"fill\": {\"color\": \"#C8D4E3\"}, \"line\": {\"color\": \"white\"}}, \"type\": \"table\"}]}, \"layout\": {\"annotationdefaults\": {\"arrowcolor\": \"#2a3f5f\", \"arrowhead\": 0, \"arrowwidth\": 1}, \"coloraxis\": {\"colorbar\": {\"outlinewidth\": 0, \"ticks\": \"\"}}, \"colorscale\": {\"diverging\": [[0, \"#8e0152\"], [0.1, \"#c51b7d\"], [0.2, \"#de77ae\"], [0.3, \"#f1b6da\"], [0.4, \"#fde0ef\"], [0.5, \"#f7f7f7\"], [0.6, \"#e6f5d0\"], [0.7, \"#b8e186\"], [0.8, \"#7fbc41\"], [0.9, \"#4d9221\"], [1, \"#276419\"]], \"sequential\": [[0.0, \"#0d0887\"], [0.1111111111111111, \"#46039f\"], [0.2222222222222222, \"#7201a8\"], [0.3333333333333333, \"#9c179e\"], [0.4444444444444444, \"#bd3786\"], [0.5555555555555556, \"#d8576b\"], [0.6666666666666666, \"#ed7953\"], [0.7777777777777778, \"#fb9f3a\"], [0.8888888888888888, \"#fdca26\"], [1.0, \"#f0f921\"]], \"sequentialminus\": [[0.0, \"#0d0887\"], [0.1111111111111111, \"#46039f\"], [0.2222222222222222, \"#7201a8\"], [0.3333333333333333, \"#9c179e\"], [0.4444444444444444, \"#bd3786\"], [0.5555555555555556, \"#d8576b\"], [0.6666666666666666, \"#ed7953\"], [0.7777777777777778, \"#fb9f3a\"], [0.8888888888888888, \"#fdca26\"], [1.0, \"#f0f921\"]]}, \"colorway\": [\"#636efa\", \"#EF553B\", \"#00cc96\", \"#ab63fa\", \"#FFA15A\", \"#19d3f3\", \"#FF6692\", \"#B6E880\", \"#FF97FF\", \"#FECB52\"], \"font\": {\"color\": \"#2a3f5f\"}, \"geo\": {\"bgcolor\": \"white\", \"lakecolor\": \"white\", \"landcolor\": \"#E5ECF6\", \"showlakes\": true, \"showland\": true, \"subunitcolor\": \"white\"}, \"hoverlabel\": {\"align\": \"left\"}, \"hovermode\": \"closest\", \"mapbox\": {\"style\": \"light\"}, \"paper_bgcolor\": \"white\", \"plot_bgcolor\": \"#E5ECF6\", \"polar\": {\"angularaxis\": {\"gridcolor\": \"white\", \"linecolor\": \"white\", \"ticks\": \"\"}, \"bgcolor\": \"#E5ECF6\", \"radialaxis\": {\"gridcolor\": \"white\", \"linecolor\": \"white\", \"ticks\": \"\"}}, \"scene\": {\"xaxis\": {\"backgroundcolor\": \"#E5ECF6\", \"gridcolor\": \"white\", \"gridwidth\": 2, \"linecolor\": \"white\", \"showbackground\": true, \"ticks\": \"\", \"zerolinecolor\": \"white\"}, \"yaxis\": {\"backgroundcolor\": \"#E5ECF6\", \"gridcolor\": \"white\", \"gridwidth\": 2, \"linecolor\": \"white\", \"showbackground\": true, \"ticks\": \"\", \"zerolinecolor\": \"white\"}, \"zaxis\": {\"backgroundcolor\": \"#E5ECF6\", \"gridcolor\": \"white\", \"gridwidth\": 2, \"linecolor\": \"white\", \"showbackground\": true, \"ticks\": \"\", \"zerolinecolor\": \"white\"}}, \"shapedefaults\": {\"line\": {\"color\": \"#2a3f5f\"}}, \"ternary\": {\"aaxis\": {\"gridcolor\": \"white\", \"linecolor\": \"white\", \"ticks\": \"\"}, \"baxis\": {\"gridcolor\": \"white\", \"linecolor\": \"white\", \"ticks\": \"\"}, \"bgcolor\": \"#E5ECF6\", \"caxis\": {\"gridcolor\": \"white\", \"linecolor\": \"white\", \"ticks\": \"\"}}, \"title\": {\"x\": 0.05}, \"xaxis\": {\"automargin\": true, \"gridcolor\": \"white\", \"linecolor\": \"white\", \"ticks\": \"\", \"title\": {\"standoff\": 15}, \"zerolinecolor\": \"white\", \"zerolinewidth\": 2}, \"yaxis\": {\"automargin\": true, \"gridcolor\": \"white\", \"linecolor\": \"white\", \"ticks\": \"\", \"title\": {\"standoff\": 15}, \"zerolinecolor\": \"white\", \"zerolinewidth\": 2}}}, \"title\": {\"font\": {\"color\": \"#4D5663\"}}, \"xaxis\": {\"anchor\": \"y\", \"domain\": [0.0, 0.2125], \"gridcolor\": \"#E1E5ED\", \"showgrid\": false, \"tickfont\": {\"color\": \"#4D5663\"}, \"title\": {\"font\": {\"color\": \"#4D5663\"}, \"text\": \"\"}, \"zerolinecolor\": \"#E1E5ED\"}, \"xaxis10\": {\"anchor\": \"y10\", \"domain\": [0.2625, 0.475], \"gridcolor\": \"#E1E5ED\", \"showgrid\": false, \"tickfont\": {\"color\": \"#4D5663\"}, \"title\": {\"font\": {\"color\": \"#4D5663\"}, \"text\": \"\"}, \"zerolinecolor\": \"#E1E5ED\"}, \"xaxis11\": {\"anchor\": \"y11\", \"domain\": [0.525, 0.7375], \"gridcolor\": \"#E1E5ED\", \"showgrid\": false, \"tickfont\": {\"color\": \"#4D5663\"}, \"title\": {\"font\": {\"color\": \"#4D5663\"}, \"text\": \"\"}, \"zerolinecolor\": \"#E1E5ED\"}, \"xaxis12\": {\"anchor\": \"y12\", \"domain\": [0.7875, 1.0], \"gridcolor\": \"#E1E5ED\", \"showgrid\": false, \"tickfont\": {\"color\": \"#4D5663\"}, \"title\": {\"font\": {\"color\": \"#4D5663\"}, \"text\": \"\"}, \"zerolinecolor\": \"#E1E5ED\"}, \"xaxis13\": {\"anchor\": \"y13\", \"domain\": [0.0, 0.2125], \"gridcolor\": \"#E1E5ED\", \"showgrid\": false, \"tickfont\": {\"color\": \"#4D5663\"}, \"title\": {\"font\": {\"color\": \"#4D5663\"}, \"text\": \"\"}, \"zerolinecolor\": \"#E1E5ED\"}, \"xaxis14\": {\"anchor\": \"y14\", \"domain\": [0.2625, 0.475], \"gridcolor\": \"#E1E5ED\", \"showgrid\": false, \"tickfont\": {\"color\": \"#4D5663\"}, \"title\": {\"font\": {\"color\": \"#4D5663\"}, \"text\": \"\"}, \"zerolinecolor\": \"#E1E5ED\"}, \"xaxis15\": {\"anchor\": \"y15\", \"domain\": [0.525, 0.7375], \"gridcolor\": \"#E1E5ED\", \"showgrid\": false, \"tickfont\": {\"color\": \"#4D5663\"}, \"title\": {\"font\": {\"color\": \"#4D5663\"}, \"text\": \"\"}, \"zerolinecolor\": \"#E1E5ED\"}, \"xaxis16\": {\"anchor\": \"y16\", \"domain\": [0.7875, 1.0], \"gridcolor\": \"#E1E5ED\", \"showgrid\": false, \"tickfont\": {\"color\": \"#4D5663\"}, \"title\": {\"font\": {\"color\": \"#4D5663\"}, \"text\": \"\"}, \"zerolinecolor\": \"#E1E5ED\"}, \"xaxis2\": {\"anchor\": \"y2\", \"domain\": [0.2625, 0.475], \"gridcolor\": \"#E1E5ED\", \"showgrid\": false, \"tickfont\": {\"color\": \"#4D5663\"}, \"title\": {\"font\": {\"color\": \"#4D5663\"}, \"text\": \"\"}, \"zerolinecolor\": \"#E1E5ED\"}, \"xaxis3\": {\"anchor\": \"y3\", \"domain\": [0.525, 0.7375], \"gridcolor\": \"#E1E5ED\", \"showgrid\": false, \"tickfont\": {\"color\": \"#4D5663\"}, \"title\": {\"font\": {\"color\": \"#4D5663\"}, \"text\": \"\"}, \"zerolinecolor\": \"#E1E5ED\"}, \"xaxis4\": {\"anchor\": \"y4\", \"domain\": [0.7875, 1.0], \"gridcolor\": \"#E1E5ED\", \"showgrid\": false, \"tickfont\": {\"color\": \"#4D5663\"}, \"title\": {\"font\": {\"color\": \"#4D5663\"}, \"text\": \"\"}, \"zerolinecolor\": \"#E1E5ED\"}, \"xaxis5\": {\"anchor\": \"y5\", \"domain\": [0.0, 0.2125], \"gridcolor\": \"#E1E5ED\", \"showgrid\": false, \"tickfont\": {\"color\": \"#4D5663\"}, \"title\": {\"font\": {\"color\": \"#4D5663\"}, \"text\": \"\"}, \"zerolinecolor\": \"#E1E5ED\"}, \"xaxis6\": {\"anchor\": \"y6\", \"domain\": [0.2625, 0.475], \"gridcolor\": \"#E1E5ED\", \"showgrid\": false, \"tickfont\": {\"color\": \"#4D5663\"}, \"title\": {\"font\": {\"color\": \"#4D5663\"}, \"text\": \"\"}, \"zerolinecolor\": \"#E1E5ED\"}, \"xaxis7\": {\"anchor\": \"y7\", \"domain\": [0.525, 0.7375], \"gridcolor\": \"#E1E5ED\", \"showgrid\": false, \"tickfont\": {\"color\": \"#4D5663\"}, \"title\": {\"font\": {\"color\": \"#4D5663\"}, \"text\": \"\"}, \"zerolinecolor\": \"#E1E5ED\"}, \"xaxis8\": {\"anchor\": \"y8\", \"domain\": [0.7875, 1.0], \"gridcolor\": \"#E1E5ED\", \"showgrid\": false, \"tickfont\": {\"color\": \"#4D5663\"}, \"title\": {\"font\": {\"color\": \"#4D5663\"}, \"text\": \"\"}, \"zerolinecolor\": \"#E1E5ED\"}, \"xaxis9\": {\"anchor\": \"y9\", \"domain\": [0.0, 0.2125], \"gridcolor\": \"#E1E5ED\", \"showgrid\": false, \"tickfont\": {\"color\": \"#4D5663\"}, \"title\": {\"font\": {\"color\": \"#4D5663\"}, \"text\": \"\"}, \"zerolinecolor\": \"#E1E5ED\"}, \"yaxis\": {\"anchor\": \"x\", \"domain\": [0.8025, 1.0], \"gridcolor\": \"#E1E5ED\", \"showgrid\": false, \"tickfont\": {\"color\": \"#4D5663\"}, \"title\": {\"font\": {\"color\": \"#4D5663\"}, \"text\": \"\"}, \"zerolinecolor\": \"#E1E5ED\"}, \"yaxis10\": {\"anchor\": \"x10\", \"domain\": [0.2675, 0.465], \"gridcolor\": \"#E1E5ED\", \"showgrid\": false, \"tickfont\": {\"color\": \"#4D5663\"}, \"title\": {\"font\": {\"color\": \"#4D5663\"}, \"text\": \"\"}, \"zerolinecolor\": \"#E1E5ED\"}, \"yaxis11\": {\"anchor\": \"x11\", \"domain\": [0.2675, 0.465], \"gridcolor\": \"#E1E5ED\", \"showgrid\": false, \"tickfont\": {\"color\": \"#4D5663\"}, \"title\": {\"font\": {\"color\": \"#4D5663\"}, \"text\": \"\"}, \"zerolinecolor\": \"#E1E5ED\"}, \"yaxis12\": {\"anchor\": \"x12\", \"domain\": [0.2675, 0.465], \"gridcolor\": \"#E1E5ED\", \"showgrid\": false, \"tickfont\": {\"color\": \"#4D5663\"}, \"title\": {\"font\": {\"color\": \"#4D5663\"}, \"text\": \"\"}, \"zerolinecolor\": \"#E1E5ED\"}, \"yaxis13\": {\"anchor\": \"x13\", \"domain\": [0.0, 0.1975], \"gridcolor\": \"#E1E5ED\", \"showgrid\": false, \"tickfont\": {\"color\": \"#4D5663\"}, \"title\": {\"font\": {\"color\": \"#4D5663\"}, \"text\": \"\"}, \"zerolinecolor\": \"#E1E5ED\"}, \"yaxis14\": {\"anchor\": \"x14\", \"domain\": [0.0, 0.1975], \"gridcolor\": \"#E1E5ED\", \"showgrid\": false, \"tickfont\": {\"color\": \"#4D5663\"}, \"title\": {\"font\": {\"color\": \"#4D5663\"}, \"text\": \"\"}, \"zerolinecolor\": \"#E1E5ED\"}, \"yaxis15\": {\"anchor\": \"x15\", \"domain\": [0.0, 0.1975], \"gridcolor\": \"#E1E5ED\", \"showgrid\": false, \"tickfont\": {\"color\": \"#4D5663\"}, \"title\": {\"font\": {\"color\": \"#4D5663\"}, \"text\": \"\"}, \"zerolinecolor\": \"#E1E5ED\"}, \"yaxis16\": {\"anchor\": \"x16\", \"domain\": [0.0, 0.1975], \"gridcolor\": \"#E1E5ED\", \"showgrid\": false, \"tickfont\": {\"color\": \"#4D5663\"}, \"title\": {\"font\": {\"color\": \"#4D5663\"}, \"text\": \"\"}, \"zerolinecolor\": \"#E1E5ED\"}, \"yaxis2\": {\"anchor\": \"x2\", \"domain\": [0.8025, 1.0], \"gridcolor\": \"#E1E5ED\", \"showgrid\": false, \"tickfont\": {\"color\": \"#4D5663\"}, \"title\": {\"font\": {\"color\": \"#4D5663\"}, \"text\": \"\"}, \"zerolinecolor\": \"#E1E5ED\"}, \"yaxis3\": {\"anchor\": \"x3\", \"domain\": [0.8025, 1.0], \"gridcolor\": \"#E1E5ED\", \"showgrid\": false, \"tickfont\": {\"color\": \"#4D5663\"}, \"title\": {\"font\": {\"color\": \"#4D5663\"}, \"text\": \"\"}, \"zerolinecolor\": \"#E1E5ED\"}, \"yaxis4\": {\"anchor\": \"x4\", \"domain\": [0.8025, 1.0], \"gridcolor\": \"#E1E5ED\", \"showgrid\": false, \"tickfont\": {\"color\": \"#4D5663\"}, \"title\": {\"font\": {\"color\": \"#4D5663\"}, \"text\": \"\"}, \"zerolinecolor\": \"#E1E5ED\"}, \"yaxis5\": {\"anchor\": \"x5\", \"domain\": [0.535, 0.7325], \"gridcolor\": \"#E1E5ED\", \"showgrid\": false, \"tickfont\": {\"color\": \"#4D5663\"}, \"title\": {\"font\": {\"color\": \"#4D5663\"}, \"text\": \"\"}, \"zerolinecolor\": \"#E1E5ED\"}, \"yaxis6\": {\"anchor\": \"x6\", \"domain\": [0.535, 0.7325], \"gridcolor\": \"#E1E5ED\", \"showgrid\": false, \"tickfont\": {\"color\": \"#4D5663\"}, \"title\": {\"font\": {\"color\": \"#4D5663\"}, \"text\": \"\"}, \"zerolinecolor\": \"#E1E5ED\"}, \"yaxis7\": {\"anchor\": \"x7\", \"domain\": [0.535, 0.7325], \"gridcolor\": \"#E1E5ED\", \"showgrid\": false, \"tickfont\": {\"color\": \"#4D5663\"}, \"title\": {\"font\": {\"color\": \"#4D5663\"}, \"text\": \"\"}, \"zerolinecolor\": \"#E1E5ED\"}, \"yaxis8\": {\"anchor\": \"x8\", \"domain\": [0.535, 0.7325], \"gridcolor\": \"#E1E5ED\", \"showgrid\": false, \"tickfont\": {\"color\": \"#4D5663\"}, \"title\": {\"font\": {\"color\": \"#4D5663\"}, \"text\": \"\"}, \"zerolinecolor\": \"#E1E5ED\"}, \"yaxis9\": {\"anchor\": \"x9\", \"domain\": [0.2675, 0.465], \"gridcolor\": \"#E1E5ED\", \"showgrid\": false, \"tickfont\": {\"color\": \"#4D5663\"}, \"title\": {\"font\": {\"color\": \"#4D5663\"}, \"text\": \"\"}, \"zerolinecolor\": \"#E1E5ED\"}},\n",
       "                        {\"showLink\": true, \"linkText\": \"Export to plot.ly\", \"plotlyServerURL\": \"https://plot.ly\", \"responsive\": true}\n",
       "                    ).then(function(){\n",
       "                            \n",
       "var gd = document.getElementById('1d94801c-f019-4afd-b727-9cd85506db00');\n",
       "var x = new MutationObserver(function (mutations, observer) {{\n",
       "        var display = window.getComputedStyle(gd).display;\n",
       "        if (!display || display === 'none') {{\n",
       "            console.log([gd, 'removed!']);\n",
       "            Plotly.purge(gd);\n",
       "            observer.disconnect();\n",
       "        }}\n",
       "}});\n",
       "\n",
       "// Listen for the removal of the full notebook cells\n",
       "var notebookContainer = gd.closest('#notebook-container');\n",
       "if (notebookContainer) {{\n",
       "    x.observe(notebookContainer, {childList: true});\n",
       "}}\n",
       "\n",
       "// Listen for the clearing of the current output cell\n",
       "var outputEl = gd.closest('.output');\n",
       "if (outputEl) {{\n",
       "    x.observe(outputEl, {childList: true});\n",
       "}}\n",
       "\n",
       "                        })\n",
       "                };\n",
       "                });\n",
       "            </script>\n",
       "        </div>"
      ]
     },
     "metadata": {},
     "output_type": "display_data"
    }
   ],
   "source": [
    "df.scatter_matrix()"
   ]
  },
  {
   "cell_type": "markdown",
   "metadata": {},
   "source": [
    "# Great Job!"
   ]
  }
 ],
 "metadata": {
  "kernelspec": {
   "display_name": "tf1",
   "language": "python",
   "name": "tf1"
  },
  "language_info": {
   "codemirror_mode": {
    "name": "ipython",
    "version": 3
   },
   "file_extension": ".py",
   "mimetype": "text/x-python",
   "name": "python",
   "nbconvert_exporter": "python",
   "pygments_lexer": "ipython3",
   "version": "3.7.7"
  }
 },
 "nbformat": 4,
 "nbformat_minor": 4
}
